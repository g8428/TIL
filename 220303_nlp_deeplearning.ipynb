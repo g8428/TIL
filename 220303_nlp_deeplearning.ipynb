{
  "nbformat": 4,
  "nbformat_minor": 0,
  "metadata": {
    "colab": {
      "name": "220303_nlp_deeplearning",
      "provenance": [],
      "collapsed_sections": [],
      "include_colab_link": true
    },
    "kernelspec": {
      "name": "python3",
      "display_name": "Python 3"
    },
    "language_info": {
      "name": "python"
    },
    "accelerator": "GPU"
  },
  "cells": [
    {
      "cell_type": "markdown",
      "metadata": {
        "id": "view-in-github",
        "colab_type": "text"
      },
      "source": [
        "<a href=\"https://colab.research.google.com/github/g8428/TIL/blob/master/220303_nlp_deeplearning.ipynb\" target=\"_parent\"><img src=\"https://colab.research.google.com/assets/colab-badge.svg\" alt=\"Open In Colab\"/></a>"
      ]
    },
    {
      "cell_type": "code",
      "execution_count": 1,
      "metadata": {
        "colab": {
          "base_uri": "https://localhost:8080/"
        },
        "id": "p44ZK278Vbeg",
        "outputId": "99b482b3-e5c5-457f-ea74-c56c77add2d7"
      },
      "outputs": [
        {
          "output_type": "stream",
          "name": "stdout",
          "text": [
            "Downloading data from https://storage.googleapis.com/tensorflow/tf-keras-datasets/mnist.npz\n",
            "11493376/11490434 [==============================] - 0s 0us/step\n",
            "11501568/11490434 [==============================] - 0s 0us/step\n"
          ]
        }
      ],
      "source": [
        "from tensorflow.keras.datasets import mnist\n",
        "from sklearn.model_selection import train_test_split\n",
        "\n",
        "(train_images, train_labels), (test_images, test_labels) = mnist.load_data()\n",
        "train_images = train_images.reshape((-1, 28, 28, 1))\n",
        "test_images = test_images.reshape((-1, 28, 28, 1))\n",
        "\n",
        "train_images = train_images/255.\n",
        "test_images = test_images/255.\n",
        "\n",
        "valid_images, test_images, valid_labels, test_labels = train_test_split(test_images, test_labels, test_size=0.15, shuffle=True)"
      ]
    },
    {
      "cell_type": "code",
      "source": [
        "import tensorflow as tf\n",
        "from tensorflow.keras.models import Model\n",
        "from tensorflow.keras.layers import Input, Conv2D, MaxPool2D, Flatten, Dense, Dropout\n",
        "\n",
        "inputs = Input(shape=(28, 28, 1))\n",
        "conv1 = Conv2D(32, (3, 3), activation=tf.nn.relu)(inputs)\n",
        "pool1 = MaxPool2D((2, 2))(conv1)\n",
        "\n",
        "conv2 = Conv2D(64, (3, 3), activation=tf.nn.relu)(pool1)\n",
        "pool2 = MaxPool2D((2, 2))(conv2)\n",
        "\n",
        "conv3 = Conv2D(64, (3, 3), activation=tf.nn.relu)(pool2)\n",
        "flat = Flatten()(conv3)\n",
        "\n",
        "dense4 = Dense(64, activation='relu') (flat)\n",
        "drop4 = Dropout(rate=0.2)(dense4) # 일반화, 드랍아웃, 덴스레이어에서 20%비율로 스킵\n",
        "outputs = Dense(10, activation='softmax')(drop4)\n",
        "\n",
        "model = Model(inputs=inputs, outputs=outputs)\n",
        "model.summary()"
      ],
      "metadata": {
        "colab": {
          "base_uri": "https://localhost:8080/"
        },
        "id": "-mPtzv_iVi25",
        "outputId": "0153260c-b5ea-4870-98e0-78a6b47f7caa"
      },
      "execution_count": 3,
      "outputs": [
        {
          "output_type": "stream",
          "name": "stdout",
          "text": [
            "Model: \"model\"\n",
            "_________________________________________________________________\n",
            " Layer (type)                Output Shape              Param #   \n",
            "=================================================================\n",
            " input_1 (InputLayer)        [(None, 28, 28, 1)]       0         \n",
            "                                                                 \n",
            " conv2d (Conv2D)             (None, 26, 26, 32)        320       \n",
            "                                                                 \n",
            " max_pooling2d (MaxPooling2D  (None, 13, 13, 32)       0         \n",
            " )                                                               \n",
            "                                                                 \n",
            " conv2d_1 (Conv2D)           (None, 11, 11, 64)        18496     \n",
            "                                                                 \n",
            " max_pooling2d_1 (MaxPooling  (None, 5, 5, 64)         0         \n",
            " 2D)                                                             \n",
            "                                                                 \n",
            " conv2d_2 (Conv2D)           (None, 3, 3, 64)          36928     \n",
            "                                                                 \n",
            " flatten (Flatten)           (None, 576)               0         \n",
            "                                                                 \n",
            " dense (Dense)               (None, 64)                36928     \n",
            "                                                                 \n",
            " dropout (Dropout)           (None, 64)                0         \n",
            "                                                                 \n",
            " dense_1 (Dense)             (None, 10)                650       \n",
            "                                                                 \n",
            "=================================================================\n",
            "Total params: 93,322\n",
            "Trainable params: 93,322\n",
            "Non-trainable params: 0\n",
            "_________________________________________________________________\n"
          ]
        }
      ]
    },
    {
      "cell_type": "code",
      "source": [
        "# 오버핏 되지 않는 지점 모델값 세이브\n",
        "from tensorflow.keras.callbacks import ModelCheckpoint, EarlyStopping\n",
        "\n",
        "MODEL_SAVE_FOLDER = '/content/drive/MyDrive/2022-1/국비지원교육/실습폴더/models/'\n",
        "model_path = f\"{MODEL_SAVE_FOLDER}mnist-{{epoch:d}}-{{val_loss:.5f}}-{{val_accuracy:.5f}}.hdf5\"\n",
        "\n",
        "cb_checkpoint = ModelCheckpoint(filepath=model_path, \n",
        "                                monitor='val_accuracy', \n",
        "                                verbose=1,\n",
        "                                save_best_only=True) # 성능향상 됐을 때만 저장\n",
        "\n",
        "cb_early_stopping = EarlyStopping(monitor='val_accuracy', patience=6)\n",
        "# 일정기간동안 하락하면 stop, 기간안에 다시 상승하면 reset\n"
      ],
      "metadata": {
        "id": "uxL9WQcIWLCo"
      },
      "execution_count": 4,
      "outputs": []
    },
    {
      "cell_type": "code",
      "source": [
        "model.compile(optimizer='adam', loss='sparse_categorical_crossentropy', metrics=['accuracy'])\n",
        "hist = model.fit(train_images, train_labels, validation_data=(valid_images, valid_labels),\n",
        "                 epochs=100, batch_size=200,\n",
        "                 callbacks=[cb_checkpoint, cb_early_stopping])\n",
        "#validation_data = valid 데이터도 같이 계산"
      ],
      "metadata": {
        "id": "f4mhy1sKXVG5",
        "colab": {
          "base_uri": "https://localhost:8080/"
        },
        "outputId": "88e77a7a-5c48-488d-8702-f2ebdd403369"
      },
      "execution_count": 6,
      "outputs": [
        {
          "output_type": "stream",
          "name": "stdout",
          "text": [
            "Epoch 1/100\n",
            "299/300 [============================>.] - ETA: 0s - loss: 0.3413 - accuracy: 0.8945\n",
            "Epoch 1: val_accuracy improved from -inf to 0.98118, saving model to /content/drive/MyDrive/2022-1/국비지원교육/실습폴더/models/mnist-1-0.06375-0.98118.hdf5\n",
            "300/300 [==============================] - 6s 18ms/step - loss: 0.3405 - accuracy: 0.8948 - val_loss: 0.0638 - val_accuracy: 0.9812\n",
            "Epoch 2/100\n",
            "297/300 [============================>.] - ETA: 0s - loss: 0.0805 - accuracy: 0.9759\n",
            "Epoch 2: val_accuracy improved from 0.98118 to 0.98659, saving model to /content/drive/MyDrive/2022-1/국비지원교육/실습폴더/models/mnist-2-0.04297-0.98659.hdf5\n",
            "300/300 [==============================] - 4s 15ms/step - loss: 0.0805 - accuracy: 0.9759 - val_loss: 0.0430 - val_accuracy: 0.9866\n",
            "Epoch 3/100\n",
            "299/300 [============================>.] - ETA: 0s - loss: 0.0583 - accuracy: 0.9824\n",
            "Epoch 3: val_accuracy improved from 0.98659 to 0.98882, saving model to /content/drive/MyDrive/2022-1/국비지원교육/실습폴더/models/mnist-3-0.03709-0.98882.hdf5\n",
            "300/300 [==============================] - 4s 14ms/step - loss: 0.0583 - accuracy: 0.9824 - val_loss: 0.0371 - val_accuracy: 0.9888\n",
            "Epoch 4/100\n",
            "297/300 [============================>.] - ETA: 0s - loss: 0.0452 - accuracy: 0.9862\n",
            "Epoch 4: val_accuracy improved from 0.98882 to 0.99024, saving model to /content/drive/MyDrive/2022-1/국비지원교육/실습폴더/models/mnist-4-0.02931-0.99024.hdf5\n",
            "300/300 [==============================] - 4s 14ms/step - loss: 0.0455 - accuracy: 0.9862 - val_loss: 0.0293 - val_accuracy: 0.9902\n",
            "Epoch 5/100\n",
            "298/300 [============================>.] - ETA: 0s - loss: 0.0369 - accuracy: 0.9888\n",
            "Epoch 5: val_accuracy did not improve from 0.99024\n",
            "300/300 [==============================] - 4s 14ms/step - loss: 0.0369 - accuracy: 0.9889 - val_loss: 0.0283 - val_accuracy: 0.9899\n",
            "Epoch 6/100\n",
            "299/300 [============================>.] - ETA: 0s - loss: 0.0322 - accuracy: 0.9900\n",
            "Epoch 6: val_accuracy improved from 0.99024 to 0.99165, saving model to /content/drive/MyDrive/2022-1/국비지원교육/실습폴더/models/mnist-6-0.02457-0.99165.hdf5\n",
            "300/300 [==============================] - 4s 14ms/step - loss: 0.0321 - accuracy: 0.9900 - val_loss: 0.0246 - val_accuracy: 0.9916\n",
            "Epoch 7/100\n",
            "300/300 [==============================] - ETA: 0s - loss: 0.0282 - accuracy: 0.9913\n",
            "Epoch 7: val_accuracy improved from 0.99165 to 0.99200, saving model to /content/drive/MyDrive/2022-1/국비지원교육/실습폴더/models/mnist-7-0.02493-0.99200.hdf5\n",
            "300/300 [==============================] - 4s 14ms/step - loss: 0.0282 - accuracy: 0.9913 - val_loss: 0.0249 - val_accuracy: 0.9920\n",
            "Epoch 8/100\n",
            "296/300 [============================>.] - ETA: 0s - loss: 0.0261 - accuracy: 0.9916\n",
            "Epoch 8: val_accuracy did not improve from 0.99200\n",
            "300/300 [==============================] - 4s 14ms/step - loss: 0.0261 - accuracy: 0.9916 - val_loss: 0.0250 - val_accuracy: 0.9915\n",
            "Epoch 9/100\n",
            "296/300 [============================>.] - ETA: 0s - loss: 0.0228 - accuracy: 0.9928\n",
            "Epoch 9: val_accuracy improved from 0.99200 to 0.99224, saving model to /content/drive/MyDrive/2022-1/국비지원교육/실습폴더/models/mnist-9-0.02479-0.99224.hdf5\n",
            "300/300 [==============================] - 4s 14ms/step - loss: 0.0229 - accuracy: 0.9927 - val_loss: 0.0248 - val_accuracy: 0.9922\n",
            "Epoch 10/100\n",
            "298/300 [============================>.] - ETA: 0s - loss: 0.0202 - accuracy: 0.9936\n",
            "Epoch 10: val_accuracy improved from 0.99224 to 0.99318, saving model to /content/drive/MyDrive/2022-1/국비지원교육/실습폴더/models/mnist-10-0.02233-0.99318.hdf5\n",
            "300/300 [==============================] - 4s 14ms/step - loss: 0.0204 - accuracy: 0.9935 - val_loss: 0.0223 - val_accuracy: 0.9932\n",
            "Epoch 11/100\n",
            "300/300 [==============================] - ETA: 0s - loss: 0.0176 - accuracy: 0.9947\n",
            "Epoch 11: val_accuracy did not improve from 0.99318\n",
            "300/300 [==============================] - 4s 14ms/step - loss: 0.0176 - accuracy: 0.9947 - val_loss: 0.0254 - val_accuracy: 0.9916\n",
            "Epoch 12/100\n",
            "298/300 [============================>.] - ETA: 0s - loss: 0.0162 - accuracy: 0.9945\n",
            "Epoch 12: val_accuracy did not improve from 0.99318\n",
            "300/300 [==============================] - 4s 14ms/step - loss: 0.0162 - accuracy: 0.9945 - val_loss: 0.0286 - val_accuracy: 0.9916\n",
            "Epoch 13/100\n",
            "296/300 [============================>.] - ETA: 0s - loss: 0.0153 - accuracy: 0.9950\n",
            "Epoch 13: val_accuracy did not improve from 0.99318\n",
            "300/300 [==============================] - 4s 14ms/step - loss: 0.0154 - accuracy: 0.9950 - val_loss: 0.0219 - val_accuracy: 0.9927\n",
            "Epoch 14/100\n",
            "298/300 [============================>.] - ETA: 0s - loss: 0.0107 - accuracy: 0.9967\n",
            "Epoch 14: val_accuracy improved from 0.99318 to 0.99341, saving model to /content/drive/MyDrive/2022-1/국비지원교육/실습폴더/models/mnist-14-0.02336-0.99341.hdf5\n",
            "300/300 [==============================] - 4s 14ms/step - loss: 0.0108 - accuracy: 0.9967 - val_loss: 0.0234 - val_accuracy: 0.9934\n",
            "Epoch 15/100\n",
            "300/300 [==============================] - ETA: 0s - loss: 0.0121 - accuracy: 0.9961\n",
            "Epoch 15: val_accuracy did not improve from 0.99341\n",
            "300/300 [==============================] - 5s 15ms/step - loss: 0.0121 - accuracy: 0.9961 - val_loss: 0.0233 - val_accuracy: 0.9924\n",
            "Epoch 16/100\n",
            "299/300 [============================>.] - ETA: 0s - loss: 0.0109 - accuracy: 0.9963\n",
            "Epoch 16: val_accuracy did not improve from 0.99341\n",
            "300/300 [==============================] - 4s 15ms/step - loss: 0.0109 - accuracy: 0.9963 - val_loss: 0.0277 - val_accuracy: 0.9929\n",
            "Epoch 17/100\n",
            "297/300 [============================>.] - ETA: 0s - loss: 0.0098 - accuracy: 0.9969\n",
            "Epoch 17: val_accuracy did not improve from 0.99341\n",
            "300/300 [==============================] - 4s 14ms/step - loss: 0.0099 - accuracy: 0.9969 - val_loss: 0.0312 - val_accuracy: 0.9924\n",
            "Epoch 18/100\n",
            "297/300 [============================>.] - ETA: 0s - loss: 0.0081 - accuracy: 0.9974\n",
            "Epoch 18: val_accuracy did not improve from 0.99341\n",
            "300/300 [==============================] - 4s 14ms/step - loss: 0.0081 - accuracy: 0.9974 - val_loss: 0.0267 - val_accuracy: 0.9924\n",
            "Epoch 19/100\n",
            "300/300 [==============================] - ETA: 0s - loss: 0.0086 - accuracy: 0.9972\n",
            "Epoch 19: val_accuracy improved from 0.99341 to 0.99388, saving model to /content/drive/MyDrive/2022-1/국비지원교육/실습폴더/models/mnist-19-0.02462-0.99388.hdf5\n",
            "300/300 [==============================] - 4s 14ms/step - loss: 0.0086 - accuracy: 0.9972 - val_loss: 0.0246 - val_accuracy: 0.9939\n",
            "Epoch 20/100\n",
            "298/300 [============================>.] - ETA: 0s - loss: 0.0086 - accuracy: 0.9973\n",
            "Epoch 20: val_accuracy did not improve from 0.99388\n",
            "300/300 [==============================] - 4s 14ms/step - loss: 0.0085 - accuracy: 0.9973 - val_loss: 0.0296 - val_accuracy: 0.9928\n",
            "Epoch 21/100\n",
            "300/300 [==============================] - ETA: 0s - loss: 0.0097 - accuracy: 0.9968\n",
            "Epoch 21: val_accuracy did not improve from 0.99388\n",
            "300/300 [==============================] - 4s 14ms/step - loss: 0.0097 - accuracy: 0.9968 - val_loss: 0.0277 - val_accuracy: 0.9920\n",
            "Epoch 22/100\n",
            "299/300 [============================>.] - ETA: 0s - loss: 0.0066 - accuracy: 0.9980\n",
            "Epoch 22: val_accuracy did not improve from 0.99388\n",
            "300/300 [==============================] - 4s 14ms/step - loss: 0.0066 - accuracy: 0.9980 - val_loss: 0.0273 - val_accuracy: 0.9928\n",
            "Epoch 23/100\n",
            "299/300 [============================>.] - ETA: 0s - loss: 0.0053 - accuracy: 0.9983\n",
            "Epoch 23: val_accuracy did not improve from 0.99388\n",
            "300/300 [==============================] - 4s 14ms/step - loss: 0.0053 - accuracy: 0.9983 - val_loss: 0.0245 - val_accuracy: 0.9931\n",
            "Epoch 24/100\n",
            "298/300 [============================>.] - ETA: 0s - loss: 0.0074 - accuracy: 0.9975\n",
            "Epoch 24: val_accuracy did not improve from 0.99388\n",
            "300/300 [==============================] - 4s 14ms/step - loss: 0.0074 - accuracy: 0.9975 - val_loss: 0.0259 - val_accuracy: 0.9927\n",
            "Epoch 25/100\n",
            "298/300 [============================>.] - ETA: 0s - loss: 0.0057 - accuracy: 0.9983\n",
            "Epoch 25: val_accuracy did not improve from 0.99388\n",
            "300/300 [==============================] - 4s 14ms/step - loss: 0.0057 - accuracy: 0.9983 - val_loss: 0.0246 - val_accuracy: 0.9938\n"
          ]
        }
      ]
    },
    {
      "cell_type": "code",
      "source": [
        "import matplotlib.pyplot as plt\n",
        "\n",
        "fig, loss_ax = plt.subplots()\n",
        "acc_ax = loss_ax.twinx()\n",
        "\n",
        "loss_ax.plot(hist.history['loss'], 'y', label='train_loss')\n",
        "loss_ax.plot(hist.history['val_loss'], 'r', label='valid_loss')\n",
        "loss_ax.set_xlabel('epochs')\n",
        "loss_ax.set_ylabel('loss')\n",
        "loss_ax.legend(loc='upper left')\n",
        "\n",
        "acc_ax.plot(hist.history['accuracy'], 'b', label='train_accuracy')\n",
        "acc_ax.plot(hist.history['val_accuracy'], 'g', label='valid_accuracy')\n",
        "acc_ax.set_xlabel('epochs')\n",
        "acc_ax.set_ylabel('accuracy')\n",
        "acc_ax.legend(loc='upper right', bbox_to_anchor=(1, 0.5))\n",
        "\n",
        "plt.show()\n"
      ],
      "metadata": {
        "colab": {
          "base_uri": "https://localhost:8080/",
          "height": 279
        },
        "id": "DICB_ODhara4",
        "outputId": "2f1b50c9-e19b-4bac-b4cb-72153e9c3767"
      },
      "execution_count": 8,
      "outputs": [
        {
          "output_type": "display_data",
          "data": {
            "image/png": "[encoded data removed]",
            "text/plain": [
              "<Figure size 432x288 with 2 Axes>"
            ]
          },
          "metadata": {
            "needs_background": "light"
          }
        }
      ]
    },
    {
      "cell_type": "code",
      "source": [
        "saved_path = '/content/drive/MyDrive/2022-1/국비지원교육/실습폴더/models/mnist-1-0.06375-0.98118.hdf5'\n",
        "\n",
        "loaded_model = tf.keras.models.load_model(saved_path)\n",
        "\n",
        "print(f\"Loss, Accuracy {loaded_model.evaluate(test_images, test_labels)}\")"
      ],
      "metadata": {
        "id": "xtXFa_rYcYHz",
        "colab": {
          "base_uri": "https://localhost:8080/"
        },
        "outputId": "e15493d0-abcd-44d4-9fb8-23c0722123b4"
      },
      "execution_count": 9,
      "outputs": [
        {
          "output_type": "stream",
          "name": "stdout",
          "text": [
            "47/47 [==============================] - 0s 5ms/step - loss: 0.0720 - accuracy: 0.9760\n",
            "Loss, Accuracy [0.0719667598605156, 0.9760000109672546]\n"
          ]
        }
      ]
    },
    {
      "cell_type": "code",
      "source": [
        "!ls -la '/content/drive/MyDrive/2022-1/국비지원교육/실습폴더/models/'"
      ],
      "metadata": {
        "id": "mjN-xZ6MfIjp",
        "colab": {
          "base_uri": "https://localhost:8080/"
        },
        "outputId": "6665ade8-4c7c-400b-d4b4-e3a3e3b7c6ec"
      },
      "execution_count": 10,
      "outputs": [
        {
          "output_type": "stream",
          "name": "stdout",
          "text": [
            "total 11475\n",
            "-rw------- 1 root root 1174704 Mar  3 04:08 mnist-10-0.02233-0.99318.hdf5\n",
            "-rw------- 1 root root 1174704 Mar  3 04:07 mnist-1-0.06375-0.98118.hdf5\n",
            "-rw------- 1 root root 1174704 Mar  3 04:08 mnist-14-0.02336-0.99341.hdf5\n",
            "-rw------- 1 root root 1174704 Mar  3 04:09 mnist-19-0.02462-0.99388.hdf5\n",
            "-rw------- 1 root root 1174704 Mar  3 04:07 mnist-2-0.04297-0.98659.hdf5\n",
            "-rw------- 1 root root 1174704 Mar  3 04:07 mnist-3-0.03709-0.98882.hdf5\n",
            "-rw------- 1 root root 1174704 Mar  3 04:08 mnist-4-0.02931-0.99024.hdf5\n",
            "-rw------- 1 root root 1174704 Mar  3 04:08 mnist-6-0.02457-0.99165.hdf5\n",
            "-rw------- 1 root root 1174704 Mar  3 04:08 mnist-7-0.02493-0.99200.hdf5\n",
            "-rw------- 1 root root 1174704 Mar  3 04:08 mnist-9-0.02479-0.99224.hdf5\n"
          ]
        }
      ]
    },
    {
      "cell_type": "code",
      "source": [
        "!rm '/content/drive/MyDrive/2022-1/국비지원교육/실습폴더/models/*'"
      ],
      "metadata": {
        "colab": {
          "base_uri": "https://localhost:8080/"
        },
        "id": "ljezl5tDkDIc",
        "outputId": "d94f6c9a-baf2-4064-eace-466c2ccf5aaf"
      },
      "execution_count": 16,
      "outputs": [
        {
          "output_type": "stream",
          "name": "stdout",
          "text": [
            "rm: cannot remove '/content/drive/MyDrive/2022-1/국비지원교육/실습폴더/models/*': No such file or directory\n"
          ]
        }
      ]
    },
    {
      "cell_type": "code",
      "source": [
        "!cd '/content/drive/MyDrive/2022-1/국비지원교육/실습폴더/models'"
      ],
      "metadata": {
        "id": "zGpmTXgQlAik"
      },
      "execution_count": 12,
      "outputs": []
    },
    {
      "cell_type": "code",
      "source": [
        "!rm '/content/drive/MyDrive/2022-1/국비지원교육/실습폴더/models/'"
      ],
      "metadata": {
        "id": "myIgbrQplMV1",
        "colab": {
          "base_uri": "https://localhost:8080/"
        },
        "outputId": "9a6659cc-35aa-4f20-dbb6-cc0c7c734a2a"
      },
      "execution_count": 14,
      "outputs": [
        {
          "output_type": "stream",
          "name": "stdout",
          "text": [
            "rm: cannot remove '/content/drive/MyDrive/2022-1/국비지원교육/실습폴더/models/': Is a directory\n"
          ]
        }
      ]
    },
    {
      "cell_type": "code",
      "source": [
        ""
      ],
      "metadata": {
        "id": "ggRe5j0HpFx_"
      },
      "execution_count": null,
      "outputs": []
    },
    {
      "cell_type": "code",
      "source": [
        ""
      ],
      "metadata": {
        "colab": {
          "base_uri": "https://localhost:8080/"
        },
        "id": "AQ1tQfClpIir",
        "outputId": "f65e6d6d-eb50-4cd7-e699-e801e3df3479"
      },
      "execution_count": 2,
      "outputs": [
        {
          "output_type": "stream",
          "name": "stdout",
          "text": [
            "Mounted at /content/drive\n"
          ]
        }
      ]
    },
    {
      "cell_type": "code",
      "source": [
        "import tensorflow as tf\n",
        "from tensorflow.keras.models import Model\n",
        "from tensorflow.keras.layers import Input, Conv2D, MaxPool2D, Flatten, Dense, Dropout\n",
        "\n",
        "# 클래스로 만들어서 사용하기\n",
        "class MNISTModel(Model):\n",
        "    def __init__(self):\n",
        "        super(MNISTModel, self).__init__()\n",
        "        self.conv1 = Conv2D(32, (3, 3), activation='relu')\n",
        "        self.pool1 = MaxPool2D()\n",
        "        self.conv2 = Conv2D(64, (3, 3), activation='relu')\n",
        "        self.pool2 = MaxPool2D()\n",
        "        self.conv3 = Conv2D(64, (3, 3), activation='relu')\n",
        "        self.flat = Flatten()\n",
        "        self.dense4 = Dense(64, activation='relu')\n",
        "        self.drop = Dropout(0.2)\n",
        "        self.outputs = Dense(10, activation='softmax')\n",
        "\n",
        "    #Forward \n",
        "    def call(self, inputs, training=False):\n",
        "        net = self.conv1(inputs)\n",
        "        net = self.pool1(net)\n",
        "        net = self.conv2(net)\n",
        "        net = self.pool2(net)\n",
        "        net = self.conv3(net)\n",
        "        net = self.flat(net)\n",
        "        net = self.dense4(net)\n",
        "        net = self.drop(net)\n",
        "        net = self.outputs(net)\n",
        "\n",
        "        return net\n",
        "\n",
        "model = MNISTModel()\n",
        "inputs = Input(shape=(28, 28, 1))\n",
        "model(inputs)\n",
        "\n",
        "model.summary()"
      ],
      "metadata": {
        "colab": {
          "base_uri": "https://localhost:8080/"
        },
        "id": "HMVL2rualONE",
        "outputId": "16894daf-ecb6-4a8f-dcb0-f55e0560fef0"
      },
      "execution_count": 22,
      "outputs": [
        {
          "output_type": "stream",
          "name": "stdout",
          "text": [
            "Model: \"mnist_model_2\"\n",
            "_________________________________________________________________\n",
            " Layer (type)                Output Shape              Param #   \n",
            "=================================================================\n",
            " conv2d_9 (Conv2D)           multiple                  320       \n",
            "                                                                 \n",
            " max_pooling2d_6 (MaxPooling  multiple                 0         \n",
            " 2D)                                                             \n",
            "                                                                 \n",
            " conv2d_10 (Conv2D)          multiple                  18496     \n",
            "                                                                 \n",
            " max_pooling2d_7 (MaxPooling  multiple                 0         \n",
            " 2D)                                                             \n",
            "                                                                 \n",
            " conv2d_11 (Conv2D)          multiple                  36928     \n",
            "                                                                 \n",
            " flatten_3 (Flatten)         multiple                  0         \n",
            "                                                                 \n",
            " dense_6 (Dense)             multiple                  36928     \n",
            "                                                                 \n",
            " dropout_3 (Dropout)         multiple                  0         \n",
            "                                                                 \n",
            " dense_7 (Dense)             multiple                  650       \n",
            "                                                                 \n",
            "=================================================================\n",
            "Total params: 93,322\n",
            "Trainable params: 93,322\n",
            "Non-trainable params: 0\n",
            "_________________________________________________________________\n"
          ]
        }
      ]
    },
    {
      "cell_type": "code",
      "source": [
        "from tensorflow.keras.callbacks import ModelCheckpoint, EarlyStopping\n",
        "\n",
        "MODEL_SAVE_FOLDER = '/content/drive/MyDrive/2022-1/국비지원교육/실습폴더/models/'\n",
        "model_path = f\"{MODEL_SAVE_FOLDER}mnist-{{epoch:d}}-{{val_loss:.5f}}-{{val_accuracy:.5f}}.hdf5\"\n",
        "\n",
        "cb_checkpoint = ModelCheckpoint(filepath=model_path, \n",
        "                                monitor='val_accuracy', \n",
        "                                verbose=1,\n",
        "                                save_weights_only=True,\n",
        "                                save_best_only=True)\n",
        "                                # class는 학습시키지 못함, best값만 저장\n",
        "\n",
        "cb_early_stopping = EarlyStopping(monitor='val_accuracy', patience=6)\n"
      ],
      "metadata": {
        "id": "l94z6JcBnxUF"
      },
      "execution_count": 20,
      "outputs": []
    },
    {
      "cell_type": "code",
      "source": [
        "model.compile(optimizer='adam', loss='sparse_categorical_crossentropy', metrics=['accuracy'])\n",
        "hist = model.fit(train_images, train_labels, validation_data=(valid_images, valid_labels),\n",
        "                 epochs=100, batch_size=200,\n",
        "                 callbacks=[cb_checkpoint, cb_early_stopping])"
      ],
      "metadata": {
        "colab": {
          "base_uri": "https://localhost:8080/"
        },
        "id": "kZCM74ASoAXF",
        "outputId": "da3e9bdb-21a0-4f77-956e-a5267b0aea5b"
      },
      "execution_count": 21,
      "outputs": [
        {
          "output_type": "stream",
          "name": "stdout",
          "text": [
            "Epoch 1/100\n",
            "297/300 [============================>.] - ETA: 0s - loss: 0.3849 - accuracy: 0.8807\n",
            "Epoch 1: val_accuracy improved from -inf to 0.97471, saving model to /content/drive/MyDrive/2022-1/국비지원교육/실습폴더/models/mnist-1-0.08300-0.97471.hdf5\n",
            "300/300 [==============================] - 5s 15ms/step - loss: 0.3820 - accuracy: 0.8815 - val_loss: 0.0830 - val_accuracy: 0.9747\n",
            "Epoch 2/100\n",
            "299/300 [============================>.] - ETA: 0s - loss: 0.0945 - accuracy: 0.9714\n",
            "Epoch 2: val_accuracy improved from 0.97471 to 0.98529, saving model to /content/drive/MyDrive/2022-1/국비지원교육/실습폴더/models/mnist-2-0.05048-0.98529.hdf5\n",
            "300/300 [==============================] - 4s 14ms/step - loss: 0.0944 - accuracy: 0.9714 - val_loss: 0.0505 - val_accuracy: 0.9853\n",
            "Epoch 3/100\n",
            "299/300 [============================>.] - ETA: 0s - loss: 0.0658 - accuracy: 0.9804\n",
            "Epoch 3: val_accuracy improved from 0.98529 to 0.98871, saving model to /content/drive/MyDrive/2022-1/국비지원교육/실습폴더/models/mnist-3-0.03533-0.98871.hdf5\n",
            "300/300 [==============================] - 4s 14ms/step - loss: 0.0657 - accuracy: 0.9804 - val_loss: 0.0353 - val_accuracy: 0.9887\n",
            "Epoch 4/100\n",
            "297/300 [============================>.] - ETA: 0s - loss: 0.0502 - accuracy: 0.9851\n",
            "Epoch 4: val_accuracy did not improve from 0.98871\n",
            "300/300 [==============================] - 4s 14ms/step - loss: 0.0501 - accuracy: 0.9851 - val_loss: 0.0344 - val_accuracy: 0.9887\n",
            "Epoch 5/100\n",
            "298/300 [============================>.] - ETA: 0s - loss: 0.0412 - accuracy: 0.9878\n",
            "Epoch 5: val_accuracy improved from 0.98871 to 0.99129, saving model to /content/drive/MyDrive/2022-1/국비지원교육/실습폴더/models/mnist-5-0.02610-0.99129.hdf5\n",
            "300/300 [==============================] - 4s 14ms/step - loss: 0.0412 - accuracy: 0.9879 - val_loss: 0.0261 - val_accuracy: 0.9913\n",
            "Epoch 6/100\n",
            "300/300 [==============================] - ETA: 0s - loss: 0.0382 - accuracy: 0.9884\n",
            "Epoch 6: val_accuracy improved from 0.99129 to 0.99200, saving model to /content/drive/MyDrive/2022-1/국비지원교육/실습폴더/models/mnist-6-0.02689-0.99200.hdf5\n",
            "300/300 [==============================] - 4s 14ms/step - loss: 0.0382 - accuracy: 0.9884 - val_loss: 0.0269 - val_accuracy: 0.9920\n",
            "Epoch 7/100\n",
            "297/300 [============================>.] - ETA: 0s - loss: 0.0306 - accuracy: 0.9904\n",
            "Epoch 7: val_accuracy did not improve from 0.99200\n",
            "300/300 [==============================] - 4s 13ms/step - loss: 0.0306 - accuracy: 0.9904 - val_loss: 0.0276 - val_accuracy: 0.9911\n",
            "Epoch 8/100\n",
            "299/300 [============================>.] - ETA: 0s - loss: 0.0300 - accuracy: 0.9906\n",
            "Epoch 8: val_accuracy did not improve from 0.99200\n",
            "300/300 [==============================] - 4s 13ms/step - loss: 0.0300 - accuracy: 0.9906 - val_loss: 0.0295 - val_accuracy: 0.9909\n",
            "Epoch 9/100\n",
            "297/300 [============================>.] - ETA: 0s - loss: 0.0247 - accuracy: 0.9923\n",
            "Epoch 9: val_accuracy improved from 0.99200 to 0.99235, saving model to /content/drive/MyDrive/2022-1/국비지원교육/실습폴더/models/mnist-9-0.02415-0.99235.hdf5\n",
            "300/300 [==============================] - 4s 13ms/step - loss: 0.0248 - accuracy: 0.9923 - val_loss: 0.0241 - val_accuracy: 0.9924\n",
            "Epoch 10/100\n",
            "296/300 [============================>.] - ETA: 0s - loss: 0.0224 - accuracy: 0.9929\n",
            "Epoch 10: val_accuracy did not improve from 0.99235\n",
            "300/300 [==============================] - 4s 14ms/step - loss: 0.0225 - accuracy: 0.9929 - val_loss: 0.0268 - val_accuracy: 0.9920\n",
            "Epoch 11/100\n",
            "299/300 [============================>.] - ETA: 0s - loss: 0.0192 - accuracy: 0.9940\n",
            "Epoch 11: val_accuracy did not improve from 0.99235\n",
            "300/300 [==============================] - 4s 13ms/step - loss: 0.0192 - accuracy: 0.9940 - val_loss: 0.0238 - val_accuracy: 0.9920\n",
            "Epoch 12/100\n",
            "299/300 [============================>.] - ETA: 0s - loss: 0.0183 - accuracy: 0.9943\n",
            "Epoch 12: val_accuracy improved from 0.99235 to 0.99294, saving model to /content/drive/MyDrive/2022-1/국비지원교육/실습폴더/models/mnist-12-0.02398-0.99294.hdf5\n",
            "300/300 [==============================] - 4s 14ms/step - loss: 0.0183 - accuracy: 0.9943 - val_loss: 0.0240 - val_accuracy: 0.9929\n",
            "Epoch 13/100\n",
            "299/300 [============================>.] - ETA: 0s - loss: 0.0164 - accuracy: 0.9949\n",
            "Epoch 13: val_accuracy improved from 0.99294 to 0.99341, saving model to /content/drive/MyDrive/2022-1/국비지원교육/실습폴더/models/mnist-13-0.02317-0.99341.hdf5\n",
            "300/300 [==============================] - 4s 14ms/step - loss: 0.0164 - accuracy: 0.9949 - val_loss: 0.0232 - val_accuracy: 0.9934\n",
            "Epoch 14/100\n",
            "298/300 [============================>.] - ETA: 0s - loss: 0.0157 - accuracy: 0.9949\n",
            "Epoch 14: val_accuracy did not improve from 0.99341\n",
            "300/300 [==============================] - 4s 14ms/step - loss: 0.0157 - accuracy: 0.9949 - val_loss: 0.0250 - val_accuracy: 0.9928\n",
            "Epoch 15/100\n",
            "299/300 [============================>.] - ETA: 0s - loss: 0.0134 - accuracy: 0.9957\n",
            "Epoch 15: val_accuracy improved from 0.99341 to 0.99388, saving model to /content/drive/MyDrive/2022-1/국비지원교육/실습폴더/models/mnist-15-0.02239-0.99388.hdf5\n",
            "300/300 [==============================] - 4s 14ms/step - loss: 0.0134 - accuracy: 0.9957 - val_loss: 0.0224 - val_accuracy: 0.9939\n",
            "Epoch 16/100\n",
            "299/300 [============================>.] - ETA: 0s - loss: 0.0128 - accuracy: 0.9958\n",
            "Epoch 16: val_accuracy did not improve from 0.99388\n",
            "300/300 [==============================] - 4s 14ms/step - loss: 0.0128 - accuracy: 0.9958 - val_loss: 0.0306 - val_accuracy: 0.9916\n",
            "Epoch 17/100\n",
            "300/300 [==============================] - ETA: 0s - loss: 0.0119 - accuracy: 0.9960\n",
            "Epoch 17: val_accuracy did not improve from 0.99388\n",
            "300/300 [==============================] - 4s 13ms/step - loss: 0.0119 - accuracy: 0.9960 - val_loss: 0.0272 - val_accuracy: 0.9912\n",
            "Epoch 18/100\n",
            "298/300 [============================>.] - ETA: 0s - loss: 0.0102 - accuracy: 0.9966\n",
            "Epoch 18: val_accuracy did not improve from 0.99388\n",
            "300/300 [==============================] - 4s 14ms/step - loss: 0.0102 - accuracy: 0.9966 - val_loss: 0.0237 - val_accuracy: 0.9926\n",
            "Epoch 19/100\n",
            "300/300 [==============================] - ETA: 0s - loss: 0.0109 - accuracy: 0.9964\n",
            "Epoch 19: val_accuracy did not improve from 0.99388\n",
            "300/300 [==============================] - 4s 14ms/step - loss: 0.0109 - accuracy: 0.9964 - val_loss: 0.0240 - val_accuracy: 0.9936\n",
            "Epoch 20/100\n",
            "298/300 [============================>.] - ETA: 0s - loss: 0.0088 - accuracy: 0.9971\n",
            "Epoch 20: val_accuracy did not improve from 0.99388\n",
            "300/300 [==============================] - 4s 13ms/step - loss: 0.0087 - accuracy: 0.9971 - val_loss: 0.0268 - val_accuracy: 0.9929\n",
            "Epoch 21/100\n",
            "300/300 [==============================] - ETA: 0s - loss: 0.0087 - accuracy: 0.9972\n",
            "Epoch 21: val_accuracy did not improve from 0.99388\n",
            "300/300 [==============================] - 4s 14ms/step - loss: 0.0087 - accuracy: 0.9972 - val_loss: 0.0270 - val_accuracy: 0.9929\n"
          ]
        }
      ]
    },
    {
      "cell_type": "code",
      "source": [
        "saved_path = '/content/drive/MyDrive/2022-1/국비지원교육/실습폴더/models/mnist-6-0.02689-0.99200.hdf5'\n",
        "model.compile(optimizer='adam', loss='sparse_categorical_crossentropy', metrics=['accuracy'])\n",
        "model.load_weights(saved_path)\n",
        "\n",
        "print(f\"Loss, Accuracy {model.evaluate(test_images, test_labels)}\")"
      ],
      "metadata": {
        "colab": {
          "base_uri": "https://localhost:8080/"
        },
        "id": "_L494ErIoH7-",
        "outputId": "90ff7b9e-9e19-4674-c547-fd8fd083e995"
      },
      "execution_count": 23,
      "outputs": [
        {
          "output_type": "stream",
          "name": "stdout",
          "text": [
            "47/47 [==============================] - 1s 8ms/step - loss: 0.0353 - accuracy: 0.9873\n",
            "Loss, Accuracy [0.03531945124268532, 0.987333357334137]\n"
          ]
        }
      ]
    },
    {
      "cell_type": "code",
      "source": [
        "output = model(test_images)\n",
        "output.shape"
      ],
      "metadata": {
        "colab": {
          "base_uri": "https://localhost:8080/"
        },
        "id": "6sFT4vFdCX75",
        "outputId": "b28f492e-4944-4616-ccae-8746919012ff"
      },
      "execution_count": 24,
      "outputs": [
        {
          "output_type": "execute_result",
          "data": {
            "text/plain": [
              "TensorShape([1500, 10])"
            ]
          },
          "metadata": {},
          "execution_count": 24
        }
      ]
    },
    {
      "cell_type": "code",
      "source": [
        "import numpy as np\n",
        "np.argmax(output[0])"
      ],
      "metadata": {
        "colab": {
          "base_uri": "https://localhost:8080/"
        },
        "id": "O_47v3kRCnoL",
        "outputId": "e6143e74-992b-4c55-9d68-cfd7309feecb"
      },
      "execution_count": 26,
      "outputs": [
        {
          "output_type": "execute_result",
          "data": {
            "text/plain": [
              "6"
            ]
          },
          "metadata": {},
          "execution_count": 26
        }
      ]
    },
    {
      "cell_type": "code",
      "source": [
        "test_labels[0]"
      ],
      "metadata": {
        "colab": {
          "base_uri": "https://localhost:8080/"
        },
        "id": "icKO5KnICo92",
        "outputId": "2d023599-6228-42d2-e4fa-92f8e0283c65"
      },
      "execution_count": 28,
      "outputs": [
        {
          "output_type": "execute_result",
          "data": {
            "text/plain": [
              "6"
            ]
          },
          "metadata": {},
          "execution_count": 28
        }
      ]
    },
    {
      "cell_type": "code",
      "source": [
        ""
      ],
      "metadata": {
        "id": "zGUdrGU7CuQG"
      },
      "execution_count": null,
      "outputs": []
    }
  ]
}