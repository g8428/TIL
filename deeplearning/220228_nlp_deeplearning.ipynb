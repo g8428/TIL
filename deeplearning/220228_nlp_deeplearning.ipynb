{
  "nbformat": 4,
  "nbformat_minor": 0,
  "metadata": {
    "colab": {
      "name": "220228_nlp_deeplearning",
      "provenance": [],
      "collapsed_sections": [],
      "include_colab_link": true
    },
    "kernelspec": {
      "name": "python3",
      "display_name": "Python 3"
    },
    "language_info": {
      "name": "python"
    }
  },
  "cells": [
    {
      "cell_type": "markdown",
      "metadata": {
        "id": "view-in-github",
        "colab_type": "text"
      },
      "source": [
        "<a href=\"https://colab.research.google.com/github/g8428/TIL/blob/master/220228_nlp_deeplearning.ipynb\" target=\"_parent\"><img src=\"https://colab.research.google.com/assets/colab-badge.svg\" alt=\"Open In Colab\"/></a>"
      ]
    },
    {
      "cell_type": "code",
      "source": [
        ""
      ],
      "metadata": {
        "id": "q01YAyr3h8uA"
      },
      "execution_count": null,
      "outputs": []
    },
    {
      "cell_type": "markdown",
      "source": [
        "# Skip-gram "
      ],
      "metadata": {
        "id": "CMS0X0XUwe_5"
      }
    },
    {
      "cell_type": "code",
      "execution_count": 1,
      "metadata": {
        "id": "olOXsIHIuvMk"
      },
      "outputs": [],
      "source": [
        "import tensorflow as tf\n",
        "import numpy as np"
      ]
    },
    {
      "cell_type": "code",
      "source": [
        "corpus = \"He is the king . The king is royal . She is the royal queen\""
      ],
      "metadata": {
        "id": "qud48GfRvRMK"
      },
      "execution_count": 2,
      "outputs": []
    },
    {
      "cell_type": "code",
      "source": [
        "raw_sentence = corpus.split(\".\")\n",
        "sentences = []\n",
        "for sentence in raw_sentence:\n",
        "    sentences.append(sentence.split())\n",
        "\n",
        "sentences"
      ],
      "metadata": {
        "colab": {
          "base_uri": "https://localhost:8080/"
        },
        "id": "jW7Vb8HOvaeh",
        "outputId": "f389163c-c35e-4fbe-fdd1-331d96971dd7"
      },
      "execution_count": 3,
      "outputs": [
        {
          "output_type": "execute_result",
          "data": {
            "text/plain": [
              "[['He', 'is', 'the', 'king'],\n",
              " ['The', 'king', 'is', 'royal'],\n",
              " ['She', 'is', 'the', 'royal', 'queen']]"
            ]
          },
          "metadata": {},
          "execution_count": 3
        }
      ]
    },
    {
      "cell_type": "code",
      "source": [
        "#훈련 dataset 만들기\n",
        "data = []\n",
        "WINDOW_SIZE = 2\n",
        "\n",
        "for sentence in sentences:\n",
        "    for word_index, word in enumerate(sentence):\n",
        "        #시작 위치\n",
        "        start_index = max(word_index - WINDOW_SIZE, 0)\n",
        "        #끝 위치 : +1은 슬라이싱 때문에\n",
        "        end_index = min(word_index + WINDOW_SIZE + 1, len(sentence))\n",
        "\n",
        "        for nb_word in sentence[start_index:word_index]:\n",
        "            data.append([word, nb_word])\n",
        "\n",
        "        for nb_word in sentence[word_index + 1:end_index]:\n",
        "            data.append([word, nb_word])\n",
        "\n",
        "\n",
        "data"
      ],
      "metadata": {
        "colab": {
          "base_uri": "https://localhost:8080/"
        },
        "id": "GHC2JYXuv6PS",
        "outputId": "a2e4e6d4-9e87-4f7d-a4a3-8ac02c58b1fd"
      },
      "execution_count": 4,
      "outputs": [
        {
          "output_type": "execute_result",
          "data": {
            "text/plain": [
              "[['He', 'is'],\n",
              " ['He', 'the'],\n",
              " ['is', 'He'],\n",
              " ['is', 'the'],\n",
              " ['is', 'king'],\n",
              " ['the', 'He'],\n",
              " ['the', 'is'],\n",
              " ['the', 'king'],\n",
              " ['king', 'is'],\n",
              " ['king', 'the'],\n",
              " ['The', 'king'],\n",
              " ['The', 'is'],\n",
              " ['king', 'The'],\n",
              " ['king', 'is'],\n",
              " ['king', 'royal'],\n",
              " ['is', 'The'],\n",
              " ['is', 'king'],\n",
              " ['is', 'royal'],\n",
              " ['royal', 'king'],\n",
              " ['royal', 'is'],\n",
              " ['She', 'is'],\n",
              " ['She', 'the'],\n",
              " ['is', 'She'],\n",
              " ['is', 'the'],\n",
              " ['is', 'royal'],\n",
              " ['the', 'She'],\n",
              " ['the', 'is'],\n",
              " ['the', 'royal'],\n",
              " ['the', 'queen'],\n",
              " ['royal', 'is'],\n",
              " ['royal', 'the'],\n",
              " ['royal', 'queen'],\n",
              " ['queen', 'the'],\n",
              " ['queen', 'royal']]"
            ]
          },
          "metadata": {},
          "execution_count": 4
        }
      ]
    },
    {
      "cell_type": "code",
      "source": [
        "len(data)"
      ],
      "metadata": {
        "colab": {
          "base_uri": "https://localhost:8080/"
        },
        "id": "uFiTjmbq44jo",
        "outputId": "7e587b7f-12bb-457c-8271-286d17cec702"
      },
      "execution_count": 5,
      "outputs": [
        {
          "output_type": "execute_result",
          "data": {
            "text/plain": [
              "34"
            ]
          },
          "metadata": {},
          "execution_count": 5
        }
      ]
    },
    {
      "cell_type": "code",
      "source": [
        "words = []\n",
        "for sentence in sentences:\n",
        "    for word in sentence:\n",
        "        words.append(word)\n",
        "\n",
        "words = set(words)\n",
        "words"
      ],
      "metadata": {
        "colab": {
          "base_uri": "https://localhost:8080/"
        },
        "id": "zmguYZrozF2i",
        "outputId": "438bb3ee-5aa0-4505-c2b6-2026325717f8"
      },
      "execution_count": 6,
      "outputs": [
        {
          "output_type": "execute_result",
          "data": {
            "text/plain": [
              "{'He', 'She', 'The', 'is', 'king', 'queen', 'royal', 'the'}"
            ]
          },
          "metadata": {},
          "execution_count": 6
        }
      ]
    },
    {
      "cell_type": "code",
      "source": [
        "word2id = {}\n",
        "id2word = {}\n",
        "\n",
        "vocab_size = len(words)\n",
        "\n",
        "for i, word in enumerate(words):\n",
        "    word2id[word] = i\n",
        "    id2word[i] = word\n",
        "\n",
        "print(word2id)\n",
        "print(id2word) "
      ],
      "metadata": {
        "colab": {
          "base_uri": "https://localhost:8080/"
        },
        "id": "LJQJaUBYz7AI",
        "outputId": "1ca89791-fba4-4f4b-b7c1-9f0e7d3877a2"
      },
      "execution_count": 7,
      "outputs": [
        {
          "output_type": "stream",
          "name": "stdout",
          "text": [
            "{'is': 0, 'She': 1, 'the': 2, 'king': 3, 'queen': 4, 'The': 5, 'royal': 6, 'He': 7}\n",
            "{0: 'is', 1: 'She', 2: 'the', 3: 'king', 4: 'queen', 5: 'The', 6: 'royal', 7: 'He'}\n"
          ]
        }
      ]
    },
    {
      "cell_type": "code",
      "source": [
        "def to_one_hot(word_index, vocab_size):\n",
        "    temp = np.zeros(vocab_size)\n",
        "    temp[word_index] = 1\n",
        "    return temp"
      ],
      "metadata": {
        "id": "ckpBv75-0fIf"
      },
      "execution_count": 8,
      "outputs": []
    },
    {
      "cell_type": "code",
      "source": [
        "x_train = []\n",
        "y_train = []\n",
        "\n",
        "for word in data:\n",
        "    x_train.append(to_one_hot(word2id[word[0]], vocab_size))\n",
        "    y_train.append(to_one_hot(word2id[word[1]], vocab_size))"
      ],
      "metadata": {
        "id": "AptXvZ-X4FtL"
      },
      "execution_count": 9,
      "outputs": []
    },
    {
      "cell_type": "code",
      "source": [
        "x_train"
      ],
      "metadata": {
        "colab": {
          "base_uri": "https://localhost:8080/"
        },
        "id": "X0gzfvI_4qzv",
        "outputId": "faeee184-7d35-4ffd-9819-3de5a42704cc"
      },
      "execution_count": 10,
      "outputs": [
        {
          "output_type": "execute_result",
          "data": {
            "text/plain": [
              "[array([0., 0., 0., 0., 0., 0., 0., 1.]),\n",
              " array([0., 0., 0., 0., 0., 0., 0., 1.]),\n",
              " array([1., 0., 0., 0., 0., 0., 0., 0.]),\n",
              " array([1., 0., 0., 0., 0., 0., 0., 0.]),\n",
              " array([1., 0., 0., 0., 0., 0., 0., 0.]),\n",
              " array([0., 0., 1., 0., 0., 0., 0., 0.]),\n",
              " array([0., 0., 1., 0., 0., 0., 0., 0.]),\n",
              " array([0., 0., 1., 0., 0., 0., 0., 0.]),\n",
              " array([0., 0., 0., 1., 0., 0., 0., 0.]),\n",
              " array([0., 0., 0., 1., 0., 0., 0., 0.]),\n",
              " array([0., 0., 0., 0., 0., 1., 0., 0.]),\n",
              " array([0., 0., 0., 0., 0., 1., 0., 0.]),\n",
              " array([0., 0., 0., 1., 0., 0., 0., 0.]),\n",
              " array([0., 0., 0., 1., 0., 0., 0., 0.]),\n",
              " array([0., 0., 0., 1., 0., 0., 0., 0.]),\n",
              " array([1., 0., 0., 0., 0., 0., 0., 0.]),\n",
              " array([1., 0., 0., 0., 0., 0., 0., 0.]),\n",
              " array([1., 0., 0., 0., 0., 0., 0., 0.]),\n",
              " array([0., 0., 0., 0., 0., 0., 1., 0.]),\n",
              " array([0., 0., 0., 0., 0., 0., 1., 0.]),\n",
              " array([0., 1., 0., 0., 0., 0., 0., 0.]),\n",
              " array([0., 1., 0., 0., 0., 0., 0., 0.]),\n",
              " array([1., 0., 0., 0., 0., 0., 0., 0.]),\n",
              " array([1., 0., 0., 0., 0., 0., 0., 0.]),\n",
              " array([1., 0., 0., 0., 0., 0., 0., 0.]),\n",
              " array([0., 0., 1., 0., 0., 0., 0., 0.]),\n",
              " array([0., 0., 1., 0., 0., 0., 0., 0.]),\n",
              " array([0., 0., 1., 0., 0., 0., 0., 0.]),\n",
              " array([0., 0., 1., 0., 0., 0., 0., 0.]),\n",
              " array([0., 0., 0., 0., 0., 0., 1., 0.]),\n",
              " array([0., 0., 0., 0., 0., 0., 1., 0.]),\n",
              " array([0., 0., 0., 0., 0., 0., 1., 0.]),\n",
              " array([0., 0., 0., 0., 1., 0., 0., 0.]),\n",
              " array([0., 0., 0., 0., 1., 0., 0., 0.])]"
            ]
          },
          "metadata": {},
          "execution_count": 10
        }
      ]
    },
    {
      "cell_type": "code",
      "source": [
        "x_train = np.asarray(x_train, dtype=np.float32)\n",
        "y_train = np.asarray(y_train, dtype=np.float32)"
      ],
      "metadata": {
        "id": "O4biZpjh40o_"
      },
      "execution_count": 11,
      "outputs": []
    },
    {
      "cell_type": "code",
      "source": [
        "x_train.shape"
      ],
      "metadata": {
        "colab": {
          "base_uri": "https://localhost:8080/"
        },
        "id": "rh1sV5885VZA",
        "outputId": "cd8d9a42-1f21-4436-99a2-9061004d70ed"
      },
      "execution_count": 12,
      "outputs": [
        {
          "output_type": "execute_result",
          "data": {
            "text/plain": [
              "(34, 8)"
            ]
          },
          "metadata": {},
          "execution_count": 12
        }
      ]
    },
    {
      "cell_type": "code",
      "source": [
        "class Word2Vec:\n",
        "    def __init__(self, vocab_size=10, embedding_dim=5, optimizer='sgd', epochs=100, learning_rate=0.01):\n",
        "        self.vocab_size = vocab_size\n",
        "        self.embedding_dim = embedding_dim\n",
        "        self.epochs = epochs\n",
        "\n",
        "        if optimizer == 'adam':\n",
        "            self.optimizer = tf.optimizers.Adam(learning_rate=learning_rate)\n",
        "        else:\n",
        "            self.optimizer = tf.optimizers.SGD(learning_rate=learning_rate)\n",
        "\n",
        "        self.W1 = tf.Variable(tf.random.normal([self.vocab_size, self.embedding_dim]))\n",
        "        self.b1 = tf.Variable(tf.random.normal([self.embedding_dim]))\n",
        "\n",
        "        self.W2 = tf.Variable(tf.random.normal([self.embedding_dim, self.vocab_size]))\n",
        "        self.b2 = tf.Variable(tf.random.normal([self.vocab_size]))\n",
        "\n",
        "    def vectorized(self, word_index):\n",
        "        return (self.W1 + self.b1)[word_index]\n",
        "\n",
        "    def train(self, x_train, y_train):\n",
        "        for i in range(self.epochs):\n",
        "            with tf.GradientTape() as tape:\n",
        "                #XW + b\n",
        "                hidden_layer = tf.add(tf.matmul(x_train, self.W1), self.b1)\n",
        "                output_layer = tf.add(tf.matmul(hidden_layer, self.W2), self.b2)\n",
        "\n",
        "                #outputd은 logit \n",
        "                pred = tf.nn.softmax(output_layer)\n",
        "                #cross entropy 계산\n",
        "                loss = tf.reduce_mean(-tf.math.reduce_sum(y_train * tf.math.log(pred), axis=[1]))\n",
        "\n",
        "                #각 파라미터에 대한 gradient 계산\n",
        "                grads = tape.gradient(loss, [self.W1, self.b1, self.W2, self.b2])\n",
        "                #각 파라미터를 업데이트\n",
        "                self.optimizer.apply_gradients(zip(grads, [self.W1, self.b1, self.W2, self.b2]))\n",
        "\n",
        "            if i % 1000 == 0:\n",
        "                print(loss)"
      ],
      "metadata": {
        "id": "K-Qp_QvF5Yfn"
      },
      "execution_count": 13,
      "outputs": []
    },
    {
      "cell_type": "code",
      "source": [
        "w2v = Word2Vec(vocab_size=vocab_size, embedding_dim=5, optimizer='adam', epochs=10000, learning_rate=0.1)\n",
        "w2v.train(x_train, y_train)"
      ],
      "metadata": {
        "colab": {
          "base_uri": "https://localhost:8080/"
        },
        "id": "TZSe3E0z_slo",
        "outputId": "a033b740-961c-480b-9efc-b1641bce915c"
      },
      "execution_count": 14,
      "outputs": [
        {
          "output_type": "stream",
          "name": "stdout",
          "text": [
            "tf.Tensor(7.3294916, shape=(), dtype=float32)\n",
            "tf.Tensor(1.3741236, shape=(), dtype=float32)\n",
            "tf.Tensor(1.3740875, shape=(), dtype=float32)\n",
            "tf.Tensor(1.3741199, shape=(), dtype=float32)\n",
            "tf.Tensor(1.3741095, shape=(), dtype=float32)\n",
            "tf.Tensor(1.3741674, shape=(), dtype=float32)\n",
            "tf.Tensor(1.3786724, shape=(), dtype=float32)\n",
            "tf.Tensor(1.3741308, shape=(), dtype=float32)\n",
            "tf.Tensor(1.3741, shape=(), dtype=float32)\n",
            "tf.Tensor(1.3741169, shape=(), dtype=float32)\n"
          ]
        }
      ]
    },
    {
      "cell_type": "code",
      "source": [
        "word2id"
      ],
      "metadata": {
        "id": "MYCaBat-__UG",
        "colab": {
          "base_uri": "https://localhost:8080/"
        },
        "outputId": "f9a347fa-a1ee-46c9-9dc8-6d1ddcafbfd1"
      },
      "execution_count": 15,
      "outputs": [
        {
          "output_type": "execute_result",
          "data": {
            "text/plain": [
              "{'He': 7,\n",
              " 'She': 1,\n",
              " 'The': 5,\n",
              " 'is': 0,\n",
              " 'king': 3,\n",
              " 'queen': 4,\n",
              " 'royal': 6,\n",
              " 'the': 2}"
            ]
          },
          "metadata": {},
          "execution_count": 15
        }
      ]
    },
    {
      "cell_type": "code",
      "source": [
        "w2v.vectorized(word2id['queen']).numpy()"
      ],
      "metadata": {
        "colab": {
          "base_uri": "https://localhost:8080/"
        },
        "id": "Q1K6kSm1Fn8V",
        "outputId": "a396e0ab-c8b8-40fb-c1b0-ffe4d0c79f7d"
      },
      "execution_count": 16,
      "outputs": [
        {
          "output_type": "execute_result",
          "data": {
            "text/plain": [
              "array([1.0966665 , 1.7576188 , 2.0159726 , 0.85318756, 3.841556  ],\n",
              "      dtype=float32)"
            ]
          },
          "metadata": {},
          "execution_count": 16
        }
      ]
    },
    {
      "cell_type": "code",
      "source": [
        "# 현재 결과값 5차원, 시각화 하려면 2차원 차원축소 필요\n",
        "from sklearn.manifold import TSNE\n",
        "from sklearn import preprocessing\n",
        "\n",
        "vector = w2v.W1 + w2v.b1\n",
        "\n",
        "model = TSNE(n_components=2, random_state=42)\n",
        "vectors = model.fit_transform(vector)\n",
        "\n",
        "normalizer = preprocessing.Normalizer()\n",
        "vectors = normalizer.fit_transform(vectors, 'l2')"
      ],
      "metadata": {
        "colab": {
          "base_uri": "https://localhost:8080/"
        },
        "id": "CkTu1JzdFxOi",
        "outputId": "afcb7828-5f3d-421e-c80b-c0b94c8f6037"
      },
      "execution_count": 17,
      "outputs": [
        {
          "output_type": "stream",
          "name": "stderr",
          "text": [
            "/usr/local/lib/python3.7/dist-packages/sklearn/manifold/_t_sne.py:783: FutureWarning: The default initialization in TSNE will change from 'random' to 'pca' in 1.2.\n",
            "  FutureWarning,\n",
            "/usr/local/lib/python3.7/dist-packages/sklearn/manifold/_t_sne.py:793: FutureWarning: The default learning rate in TSNE will change from 200.0 to 'auto' in 1.2.\n",
            "  FutureWarning,\n"
          ]
        }
      ]
    },
    {
      "cell_type": "code",
      "source": [
        "import matplotlib.pyplot as plt\n",
        "\n",
        "fig, ax = plt.subplots()\n",
        "ax.set_xlim(left = -1, right = 1)\n",
        "ax.set_ylim(bottom = -1, top = 1)\n",
        "\n",
        "for word in words:\n",
        "    print(word, vectors[word2id[word]])\n",
        "    ax.annotate(word,(vectors[word2id[word]][0], vectors[word2id[word]][1]))\n",
        "\n",
        "plt.show()"
      ],
      "metadata": {
        "colab": {
          "base_uri": "https://localhost:8080/",
          "height": 419
        },
        "id": "Zy6qc_iqG2xX",
        "outputId": "66d3eeda-204a-45a4-c7ef-d1c6c3b337e2"
      },
      "execution_count": 18,
      "outputs": [
        {
          "output_type": "stream",
          "name": "stdout",
          "text": [
            "is [ 0.787192   -0.61670804]\n",
            "She [-0.82485855  0.56533927]\n",
            "the [0.94978195 0.31291252]\n",
            "king [-0.24413551  0.9697411 ]\n",
            "queen [-0.15563494  0.98781466]\n",
            "The [-0.2925513  -0.95624983]\n",
            "royal [-0.9756935  -0.21913934]\n",
            "He [0.45033774 0.89285827]\n"
          ]
        },
        {
          "output_type": "display_data",
          "data": {
            "image/png": "[encoded data removed]",
            "text/plain": [
              "<Figure size 432x288 with 1 Axes>"
            ]
          },
          "metadata": {
            "needs_background": "light"
          }
        }
      ]
    },
    {
      "cell_type": "code",
      "source": [
        "# 젠심 사용\n",
        "from gensim.models import Word2Vec"
      ],
      "metadata": {
        "id": "WsrVcljyHne3"
      },
      "execution_count": 19,
      "outputs": []
    },
    {
      "cell_type": "code",
      "source": [
        "import pandas as pd\n",
        "\n",
        "pf = pd.read_csv('/content/drive/MyDrive/2022-1/국비지원교육/실습폴더/news.csv')"
      ],
      "metadata": {
        "id": "NnTH3xogIV78"
      },
      "execution_count": null,
      "outputs": []
    },
    {
      "cell_type": "code",
      "source": [
        "df = pf"
      ],
      "metadata": {
        "id": "xfF2ldOwJM1d"
      },
      "execution_count": null,
      "outputs": []
    },
    {
      "cell_type": "code",
      "source": [
        "df['content'][:10]"
      ],
      "metadata": {
        "id": "PmGNgkIMJph5"
      },
      "execution_count": null,
      "outputs": []
    },
    {
      "cell_type": "code",
      "source": [
        "# 문장분리\n",
        "sentences = df['content'].apply(lambda x : x.split('.    ')).tolist()\n",
        "sentences[0]"
      ],
      "metadata": {
        "id": "pqjk71MUJrkJ"
      },
      "execution_count": null,
      "outputs": []
    },
    {
      "cell_type": "code",
      "source": [
        "# !sudo apt-get install g++ openjdk-7-jdk # Install Java 1.7+\n",
        "# !sudo apt-get install python-dev; pip install konlpy     # Python 2.x\n",
        "# !sudo apt-get install python3-dev; pip3 install konlpy   # Python 3.x\n",
        "# !sudo apt-get install curl\n",
        "# !bash <(curl -s https://raw.githubusercontent.com/konlpy/konlpy/master/scripts/mecab.sh)"
      ],
      "metadata": {
        "id": "zLRHOEiyKIH2"
      },
      "execution_count": null,
      "outputs": []
    },
    {
      "cell_type": "code",
      "source": [
        "# pip install konlpy"
      ],
      "metadata": {
        "id": "BkPi4u03KQiG"
      },
      "execution_count": null,
      "outputs": []
    },
    {
      "cell_type": "code",
      "source": [
        "from konlpy.tag import Mecab\n",
        "m = Mecab()"
      ],
      "metadata": {
        "id": "UipQhExQLM28"
      },
      "execution_count": null,
      "outputs": []
    },
    {
      "cell_type": "code",
      "source": [
        "m.morphs('2005년 10년만기 미국 국채수익률이  연방준비제도이사회(FRB)의 금리인상 지속에 따른 인플레이션 압력 완화로 연 5%를 넘어서기 어려울 것으로 전망됐다')"
      ],
      "metadata": {
        "id": "mS4M2wXrLRHI"
      },
      "execution_count": null,
      "outputs": []
    },
    {
      "cell_type": "code",
      "source": [
        " # 젠심으로 학습 진행 - 단어분리\n",
        " corpus = [m.morphs(sent) for para in sentences for sent in para]"
      ],
      "metadata": {
        "id": "E0gKWlfJLZ8k"
      },
      "execution_count": null,
      "outputs": []
    },
    {
      "cell_type": "code",
      "source": [
        "#sg : skip-gram\n",
        "model = Word2Vec(sentences=sentences, size = 100, alpha = 0.025,\n",
        "                 window = 4, min_count=4, sample = 0.001, sg=1,workers=-1,\n",
        "                 iter = 100)"
      ],
      "metadata": {
        "id": "pgl6RjJ_MP_r"
      },
      "execution_count": null,
      "outputs": []
    },
    {
      "cell_type": "code",
      "source": [
        "model.save('/content/drive/MyDrive/2022-1/국비지원교육/실습폴더/word2vec.model')"
      ],
      "metadata": {
        "id": "t84_qKuKNIQH"
      },
      "execution_count": null,
      "outputs": []
    },
    {
      "cell_type": "code",
      "source": [
        "model = Word2Vec.load('/content/drive/MyDrive/2022-1/국비지원교육/실습폴더/word2vec.model')"
      ],
      "metadata": {
        "id": "7Kz-gQ3iNwA8"
      },
      "execution_count": null,
      "outputs": []
    },
    {
      "cell_type": "code",
      "source": [
        "word_embedding = model.wv['금리']"
      ],
      "metadata": {
        "id": "MdX1VQMHN5d1"
      },
      "execution_count": null,
      "outputs": []
    },
    {
      "cell_type": "code",
      "source": [
        ""
      ],
      "metadata": {
        "id": "uP8dDge2j6EN"
      },
      "execution_count": null,
      "outputs": []
    }
  ]
}