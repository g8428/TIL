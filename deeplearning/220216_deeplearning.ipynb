{
  "nbformat": 4,
  "nbformat_minor": 0,
  "metadata": {
    "colab": {
      "name": "220216_deeplearning",
      "provenance": [],
      "collapsed_sections": [],
      "include_colab_link": true
    },
    "kernelspec": {
      "name": "python3",
      "display_name": "Python 3"
    },
    "language_info": {
      "name": "python"
    }
  },
  "cells": [
    {
      "cell_type": "markdown",
      "metadata": {
        "id": "view-in-github",
        "colab_type": "text"
      },
      "source": [
        "<a href=\"https://colab.research.google.com/github/g8428/TIL/blob/master/220216_deeplearning.ipynb\" target=\"_parent\"><img src=\"https://colab.research.google.com/assets/colab-badge.svg\" alt=\"Open In Colab\"/></a>"
      ]
    },
    {
      "cell_type": "code",
      "execution_count": 2,
      "metadata": {
        "id": "y_tLAqc3LgHV"
      },
      "outputs": [],
      "source": [
        "import numpy as np"
      ]
    },
    {
      "cell_type": "code",
      "source": [
        "from google.colab import drive\n",
        "drive.mount('/content/drive')"
      ],
      "metadata": {
        "colab": {
          "base_uri": "https://localhost:8080/"
        },
        "id": "J-DO8QPuvR_r",
        "outputId": "b20361fb-21df-4157-dae2-2ab52e290c72"
      },
      "execution_count": 3,
      "outputs": [
        {
          "output_type": "stream",
          "name": "stdout",
          "text": [
            "Drive already mounted at /content/drive; to attempt to forcibly remount, call drive.mount(\"/content/drive\", force_remount=True).\n"
          ]
        }
      ]
    },
    {
      "cell_type": "code",
      "source": [
        "y = [0.1, 0.05, 0.6, 0.0, 0.05, 0.1, 0.0, 0.1, 0.0, 0.0]\n",
        "t = [0, 0, 1, 0, 0, 0, 0, 0, 0, 0]"
      ],
      "metadata": {
        "id": "Tnsf0hrrLz_H"
      },
      "execution_count": 4,
      "outputs": []
    },
    {
      "cell_type": "code",
      "source": [
        ""
      ],
      "metadata": {
        "id": "mv2vo8IPM7iq"
      },
      "execution_count": 4,
      "outputs": []
    },
    {
      "cell_type": "markdown",
      "source": [
        "$\\ 1/2 \\sum_{i=1}^n (y_i-t_i)^2$"
      ],
      "metadata": {
        "id": "CsuQqj2INEMJ"
      }
    },
    {
      "cell_type": "code",
      "source": [
        "def sum_sqaures_error(y, t):\n",
        "    return 0.5 * np.sum((y-t)**2)"
      ],
      "metadata": {
        "id": "2Xkxhx3WMBgv"
      },
      "execution_count": 5,
      "outputs": []
    },
    {
      "cell_type": "code",
      "source": [
        "sum_sqaures_error(np.array(y), np.array(t))"
      ],
      "metadata": {
        "colab": {
          "base_uri": "https://localhost:8080/"
        },
        "id": "le1ArW6AMQcA",
        "outputId": "eec79ff1-1e11-424e-ad78-00978a449e42"
      },
      "execution_count": 6,
      "outputs": [
        {
          "output_type": "execute_result",
          "data": {
            "text/plain": [
              "0.09750000000000003"
            ]
          },
          "metadata": {},
          "execution_count": 6
        }
      ]
    },
    {
      "cell_type": "code",
      "source": [
        "y = [0.1, 0.05, 0.6, 0.0, 0.05, 0.1, 0.0, 0.6, 0.0, 0.0]\n",
        "sum_sqaures_error(np.array(y), np.array(t))"
      ],
      "metadata": {
        "colab": {
          "base_uri": "https://localhost:8080/"
        },
        "id": "vIqXH6IFN-TI",
        "outputId": "d55a55b5-fff9-43b2-b15b-177876385c32"
      },
      "execution_count": 7,
      "outputs": [
        {
          "output_type": "execute_result",
          "data": {
            "text/plain": [
              "0.2725"
            ]
          },
          "metadata": {},
          "execution_count": 7
        }
      ]
    },
    {
      "cell_type": "markdown",
      "source": [
        "\n",
        "\n",
        "```\n",
        "# 코드로 형식 지정됨\n",
        "```\n",
        "\n",
        "# 교차 엔트로피"
      ],
      "metadata": {
        "id": "qoMXuUBCOUzB"
      }
    },
    {
      "cell_type": "markdown",
      "source": [
        "![image.png](data:image/png;base64,iVBORw0KGgoAAAANSUhEUgAAAbgAAABDCAYAAADu6BDdAAAAAXNSR0IArs4c6QAAAARnQU1BAACxjwv8YQUAAAAJcEhZcwAADsMAAA7DAcdvqGQAACLNSURBVHhe7d0L3GVT+QfwJZTJrUYI5TKRu1KpUJFIZZQZFY3QqCHJJelGGPpQpEjEUEa6GLdhECLdU1IqpaRGmNC9SOlm9n9/1/9db9tpn9v7nnfmPWfWz2d5z5y999prPeu5P2vvs9ROB55UhIyMjIyMjAHDUgsXLswGLiMjIyNj4PC4ob8ZGRkZGRkDhWzgMjIyMjIGEtnAZWRkZGQMJLKBy8jIyMgYSGQDl5GRkZExkMgGLiMjIyNjIJENXEZGRkbGQCIbuIyMjIyMgUQ2cBkZGRkZA4ls4DIyMjIyBhLZwGVkZGRkDCSygcvIyMjIGEhkA5eRkZGRMZDIBi4jIyMjYyCRDVxGRkZGxkAiG7iMjIyMjIFENnAZGRkZGQOJbOAyMjIyMgYS2cBlZGRkZAwksoHLyMjIyBhIZAOXkZGRkTGQyAYuIyMjI2MgkQ1cRkZGRsZAYqmFCxcWQ58zGlDSJv5daqmlYiuKIjZ43OP+3zdoPCcjIyMjY3wgG7gaMGIM18MPPxz++c9/hhVWWCEss8wy4d///nd48MEHw/LLLx8mTJgQz33kkUfC3//+97DiiiuG5ZZbLiy99NLZ0GVkZGSMA2QDV4N//OMfYf78+eGEE04Iv/zlL8OWW24ZXvCCF4Trr78+/PnPf44GbK+99ooG7+tf/3r4wx/+EA3i2972tvCSl7wkrLTSSkM9ZWRkZGQsLvSVgfvTn/4UbrvttvDb3/72MenC9Deh8d/tICJ71rOeFZ72tKeFZZddNvzud78LZ555ZlhttdXCNddcE372s5+F3XffPUyePDlGdaeffnr44x//GHbaaafwyle+Mhq9U089NWy88cbh/e9/f1hrrbWGes5oh7/97W/h9ttvD48++mjYdNNNx8Q5EGV/97vfDauuumpcm5VXXnnoyPgGPpYxuOOOOyJfPve5zx06suQCv5DHf/3rX2GTTTYJT3rSk4aOjF/gbev4zW9+MzznOc8Ja6yxRsz0LOlYsGBBuPPOO8P6668fafL4xz9+6Ejv0FcG7t577w3vfOc7w/e+97347yc+8YmRMBRWM6Pme02EJTKTTkxpRelH37v+LW95S9h3332jgr3//vvDaaedFqO0Y445Jt73E5/4RGROkd273/3ucNddd4U5F80JG6y/QfjpT38a3vWud4V11lknHHfccWHttdceunt/gLFGG4KoPfnJTx5Oy44lKCsMfvzxx4etttoqvPWtbw0TJ04cOto7/PWvfw1nnXVW+M53vhMOPvjgGI3jnfEMfIlPr7322nD55ZdHR+qNb3zj0NH/ReLzVBseVDz00EPhwgsvDF/4whdixmTrrbdu67CgpWyLa8l84nPOzhOe8IShs8YG1oRDftVVV4U5c+ZEvcIwNzNwxrqk1PN/9KMfhY9+9KPhKU95SjjssMPC6quv3nMjt/Sxxx47c+jzuAemxCyiKkoZczJMe++9d3jZy14Wdthhh/DSl740tu23337473bbbRe22Wab8OxnPzs885nPDKusskpk9nvuuSdGhRQgxn/Vq14VFbta2mabbRYjM4w5adKkqBh50T/84Q/DddddF/ueOmVqrMX94Ac/CHPnzg0vfvGLwwtf+MKoPPuFQQngxz72sXDllVfGeX3xi1+MES0jPZbCby1//vOfh5NOOik6FEceeWR0VsZCQetzzTXXDBdccEF0Rp73vOeFiatMHNdrxOGgAN7znvfE7MKee+5ZG90m5S2zgF+t3SArR06XTAsdcNNNN4X11lsvPP3pT2/JN//5z3+iQzpr1qxw9dVXRz7/8pe/HHUDeR9L0Cvz5s2LWZ9dd9219p7JAReV0ms+k71BN3J41Xp+8IMfjPOVAes1//aVu8dTe81rXhMbgjB26mI2eGywwQbReG244YaxbbTRRrEhmtSXOhqj9PrXvz5GYBdddFH0qBg1wiF98Otf/zoqC4aMVyFaw6DPf/7zhz0uChIjbrHFFvE7UYjv/vKXv8T+CRPPu19AuNQZb7755ugVM3BSB+gwlpAGPvvss2PKeebMmVFpjVX0QYjWXXfdGF3//ve/j8bUejGy4xHG9Ytf/GI43b3HHnuEpz71qUNH/wvnqf/ecMMNMZqRRmcYBxlkjoOKNoz6hz/84UgrctcMeJyc4vOvfe1r0ch95StfiVmcsQa98pnPfCZmd/bff//alKo1Y4A//elPR2f8/PPPH3P5Gw9gzF70oheFGTNmhM9//vNh3pXzes6/fWXgMDdv7dBDDw3PeMYzouL6/ve/Hz772c9Go+M441TXhL4iM0TlCRMS0RblivGcQ8GnTSSayMw9GDNC4h68an0xno5R1LfeemtURDwzTHr33XcPjXj8wzwp/MMPPzymBzEYZWG+YwmOibrYtttuG9NM1masPFb9Wis1LJE8o3rZpZdFBdkLyABwjvBHL+jGaMkI/PjHPw7Tpk2LzpvxJzzwwAMxtTN9+vSoHKTHOSZ4d6zXbTyArErzydig+yWXXBJp3wxox+k99thjw2677Ra/w+cipbEC50M09vGPfzwa0oMOOiim/tM6cpzpkqOOOiquo/T8iSeeGLNKjPGSsI4cWgZ/n332if+WiueE9BJ9ZeBA+m/zzTcPhxxySPRqpRg/+clPxpQDRdMNGCSCwsDZMPKtb30rpsuAkhfVSG1J12E49xIBiCRFBAwqJcnIUUIUNsYWUfYLKH/OAuU/FvWvRqCP6Gn27NmRfm94wxviOoxV9FaF+UkjM6bqONbTeEYLDg1HCW/0QmmqS3K2OHN25TbyE950jvuZCx6Ucl9SgGfpAZu+rKkIiWFgNOqAt/CYTA7dgWZjDWNR87VOjKs0c5XH6RMbT+4so08GTamDXLSKRAcRggUlIFm5BfcuGHZWemXg+87AAQaValR4l6ok6KecckpMKXYb2vOoGLEDDzwwKqff/OY3kbj64RFT/HZT+o4SsSA2RNiRh2F5ZWo6PMmvfvWrUejq0knjHZTGojAyBP+WW24Jv/rVr2JkTOksKpij2qr18niHemozpdgN8J+doL0wmPjuS1/6UuQ90YZsA0egCsV4G3M4CbIXlPaSCI6Z2ruIl2LsxMFFy0Z6jgVEberaDJYMBR2C/xLoEXxo9zUDffLJJ0c9tCjGNp6AJuasPim7Zs+DDEUvHE/oSwNHEfNq03NnLL7oafb5s6Oh6Ra8J6myK664IqY9EJ1iUch2D96fReBpnHHmGXEnZzIGmPLoo4+OOWQ7LSnsajqpX7CoDBxvFZ2tme3BiyJqrML9KEXOjNoVQzJacH564XHq47777ouGVxqOYqzb6OOYGjGlideqinNJAhlVY0cP6T4RUTug1VjTi3Lm7IjC6Q5OVeM9yRq9s+Yaa8R5LArZG8+gWzVrqOzUKuXcDfqWqhgiFW4ZFcph7mVz4+YRnlw3CgfzERJGMykU/ae6WmI+ymT11VZ/TMrId85xrnyyfnotQLxAik9dxk4wqVReaxWiS/lrjREZCRq9R/385Cc/iYbehhxG/Nvf/nbc3KOOdemll8bx8LpSDaod1D44I7y1VEetwrqJqhTnRSiMkL7Nz2YeEQtHwvdSw92mBKW2KBwetBqrPsYLzEWqzRqiT2PtLQF/4UltrJX1aGE98a+1+9znPhd3suKd6gYP51gH6TwbnDoFfrXzlpPpWUFGpR3q6CU1qIapBiSaokNkctKmFJs+1NbxbScOkU1m5Ma56RmvOlTXcbwDb4qsLillHj2S7JijzNU555wT15ajQX671b8yYTJf9IM+lngDB5SAdOGb3vSm6AUp6lK6lLBUTzdErkOdAqn7LjFq4/e9gDlI533qU58K5513XmSiI444Iir4ND/MR4F4lMHbV9ChW9SNHbNJ/djGq8akb8aMsJ962qnhyquuDBdffHHcyi7V0m5zDc9WvYgySk5BIyg+tYsTy3u6j+jYYwyXXHpJvP/lV1wenw1TnEePbhQiMBiEyfZywslxGC2sw2h5DfRhRyAaiDSlIvs9ZYWHyKPHQRgP2+VtauIkpTSUeYt2bMRQT+8GiU74QJ+d1LAaeZ1DbHx4XPvIRz4SHyUwVjzGwbNZxEYsm6MYxFawfqJw81PioJv6HWnj09lnnRWNmY1+HAE7odHLHgiGT3aLs9BtTTjV4sgn56BXu0j7Pi6WqvEArHqckN+zVeoTPLB+L9gSfAqC54uB1B09CsHTleZLCoK3wyjwNm03bvSORwrRaHqeUJ/x4fYyklNbmLzL5HDYoYeFN7/5zdGzM0bP+7S6n/UQjelLJMXQNIJxplRWKqNk6WLrKGI7/rjjo0E85OBD4q5BXrLoER0ao7h2czYvBs44GiPhxQ0GDmxiGsudpYsC1oUxsJXfmthIwLtnMNQskxOKfylKUUHa5FVFq/XkKMmc6EstdCSKEZ09ZygS1Ic3pajp+95ztja02TVtfGeccUZbp0rmQ5Rq/tYRr/c77BQn3/SBDAgacQY4La973euiYfPIlXXlEKNRdd18brWO+Bz96XCOctJto0XfGziRE0X53ve+N6YqCRAie2MAZu1nEBBpEh4NZc+IW/y0MSIxjEiEYeft2/EpsgXHMcpIo1mpWLXJAw44IO4Co4h4Zh/4wAfCzjvvHDeJ7LjjjvFxC8YC3VulFowjpZF4tQxNFebLoEl57LfffmHd0ghZX2P3Vpm3v/3tcZu/+3obCc/bZpFqStp8E32aQZ/mxnno1tMcS5gDg0vYu61NprUeyTqPFTghjAJlKDrzrGN6RjQZbjwhLSv6otyqryMzF06R1mxePH600p+1HImB88iQl0XYqu8z/rDzUZSCt70gAj8aH2eOg9kK+C+VCfBZv0fh+OrGG2+MdHnta18b6WA9OJw2x3j+0nPGafOd6JU+quqCtI6twBFwj2p0P1r01MBRUFJQFLI8arcN44ykJoLJ5boxJM8cc4k0KL926YTxDExE4TEGL3/5y2M6DeN4TIHgpfoMhlCYZTAYomTgzN2zP1KX0pzdgtLQJ4b2l0dL2HlwmNH9fc/BcC7l0krJOpYMSt1reRzHP/q3M/Ce0pg733wpINe4H4WhOd9aa+7pWpGkRw9a7aglRDx/ApeubQX94k3PpdXxLacjvTOS5153jsjMeNrdK/Frt2kt/bZTII1wPofDuOvG3K5xvjhX5L4O5us8nr36CkPnfmRUfdFacjLwrr+MgbVPYBwZRimxalaiCjzIKCUD1y0NAD+oveNzfEV+RCrGY4yJx52n/2ZjSaDYGTlrgs+SnI4V3Evk27g+nTYOBh6vgzlYG+BUyphZF3TwiJUHtdHNHNEu8SFH1fqnz/ZKiIqb3QcS/clSKz3SDXpKeQNCaA8sjoTRMBRPXbTSDTA3BrWjkiIUvVH66kcWoB9eyFoHAsWTVLMwR0VwClma0g473wEFJVoliLYeYxSwHt6jmR5pGClc6176T6/wSv35HnP7637NlB04lpQDBd44Jv9m2KSY3UtKFB8x5nYMuq97YH4GhyJJRhYcs+6QxlQH3zOuzk9Gp9m5QIl7lyXvvW5+0q4Mk5SpedUpNDwodZOcgWagABxPaziWQEepJxt32intOjAsFJeIug5ozNmwhhrH1z1F4ehEmSUDZy3xdXVDBucOv1v3VmvJiIA56H+kSPdAe88gpnX0vbECXtFawVzTOFqNvRk6uUcVeFhtXJQ1EpBp9cVEx0aQLy8UAMaHs8bZpWuSbjVezosSg88pGgM87Tr0bJT5KvALWqFduyxMpxi51msCAiwnO5Im1MVYIwUlKHUm743wvDAM1gt0w3CdQH+tjAFgBnlp0alzRaSYmYKwgxR8zwuTpsN0G2+y8bDyJqg2gGj66RTN5mo8yZhU4ftOhNg5xggUW+N9KBHGWLqDQPD8zIUgpftifsZENECRUJQiPH1bawqVIZEOqzM04L5JAbUSuATCKgqp41lNdG1eeK/uuIa309xbIdVrrPNYA83sZJV2qhtzu+Y5vVapVHMhi/iX48Hzx5NeR5UMOD6wQcp8GTgRAlgjfCAD0Y52KRWGRzrhw2ZI1+KJpGwTqnzSTD4S8HEyiHi03fmN6PZ8Y+ME1q1RJ+3Vr351Uz2JBmhhbegQWQzGh56XLUqwfhw9Tom5M5quMzbX2SBmr0Ti7zokWrlnM9ntGqWCLHrZSsVRlAw3olYSqSgnWdtvJ60UluLCCy8sNtpoo+KII44oFixYEMdTd243zbgeeeSRnvSlmWPpmRYPPfRQx/O96aabilJRFKUQF+edd15RMlkcT+kdFaWCLcrot5g6dWr8t/PRs4w84nmd3KM0GMW2225blExZnHzyyUUZEcbv3UM/U6ZMKUqnoTjggAOK0sAMX1d6bcW+++5blEam2HPPPeOcmtHJsTlz5hQlAxeTJ08u5s+fX3uesd9www3FpptuWpQKMl6T5lUavqKMzOP9SiErymgvfu+ejqFru/nef//9RWkIYx+lMaw9p9r0jQeqvFpt1157bVEa4aKMROI4685xfTO6pGat9ttvv2K99dYrjjrqqNpz6lppfCNNS6cn0rjunGYNrerG20nrRl5PO+20oozO4hjvuOOOKKvocfvttxelY1osv/zyxemnnz7cH3krnbZ4n1Z0u++++4qDDjqoKA1gXMsygqg9L7UyWo3jsPZlJDL8vftef/31xaRJk4rS6BfXXHNN5CXHrMttt91WlMa3KB3wYvbs2cPX1bXSYBc77LBDUSrpyBuurzuv2lyz4YYbRvnG02U0WnteXUOf0a5jO97UyA29aq123HHHqDPSsQceeCCug/GXxrC49dZb4/f6Tnqo3T3QCg3osnvvvbf2nG5bzyO4ZH1H0lj+TjzqOpSTic9O2WbM87MhQTRgPKOBlCvvQ+pTjn+kKBc6phF5q54n89M8ttOmons7iNBENFI4KX1SMkzMn4toeEaKvGhoB5NtzcYshdTJVnieUykkw5+rQNtWXmWnHqcxp5SGdAaa1EF/6CQ1yFNMD/OC7+ziLAUzRh+iJrQ599xzo4foZzd4mWjTDOYjbSKK6KTWhYfQtcqr1eZYO75P57SC4yIi8zfPRQHyVjfeTlo38irdbL2lwXj3rhe9qQ3jBfVV28R9Z/2so8jNVn1r2YzH8GxKi+k78UkzWHutjj+a3aPZ980gckkRET5rxYu9AL4Z7Tq2400gZzIn5iOrUo3ere83vvGN4UyGbJrSifq/3d8eI6K/WoEutDauHakdaETPDdziAGVn5w6lLl1FOOzwwWijhcVkmKROOmGCZtCPbfyeHfG8iNoHwe6G+S2+hceQSUl7K7raEMOx+RabR2FkOBkIG0K8OZ2Rdn4zUDwUCzq6HqOVHlf8XlPb8Fcfjjk3HfNZM490rs91SoEwqdtQQvox/jq4j/eAEihAd/1xMLzmyzEK0RZumxfUdqRvpUyka53Tar6UIprYTKCf8QTjMVdOinHW0dHcHEN3NEyOCfr7N9o2u3ZxIY2HAsTD5mCOcy+fGz+bt7QyZ80jA1Kbvse/1r3ZXNDAcTIhFdYs1aYvPJ141799xvP41Wd089lY0THJgHPUAl3juO+1ZmMyR3PBt2RT33XQn77dV3Mvfeo73b+ZLC0OcCRsLEIfujXRg+HitHPK1NC9PNkxz+qSdU6qZ1ftB2gF6U30kNKmK3qBvjdwCMIAMW7y/J7L8sOkGL4bJMZKyiLB4ngEwYPFrfLHncDiqxHxftyrGzBgPFwKwE5Kni+l7iFLO08J96T1JkV6eOOCnDwmW2bZ/27CqIN5Mwp+WytFqJwFPyrrHgrKImNMjJl5Zd6kYpdiOmY87sVoOMabq5ufNWHg1A8pjDqPTj+OMWLmwglgxOX31XA8E0f4effqYtbEuxu9fotQUCqt6q76p0x4oqK3bmqTYw1jF62iE9qYu/E2wvjR3APUHjy2/q6lSBkEa2l+6DhelKNHeDgUxupxErx1wQUXxPECZwxvcGooylQ/Ny+tGcgDxcgBZSTreB3f6pNTqeErjfwYC1qjJd5FQ06af+M3vEw+8FgybjbF4E986LtGmCf5M267ap3XCNepM7uH+3rOlQEB8udRGXJsh24zA7koQS+ik4wRB4Xx4kQzWp5FNX7091Nk9Bz60scebfIZWukh/dMn6Gt3Zqtzu0IpQLW5y35pJcGLI488Mtan5s6d21XuOrWS2WLtpAyxY04/fV8SvXjwoQeH6wXVa0bS9KGpca299trFrFmzHlPPatVKZilOOeWUWD+Qo1YnUIMqmY0GK/bYY49YsyiVXzH/rruK0igU222/XTF196lFqUxq+9RKr7HYbLPNYl69VPix6d99Sk8s1tUmTpwYv1O3cHzChAkx3z5jxoz4uXpdqaSKvffeO65L3f3k6tW/ysgr1lwaj1s/9UbH1fy22mqrohScYptttilKrzj++8wzz4z1NrSM850/vyiFr9h5551j7aOM6OK8GvvW1FXmzZsXaaZmWXqkted109RujKtUhJFX6s7ppOE3dY3SWBelkBelko3zazzvzjvvLHbddddYL0X3tC7+aupR6qnqIPpsvH5xNDxYRtyRR6wt/i8NWKwdlgY91lmtKTk0P7UyNJ05c2Ztf6lZS7yKZup5defoszSkUWZWWGGFYV4tnaNYOz3//PMjzdKxREv1wsMPP/wx8uF716666qrFddddN1wbrrZSoRelkYp9brnllrE223gOPiyNQqSDcaS1q97DeHbbbbeiNLL/c/2ibqWzVZxwwglxrdCFvlUr3nrrraMeon9uvPHGYbkrneW45rfcckuc09FHHx1ltLHf1NRO6Zu11lqrOPfcc7uuJTdrS/lftHR9CJGb592kNDwDVyqsmBfuNn8rcpHW41F6It+jBb6T/xc9eIuBV0ZJh4FUQkm3+LkdeCIii+qYRF0iTlGhH7MsGWDoSD14Nbw9Hh7vUmqHF8/r8XCq2oNtvt7wwWt0vq3fXj/ke2+Q4B3XRTY8/OQlJk/Zd8bsfNEED7QaCZi7iNJ36FS9zjxL4Wx6Px63OqnfMxPNHnPMMTGtnMDTtg4eJpdm9uyMKM3cnSf1Y43RzNiMBS1EnF5hJk3pGveWRnFOFaJM6+r+0sV+Jgn9RgPevbU0L491jDQ1jn4imHe84x2xT5kDdUX0rAIPoBOeQPtE/wQ0EUWIatCu8fiihLHw4EVuIkrrqCaMRubofaPWUjQlQ4F/nOf5N+kwPCy6M59GucaX0v12WuJ9W9nxXSNKRyjSzBiMpcqv6INXRMuNtEwy4Ho8Vr0OX4n+1XEbecxx0Y4dinSUx6ZkHKpIfOu86pgS9OE7tMHv0p6LEzI2ojOpRnPx8gfjpwvxGVmlE6wToJm5Wx8Pg3vNl4f4k1xWYa7KDEpL+NrrFu0z6EUUt3TJHDOHPvcNMAchQLSLL744vk1j+vTpMZ3YyGztQKFII3zoQx+KDG3rswXQL+azYFIUFodyFXZ7ZY0UhfRCuyYHr55QXVTpD+kHz+15sLXOECRYfM+3lFFLvM6WXiE8xjcOKRe/OI7hCByhIKyXXXZZTCdSltIJK660YnxRdCOcj2425GBUzWeKgkFxn/R99Til61jjdf46hpZ1cD8Ca+zW0MOjyXEACtBvtWF4z0NSEhwMNJTaNC5KKSk7/THonnk0X1v29UFpKFZX+QEtrbVn2mzWUQA3Zn2MBlJk+t1ll10iLRsVcacwDnRjuNQRzUOKp9FIEfxE+yr9q+tA2eC50c5ttCBfnC3Gn9xKJVtP4JziVY6OjQkcDU4bA8gokA/lBoZQirNR4Ukf2lykD0bOmtbxnfUgY/iuSq9EJ/eto6XzyYBzGq/Dh+hbt9ZojtcYAOto/aQsq0bKOa5vHFP1Hv62kqVFCRt/OJ7Wk1PtdxU9rE8u6UV0quo4dJGGtj70kqBBSpMhTI+IJOALRo2TQ+Y9tmLOveDdkUniYgTGodAwDsFBPATHKJ0ygj54HhSIhfMgNeNBoChF3h6F5f107hVKOqfFI2QEVCG0rll0z4xovHmN0NbBONrBOEUa3tChXkGYKW81GPUXjOVl0+6dwHDwfo2BR6TOUGW+xQnjYKAZLh61OZlj8pJ9p37kO7vtCANG99e1dQqFgKSaWjL8KcKswrra6YUmfrcP7UZqjKqwm5OCxYuj7Y9BToodT1rn8VCDGSkoRC/Lts6cQvJkbe2EFRVQeHYUpyiarDBc/jrmHFF/VYaS/FKIjqvFiv5aOYqLGviVM8rh4ehS9vi0n4DO6G4N1QVTlEuv0IOaeTYzRoIBzhp9ST6tVaNM6p88iuQ5AHZc6rcXxg36zsAhiJSa9A2FIi0lnKVYEK+TxkDog+CJfBR5LRLvP0Uz+kVwEdgqE1eJb2tAeIVUbxHhWde1V7ziFdEb1fTH86RI62AsreA4QabgjM8D3sanAC3FJsKUmk2vFUoQdTKsNmbYnjttr2lh3XXWHTq6eIFxrRWvnecnUo6vCiqN8s1lVCsS43SYt/lJPRKAVrTSH6PJgFGcom3RXqPCI2DWmqeffoGiF+DNS40S9l4YTHTZZ999oufvFxWkVfsR1oy8Uoxog0ZkT9pKRoIscS6lIFN0g8+9youD4hcGZC8oPdcnMBTSXxwZhtGuvfFk3ICu4HQaO6eNM86Jayfz4wmPlnSWnbi6XAdy5XNyJmVL2jle9KhmU45fZ/AYk0CkCs64vjkxSinVV7X1An1Vg0vElW+XmqOk7DrD/BRnndV3jYaQiEjpuzYq1Ycfjt/zmhktyoTyA9FE+jkITDpj/xlhwnITYtRH8ao9dQJCrM+qMlWDUwci3KLEZgYQjN3b172dw9gJtPky7tOnT4/evr4JVALjYK52ODGIUoAUSC+Ub6+AviJQ+XmKwBvb/SSQteExmncy1OpbvMZmETrFwVO0LtZSFE5BJn5w3Hr51Xbrp75nJ6tze+Up9hKUIKMghadW60d31eIalUM/wLowZubCAcG7DDcjrqbDMak6Z8mpY9Rdi3dTdsZaOW4tlRTs4PW8q1+DTjpgvEEU4xcI7DRUx+cA98qxGmuQUbsj8SAjnQwa2RKdypz53Ayut1bWMslkqtGB/mSXRPD07/ve977omFbLCqNFXxk4Qk9Y/JwK4jEMhKUVksdEYfImpUhcG1OPQ0B4xlJNxmfXEMZp06bF80RJtrAydDxQG1IYx07AEKnNpBQMJANnQUUyrQwcmLf785oYZMxC8WMG/dYZLvM1D0I/ngxbFTxC9RUKwEPpKZ0bFVn538JHF0blJwpuNs8q0rWNAoJmIkNpXu86nTJlSluaL25Q8iJXysV7N2Ua1Cf6DeYh2pLy53BZH6lHa6rGVFV4VTTjX2tp45eNRGTHWpKH8QrOlTTzrHNmhXvuvifKvgh1vMpkFdaOYaN7zAOsic/moIRQrSvWwfnkkkw2zlkZBX8LNrxMQ5q5Gqn3An1l4HhDNpbI0ScB0BKqn6sgJFr6XAWi86jk8QmdBdMPo6Iw7LfQFMbVQ9RZLICF1zqB/lL9S58E1NvR5Zx55sJyKVaGtR+YvtegxO3MSiniVh7hSCEiZOAoVrUtaZN+AB7n/VLoMgHos6RDRGDTlL9KAujSKNPjDZxihkKGSMbGxoxeRin9ChvJpKBtQBHJ99q4QV8/JjCWEMGJ6qQFRUopHdjOY2kG6RZGTcgvzSqdxvPkBUk/aeOtjpCRkZHRz8gGrgl4z1IrajYiPHWA0dSxhPWiNylPHp3+9SVykabRxrsnmpGRkdFPyAauBaQqGSLIKYWMjIyM/kI2cBkZGRkZA4klb1dDRkZGRsYSgWzgMjIyMjIGEtnAZWRkZGQMJLKBy8jIyMgYSGQDl5GRkZExkMgGLiMjIyNjIJENXEZGRkbGQCIbuIyMjIyMAUQI/wfkBS11vUcsRwAAAABJRU5ErkJggg==)"
      ],
      "metadata": {
        "id": "f_VGPBsUQTp5"
      }
    },
    {
      "cell_type": "code",
      "source": [
        "def cross_entopy(Y, P):\n",
        "    Y = np.array(Y)\n",
        "    P = np.array(P)\n",
        "    \n",
        "    return -np.sum(Y * np.log(P) + (1 - Y) * np.log(1 - P)).round(3)"
      ],
      "metadata": {
        "id": "dR7OwQWOOIGh"
      },
      "execution_count": 8,
      "outputs": []
    },
    {
      "cell_type": "code",
      "source": [
        "P = [[0.6, 0.2, 0.9, 0.3], [0.7, 0.9, 0.2, 0.4]]\n",
        "Y = [[1., 1., 0., 0.], [1., 1., 0., 0.]]\n",
        "\n",
        "for p, y in zip(P, Y):\n",
        "    print(cross_entopy(y, p))"
      ],
      "metadata": {
        "colab": {
          "base_uri": "https://localhost:8080/"
        },
        "id": "gN93pz8SOY5w",
        "outputId": "3277bddd-80fc-4282-9773-aed80e6d7027"
      },
      "execution_count": 9,
      "outputs": [
        {
          "output_type": "stream",
          "name": "stdout",
          "text": [
            "4.78\n",
            "1.196\n"
          ]
        }
      ]
    },
    {
      "cell_type": "markdown",
      "source": [
        "![image.png](data:image/png;base64,iVBORw0KGgoAAAANSUhEUgAAAWYAAACVCAYAAABrV1AVAAAAAXNSR0IArs4c6QAAAARnQU1BAACxjwv8YQUAAAAJcEhZcwAADsMAAA7DAcdvqGQAACnNSURBVHhe7d0J+G1T/cfx3V8oQijdTJllHkKmmxQypEEXlcIjU6UikUqZKlcankqDqeQWV8YQoRCSuYwZilu4IiIlSdn/81ruus/p+A3nd35n2Of8vu/n2c+999wz7L3XWp/1ndbaL3ruuefKIgiCIKgM/zfrzyAIgqAihDAHQRBUjBDmIAiCihHCHARBUDFCmIMgCCpGCHMQBEHFCGEOgiCoGCHMQRAEFSOEOQiCoGKEMAdBEFSMEOYgCIKKEcIcBEFQMUKYgyAIKkYIcxAEQcUIYQ6CIKgYIcxBEAQVI4Q5CIKgYoQwB0EQVIwQ5iAIgooRwhwEQVAxQpiDIAgqRghzEARBxQhhDoIgqBghzEEQBBUjhDkIgqBihDAHQRBUjBDmIAiCihHCHARBUDFe9Nxzz5Wz/h4EI1KWZfHMM88Ujz/+ePHPf/5z1quDzxxzzFHMO++8xSte8YriRS960axXg6BzhDAHTUOY//znPxfnnntucfvttxf//e9/02uDDlFee+21i+233z6JdIhz0GlCmIMx8eijjxbTpk0rDj300OKpp54qav1n1v8MLvPNN1+x5ZZbFj/4wQ+KueeeO4Q56DgRYw7GxAILLFBst912xeabb1687GUvm/VqEATtJIQ5GBMvfvGLi1e96lXFAQccUKywwgrFPPPMM+t/giBoFyHMwZjgxnPnV1tttWKXXXYpFl988STWY8F3iNXOOeec6bPdOCI2HPQTEWMOWub+++8vjjrqqOKss84qHn744aYTgWK2BH3SpEmzXukszuvZZ58tnn766XSIjee/OyQxRyJizEG3CWEOWkbi74YbbigOO+yw4vLLL08i1wyLLbZYsc8++xRve9vbuhIKIczE9x//+Edx3333Fbfeemvxhz/8oZgxY0aaXB577LFU/vef//xn1if+lxDmoNuEMAfj4l//+ldxwQUXJHG+7bbbmrKaidvkyZOLqVOnFmuuuWbxf//X/YgaoVZhcvXVVyfBvfbaa9O/h7KeQ5iDbjPHIYcccuisvwfBmBG7tfACN954YxLq0WBpP/HEE8Xf/va3YqONNipe8pKXdF2c/R5rfZlllkmTxIILLlg88sgj6WicXIjxcsstV7zzne9M8eoQ5qDThDAH44JIzTXXXKlS48EHHyzuvvvupmqbxXzFpV/+8pcXyy+/fBLnbgue3yO0yv4IL8tYeOMvf/nLrHc8Twhz0G2iKiMYN6orxI333nvvVK1BZEdDPJcAHnPMMcWvf/3r4sknn2w6edhuiO0rX/nK4q1vfWux2267FQsvvHDyBIKgV4QwB21BWIAo77nnnsWiiy6axHo0WM333ntvccIJJyRLu9nkYScQ2iDOEpLrrrtu1GcHPSWEOWgL3HuhgClTphRvectbioUWWmjUuDELmeX885//vJg+fXoxc+bMUUvXOgnLWQnf/vvvn+Lm/h0EvSCEOWgbhFjMWEhj9dVXT7HZZlCq9uMf/7i45JJLUkKwlzhnFvOqq65avPSlL531ahB0lxDmoO1Yqi2k8drXvrbpaguJwGOPPTbVQwtx9Arnaze5DTfcME0yQdALQpiDtiO+rARNFYOkYDMIYYg3n3zyycUtt9zS013riLMyvmbCMUHQCaLXBW1HvFllw7ve9a5iiy22aHoXOkulLfSwkIMF3ct4s/pmRzMVJkHQbkKYg46g3Ow1r3lN8d73vrdYY401mtpESDLQ8ujzzz+/+OlPf5pK6HplOdveVO1yVGcEvSCEOegYRI0oSwZagNJMbbAqDdUZRx99dPHb3/42WdG9qG9mKS+xxBKx53TQE0KYg44igWZTfZvrK6drZtXcv//977TZ0Ne//vXiT3/607CbC3USseWllloqnb+/x2q/oJuEMAcdhajZh0Jt8Hrrrde0BSq+/Itf/KL40Y9+lJZ6d9tqJsQsZoeFJ/PPP3+Ic9A1Yq+MoOMQZyVo4rYqLv761782ldjLYY0skN2O9zpnJX8qNN7whjekc4gqjaAbhDAHHYelKb68yCKLpBrle+65J+0u1wxizJ7MveyyyyZh7OZqvLw5k+qMV7/61RNuJaDJ026BJlJow5iYukNbhVkGXWM6/L0bBxfXwA83s/pIqKkNfuCBB1LsuJm9MfSlv//97+m9K620UgordKut84RCkJtJXPY7xtMzzzyTqmGUK3qYgA2mLr744uTtKIFsZg+UYPy0baN8jWoAsW4kb7JodhIDh7vpMUVRb9ofsJjVKh966KHFlVde2fQqP3tYvP/97y8+8YlPJHGfCELZDdx/k55l8Z7wQpBNmipirrrqqrToh9fyjW98I23w5N4HnadtwszlET9U5mSzcY3pNRbPcALdjKWbPzvUd3A1V1lllfTcOW5utyypYHywyM4555zis5/9bLKem5nAudBLLrlkceSRRxbbbLNNmpCjvccH48lTW0yUlsJ7TJhHbdmOlVDndmElf/e73y3e/va3hzB3ibaFMgwcpUUeFST7bhDZkIZYa+jHH3/8fw4xxtz4xFuix+ydD6JuJmeFe7+FB43f4T2W/CrFkhiKgdofGOh2b9P2REH7j4b36g+33357sf7664db3QbcdxaxR4MZcwwdRpVx698Z3om9qiVCY2On7tDWZ/6ZgQmswyDiDn3mM58prrvuulnveB47eBHuHXfcsVh55ZVTCVWjqGZxZnlLPjz00EMp5kXo/V24RLyR9fSd73yn6Z3MgmoglikJ+MlPfrL45S9/mSbp0dBHCAPLTb+yMo+YBK2RJ7u8wtK4ZTl/9atfTc9v9BrCYu4+bU3+GThmVw1pABFW4nzHHXfMesfzsJY23njj4uCDD06bqxtgeW+CfMjC26VMwidb4SwlK8kItM7EQlfG9OY3vzms5T5DPzEha2dWMyuNMIyG9yihs1jFZ6O+uHXcN2NVO7ifEnyOm266qfj9738/25MJi7n7dKz2RaNrWKGIerxu1rWZulIksUKJu8ZDB/B/Bp73eyoGEd92221nL/HVmXSWGJj9hzbTxmuttVbxnve8JyX3milHY+XxoE4//fSUnBLSCtqHMWVshSfSWzomzESZeyqZUI/BJwTx+te/ftYrzWMwE2sWtNgy0WZVB/1JXnhio6NNN900WWvNTLLE+a677kqPpBLaEhYZNITyGDU8Q9fbLYxPhlFUvfSWjgmzwSLpl4vTM5J09iCw2KBVCDL3S0jE7B70L4RYueOuu+6avJ9mE3pCGjfeeGNx0kkn9WTJdidxLcbOeeedl2K+OdbbDbRHLCLpPR1rATWRrOVGV1NcWGyQy9QqOio3mNXM4gr6G2Kw9tprF3vttVfKLzSLxLDnBX7/+99P/W1QxJml7FFb3/rWt9JDapvxIoLBomPCrLztd7/73QvcTJayWPF4XCUDkLUc++UODtpxk002SZvrK4VrBv1APzvrrLPS/s0qDPpZnJ27a2Ape1iAUODSSy8dwjwB6Ygws2jVQ6rIqB8o3FRJHg+6HA/EnXUlEdis6xtUG+IjLLX99tuneLPkUzOCpGzSSrVvfvObqcSLsPUjxozKlMsuu6w45phjihkzZiSvcvnllw9hnoB0RJhZyQaL4vV6xIXVLbN2R4OgS4BIIjZaQbaRVDYX1sRgQYzlH3bbbbfkDTU76bIsb7311uK4445LKwmJdT/hfJUAsvotVTfB6PdWtTJk+hXjVsmsxWRCmo3jOBcIiKcLe9IMaxQaF7hMRDoizG6s2FjjDmJcVHXJo8WFNSDLh7Bbu9+Y/CDGEhSRpBg8WIlq1j1l2wTebAmdAX722WcX5557blpm3M2EWas4R/Fk/Xz69OnFYYcdNvupLRLc4u7+7CdcEzEmxIT2+uuvT22itDG3CUFWbeJhCJKbrt0T0r/97W+nh/HaNEnVjXvjvZ1Cv/H9DEn9xznJVTT7m3khnfN0ze3scx3Z9pMbZpAoZapHCEMMkaU7Ei7wj3/8Y1qBZOZkZTczQIP+x6TLclYGaXCypHT60cjWGYtZbbSVpVXtM/o3K5kBQ4inTp1aTJs2LVnNeXBLgnrKuD1gjAEHQ8T96aSXSKRsLmWRSb7voy0wqRc4IqUNckjGqtyf/exn6T1bb711er9KLUJ9+OGHJ0G2b8oVV1xR/OpXv0qfI8zui3ugtLbZsNZoOAf3l6C6/0SV8WjjNf2Mp8IQtG5CyeBIv+l65TesXjXBaB/3hpfXjnNtu8np4l0kK8DfMzqVh3PqaKOhgTWmGVflRRS7TywIgeqdfffdN03KY1luz1qucm0zUTD4TzzxxOJDH/pQsfvuuxcXXnhhstbqUQJoc66dd9457aqnnJBwseyqBgufkH7ta19L52lC+djHPpaSmMYwAaQFDgaXjai0LWtZe9VbqITTvbDd6Ic//OG0KpTYtwMTzZ133pmSxc7Bvd9hhx3S+do5z33+6Ec/Wlx66aWpnUZC+OXLX/5y2qeHsel7aFZjeXCrtF2YDQgziI6VMYNwyVjM4sMj4fMaT6NyZa3466SFEFQT4izsZfCwnJoJW7FW3vjGN6ZVpVWt1iFiYskemSUuTpRYWvXXx9LX540h2xmobmLoNOtidxsTjY2QbDDFC/BvIQFWqXMmyCxK12KPE2ObRWorhTzx5I2ptLv3+yzP23Mf/enz48UkYMUoi5xA+978p/8zAfBa/L/JYaT7rU2EaVyr97Kcc9K2Hefa1k2M4EQ/97nPFaecckrqhNDJZJe5NfbIGC6pozFY2zqt90oC7bfffk0lC1vFDGfvDQ3SSwxMYsINzw8AnegYoNolxx7rJ/tGeFWSZV/4wheKDTfcsLKxWdZjvdCy4gxw10fMwEsUY6+vyDBmiBfXvtmkaCsQGffw+OOPn50j8nsjbWJE0Lj13s+SNP6FBfL4N/E4d0aZ61599dWTlcmDlm/SzmLS6tEvuuiiJG5eg99jiQuljGbUjYb7q1osx5GFMNSLX3LJJel1VrJJ0X2nQSuuuOKQoRtcffXVKVFrA64sxJ5yIzTzpje9adyGQduFmUvDRdPZ8oxDZGw2ZK/m+kqKfPPdEC6aG+VCXZzPapCtttpq2JvTDmzW8pWvfCW5L72EpWDQuWZ13p0cfP2EfsCyFIc9//zzh3TliTIxs7+zEkqDuapelj7vmvLYYKmxtBxZyFj8xNFEU48+0ekJuxVhrofoyQ25HtcGfdtye2FMLj+R5QURr9xO7oecwuc///nUznmScr3CIjTFwrR2oR3ojkngU5/6VIpx5/M1qbsH7373u4etqffe733ve8kANdk4X2W8tIsnoAJtPLQ1+ediJQ5kYetjLW6+ZbcGkDAHiyEf3B+JBkH/U089tTjzzDPTrCvRsMcee6SL7eQgY5E5XzEt59yrwyAQXxPrEr7RmYPnByarSh8wePKAzeQJbcqUKcUHPvCBZFVV2dtwHc6PZeZQHnbaaaelcWD8+D+13BbbEMH8Pkcnx0FGKHGsyb969GFeM0Mnx4ZdEy/QeBa2UBLZmFzzHuLtMzbsFxKBe+L1DTbYII2LduG3XZd7rBLI9dId558RFiPSQ/Un90FJp/7G2mZUEnH90PVpr/HQth6cZyBxpDzT1uPCzYYHHHDA7MNjghxmLLOsx9UTKRelVKgbg8z3swhMGlU4On29/Yh+Jcylj9VjcBlUQhdCXgZZv01okmNCNATB9RAsCc/xbFnQS1xDYyhOv7bx2C677JIWEQ0nWt4nvNG4j4770zghtwvnm7cTzmW8+hsvjeDqd0Phc2rM7YxoT3F9TyiDOLfD221bKIMrQlRtySk7KZYGjeCkuTD+zA2mI3LdzJDiyqxnM61Z2gwpvMByGK9LMBp+2/JXoZdeQlBMRCYqMa7xzriDgvgdS1k875prrpkdAoCBvO666xZf/OIXkzj3mygTAO6w8yfQzt/g5jmus846PXn4w3hDGYSMtWxlrrEFIYvNNtssxZCN7ZGMDw/VkCBkpGWItd/fYostkiC2G33K4iTPNRROgWvWNn6TRzYc2RjNlRlyA853vLT1mX8WlTg5ybQ8gMxCtvi0IYtGzTeW9UOcHdwnWU0CKaxgJvrhD3+YZlmDr5P4bZNDnkh6hftCjImza+5EB+w39JHf/OY3Kb4sKZRdYxjcYvH7779/Eox+tDAlvI444ogkWFx37W6sEAS5mF54T+0QZmFJAtWKMGtvwsy4y4hNE03hlE5NvnlCMKnod8af0Iv+xVAaDrqnjJFBalsA7WcMj5e2tbwGufnmm1NQvN6qEYuR+JOcMfOosHD4O7eGhWCGUY2Q42piNJID3bAaWSXOR+P38hCDNyE5nxDl50VZ/N+qMB2/0ZV1v8TzZMA77VV1irzRV05oEp3JkyenSaYXolwF9P3G/q8v5KNT0ByLmnI1hd9SeUHPWMXDoe2EPcS/fcdoq5qbpS2t7yJYnFxNFmhGRzNDWmI7UtxFQxBw73VwS13gRO2crcLtZ/HoTGM9CF/9hNpLeFGuw+pRh6RMHpT6ioSMZz0SZpN7v05kvESTj3bLY2CjjTYaNcEWtB99Spy53iOQmLWmYjhvWj8VvlUaqAy4XfFltEX5zCh5eWl9sDxbo7K5o1m/LtL3EGSdM2KsY4eYqcm0vHcsh5IfS2R7Hc4BAZZ74NJ6QonlvdliIV76lIleIomn1W9x5YxJkIeZwwX6u6SXEEanw3fBC9GvWMw8+IzQmVI442ooGKEWqEhOWm7Oc2uXkdAWYXaCMpiNq5O4Bcx7YYzRrF+CLl4jPiOm068DrpdInooN5mqXZg9ZZQmnXKLUS/QDJZU29JGIqffAWCNCGAceeGCq8VXB0I+YfPR1gzoPemJsrAjxtcvqCpqHoApH1K+z0Be1Eat4KGieBzX4jFXNxL1dtEWYWTgGkRNl+WaUzagF1NFGm0l0TAXkiuvNWu2aeSYSBnyrRxXQd1gfkkTCYvXel4ld2EIyRoIlxwL7EfdbfJkhk70U4Qsr4lxXhPB6A+/ear/6CV8OQCitEV6cSi6hDgtKhqt3bpW2fJNZX4KmfoBzzcRcmn3oqg6pRIiLGlUJreG+iZHxUMZ6iO33OnzE4rfTmGWyRDn3J32BKNtsxqGv9HP/4FWqXBLDzMt5XZN62gjh9Q5tkOPMuX9pI3mAes8NXrMQx9hRstnu/jjucjkdy0MxlYvUb/Mps8z6VSY3Uh3gWDFY23kTJL6ct5mvl5htxagkEczcrYRyxCvFLVljY8Fv62DCAzpnLzC5q121CEmWuz4TzvNilVhy7Rz7PcwljPGlL30p7QHCy+RREgTxfqvJxnN9OVdjYmOFa9uxjBft0MtyOXkqZWt23MsIX+VyuU5OXO4dC9kKUppmAnW+vDQ73eUyOJp38sknpzCGZdtbbrnlmMIYuY18j88NdU3jFmYNKeFkLXu9yW+geyy9Os12JDNciI5iphLTaVegXe21Olk7SvUSjcMqtMeA+u1W4owaXGfy51ghBo52z/zNoINaEm9/XiGM+v0wuJWve93r0mD1yKl2xvF6gbYRy3/f+96XEq4STIwYS/HtpGbwj7UNjA1xUBOy2mhWnu/1nWPdEGsiCzOE0hgA1lG4r7TLVqbOSVkr7K9hoyYxaSI+Up1zRh93P2mktsr3hvE61D0ddyhDQ4qV5UbMCGMIiLdDlHVmHY7rYJMf69LbFRfVkdwogt/rgytf78KPFR3eICJeYz10+F6IsrbVSVkgrP16UXY9EmI6v5CY8+x3TJzamYemraESSWxTnLKVNiAgvAxbWh588MHFQQcdVJxxxhmVqLLpN0wilsQbR9qCoNIbk6lxKaRhP2cTn+qxLNajoY1Y4SqgtI/DBFa/aKqecQuzUIBZzgVkDCjWH/dsvLgZBisXw8bUOraO3C4Rca4mD25frw/W4UjWxKBBlNVP22KxcZNx7UuouIqWxbZjNVUVIMZEWQgjjxlWbWNJqXvjaAYiIj9jIRevx3ez4vSpidSf2oExqGyOR+7e0R9WLp2jPYzQn/zkJ8lQYHg2WxmkjWzEpBiCSBN7+40P9/lxtVqe/W1QVI8fU2NaXxPYKi5CxYfljm6KlV5cv3YJs0GhQwu79PIgQFxP8fiJMphU83iKBReXmGRPQdvqyFxnm8Q0bmrTz4gvGy+MDcKrrXmXhDmjz7PQTFrNeE/E2CRm3PlOnsUghH16gX5n1bE2yROlEBFx1l9tG6HNWMtj2e3Od9EtFnk2Lm3UNmxOp9aQZavHE088UR5zzDHlQgstpPfMPiZNmlQeeeSRZe1Chvxcs0fNbShvuOGGco899ihrFni5+uqrl7fddlt6faj3t3L4rpqlVs6cObOnx0MPPVTWxKmsDdyy1nBDnusgHTUXrrziiivKNddcs6wJSlkT49n9p9ZZy5p1UV577bVlTZyG/Hw/Htp1xowZ5dZbb13WvLR0rbUBWu65556p/fN7XPfhhx+e+n6zfaFmfZc1S65cZZVVyporXtY8zNSXhnrvSMfjjz9eHnDAAWXNYJndHjWxKk888cSyZjUO+Zn6w29ecMEF5eKLL/4/7VkzOsqawJW1SWfIz+WjNmmVW2211ezPOnzXWWedVda8jSE/087D/a6JcLn55puXNas5/X7NMCinTp1annfeeeVqq61WHnfcceUDDzww5nH69NNPl6ecckq57LLLlmuttVZ5xx13pNeGeu+4TDNxX8mzxn0MuJ0s5lZn7NqJzY4pC/pzHbzGfWj3QzbNkKxm+1T08hD6UY0hrNIub6CqcOd5PzYVV8AvbpctQ32GxSIGx9Xjjg8KLGEepqXY+jPyUmB/1gZ6irfbH0Q/0B+a7Qs53Gcsun+8jFaqO7RDM1b6cPis2Har3+G+uA+9wv3WB9WUZ/1ybz17UEJQzkNIor6krllY3JZvayMeEp2kP0PRsjC78TKYwgz18WWIz3AFxuKSaxA3QEZZzFrnPOSQQ9LzwcQeXYSsLHdt0IVrkNHO+k1+9hrXPg9iEy73UFhHeImbV4W2JhT65nj3FDEBWdXoe7IwE9+8tJxo21lOQl3IbiwhHKEPZZ/OzYSWY6RjxecJa/01OleTaT7nkdCWCgHqP+81/3aMJth+21GP3/XZZn6/HeiHhDnHf/VRRqKJTzWNirNWjE7hEIaI6zAZ69/DtVHLwiyb6KkLfqjxZruxBFYHNEv4t4vLN91rOrjO5GRZCb7HvrsnnXRSKlchymYplrMbJPupjKyVzhZUB4NWvbKqAf0jQ4BZIR4lJubOgqxKW+uvdhoTC/cnkW4Ffd/CEmMniwzLmOgRbAtrxNzlGqyCzcLQDMaQpCILLD+azHnPnDkzPT6Nle49xtxwAmccG2/2J3FOGaJoPPu+kYTV//kcL7reWPN72t2EUy/YjfAo6EF9Ehi+U1+hId3AJKmenHD6e55UNtxww7QDZiuluu4NL9F9JOpKQLURHWSo1LeR+9T0o6V8sRts1tcxzc4K5Ilz483WgLKObqjO6KayBrym0W0KroP6rFpOq708zl1g3b67RNpv5A7EclAH+Y53vKMl9yyoBvqDFaJKHrl09QIhZGFxjcfHs/iqNAEbLBaEeECwkBMDwcQxVowDT8iufyiDsWNwEnzrAVhkuba12cFvbFrs4HBeaoidp3vN/bYJvN8lDMSAhZ7DgT7rHAip8/C0a8/cM17rcS4W9/CEfcahjbyuHX3emPUbwo8mBEIL7/X/rETJ7TyG8+fz70sAe7QcA41uZPw/z0IZG1Gs/+1Ooa+6ZxJ/fkeftNBECKIVDXINtM3Ey+L2oGlt5RmnSkXVjatMMrkKrbqpQwafGw9B/ZqgpiD8fvvtV6644oplbTCZPl9w1C6krJ18SupIIkyaNKmsnUxZc1NTEk+ycL755kv/LwlS6yTp/T431Hets8465WWXXTbkecXRP4eE1DbbbJMSXkO18cUXXzxsMqRXR00wymuuuaasDczUR2uik5K0Q713tKNmFZW77LLLC67dGFhqqaXKo48+OiWi/eZQnx/uqBlC5YEHHljWBLeseRuzE4nG7AknnFBOmTKlrHmi6XXfXROJ9P/+rFlnZc1SK2uiXtYmxXKZZZaZnZisP2pWXkpYHXTQQeX06dPL6667Lv2u71AE4B5J+G+00UYvSOY6jHFJvL333rucNm1aWTPKUls7n5rBVtZEq9x1113Te2qi+z+fddCMLbbYIhUb1Ca2lhKbzR4SlNp40003TQnAJZdcsjz22GPHlYjWrh/5yEfS9e21115lzXNJv+Me6lPbb799efrpp6ffrU0KZdMr/1jBrBzqbjYzO5rlzF4jUWugF1g/ecYd7bMww7NQPE3ArBn0H6wFLrTwlNgyy7HW79L/6R+1zppWVm233XbJIvNaVRB2EGLwXEqutJprtahKn8aKMIH9pa2scw/0fxYgS3SnnXZKW0e6/rFaZNxjS4ZtlWqceP4hi1hcVL7GXg6szcb9UPw+z1UpKi/WGHcMNa61CRecZ+Oc1fra5c93Cj/wernjdIE+DDW2/bYyMZ+3dSsv2GtW+fGcWadZVxpxT/y+3xOq2XnnnYcvNRsnzl04waPtePVCS+6p8EajljWL++xp376P5W0LC1a5sB4rWR26e+r6XGvTwuxm5ZhwN3GSTH4dlkgH/QUBJkjE7aijjkoikgeeTk7gapZEsfvuu6fEX71wVAHLb2uWbMp9GDQmFvWnrVSLuG7iI2whae761foTGjkU4YtWBr7HItkSQZjRBGdBjteEDcVFuc7GUOOER4BMPNqEIA4lpkPhHF1/rrzyu7TBdzWD83A+XHbfJaYsBp1DHyORf7uTfYUhISRjQzVtQkhtMNVKm2dUltmewjWamFV2CNm470RZZVb9+oy2PfMvCBrJlof9Lz7+8Y8nq4GVgDw4VV8QbPufGORVwgCVgLZftUfqO0cxUJZTq0aCiYqQsSrdA8k/192qyLjHYt+eMi+uvO+++yaRdN+33XbbJMoEpVGUg6FxP8XaRQZUhnmo7Oabb57ubavoR/aBsRxbeygFFX2QO7NQxeTcaP1XJ8MSDBxcf5Yh4ZCpz6IMHdGS1k9/+tOpNrRqogwWoAQaF53nJuTCyhuPpZYtPpaYElCu/XhEmRVuDwYhCCIvLODJLyxwVpj7HKLcPCZMISH7YXh8Gct2vLtjEnoVF9pIe/AehcQIskjAUCGZEOagI7ASuNI6oGoB/84QIm6weKiyoSqKMtEjyGqthR8Icy5hq4rQ5TART4RAi1vbCMok6LzHEp4Ini/XU7qmkoVg2hLABNdKeCnj/qs28b08JWOC8KuJtqMisR6qjUKYg44gZsjqEJMlEPVwC3fYYYfU8Yl0FS06lpPyJgPIgBW6aLVUqlOY7MSHDXrWsQTlBz/4wWSFSyoRAWIQNIeJzZ7YJmThBsYDL2S8mCiJs+Se75W45DWde+65qf2Giq2HMAdtRwiDxeY5gjp7PUIBqg+s7pOdryIsUfWmEjbO38TBqleHW6UENCtZDFzIRWWHygtJKiEidcSuwQQZjI64vFXGtk9V4UJEx7LAZzj0JRUnLGPtI9GrGkWeQmLZepD6BTXZeg5hDtoKK84CCguGuNj11gBxs4jExuP2PKmS9QmDgqWsxExcnOVE/LiyMuas0qqcs3M1AdrT1z23n7NkknP0RA0TiBI2ZXCsZgJNdOpDShOFfK9YrQ4x3/rwAdEUm5dP8OiyyZMnJ69jPCEMEGW/ZTdBv2crVt6iBCDjBNoo780tLKWNUp9L/xsEbUCHIgRWMQ216T3xEFe2iqod1kg7MYGIJbNAbQmgpE1lgwEl3CLmqFxuvIO1XRBY1rzsvgnPoDd5qHSxzwaLzMRiNdkdd9yREoRCGxMN7acfEl6JZm1rdSNrlVibsHgW7hNBViUk2deO8Jo2smpUuEIbyVFoH6IvsUigjROr/4TMeJnE2Tk3vSQ7CEYiCwVLWdaZyGWrJAubAns1tv7e67iyc2PR5MFJtAxYO95ZmFGflJE1F8bYcccdU8yxCjFxVrDFCsr3WMqWcuel1jlByXMhDLkt7M440RZpmXCJHlFWN8wbIoba3T1hJQtZqfc2oSmJbNfky1AxIepXdvyTU9FGvC5VObaosP2ENrI+xGsWAxHvEOZg3OjgYnQ6/pFHHpk6Wb3LTCgIshCGTsdtMzC6fQhT+JMFJS7LrTVIJfk80+60005L1qUBVU9eqWZgVcVido5cYB6K8JDNdQxsgiyMQWAMeHtesKRZaGLPVTn/bmECI4724eEBuW9iul4TBjK5CV+4P1k024V+blLwe0Sf6MqxaCMTaG4j/VDbCUHxKp1DLDAJxg2xY51Zwde4ORG4cWuttVaq2+ylMJhADEyiLPbHKs4xR6/7f0cjXE7XZglyVXCPnbPJJi9SqRcV18Etdm0qAAhClRKX3YIwWwWpEkJC1D0DY0GVzWGHHZasZTXl7e6b2sDvO9z7xjbShtqIoeB8nAPBRghzMC5YxqwOq/ckMghFIywEHS93ul6SxdegcHB1/TmUIGfEbz1v0kq6KpGvxf11NKJtXBvBcQz1nkHH9ZuIeUMO8V4xZKv5WKjalkfUTku5nrG0Uf05hDAHLaPDSaKIy3IVG7eKHAQMJpum28Ce1R/0H4RPOEFMl0hLvrFOCTQrtooT1sQKOAVtRdLMQgaF8t3e3KpbsPINYAM56E9Yo5Kear0lQPOmUTlJWkVCmIMxw1KW2FBSZl8GT99glQwiLCpJIQm0oL8hwv0S0glhDsaMuKyKAIswZJ0lNwYVVpWkJfc3CLpFCHMwJljGMslTp05NNaBidoMMYVYn3I49E4KgWUKYg6YRwrBYwcZEnoemFGvQsdrPdp/94P4Gg0MIc9A0FpGwki3GkOWuX0QyqIgtSxyFMAfdJIQ5aAqLSMSTlY3Zg6F+c6JBRV2phRnxrMmg20Qdc9AUyuEk++yDMVG2khRXnjJlSnrm23geLRQEYyWEOWgKK6aUx6nGmChuPWH2hBVPaZcEDIJuEcIcNI3k30Qk4stBtwlhDoIgqBiR/AuCIKgYIcxBEAQVI4Q5CIKgYoQwB0EQVIwQ5iAIgooRwhwEQVAxQpiDIAgqRtQxB5XFJkn5ydZ2srPFqMUeHqJZhecHBkGnCGEOKgsxtgz8lltuSRso+bfn79m7IpZIB4NMhDKCSmL5d81oSE8wfvLJJ4sLL7ywuOKKK4qFFlpowi4NDyYOIcxBJRGymH/++YsNNtggPUCTIPv3+uuvH2GMYOAJYQ4qjYe+3n///SnW7KGokyZNSg/UDIJBJnp4UGmEMW6++eaUCFxmmWXSxvUhzMGgEz08qDQPP/xwceedd6bwxSqrrJKSfrENZzDohDAHleaee+5Jzxf07L011lgjJf6UzXnt0UcfTYendj/zzDORFAwGhhDmoLJ4rqAyOUK81FJLpRiz12688cZi+vTpxfHHH1+cfPLJqWJj5syZIczBwBDCHFQSIqtumTArm1t55ZWLBRdcMMWXl1122fSIqzPOOKN44IEHiuWXXz5VbUSIIxgUQpiDSkKYPQD27rvvLuaee+5iueWWK+add970uriz1YBHHHFEWmyy2mqrpVBHCHMwKIQwB5WEAKvGeOyxx4qFF144hTKUzN10003FddddV+y0007Feuutl55eLSEYlRrBIBG9OagkYsnXX399EuNFF100ie+VV16ZhHny5MnFSiutlMIXsdgkGERCmIPKIab81FNPFbfddlsSaAJ8wQUXFGeeeWax5pprprCGpdphJQeDSvTsoHIQY2VwM2bMSHFjmxidc845aUMjseU55pgj4snBQBPCHFQOy7Al/ST5rPTbbLPNUiUGsT711FOTOEdpXDDIhDAHlYPwXnrppcWzzz6bRHm77bYrttlmm2KuueYqrrrqquK+++5L/xcEg0oIc1ApxJftj3HNNdckIV511VWLJZZYolh77bVTWZyFJBdffHFadMJqlhx84oknZn06CAaDEOagUghjPPjgg2nhiG0+V1xxxVSjvNhiixVbbrllii2LN1uqrc7ZKsC77rpr1qeDYDAIYQ4qBQv43nvvTVbw0ksvnUrlWM5W/W2yySZJqInytGnTissvvzzFohdZZJFZnw6CwSCEOagULGbWMiHeeOONiwUWWCCVxVn9t+SSSxb77LNPSgiKQZ999tnFCiuskKzpIBgk4pl/QaVQv0yYH3nkkWQxs4ZZzBB/tn/GRRddlFYEerIJC3qeeeZJ/x8Eg0IIc1ApJPTUMdsY36q+xppl4pzL5eacc850RE1zMGiEMAdBEFSKovh/tQIlfWNjmD8AAAAASUVORK5CYII=)"
      ],
      "metadata": {
        "id": "Q0ojWwTvQ5-s"
      }
    },
    {
      "cell_type": "code",
      "source": [
        "def cross_entropy_error(y, t):\n",
        "    delta = 1e-7\n",
        "    return -np.sum(t * np.log(y + delta))"
      ],
      "metadata": {
        "id": "RQmbRKJVQo0h"
      },
      "execution_count": 10,
      "outputs": []
    },
    {
      "cell_type": "code",
      "source": [
        "y = [0.1, 0.05, 0.6, 0.0, 0.05, 0.1, 0.0, 0.1, 0.0, 0.0]\n",
        "t = [0, 0, 1, 0, 0, 0, 0, 0, 0, 0]\n",
        "\n",
        "cross_entropy_error(np.array(y), np.array(t))"
      ],
      "metadata": {
        "colab": {
          "base_uri": "https://localhost:8080/"
        },
        "id": "IwUP-1GERUrB",
        "outputId": "aed4efb9-2e67-4dc7-c441-103102ac6997"
      },
      "execution_count": 11,
      "outputs": [
        {
          "output_type": "execute_result",
          "data": {
            "text/plain": [
              "0.510825457099338"
            ]
          },
          "metadata": {},
          "execution_count": 11
        }
      ]
    },
    {
      "cell_type": "code",
      "source": [
        "y = [0.1, 0.05, 0.4, 0.0, 0.05, 0.1, 0.0, 0.3, 0.0, 0.0]\n",
        "cross_entropy_error(np.array(y), np.array(t))"
      ],
      "metadata": {
        "colab": {
          "base_uri": "https://localhost:8080/"
        },
        "id": "FG6RSsEzR5Sq",
        "outputId": "1ab60d97-acc0-4e68-c01a-d0ef7581fdba"
      },
      "execution_count": 12,
      "outputs": [
        {
          "output_type": "execute_result",
          "data": {
            "text/plain": [
              "0.9162904818741863"
            ]
          },
          "metadata": {},
          "execution_count": 12
        }
      ]
    },
    {
      "cell_type": "code",
      "source": [
        "np.array(y)"
      ],
      "metadata": {
        "colab": {
          "base_uri": "https://localhost:8080/"
        },
        "id": "OUKSfQrAXnoz",
        "outputId": "f1d11e31-5b67-424d-f2ba-9556a665e3f5"
      },
      "execution_count": 13,
      "outputs": [
        {
          "output_type": "execute_result",
          "data": {
            "text/plain": [
              "array([0.1 , 0.05, 0.4 , 0.  , 0.05, 0.1 , 0.  , 0.3 , 0.  , 0.  ])"
            ]
          },
          "metadata": {},
          "execution_count": 13
        }
      ]
    },
    {
      "cell_type": "code",
      "source": [
        "def cross_entropy_error(y, t):\n",
        "    if y.ndim == 1:\n",
        "        t = t.reshape(1, t.size)\n",
        "        y = y.reshape(1, y.size)\n",
        "\n",
        "    batch_size = y.shape[0]\n",
        "\n",
        "    delta = 1e-7\n",
        "    return -np.sum(t * np.log(y + delta))/batch_size"
      ],
      "metadata": {
        "id": "bcQxzvA5SADI"
      },
      "execution_count": 71,
      "outputs": []
    },
    {
      "cell_type": "code",
      "source": [
        "y = [[0.1, 0.05, 0.6, 0.0, 0.05, 0.1, 0.0, 0.1, 0.0, 0.0], [0.1, 0.5, 0.2, 0.0, 0.05, 0.1, 0.0, 0.05, 0.0, 0.1]]\n",
        "t = [[0, 0, 1, 0, 0, 0, 0, 0, 0, 0], [0, 0,  0, 0, 0, 1, 0, 0, 0, 0]]"
      ],
      "metadata": {
        "id": "J4S7YtMbX3yl"
      },
      "execution_count": 15,
      "outputs": []
    },
    {
      "cell_type": "markdown",
      "source": [
        "![image.png](data:image/png;base64,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)"
      ],
      "metadata": {
        "id": "R5tbBXwFwq7E"
      }
    },
    {
      "cell_type": "markdown",
      "source": [
        "- 미분식"
      ],
      "metadata": {
        "id": "mzLryJjPwyaP"
      }
    },
    {
      "cell_type": "code",
      "source": [
        "def numerical_diff(f,x):\n",
        "    h = 1e-4\n",
        "    return (f(x + h) - f(x))/h"
      ],
      "metadata": {
        "id": "AT4udg-0wVNu"
      },
      "execution_count": 24,
      "outputs": []
    },
    {
      "cell_type": "markdown",
      "source": [
        "조금 더 정확한 방법"
      ],
      "metadata": {
        "id": "gyecYgS5xZOK"
      }
    },
    {
      "cell_type": "code",
      "source": [
        "def numerical_diff(f,x):\n",
        "    h = 1e-4\n",
        "    return (f(x + h) - f(x-h))/(2*h)"
      ],
      "metadata": {
        "id": "-1Q5JXnsxYKa"
      },
      "execution_count": 27,
      "outputs": []
    },
    {
      "cell_type": "code",
      "source": [
        "def func_1(x):\n",
        "    return 0.01*x**2 + 0.1*x"
      ],
      "metadata": {
        "id": "oHMUS_rvw1VT"
      },
      "execution_count": 25,
      "outputs": []
    },
    {
      "cell_type": "code",
      "source": [
        "numerical_diff(func_1, 5)"
      ],
      "metadata": {
        "colab": {
          "base_uri": "https://localhost:8080/"
        },
        "id": "wJlFBMvMw8-J",
        "outputId": "ae581b06-015d-461f-8cba-44197f7cd6f1"
      },
      "execution_count": 26,
      "outputs": [
        {
          "output_type": "execute_result",
          "data": {
            "text/plain": [
              "0.20000099999917254"
            ]
          },
          "metadata": {},
          "execution_count": 26
        }
      ]
    },
    {
      "cell_type": "code",
      "source": [
        "numerical_diff(func_1, 5)"
      ],
      "metadata": {
        "colab": {
          "base_uri": "https://localhost:8080/"
        },
        "id": "u2lshys2w_OQ",
        "outputId": "7d251049-1b99-4312-f8a7-c4dd5ed53ba7"
      },
      "execution_count": 28,
      "outputs": [
        {
          "output_type": "execute_result",
          "data": {
            "text/plain": [
              "0.1999999999990898"
            ]
          },
          "metadata": {},
          "execution_count": 28
        }
      ]
    },
    {
      "cell_type": "markdown",
      "source": [
        "- 그림으로 표현"
      ],
      "metadata": {
        "id": "dcgw75kkx6rr"
      }
    },
    {
      "cell_type": "code",
      "source": [
        "import matplotlib.pylab as plt"
      ],
      "metadata": {
        "id": "a2Ck3KwfxmAp"
      },
      "execution_count": 29,
      "outputs": []
    },
    {
      "cell_type": "code",
      "source": [
        "def tangent_line(f,x):\n",
        "    d = numerical_diff(f,x)\n",
        "    y = f(x) - d*x\n",
        "    return lambda t : d*t + y"
      ],
      "metadata": {
        "id": "WXVXqoiox5zM"
      },
      "execution_count": 30,
      "outputs": []
    },
    {
      "cell_type": "code",
      "source": [
        "x = np.arange(0.0, 20.0, 0.1)\n",
        "y = func_1(x)\n",
        "\n",
        "tf = tangent_line(func_1,5)\n",
        "y2 = tf(x)\n",
        "\n",
        "plt.xlabel('x')\n",
        "plt.ylabel('f(x)')\n",
        "plt.plot(x,y)\n",
        "plt.plot(x,y2)\n",
        "plt.show();"
      ],
      "metadata": {
        "colab": {
          "base_uri": "https://localhost:8080/",
          "height": 279
        },
        "id": "cZsgAi3yyGyC",
        "outputId": "5dccb41c-cb39-4bcd-e073-3e8ddf517e4e"
      },
      "execution_count": 32,
      "outputs": [
        {
          "output_type": "display_data",
          "data": {
            "image/png": "[encoded data removed]",
            "text/plain": [
              "<Figure size 432x288 with 1 Axes>"
            ]
          },
          "metadata": {
            "needs_background": "light"
          }
        }
      ]
    },
    {
      "cell_type": "markdown",
      "source": [
        "- 이제 경사하강법을 써보자\n",
        "    - w값이 작아지는 방향으로 업데이트 하면서 최저값 찾기"
      ],
      "metadata": {
        "id": "KEEdku9Pzm67"
      }
    },
    {
      "cell_type": "code",
      "source": [
        "def func_2(x):\n",
        "    return x[0]**2 + x[1]**2"
      ],
      "metadata": {
        "id": "CnZIe_ISyZ0s"
      },
      "execution_count": 33,
      "outputs": []
    },
    {
      "cell_type": "code",
      "source": [
        "def numerical_gradient(f, x):\n",
        "    h = 1e-4\n",
        "    grad = np.zeros_like(x)\n",
        "\n",
        "    # (f(x+h) - f(x-h)) / (2 * h) 를 미분한다\n",
        "    # x[0], x[1]일 때의 편미분 for 반복\n",
        "    for idx in range(x.size):\n",
        "        tmp_val = x[idx]\n",
        "\n",
        "        # f(x+h) \n",
        "        x[idx]= float(tmp_val) + h\n",
        "        fxh1 = f(x)\n",
        "        # f(x-h)\n",
        "        x[idx] = float(tmp_val) - h\n",
        "        fxh2 = f(x)\n",
        "\n",
        "        grad[idx] = (fxh1 - fxh2) / (2*h)\n",
        "        x[idx] = tmp_val\n",
        "\n",
        "    return grad"
      ],
      "metadata": {
        "id": "IHhP0702z2bU"
      },
      "execution_count": 35,
      "outputs": []
    },
    {
      "cell_type": "code",
      "source": [
        "numerical_gradient(func_2, np.array([3.0,4.0]))"
      ],
      "metadata": {
        "colab": {
          "base_uri": "https://localhost:8080/"
        },
        "id": "xqN2GFk33Bjn",
        "outputId": "926e400b-15ca-4ecc-be55-63ee6d9d7685"
      },
      "execution_count": 36,
      "outputs": [
        {
          "output_type": "execute_result",
          "data": {
            "text/plain": [
              "array([6., 8.])"
            ]
          },
          "metadata": {},
          "execution_count": 36
        }
      ]
    },
    {
      "cell_type": "code",
      "source": [
        "def gradient_descent(f, init_x, lr=0.01, step_num=100):\n",
        "    x = init_x\n",
        "    x_history = []\n",
        "\n",
        "    for i in range(step_num):\n",
        "        x_history.append(x.copy())\n",
        "\n",
        "        grad = numerical_gradient(f,x)\n",
        "        x -= lr * grad\n",
        "    \n",
        "    return x, np.array(x_history)\n",
        "    "
      ],
      "metadata": {
        "id": "ljZSvJuJ3Fwc"
      },
      "execution_count": 37,
      "outputs": []
    },
    {
      "cell_type": "code",
      "source": [
        "init_x = np.array([-3.0,4.0])\n",
        "\n",
        "lr = 0.1\n",
        "step_num = 100\n",
        "\n",
        "x, x_history = gradient_descent(func_2, init_x, lr=lr,step_num=step_num)"
      ],
      "metadata": {
        "id": "xR7sKdC_BtDk"
      },
      "execution_count": 58,
      "outputs": []
    },
    {
      "cell_type": "code",
      "source": [
        "x"
      ],
      "metadata": {
        "colab": {
          "base_uri": "https://localhost:8080/"
        },
        "id": "bIAeSTiOCGI6",
        "outputId": "66c542a6-1af2-4914-f072-1141c91e88f2"
      },
      "execution_count": 59,
      "outputs": [
        {
          "output_type": "execute_result",
          "data": {
            "text/plain": [
              "array([-6.11110793e-10,  8.14814391e-10])"
            ]
          },
          "metadata": {},
          "execution_count": 59
        }
      ]
    },
    {
      "cell_type": "code",
      "source": [
        "x_history"
      ],
      "metadata": {
        "id": "j9hlQXAgCGsQ"
      },
      "execution_count": null,
      "outputs": []
    },
    {
      "cell_type": "markdown",
      "source": [
        "## 단순신경망 구현"
      ],
      "metadata": {
        "id": "9GMPaW71L9tV"
      }
    },
    {
      "cell_type": "code",
      "source": [
        "def softmax(x):\n",
        "    exp_x = np.exp(x)\n",
        "    sum_exp_x = sum(exp_x)\n",
        "    y = exp_x / sum_exp_x\n",
        "\n",
        "    return y"
      ],
      "metadata": {
        "id": "Vm270LlaCOU7"
      },
      "execution_count": 75,
      "outputs": []
    },
    {
      "cell_type": "code",
      "source": [
        "def numerical_gradient_no_batch(f, x):\n",
        "    h = 1e-4\n",
        "    grad = np.zeros_like(x)\n",
        "\n",
        "    # (f(x+h) - f(x-h)) / (2 * h) 를 미분한다\n",
        "    # x[0], x[1]일 때의 편미분 for 반복\n",
        "    for idx in range(x.size):\n",
        "        tmp_val = x[idx]\n",
        "\n",
        "        # f(x+h) \n",
        "        x[idx]= float(tmp_val) + h\n",
        "        fxh1 = f(x)\n",
        "        # f(x-h)\n",
        "        x[idx] = float(tmp_val) - h\n",
        "        fxh2 = f(x)\n",
        "\n",
        "        grad[idx] = (fxh1 - fxh2) / (2*h)\n",
        "        x[idx] = tmp_val\n",
        "\n",
        "    return grad"
      ],
      "metadata": {
        "id": "XGCbStPWMJ4z"
      },
      "execution_count": 61,
      "outputs": []
    },
    {
      "cell_type": "code",
      "source": [
        "def numerical_gradient(f, X):\n",
        "    if X.ndim ==1:\n",
        "        return numerical_gradient_no_batch(f,X)\n",
        "    else:\n",
        "        grad = np.zeros_like(X)\n",
        "\n",
        "        for idx, x in enumerate(X):\n",
        "            grad[idx] = numerical_gradient_no_batch(f,x)\n",
        "\n",
        "        return grad"
      ],
      "metadata": {
        "id": "NDB1blktMSr5"
      },
      "execution_count": 62,
      "outputs": []
    },
    {
      "cell_type": "markdown",
      "source": [
        "X -> y : logit -> softmax를 통해 표준화 -> 라벨링(예측)(cross entropy)"
      ],
      "metadata": {
        "id": "BaNkNgVwS34z"
      }
    },
    {
      "cell_type": "markdown",
      "source": [
        "- 단층 퍼셉트론 만들기 $y=aW+b$"
      ],
      "metadata": {
        "id": "1o9TIRCsNLfN"
      }
    },
    {
      "cell_type": "code",
      "source": [
        "# 퍼셉트론 객체 생성\n",
        "class SimpleNet:\n",
        "    def __init__(self):\n",
        "        self.W = np.random.randn(2,3)\n",
        "    \n",
        "    def predict(self, x):\n",
        "        return np.dot(x,self.W)\n",
        "    \n",
        "    def loss(self, x, t):\n",
        "        z = self.predict(x)\n",
        "        y = softmax(z)\n",
        "        loss = cross_entropy_error(y, t)\n",
        "\n",
        "        return loss"
      ],
      "metadata": {
        "id": "jLjPtfTtM0Ca"
      },
      "execution_count": 73,
      "outputs": []
    },
    {
      "cell_type": "code",
      "source": [
        "net = SimpleNet()\n",
        "net.W"
      ],
      "metadata": {
        "colab": {
          "base_uri": "https://localhost:8080/"
        },
        "id": "YhuuXHmENeHp",
        "outputId": "8e62dff6-e6fb-471b-f5c3-ae1a6ee8a903"
      },
      "execution_count": 64,
      "outputs": [
        {
          "output_type": "execute_result",
          "data": {
            "text/plain": [
              "array([[-1.63917021, -0.05281892, -0.12695625],\n",
              "       [-0.69746301, -0.23261013, -1.0840369 ]])"
            ]
          },
          "metadata": {},
          "execution_count": 64
        }
      ]
    },
    {
      "cell_type": "code",
      "source": [
        "x= np.array([0.6, 0.9])"
      ],
      "metadata": {
        "id": "qb-A1Q6NNhLe"
      },
      "execution_count": 65,
      "outputs": []
    },
    {
      "cell_type": "code",
      "source": [
        "p = net.predict(x)\n",
        "p"
      ],
      "metadata": {
        "colab": {
          "base_uri": "https://localhost:8080/"
        },
        "id": "7js6tpj0Nmgz",
        "outputId": "7725382b-4e08-494e-a74b-be2c6969eb1e"
      },
      "execution_count": 66,
      "outputs": [
        {
          "output_type": "execute_result",
          "data": {
            "text/plain": [
              "array([-1.61121883, -0.24104046, -1.05180696])"
            ]
          },
          "metadata": {},
          "execution_count": 66
        }
      ]
    },
    {
      "cell_type": "code",
      "source": [
        "np.argmax(p)"
      ],
      "metadata": {
        "colab": {
          "base_uri": "https://localhost:8080/"
        },
        "id": "wITIwxzJNr0K",
        "outputId": "5f22599c-4aef-4d3c-81a4-4d7a962d4184"
      },
      "execution_count": 67,
      "outputs": [
        {
          "output_type": "execute_result",
          "data": {
            "text/plain": [
              "1"
            ]
          },
          "metadata": {},
          "execution_count": 67
        }
      ]
    },
    {
      "cell_type": "code",
      "source": [
        "# 잔차 확인\n",
        "t = np.array([0,0,1])\n",
        "net.loss(x, t)"
      ],
      "metadata": {
        "colab": {
          "base_uri": "https://localhost:8080/"
        },
        "id": "JnYecIoBNxXy",
        "outputId": "7a28dbd5-be2c-48ae-e05c-60e0f0081074"
      },
      "execution_count": 90,
      "outputs": [
        {
          "output_type": "execute_result",
          "data": {
            "text/plain": [
              "1.3394977917939872"
            ]
          },
          "metadata": {},
          "execution_count": 90
        }
      ]
    },
    {
      "cell_type": "code",
      "source": [
        "def f(W):\n",
        "    return net.loss(x,t)\n",
        "\n",
        "# f는 목적함수. 목적함수에 대해 W를 한 번 미분\n",
        "dw = numerical_gradient(f, net.W)\n",
        "dw"
      ],
      "metadata": {
        "colab": {
          "base_uri": "https://localhost:8080/"
        },
        "id": "ocyk7T9gOBnT",
        "outputId": "7bdd13b1-8798-445e-8fed-a3496318bdce"
      },
      "execution_count": 78,
      "outputs": [
        {
          "output_type": "execute_result",
          "data": {
            "text/plain": [
              "array([[ 0.0897438 ,  0.35323634, -0.44298014],\n",
              "       [ 0.1346157 ,  0.5298545 , -0.66447021]])"
            ]
          },
          "metadata": {},
          "execution_count": 78
        }
      ]
    },
    {
      "cell_type": "code",
      "source": [
        "dw = numerical_gradient(lambda w : net.loss(x,t), net.W)\n",
        "dw"
      ],
      "metadata": {
        "colab": {
          "base_uri": "https://localhost:8080/"
        },
        "id": "uhs5RA0POiwX",
        "outputId": "e5ebd1c0-569f-4e45-c115-c8e64847a49c"
      },
      "execution_count": 102,
      "outputs": [
        {
          "output_type": "execute_result",
          "data": {
            "text/plain": [
              "array([[ 0.089759  ,  0.35255038, -0.44230938],\n",
              "       [ 0.1346385 ,  0.52882557, -0.66346407]])"
            ]
          },
          "metadata": {},
          "execution_count": 102
        }
      ]
    },
    {
      "cell_type": "code",
      "source": [
        "# W값 업데이트\n",
        "net.W -= 0.001 * dw"
      ],
      "metadata": {
        "id": "WUj-IjzQTw7S"
      },
      "execution_count": 103,
      "outputs": []
    },
    {
      "cell_type": "code",
      "source": [
        "net.W"
      ],
      "metadata": {
        "colab": {
          "base_uri": "https://localhost:8080/"
        },
        "id": "Q6eiHkWtUDrZ",
        "outputId": "7e822d6f-c27f-4b88-9863-6c722b463329"
      },
      "execution_count": 84,
      "outputs": [
        {
          "output_type": "execute_result",
          "data": {
            "text/plain": [
              "array([[-1.63915996, -0.05317215, -0.12651327],\n",
              "       [-0.69759763, -0.23313998, -1.08337243]])"
            ]
          },
          "metadata": {},
          "execution_count": 84
        }
      ]
    },
    {
      "cell_type": "code",
      "source": [
        "p = net.predict(x)\n",
        "p"
      ],
      "metadata": {
        "colab": {
          "base_uri": "https://localhost:8080/"
        },
        "id": "avKyJB1CUEjO",
        "outputId": "3e934245-8875-4a4a-d19b-ff1a8577cbd1"
      },
      "execution_count": 86,
      "outputs": [
        {
          "output_type": "execute_result",
          "data": {
            "text/plain": [
              "array([-1.61133384, -0.24172927, -1.05094315])"
            ]
          },
          "metadata": {},
          "execution_count": 86
        }
      ]
    },
    {
      "cell_type": "code",
      "source": [
        "np.argmax(p)"
      ],
      "metadata": {
        "colab": {
          "base_uri": "https://localhost:8080/"
        },
        "id": "RJy8tdg_UPgG",
        "outputId": "43c29a42-b24e-4e60-8fc6-791c24c19e39"
      },
      "execution_count": 87,
      "outputs": [
        {
          "output_type": "execute_result",
          "data": {
            "text/plain": [
              "1"
            ]
          },
          "metadata": {},
          "execution_count": 87
        }
      ]
    },
    {
      "cell_type": "code",
      "source": [
        "# W 업데이트 후 loss 값 감소 확인 - 잔차 감소\n",
        "net.loss(x, t)"
      ],
      "metadata": {
        "colab": {
          "base_uri": "https://localhost:8080/"
        },
        "id": "E8GvmCkWUXnz",
        "outputId": "e9617d41-602d-4cd3-db63-0b4902beb863"
      },
      "execution_count": 104,
      "outputs": [
        {
          "output_type": "execute_result",
          "data": {
            "text/plain": [
              "1.335229606944324"
            ]
          },
          "metadata": {},
          "execution_count": 104
        }
      ]
    },
    {
      "cell_type": "code",
      "source": [
        "for i in range(100):\n",
        "    dw = numerical_gradient(lambda w : net.loss(x,t), net.W)\n",
        "    net.W -= 0.001 * dw\n",
        "    net.loss(x,t)\n",
        "net.loss(x,t)"
      ],
      "metadata": {
        "colab": {
          "base_uri": "https://localhost:8080/"
        },
        "id": "tn3HhUBkZSWD",
        "outputId": "1d36e190-7568-413b-a209-484a0d80ac00"
      },
      "execution_count": 114,
      "outputs": [
        {
          "output_type": "execute_result",
          "data": {
            "text/plain": [
              "1.1320801689769173"
            ]
          },
          "metadata": {},
          "execution_count": 114
        }
      ]
    },
    {
      "cell_type": "code",
      "source": [
        ""
      ],
      "metadata": {
        "id": "zbljaH4CUdKg"
      },
      "execution_count": null,
      "outputs": []
    }
  ]
}