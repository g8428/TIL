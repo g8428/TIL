{
  "nbformat": 4,
  "nbformat_minor": 0,
  "metadata": {
    "colab": {
      "name": "220302_nlp_deeplearning",
      "provenance": [],
      "collapsed_sections": [],
      "include_colab_link": true
    },
    "kernelspec": {
      "name": "python3",
      "display_name": "Python 3"
    },
    "language_info": {
      "name": "python"
    },
    "accelerator": "GPU"
  },
  "cells": [
    {
      "cell_type": "markdown",
      "metadata": {
        "id": "view-in-github",
        "colab_type": "text"
      },
      "source": [
        "<a href=\"https://colab.research.google.com/github/g8428/TIL/blob/master/220302_nlp_deeplearning.ipynb\" target=\"_parent\"><img src=\"https://colab.research.google.com/assets/colab-badge.svg\" alt=\"Open In Colab\"/></a>"
      ]
    },
    {
      "cell_type": "code",
      "source": [
        ""
      ],
      "metadata": {
        "id": "z-IaukgzM78y"
      },
      "execution_count": null,
      "outputs": []
    },
    {
      "cell_type": "code",
      "source": [
        "from google.colab import drive\n",
        "drive.mount('/content/drive')"
      ],
      "metadata": {
        "colab": {
          "base_uri": "https://localhost:8080/"
        },
        "id": "DoVpNo462Iev",
        "outputId": "3b93b42a-2891-4e9b-c795-fc3f8d28951c"
      },
      "execution_count": 1,
      "outputs": [
        {
          "output_type": "stream",
          "name": "stdout",
          "text": [
            "Mounted at /content/drive\n"
          ]
        }
      ]
    },
    {
      "cell_type": "code",
      "source": [
        "import pandas as pd\n",
        "\n",
        "df = pd.read_csv(\"/content/drive/MyDrive/2022-1/국비지원교육/실습폴더/news.csv\")"
      ],
      "metadata": {
        "id": "P-1DMZBSHLHX"
      },
      "execution_count": 4,
      "outputs": []
    },
    {
      "cell_type": "code",
      "source": [
        "df = df.dropna()"
      ],
      "metadata": {
        "id": "ONNvkVnKHQme"
      },
      "execution_count": null,
      "outputs": []
    },
    {
      "cell_type": "code",
      "source": [
        "df['tokens'] = df['ngrams'].apply(lambda x :  ' '.join([w.split('/')[0] for w in x.split(\",\")]))\n",
        "token_list = df['tokens'].tolist()"
      ],
      "metadata": {
        "id": "43W4mE3nK46F"
      },
      "execution_count": null,
      "outputs": []
    },
    {
      "cell_type": "code",
      "source": [
        "len(token_list)"
      ],
      "metadata": {
        "colab": {
          "base_uri": "https://localhost:8080/"
        },
        "id": "FqAM-mhgK9xL",
        "outputId": "71868b9b-a561-41f5-b766-02efab12cb17"
      },
      "execution_count": null,
      "outputs": [
        {
          "output_type": "execute_result",
          "data": {
            "text/plain": [
              "261802"
            ]
          },
          "metadata": {},
          "execution_count": 4
        }
      ]
    },
    {
      "cell_type": "code",
      "source": [
        "token_list[:2]"
      ],
      "metadata": {
        "colab": {
          "base_uri": "https://localhost:8080/"
        },
        "id": "oPfFzo_kLrNj",
        "outputId": "182d4d9c-e3e5-4878-dba2-5277864ce7bc"
      },
      "execution_count": null,
      "outputs": [
        {
          "output_type": "execute_result",
          "data": {
            "text/plain": [
              "['만기 국채 수익률 fed fed 금리 인상 지속 따르 인플레이션 압력 완화 어렵 전망 인플레이션 제어 반면 만기 국채 수익률 fed 지속 금리 인상 수준 상승 예측 단기 국채 수익률 상승 나타나 반면 장기 국채 수익률 상승 제한 일드커브 플래트닝 가속 덧붙이 고용창출 호조 수입 증가 견인 고용시장 호전 소비자 지출 떠받치 단기 국채 일드커브 인플레이션 fed 고용창출 고용시장 수입 완화',\n",
              " '만기 국채 가격 최악 보내 만기 국채 수익률 수준 거래 마감 뉴욕 fed fed 금리 인상 했으나 인플레이션 제어 예상 만기 국채 수익률 소폭 수준 만기 국채 가격 fed 금리 인상 지속 최악 보내 덧붙이 fed 점진적 금리 인상 단행 fed 금리 인상 고용시장 동향 예의 주시 반면 고용창출 건수 호전 fed 공격적 금리 인상 정책 지속 가능성 강조 만기 국채 가격 포인트 오르 가격 움직이 수익률 떨어 만기 국채 수익률 기록 했었 만기 국채 가격 수익률 국채 인상']"
            ]
          },
          "metadata": {},
          "execution_count": 5
        }
      ]
    },
    {
      "cell_type": "code",
      "source": [
        "total_token_ls = [tokens.split() for tokens in token_list]\n",
        "total_token_ls[0]"
      ],
      "metadata": {
        "colab": {
          "base_uri": "https://localhost:8080/"
        },
        "id": "68eRJ9hgLtY8",
        "outputId": "ac3cb47e-67f7-44a4-d061-cc80f2cf58d0"
      },
      "execution_count": null,
      "outputs": [
        {
          "output_type": "execute_result",
          "data": {
            "text/plain": [
              "['만기',\n",
              " '국채',\n",
              " '수익률',\n",
              " 'fed',\n",
              " 'fed',\n",
              " '금리',\n",
              " '인상',\n",
              " '지속',\n",
              " '따르',\n",
              " '인플레이션',\n",
              " '압력',\n",
              " '완화',\n",
              " '어렵',\n",
              " '전망',\n",
              " '인플레이션',\n",
              " '제어',\n",
              " '반면',\n",
              " '만기',\n",
              " '국채',\n",
              " '수익률',\n",
              " 'fed',\n",
              " '지속',\n",
              " '금리',\n",
              " '인상',\n",
              " '수준',\n",
              " '상승',\n",
              " '예측',\n",
              " '단기',\n",
              " '국채',\n",
              " '수익률',\n",
              " '상승',\n",
              " '나타나',\n",
              " '반면',\n",
              " '장기',\n",
              " '국채',\n",
              " '수익률',\n",
              " '상승',\n",
              " '제한',\n",
              " '일드커브',\n",
              " '플래트닝',\n",
              " '가속',\n",
              " '덧붙이',\n",
              " '고용창출',\n",
              " '호조',\n",
              " '수입',\n",
              " '증가',\n",
              " '견인',\n",
              " '고용시장',\n",
              " '호전',\n",
              " '소비자',\n",
              " '지출',\n",
              " '떠받치',\n",
              " '단기',\n",
              " '국채',\n",
              " '일드커브',\n",
              " '인플레이션',\n",
              " 'fed',\n",
              " '고용창출',\n",
              " '고용시장',\n",
              " '수입',\n",
              " '완화']"
            ]
          },
          "metadata": {},
          "execution_count": 6
        }
      ]
    },
    {
      "cell_type": "code",
      "source": [
        "del df"
      ],
      "metadata": {
        "id": "gWMrqb-CPoui"
      },
      "execution_count": null,
      "outputs": []
    },
    {
      "cell_type": "code",
      "source": [
        "del token_list"
      ],
      "metadata": {
        "id": "bu5XKvWePxNo"
      },
      "execution_count": null,
      "outputs": []
    },
    {
      "cell_type": "code",
      "source": [
        "!pip install glove-python-binary"
      ],
      "metadata": {
        "colab": {
          "base_uri": "https://localhost:8080/"
        },
        "id": "mYrW23TXL8Ei",
        "outputId": "da94284b-2256-4612-db95-bc9423f7a45e"
      },
      "execution_count": null,
      "outputs": [
        {
          "output_type": "stream",
          "name": "stdout",
          "text": [
            "Requirement already satisfied: glove-python-binary in /usr/local/lib/python3.7/dist-packages (0.2.0)\n",
            "Requirement already satisfied: numpy in /usr/local/lib/python3.7/dist-packages (from glove-python-binary) (1.21.5)\n",
            "Requirement already satisfied: scipy in /usr/local/lib/python3.7/dist-packages (from glove-python-binary) (1.4.1)\n"
          ]
        }
      ]
    },
    {
      "cell_type": "code",
      "source": [
        ""
      ],
      "metadata": {
        "id": "H9sWx9xYNXBK"
      },
      "execution_count": null,
      "outputs": []
    },
    {
      "cell_type": "code",
      "source": [
        "from glove import Corpus, Glove\n",
        "\n",
        "corpus = Corpus()\n",
        "#말뭉치에서 동시 등장 행렬, 사전 만들기\n",
        "corpus.fit(total_token_ls[:1000], window=5)\n",
        "\n",
        "glove = Glove(no_components=100, learning_rate=0.05)\n",
        "#corpus.matrix 동시 등장 행렬\n",
        "glove.fit(corpus.matrix, epochs=20, no_threads=4, verbose=True)\n",
        "glove.add_dictionary(corpus.dictionary)"
      ],
      "metadata": {
        "colab": {
          "base_uri": "https://localhost:8080/"
        },
        "id": "-Ja_2vWjMVc6",
        "outputId": "97253029-4d27-4851-a3d6-f74a6025a943"
      },
      "execution_count": null,
      "outputs": [
        {
          "output_type": "stream",
          "name": "stdout",
          "text": [
            "Performing 20 training epochs with 4 threads\n",
            "Epoch 0\n",
            "Epoch 1\n",
            "Epoch 2\n",
            "Epoch 3\n",
            "Epoch 4\n",
            "Epoch 5\n",
            "Epoch 6\n",
            "Epoch 7\n",
            "Epoch 8\n",
            "Epoch 9\n",
            "Epoch 10\n",
            "Epoch 11\n",
            "Epoch 12\n",
            "Epoch 13\n",
            "Epoch 14\n",
            "Epoch 15\n",
            "Epoch 16\n",
            "Epoch 17\n",
            "Epoch 18\n",
            "Epoch 19\n"
          ]
        }
      ]
    },
    {
      "cell_type": "code",
      "source": [
        "glove.most_similar(\"금리\")"
      ],
      "metadata": {
        "colab": {
          "base_uri": "https://localhost:8080/"
        },
        "id": "fDZhD3RKNABB",
        "outputId": "68d460a1-4a66-43e8-964a-7faf52618298"
      },
      "execution_count": null,
      "outputs": [
        {
          "output_type": "execute_result",
          "data": {
            "text/plain": [
              "[('장단기', 0.9361501114365636),\n",
              " ('동결', 0.9017963007315121),\n",
              " ('부작용', 0.892156468482225),\n",
              " ('더이상', 0.8866363511380035)]"
            ]
          },
          "metadata": {},
          "execution_count": 10
        }
      ]
    },
    {
      "cell_type": "code",
      "source": [
        "glove.most_similar(\"인플레이션\")"
      ],
      "metadata": {
        "colab": {
          "base_uri": "https://localhost:8080/"
        },
        "id": "bcOBlrU1OAww",
        "outputId": "b8a20331-9e9a-466d-ae35-3908e1b46dbc"
      },
      "execution_count": null,
      "outputs": [
        {
          "output_type": "execute_result",
          "data": {
            "text/plain": [
              "[('억제', 0.8866281452074762),\n",
              " ('제어', 0.8489176553048445),\n",
              " ('강화', 0.8245931298831677),\n",
              " ('관측', 0.8104734384319212)]"
            ]
          },
          "metadata": {},
          "execution_count": 11
        }
      ]
    },
    {
      "cell_type": "code",
      "source": [
        "from gensim.models import FastText\n",
        "model = FastText(total_token_ls[:1000], size=100, window=5, min_count=2, sg=1, iter=100, min_n=3, max_n=6)"
      ],
      "metadata": {
        "id": "i19vbqvMOPSy"
      },
      "execution_count": null,
      "outputs": []
    },
    {
      "cell_type": "code",
      "source": [
        ""
      ],
      "metadata": {
        "colab": {
          "base_uri": "https://localhost:8080/"
        },
        "id": "_uMjGHW0O323",
        "outputId": "99ed9eb6-fe4d-47b1-bdc3-30457994f5df"
      },
      "execution_count": null,
      "outputs": [
        {
          "output_type": "execute_result",
          "data": {
            "text/plain": [
              "[('인하', 0.6190427541732788),\n",
              " ('맞췄으며', 0.5863194465637207),\n",
              " ('가능성', 0.5653703212738037),\n",
              " ('좁혀진', 0.5450276136398315),\n",
              " ('정책수단', 0.5426384210586548),\n",
              " ('초읽기', 0.536806583404541),\n",
              " ('두드려', 0.5318353772163391),\n",
              " ('인상', 0.5313268899917603),\n",
              " ('접근방법', 0.5271784067153931),\n",
              " ('밝힐', 0.5163829326629639)]"
            ]
          },
          "metadata": {},
          "execution_count": 10
        }
      ]
    },
    {
      "cell_type": "code",
      "source": [
        "model.wv.most_similar(\"인플레이션\")"
      ],
      "metadata": {
        "colab": {
          "base_uri": "https://localhost:8080/"
        },
        "id": "GWh6ioIEQP6-",
        "outputId": "7296b6e6-3bad-4f78-ee49-0681313d0e18"
      },
      "execution_count": null,
      "outputs": [
        {
          "output_type": "execute_result",
          "data": {
            "text/plain": [
              "[('억제', 0.6456458568572998),\n",
              " ('제어', 0.6337130069732666),\n",
              " ('fed', 0.6314557790756226),\n",
              " ('정책위원회', 0.5940812826156616),\n",
              " ('완전고용', 0.5841115117073059),\n",
              " ('접근방법', 0.5816026926040649),\n",
              " ('인상', 0.5636907815933228),\n",
              " ('디플레이션', 0.5589529275894165),\n",
              " ('대학', 0.5565709471702576),\n",
              " ('건전', 0.544958233833313)]"
            ]
          },
          "metadata": {},
          "execution_count": 11
        }
      ]
    },
    {
      "cell_type": "code",
      "source": [
        "import numpy as np\n",
        "import tensorflow as tf\n",
        "import matplotlib.pyplot as plt"
      ],
      "metadata": {
        "id": "kncUuRJeQVXQ"
      },
      "execution_count": 5,
      "outputs": []
    },
    {
      "cell_type": "code",
      "source": [
        "image = tf.constant([[[[1], [2], [3]], [[4], [5], [6]], [[7], [8], [9]]]], dtype=np.float32)"
      ],
      "metadata": {
        "id": "tgFTz9d-1qwC"
      },
      "execution_count": 13,
      "outputs": []
    },
    {
      "cell_type": "code",
      "source": [
        "plt.imshow(image.numpy().reshape(3, 3), cmap='Greys')\n",
        "plt.show()"
      ],
      "metadata": {
        "colab": {
          "base_uri": "https://localhost:8080/",
          "height": 269
        },
        "id": "wqfsqrWs2siV",
        "outputId": "a5044b05-341d-40d8-b5a0-9851ba58914a"
      },
      "execution_count": 14,
      "outputs": [
        {
          "output_type": "display_data",
          "data": {
            "image/png": "[encoded data removed]",
            "text/plain": [
              "<Figure size 432x288 with 1 Axes>"
            ]
          },
          "metadata": {
            "needs_background": "light"
          }
        }
      ]
    },
    {
      "cell_type": "code",
      "source": [
        "# 웨이트 생성\n",
        "weight = np.array([[[[1.]], [[1.]]], [[[1.]], [[1.]]]])\n",
        "weight.shape"
      ],
      "metadata": {
        "colab": {
          "base_uri": "https://localhost:8080/"
        },
        "id": "4wbtJV442tLN",
        "outputId": "1a874bfc-1e09-42e6-84db-f5dc5d5c92ae"
      },
      "execution_count": 11,
      "outputs": [
        {
          "output_type": "execute_result",
          "data": {
            "text/plain": [
              "(2, 2, 1, 1)"
            ]
          },
          "metadata": {},
          "execution_count": 11
        }
      ]
    },
    {
      "cell_type": "code",
      "source": [
        "weight_init = tf.constant_initializer(weight)\n",
        "# 케라스에서 합성곱 연산을 해줌, 직접 fully connected 안해도 된다\n",
        "# 아웃풋값 = tf.keras.layers.Conv2d(파라미터)(인풋값)\n",
        "conv2d = tf.keras.layers.Conv2D(filters=1, kernel_size=2, padding='valid', kernel_initializer=weight_init)(image)\n",
        "conv2d.shape"
      ],
      "metadata": {
        "colab": {
          "base_uri": "https://localhost:8080/"
        },
        "id": "_i_Qv5jA3DU1",
        "outputId": "48c4ca7e-e500-42a1-c279-79abae861344"
      },
      "execution_count": 15,
      "outputs": [
        {
          "output_type": "execute_result",
          "data": {
            "text/plain": [
              "TensorShape([1, 2, 2, 1])"
            ]
          },
          "metadata": {},
          "execution_count": 15
        }
      ]
    },
    {
      "cell_type": "code",
      "source": [
        "plt.imshow(conv2d.numpy().reshape(2, 2), cmap='Greys')\n",
        "plt.show()"
      ],
      "metadata": {
        "colab": {
          "base_uri": "https://localhost:8080/",
          "height": 269
        },
        "id": "XDzVwKQ04N4D",
        "outputId": "767962c0-a95c-46c2-9734-1d2307eff704"
      },
      "execution_count": 16,
      "outputs": [
        {
          "output_type": "display_data",
          "data": {
            "image/png": "[encoded data removed]",
            "text/plain": [
              "<Figure size 432x288 with 1 Axes>"
            ]
          },
          "metadata": {
            "needs_background": "light"
          }
        }
      ]
    },
    {
      "cell_type": "code",
      "source": [
        "weight_init = tf.constant_initializer(weight)\n",
        "# 패딩을 same으로 줬을 때,  입력값과 같은 사이즈\n",
        "conv2d = tf.keras.layers.Conv2D(filters=1, kernel_size=2, padding='same', kernel_initializer=weight_init)(image)\n",
        "print(conv2d.shape)\n",
        "plt.imshow(conv2d.numpy().reshape(3, 3), cmap='Greys')\n",
        "plt.show()"
      ],
      "metadata": {
        "colab": {
          "base_uri": "https://localhost:8080/",
          "height": 287
        },
        "id": "9K2E7gzd4vMa",
        "outputId": "0b703645-d948-4624-ae88-32aa9dd90971"
      },
      "execution_count": 18,
      "outputs": [
        {
          "output_type": "stream",
          "name": "stdout",
          "text": [
            "(1, 3, 3, 1)\n"
          ]
        },
        {
          "output_type": "display_data",
          "data": {
            "image/png": "[encoded data removed]",
            "text/plain": [
              "<Figure size 432x288 with 1 Axes>"
            ]
          },
          "metadata": {
            "needs_background": "light"
          }
        }
      ]
    },
    {
      "cell_type": "code",
      "source": [
        "weight = np.array([[[[1., 10, -1]], [[1., 10, -1]]], [[[1., 10, -1]], [[1., 10, -1]]]])\n",
        "weight_init = tf.constant_initializer(weight)\n",
        "conv2d = tf.keras.layers.Conv2D(filters=3, kernel_size=2, padding='same', kernel_initializer=weight_init)(image)"
      ],
      "metadata": {
        "id": "HIudJmQW9RYk"
      },
      "execution_count": 20,
      "outputs": []
    },
    {
      "cell_type": "code",
      "source": [
        "feature_maps = np.swapaxes(conv2d, 0, 3)\n",
        "print(\"feature_maps shape : \", feature_maps.shape)\n",
        "\n",
        "for i, feature_map in enumerate(feature_maps):\n",
        "    plt.subplot(1, 3, i+1)\n",
        "    plt.imshow(feature_map.reshape(3, 3), cmap=\"Greys\")\n",
        "plt.show()"
      ],
      "metadata": {
        "colab": {
          "base_uri": "https://localhost:8080/",
          "height": 164
        },
        "id": "Pi4rmQ289MCS",
        "outputId": "9b911364-74f2-4da6-d699-7efb85ce7ba8"
      },
      "execution_count": 21,
      "outputs": [
        {
          "output_type": "stream",
          "name": "stdout",
          "text": [
            "feature_maps shape :  (3, 3, 3, 1)\n"
          ]
        },
        {
          "output_type": "display_data",
          "data": {
            "image/png": "[encoded data removed]",
            "text/plain": [
              "<Figure size 432x288 with 3 Axes>"
            ]
          },
          "metadata": {
            "needs_background": "light"
          }
        }
      ]
    },
    {
      "cell_type": "code",
      "source": [
        "image = tf.constant([[[[4], [3]], [[2], [1]]]], dtype=np.float32)\n",
        "plt.imshow(image.numpy().reshape(2, 2), cmap='Greys')\n",
        "plt.show()"
      ],
      "metadata": {
        "colab": {
          "base_uri": "https://localhost:8080/",
          "height": 269
        },
        "id": "Xu6jSjWi66bV",
        "outputId": "4e5a9ba7-a9e8-40d6-89f3-e3a919500eb1"
      },
      "execution_count": 22,
      "outputs": [
        {
          "output_type": "display_data",
          "data": {
            "image/png": "[encoded data removed]",
            "text/plain": [
              "<Figure size 432x288 with 1 Axes>"
            ]
          },
          "metadata": {
            "needs_background": "light"
          }
        }
      ]
    },
    {
      "cell_type": "code",
      "source": [
        "# Max Pooling 2D\n",
        "# 풀 사이즈 =(,), 스트라이드, 패딩 (인풋값)\n",
        "pool = tf.keras.layers.MaxPool2D(pool_size=(2,2), strides=1, padding='valid')(image)\n",
        "print(pool.shape)\n",
        "print(pool.numpy())"
      ],
      "metadata": {
        "colab": {
          "base_uri": "https://localhost:8080/"
        },
        "id": "HTxPuZLQ9Yaw",
        "outputId": "4ba64f09-c1cf-4d96-d608-9ba2b46aca2d"
      },
      "execution_count": 24,
      "outputs": [
        {
          "output_type": "stream",
          "name": "stdout",
          "text": [
            "(1, 1, 1, 1)\n",
            "[[[[4.]]]]\n"
          ]
        }
      ]
    },
    {
      "cell_type": "code",
      "source": [
        "from tensorflow.keras.datasets import mnist\n",
        "(train_images, train_labels), (test_images, test_labels) = mnist.load_data()"
      ],
      "metadata": {
        "id": "I4xkQUiy-Pln"
      },
      "execution_count": 38,
      "outputs": []
    },
    {
      "cell_type": "code",
      "source": [
        "train_images.shape"
      ],
      "metadata": {
        "colab": {
          "base_uri": "https://localhost:8080/"
        },
        "id": "w8OoOq4FEJLQ",
        "outputId": "cbc11338-358f-4694-bf2a-6c2db3185ca5"
      },
      "execution_count": 39,
      "outputs": [
        {
          "output_type": "execute_result",
          "data": {
            "text/plain": [
              "(60000, 28, 28)"
            ]
          },
          "metadata": {},
          "execution_count": 39
        }
      ]
    },
    {
      "cell_type": "code",
      "source": [
        "train_images = train_images/255\n",
        "test_images = test_images/255"
      ],
      "metadata": {
        "id": "1XdXd3s5EKHz"
      },
      "execution_count": 41,
      "outputs": []
    },
    {
      "cell_type": "code",
      "source": [
        "img = train_images[5]\n",
        "plt.imshow(img, cmap='gray')"
      ],
      "metadata": {
        "colab": {
          "base_uri": "https://localhost:8080/",
          "height": 283
        },
        "id": "LEdsl5w5ENKr",
        "outputId": "df573dba-a1a5-44ef-ed1b-5132349ed67d"
      },
      "execution_count": 40,
      "outputs": [
        {
          "output_type": "execute_result",
          "data": {
            "text/plain": [
              "<matplotlib.image.AxesImage at 0x7f8b8f9d7650>"
            ]
          },
          "metadata": {},
          "execution_count": 40
        },
        {
          "output_type": "display_data",
          "data": {
            "image/png": "[encoded data removed]",
            "text/plain": [
              "<Figure size 432x288 with 1 Axes>"
            ]
          },
          "metadata": {
            "needs_background": "light"
          }
        }
      ]
    },
    {
      "cell_type": "code",
      "source": [
        "img = img.reshape(-1, 28, 28, 1)\n",
        "img = tf.convert_to_tensor(img)"
      ],
      "metadata": {
        "id": "kP4Vdk7NEPYG"
      },
      "execution_count": 29,
      "outputs": []
    },
    {
      "cell_type": "code",
      "source": [
        "from warnings import filters\n",
        "# weight 랜덤 생성\n",
        "weight_init = tf.keras.initializers.RandomNormal(stddev=0.01) # 표준편차 0.01로 맞출 때 성능up\n",
        "conv2d = tf.keras.layers.Conv2D(filters=5, kernel_size=(3,3), strides=(2,2), padding='same',\n",
        "                                kernel_initializer=weight_init)(img)\n",
        "# filter 수, 커널(웨이트) 사이즈 지정, 패딩, 커널(웨이트)이니셜라이저 = 웨이트데이터"
      ],
      "metadata": {
        "id": "-cITqmGdEROZ"
      },
      "execution_count": 36,
      "outputs": []
    },
    {
      "cell_type": "code",
      "source": [
        "# 패딩은 same size 인데 stride를 2칸으로 줬으니 아웃풋값은 인풋/2\n",
        "conv2d.shape"
      ],
      "metadata": {
        "colab": {
          "base_uri": "https://localhost:8080/"
        },
        "id": "rf61cHJUE0hO",
        "outputId": "2fda3b22-fa64-437c-8493-37062fb30823"
      },
      "execution_count": 37,
      "outputs": [
        {
          "output_type": "execute_result",
          "data": {
            "text/plain": [
              "TensorShape([1, 14, 14, 5])"
            ]
          },
          "metadata": {},
          "execution_count": 37
        }
      ]
    },
    {
      "cell_type": "code",
      "source": [
        "# conv2d 결과 디스플레이\n",
        "def display(conv2d, n, w, h):\n",
        "    feature_maps = np.swapaxes(conv2d, 0, 3)\n",
        "    for i , feature_map in enumerate(feature_maps):\n",
        "        plt.subplot(1, n, i+1)\n",
        "        plt.imshow(feature_map.reshape(w, h), cmap ='Greys') # 입력값 너비,높이값으로 변형\n",
        "    plt.show()"
      ],
      "metadata": {
        "id": "cyDlI2uuFCAn"
      },
      "execution_count": 46,
      "outputs": []
    },
    {
      "cell_type": "code",
      "source": [
        "display(conv2d, 5, 14,14)"
      ],
      "metadata": {
        "colab": {
          "base_uri": "https://localhost:8080/",
          "height": 108
        },
        "id": "GKX_szraGixe",
        "outputId": "eaa429a0-f408-4bc0-f133-034cb40981a1"
      },
      "execution_count": 47,
      "outputs": [
        {
          "output_type": "display_data",
          "data": {
            "image/png": "[encoded data removed]",
            "text/plain": [
              "<Figure size 432x288 with 5 Axes>"
            ]
          },
          "metadata": {
            "needs_background": "light"
          }
        }
      ]
    },
    {
      "cell_type": "code",
      "source": [
        "# 풀링 (최댓값 데이터만 일부 추출)\n",
        "pool = tf.keras.layers.MaxPool2D(pool_size=(2,2), strides=(2,2), padding='same')(conv2d)\n",
        "pool.shape"
      ],
      "metadata": {
        "colab": {
          "base_uri": "https://localhost:8080/"
        },
        "id": "2zKTsfoHGozP",
        "outputId": "07446c61-ecc3-4bb3-c1b0-08d02ecd4b68"
      },
      "execution_count": 48,
      "outputs": [
        {
          "output_type": "execute_result",
          "data": {
            "text/plain": [
              "TensorShape([1, 7, 7, 5])"
            ]
          },
          "metadata": {},
          "execution_count": 48
        }
      ]
    },
    {
      "cell_type": "code",
      "source": [
        "display(pool, 5, 7,7)"
      ],
      "metadata": {
        "colab": {
          "base_uri": "https://localhost:8080/",
          "height": 106
        },
        "id": "CXooDbuVHQ-u",
        "outputId": "dc7228be-6710-4e44-867b-d122670ee0be"
      },
      "execution_count": 49,
      "outputs": [
        {
          "output_type": "display_data",
          "data": {
            "image/png": "[encoded data removed]",
            "text/plain": [
              "<Figure size 432x288 with 5 Axes>"
            ]
          },
          "metadata": {
            "needs_background": "light"
          }
        }
      ]
    },
    {
      "cell_type": "code",
      "source": [
        "# Mnist 데이터 실습\n",
        "from tensorflow.keras.datasets import mnist\n",
        "from sklearn.model_selection import train_test_split"
      ],
      "metadata": {
        "id": "SUoQlMLBHjQH"
      },
      "execution_count": 1,
      "outputs": []
    },
    {
      "cell_type": "code",
      "source": [
        "(train_images, train_labels), (test_images, test_labels) = mnist.load_data()\n",
        "train_images = train_images.reshape((-1,28,28,1))\n",
        "test_images = test_images.reshape((-1,28,28,1))\n",
        "\n",
        "\n",
        "train_images = train_images/255.\n",
        "test_images = test_images/255.\n",
        "\n",
        "valid_images, test_images, valid_labels, test_labels = train_test_split(test_images, test_labels,\n",
        "                                                                        test_size=0.15,\n",
        "                                                                        shuffle=True)"
      ],
      "metadata": {
        "colab": {
          "base_uri": "https://localhost:8080/"
        },
        "id": "eypv5P2ZQfdx",
        "outputId": "e94b27f0-c4ec-4c41-c32d-5a985aa663c8"
      },
      "execution_count": 3,
      "outputs": [
        {
          "output_type": "stream",
          "name": "stdout",
          "text": [
            "Downloading data from https://storage.googleapis.com/tensorflow/tf-keras-datasets/mnist.npz\n",
            "11493376/11490434 [==============================] - 0s 0us/step\n",
            "11501568/11490434 [==============================] - 0s 0us/step\n"
          ]
        }
      ]
    },
    {
      "cell_type": "code",
      "source": [
        "print('train_images shape : ', train_images.shape)\n",
        "print('valid_images shape : ', valid_images.shape)\n",
        "print('test_images shape : ', test_images.shape)"
      ],
      "metadata": {
        "colab": {
          "base_uri": "https://localhost:8080/"
        },
        "id": "-PRQ0ioNRcYG",
        "outputId": "72a36b2f-6f73-4e52-c9b3-d459efe5f006"
      },
      "execution_count": 4,
      "outputs": [
        {
          "output_type": "stream",
          "name": "stdout",
          "text": [
            "train_images shape :  (60000, 28, 28, 1)\n",
            "valid_images shape :  (8500, 28, 28, 1)\n",
            "test_images shape :  (1500, 28, 28, 1)\n"
          ]
        }
      ]
    },
    {
      "cell_type": "code",
      "source": [
        "# CNN 네트워크 생성\n",
        "from tensorflow.keras.models import Sequential # 시퀀셜 네트워크\n",
        "from tensorflow.keras.layers import Conv2D, MaxPool2D, Flatten, Dense\n",
        "# 합성곱, 맥스풀링, 펼쳐주는 함수, 풀리커넥티드 = 덴스\n",
        "\n",
        "model = Sequential()\n",
        "model.add(Conv2D(32,(3,3),activation='relu', input_shape=(28,28,1))) # 레이어 추가 Conv2D\n",
        "model.add(MaxPool2D((2,2))) # 레이어 추가 맥스풀링\n",
        "model.add(Conv2D(64,(3,3),activation='relu')) # 커널 레이어 추가 Conv2D\n",
        "model.add(MaxPool2D((2,2))) # 레이어 추가 맥스풀링\n",
        "model.add(Conv2D(64,(3,3),activation='relu')) # 커널 레이어 추가 Conv2D\n",
        "\n",
        "model.add(Flatten()) # 1차원 데이터로 펼치기\n",
        "model.add(Dense(64, activation='relu')) # 마지막 활성화함수\n",
        "model.add(Dense(10, activation='softmax')) # 최종 아웃풋\n",
        "\n",
        "model.summary()"
      ],
      "metadata": {
        "colab": {
          "base_uri": "https://localhost:8080/"
        },
        "id": "NZHfhUtQRnlZ",
        "outputId": "5d4dde61-c90a-41ae-cd07-3aa47c0a91f0"
      },
      "execution_count": 5,
      "outputs": [
        {
          "output_type": "stream",
          "name": "stdout",
          "text": [
            "Model: \"sequential\"\n",
            "_________________________________________________________________\n",
            " Layer (type)                Output Shape              Param #   \n",
            "=================================================================\n",
            " conv2d (Conv2D)             (None, 26, 26, 32)        320       \n",
            "                                                                 \n",
            " max_pooling2d (MaxPooling2D  (None, 13, 13, 32)       0         \n",
            " )                                                               \n",
            "                                                                 \n",
            " conv2d_1 (Conv2D)           (None, 11, 11, 64)        18496     \n",
            "                                                                 \n",
            " max_pooling2d_1 (MaxPooling  (None, 5, 5, 64)         0         \n",
            " 2D)                                                             \n",
            "                                                                 \n",
            " conv2d_2 (Conv2D)           (None, 3, 3, 64)          36928     \n",
            "                                                                 \n",
            " flatten (Flatten)           (None, 576)               0         \n",
            "                                                                 \n",
            " dense (Dense)               (None, 64)                36928     \n",
            "                                                                 \n",
            " dense_1 (Dense)             (None, 10)                650       \n",
            "                                                                 \n",
            "=================================================================\n",
            "Total params: 93,322\n",
            "Trainable params: 93,322\n",
            "Non-trainable params: 0\n",
            "_________________________________________________________________\n"
          ]
        }
      ]
    },
    {
      "cell_type": "markdown",
      "source": [
        "- 파라미터(W) 개수가 320\n",
        "- Conv2D의 필터 갯수 32개 * (3*3) = 288\n",
        "- 필터갯수만큼 bias도 자동 추가 + 32 = 320개"
      ],
      "metadata": {
        "id": "hXcTGw2yTo4p"
      }
    },
    {
      "cell_type": "markdown",
      "source": [
        "- 두번째건 직전 층에서 온 32개를 인풋으로\n",
        "- 32 * 64 * (3*3) +64 = 18496개"
      ],
      "metadata": {
        "id": "xFYctORUUCJM"
      }
    },
    {
      "cell_type": "code",
      "source": [
        "# 같은 함수를 Functional API 로 만들기\n",
        "import tensorflow as tf\n",
        "from tensorflow.keras.models import Model # 펑셔널 네트워크\n",
        "from tensorflow.keras.layers import Input,Conv2D, MaxPool2D, Flatten, Dense\n",
        "\n",
        "inputs = Input(shape=(28,28,1))\n",
        "conv1 = Conv2D(32,(3,3),activation='relu')(inputs)\n",
        "pool1 = MaxPool2D((2,2))(conv1)\n",
        "conv2 = Conv2D(64,(3,3),activation=tf.nn.relu)(pool1) # 활성함수를 nn으로 넣을 수도 있다\n",
        "pool2 = MaxPool2D((2,2))(conv2)\n",
        "conv3 = Conv2D(64,(3,3),activation='relu')(pool2)\n",
        "\n",
        "flat = Flatten()(conv3)\n",
        "dense4 = Dense(64, activation='relu')(flat)\n",
        "outputs = Dense(10, activation='softmax')(dense4)\n",
        "\n",
        "model = Model(inputs=inputs, outputs=outputs)\n",
        "\n",
        "model.summary()"
      ],
      "metadata": {
        "colab": {
          "base_uri": "https://localhost:8080/"
        },
        "id": "u60ZFI_ATXUb",
        "outputId": "99f521d8-10ba-48df-d41c-1bdd4752a8a5"
      },
      "execution_count": 9,
      "outputs": [
        {
          "output_type": "stream",
          "name": "stdout",
          "text": [
            "Model: \"model\"\n",
            "_________________________________________________________________\n",
            " Layer (type)                Output Shape              Param #   \n",
            "=================================================================\n",
            " input_1 (InputLayer)        [(None, 28, 28, 1)]       0         \n",
            "                                                                 \n",
            " conv2d_3 (Conv2D)           (None, 26, 26, 32)        320       \n",
            "                                                                 \n",
            " max_pooling2d_2 (MaxPooling  (None, 13, 13, 32)       0         \n",
            " 2D)                                                             \n",
            "                                                                 \n",
            " conv2d_4 (Conv2D)           (None, 11, 11, 64)        18496     \n",
            "                                                                 \n",
            " max_pooling2d_3 (MaxPooling  (None, 5, 5, 64)         0         \n",
            " 2D)                                                             \n",
            "                                                                 \n",
            " conv2d_5 (Conv2D)           (None, 3, 3, 64)          36928     \n",
            "                                                                 \n",
            " flatten_1 (Flatten)         (None, 576)               0         \n",
            "                                                                 \n",
            " dense_2 (Dense)             (None, 64)                36928     \n",
            "                                                                 \n",
            " dense_3 (Dense)             (None, 10)                650       \n",
            "                                                                 \n",
            "=================================================================\n",
            "Total params: 93,322\n",
            "Trainable params: 93,322\n",
            "Non-trainable params: 0\n",
            "_________________________________________________________________\n"
          ]
        }
      ]
    },
    {
      "cell_type": "code",
      "source": [
        "# 실행\n",
        "model.compile(optimizer='adam', \n",
        "              loss='sparse_categorical_crossentropy',\n",
        "              metrics=['accuracy']) # loss함수와 optimizer 정해줘야함\n",
        "              # softmax이니까 loss는 카테고리컬\n",
        "hist = model.fit(train_images, train_labels,\n",
        "                 validation_data=(valid_images,valid_labels),\n",
        "                 epochs=100, batch_size=200) # 오버핏 방지 위해 validation_data 추가"
      ],
      "metadata": {
        "colab": {
          "base_uri": "https://localhost:8080/"
        },
        "id": "3kYm3ZuHWFwC",
        "outputId": "b68ee03f-6a5b-4a27-fef8-2558242794cc"
      },
      "execution_count": 10,
      "outputs": [
        {
          "output_type": "stream",
          "name": "stdout",
          "text": [
            "Epoch 1/100\n",
            "300/300 [==============================] - 5s 14ms/step - loss: 0.3024 - accuracy: 0.9101 - val_loss: 0.0693 - val_accuracy: 0.9780\n",
            "Epoch 2/100\n",
            "300/300 [==============================] - 4s 13ms/step - loss: 0.0701 - accuracy: 0.9782 - val_loss: 0.0424 - val_accuracy: 0.9864\n",
            "Epoch 3/100\n",
            "300/300 [==============================] - 4s 13ms/step - loss: 0.0482 - accuracy: 0.9853 - val_loss: 0.0433 - val_accuracy: 0.9866\n",
            "Epoch 4/100\n",
            "300/300 [==============================] - 4s 13ms/step - loss: 0.0377 - accuracy: 0.9883 - val_loss: 0.0334 - val_accuracy: 0.9880\n",
            "Epoch 5/100\n",
            "300/300 [==============================] - 4s 13ms/step - loss: 0.0306 - accuracy: 0.9902 - val_loss: 0.0334 - val_accuracy: 0.9895\n",
            "Epoch 6/100\n",
            "300/300 [==============================] - 4s 13ms/step - loss: 0.0250 - accuracy: 0.9922 - val_loss: 0.0316 - val_accuracy: 0.9902\n",
            "Epoch 7/100\n",
            "300/300 [==============================] - 4s 13ms/step - loss: 0.0224 - accuracy: 0.9925 - val_loss: 0.0268 - val_accuracy: 0.9914\n",
            "Epoch 8/100\n",
            "300/300 [==============================] - 4s 13ms/step - loss: 0.0189 - accuracy: 0.9940 - val_loss: 0.0313 - val_accuracy: 0.9904\n",
            "Epoch 9/100\n",
            "300/300 [==============================] - 4s 13ms/step - loss: 0.0166 - accuracy: 0.9945 - val_loss: 0.0318 - val_accuracy: 0.9902\n",
            "Epoch 10/100\n",
            "300/300 [==============================] - 4s 13ms/step - loss: 0.0137 - accuracy: 0.9955 - val_loss: 0.0377 - val_accuracy: 0.9885\n",
            "Epoch 11/100\n",
            "300/300 [==============================] - 4s 13ms/step - loss: 0.0127 - accuracy: 0.9959 - val_loss: 0.0311 - val_accuracy: 0.9892\n",
            "Epoch 12/100\n",
            "300/300 [==============================] - 4s 13ms/step - loss: 0.0113 - accuracy: 0.9962 - val_loss: 0.0323 - val_accuracy: 0.9915\n",
            "Epoch 13/100\n",
            "300/300 [==============================] - 4s 13ms/step - loss: 0.0107 - accuracy: 0.9963 - val_loss: 0.0387 - val_accuracy: 0.9888\n",
            "Epoch 14/100\n",
            "300/300 [==============================] - 4s 13ms/step - loss: 0.0084 - accuracy: 0.9971 - val_loss: 0.0291 - val_accuracy: 0.9918\n",
            "Epoch 15/100\n",
            "300/300 [==============================] - 4s 13ms/step - loss: 0.0084 - accuracy: 0.9972 - val_loss: 0.0392 - val_accuracy: 0.9898\n",
            "Epoch 16/100\n",
            "300/300 [==============================] - 4s 13ms/step - loss: 0.0069 - accuracy: 0.9975 - val_loss: 0.0430 - val_accuracy: 0.9898\n",
            "Epoch 17/100\n",
            "300/300 [==============================] - 4s 13ms/step - loss: 0.0079 - accuracy: 0.9971 - val_loss: 0.0399 - val_accuracy: 0.9912\n",
            "Epoch 18/100\n",
            "300/300 [==============================] - 4s 14ms/step - loss: 0.0051 - accuracy: 0.9982 - val_loss: 0.0421 - val_accuracy: 0.9905\n",
            "Epoch 19/100\n",
            "300/300 [==============================] - 4s 13ms/step - loss: 0.0067 - accuracy: 0.9976 - val_loss: 0.0322 - val_accuracy: 0.9922\n",
            "Epoch 20/100\n",
            "300/300 [==============================] - 4s 13ms/step - loss: 0.0040 - accuracy: 0.9987 - val_loss: 0.0425 - val_accuracy: 0.9908\n",
            "Epoch 21/100\n",
            "300/300 [==============================] - 4s 14ms/step - loss: 0.0063 - accuracy: 0.9980 - val_loss: 0.0428 - val_accuracy: 0.9905\n",
            "Epoch 22/100\n",
            "300/300 [==============================] - 4s 14ms/step - loss: 0.0043 - accuracy: 0.9985 - val_loss: 0.0616 - val_accuracy: 0.9846\n",
            "Epoch 23/100\n",
            "300/300 [==============================] - 4s 14ms/step - loss: 0.0070 - accuracy: 0.9977 - val_loss: 0.0438 - val_accuracy: 0.9916\n",
            "Epoch 24/100\n",
            "300/300 [==============================] - 4s 13ms/step - loss: 0.0031 - accuracy: 0.9991 - val_loss: 0.0427 - val_accuracy: 0.9908\n",
            "Epoch 25/100\n",
            "300/300 [==============================] - 4s 14ms/step - loss: 0.0035 - accuracy: 0.9987 - val_loss: 0.0515 - val_accuracy: 0.9899\n",
            "Epoch 26/100\n",
            "300/300 [==============================] - 4s 13ms/step - loss: 0.0028 - accuracy: 0.9991 - val_loss: 0.0407 - val_accuracy: 0.9921\n",
            "Epoch 27/100\n",
            "300/300 [==============================] - 4s 14ms/step - loss: 0.0050 - accuracy: 0.9983 - val_loss: 0.0382 - val_accuracy: 0.9919\n",
            "Epoch 28/100\n",
            "300/300 [==============================] - 4s 13ms/step - loss: 0.0028 - accuracy: 0.9989 - val_loss: 0.0454 - val_accuracy: 0.9913\n",
            "Epoch 29/100\n",
            "300/300 [==============================] - 4s 14ms/step - loss: 0.0023 - accuracy: 0.9992 - val_loss: 0.0467 - val_accuracy: 0.9919\n",
            "Epoch 30/100\n",
            "300/300 [==============================] - 4s 13ms/step - loss: 0.0047 - accuracy: 0.9985 - val_loss: 0.0513 - val_accuracy: 0.9898\n",
            "Epoch 31/100\n",
            "300/300 [==============================] - 4s 13ms/step - loss: 0.0026 - accuracy: 0.9992 - val_loss: 0.0405 - val_accuracy: 0.9922\n",
            "Epoch 32/100\n",
            "300/300 [==============================] - 4s 14ms/step - loss: 0.0014 - accuracy: 0.9995 - val_loss: 0.0506 - val_accuracy: 0.9912\n",
            "Epoch 33/100\n",
            "300/300 [==============================] - 4s 13ms/step - loss: 0.0042 - accuracy: 0.9986 - val_loss: 0.0538 - val_accuracy: 0.9885\n",
            "Epoch 34/100\n",
            "300/300 [==============================] - 4s 13ms/step - loss: 0.0037 - accuracy: 0.9987 - val_loss: 0.0437 - val_accuracy: 0.9919\n",
            "Epoch 35/100\n",
            "300/300 [==============================] - 4s 14ms/step - loss: 0.0025 - accuracy: 0.9991 - val_loss: 0.0473 - val_accuracy: 0.9920\n",
            "Epoch 36/100\n",
            "300/300 [==============================] - 4s 14ms/step - loss: 0.0034 - accuracy: 0.9987 - val_loss: 0.0445 - val_accuracy: 0.9918\n",
            "Epoch 37/100\n",
            "300/300 [==============================] - 4s 13ms/step - loss: 0.0017 - accuracy: 0.9994 - val_loss: 0.0541 - val_accuracy: 0.9927\n",
            "Epoch 38/100\n",
            "300/300 [==============================] - 4s 13ms/step - loss: 0.0042 - accuracy: 0.9986 - val_loss: 0.0436 - val_accuracy: 0.9908\n",
            "Epoch 39/100\n",
            "300/300 [==============================] - 4s 13ms/step - loss: 0.0014 - accuracy: 0.9995 - val_loss: 0.0421 - val_accuracy: 0.9927\n",
            "Epoch 40/100\n",
            "300/300 [==============================] - 4s 13ms/step - loss: 3.6332e-04 - accuracy: 0.9999 - val_loss: 0.0432 - val_accuracy: 0.9928\n",
            "Epoch 41/100\n",
            "300/300 [==============================] - 4s 13ms/step - loss: 9.5193e-04 - accuracy: 0.9997 - val_loss: 0.0523 - val_accuracy: 0.9899\n",
            "Epoch 42/100\n",
            "300/300 [==============================] - 4s 14ms/step - loss: 0.0049 - accuracy: 0.9984 - val_loss: 0.0532 - val_accuracy: 0.9912\n",
            "Epoch 43/100\n",
            "300/300 [==============================] - 4s 14ms/step - loss: 0.0023 - accuracy: 0.9993 - val_loss: 0.0494 - val_accuracy: 0.9909\n",
            "Epoch 44/100\n",
            "300/300 [==============================] - 4s 14ms/step - loss: 0.0026 - accuracy: 0.9991 - val_loss: 0.0470 - val_accuracy: 0.9912\n",
            "Epoch 45/100\n",
            "300/300 [==============================] - 4s 13ms/step - loss: 0.0023 - accuracy: 0.9993 - val_loss: 0.0555 - val_accuracy: 0.9912\n",
            "Epoch 46/100\n",
            "300/300 [==============================] - 4s 13ms/step - loss: 0.0023 - accuracy: 0.9992 - val_loss: 0.0441 - val_accuracy: 0.9928\n",
            "Epoch 47/100\n",
            "300/300 [==============================] - 4s 13ms/step - loss: 0.0019 - accuracy: 0.9993 - val_loss: 0.0537 - val_accuracy: 0.9915\n",
            "Epoch 48/100\n",
            "300/300 [==============================] - 4s 14ms/step - loss: 0.0015 - accuracy: 0.9995 - val_loss: 0.0597 - val_accuracy: 0.9918\n",
            "Epoch 49/100\n",
            "300/300 [==============================] - 4s 14ms/step - loss: 0.0028 - accuracy: 0.9990 - val_loss: 0.0459 - val_accuracy: 0.9929\n",
            "Epoch 50/100\n",
            "300/300 [==============================] - 4s 13ms/step - loss: 6.8780e-04 - accuracy: 0.9998 - val_loss: 0.0550 - val_accuracy: 0.9915\n",
            "Epoch 51/100\n",
            "300/300 [==============================] - 4s 13ms/step - loss: 0.0027 - accuracy: 0.9991 - val_loss: 0.0571 - val_accuracy: 0.9912\n",
            "Epoch 52/100\n",
            "300/300 [==============================] - 4s 14ms/step - loss: 0.0020 - accuracy: 0.9994 - val_loss: 0.0498 - val_accuracy: 0.9926\n",
            "Epoch 53/100\n",
            "300/300 [==============================] - 4s 14ms/step - loss: 0.0011 - accuracy: 0.9995 - val_loss: 0.0566 - val_accuracy: 0.9914\n",
            "Epoch 54/100\n",
            "300/300 [==============================] - 4s 14ms/step - loss: 7.2350e-04 - accuracy: 0.9998 - val_loss: 0.0504 - val_accuracy: 0.9926\n",
            "Epoch 55/100\n",
            "300/300 [==============================] - 4s 13ms/step - loss: 0.0025 - accuracy: 0.9993 - val_loss: 0.0539 - val_accuracy: 0.9925\n",
            "Epoch 56/100\n",
            "300/300 [==============================] - 4s 14ms/step - loss: 0.0010 - accuracy: 0.9997 - val_loss: 0.0537 - val_accuracy: 0.9919\n",
            "Epoch 57/100\n",
            "300/300 [==============================] - 4s 14ms/step - loss: 0.0024 - accuracy: 0.9992 - val_loss: 0.0565 - val_accuracy: 0.9908\n",
            "Epoch 58/100\n",
            "300/300 [==============================] - 4s 13ms/step - loss: 0.0019 - accuracy: 0.9993 - val_loss: 0.0556 - val_accuracy: 0.9922\n",
            "Epoch 59/100\n",
            "300/300 [==============================] - 4s 13ms/step - loss: 0.0019 - accuracy: 0.9994 - val_loss: 0.0524 - val_accuracy: 0.9920\n",
            "Epoch 60/100\n",
            "300/300 [==============================] - 4s 14ms/step - loss: 0.0017 - accuracy: 0.9995 - val_loss: 0.0420 - val_accuracy: 0.9936\n",
            "Epoch 61/100\n",
            "300/300 [==============================] - 4s 13ms/step - loss: 0.0020 - accuracy: 0.9995 - val_loss: 0.0446 - val_accuracy: 0.9940\n",
            "Epoch 62/100\n",
            "300/300 [==============================] - 4s 13ms/step - loss: 1.5614e-04 - accuracy: 1.0000 - val_loss: 0.0486 - val_accuracy: 0.9935\n",
            "Epoch 63/100\n",
            "300/300 [==============================] - 4s 13ms/step - loss: 2.5090e-04 - accuracy: 0.9999 - val_loss: 0.0524 - val_accuracy: 0.9938\n",
            "Epoch 64/100\n",
            "300/300 [==============================] - 4s 14ms/step - loss: 7.9521e-04 - accuracy: 0.9998 - val_loss: 0.0706 - val_accuracy: 0.9921\n",
            "Epoch 65/100\n",
            "300/300 [==============================] - 4s 13ms/step - loss: 0.0061 - accuracy: 0.9982 - val_loss: 0.0478 - val_accuracy: 0.9918\n",
            "Epoch 66/100\n",
            "300/300 [==============================] - 4s 13ms/step - loss: 0.0021 - accuracy: 0.9993 - val_loss: 0.0415 - val_accuracy: 0.9926\n",
            "Epoch 67/100\n",
            "300/300 [==============================] - 4s 14ms/step - loss: 2.8181e-04 - accuracy: 0.9999 - val_loss: 0.0500 - val_accuracy: 0.9914\n",
            "Epoch 68/100\n",
            "300/300 [==============================] - 4s 13ms/step - loss: 7.8700e-04 - accuracy: 0.9997 - val_loss: 0.0516 - val_accuracy: 0.9929\n",
            "Epoch 69/100\n",
            "300/300 [==============================] - 4s 14ms/step - loss: 0.0012 - accuracy: 0.9996 - val_loss: 0.0519 - val_accuracy: 0.9927\n",
            "Epoch 70/100\n",
            "300/300 [==============================] - 4s 14ms/step - loss: 5.6489e-04 - accuracy: 0.9998 - val_loss: 0.0773 - val_accuracy: 0.9898\n",
            "Epoch 71/100\n",
            "300/300 [==============================] - 4s 13ms/step - loss: 0.0033 - accuracy: 0.9989 - val_loss: 0.0425 - val_accuracy: 0.9928\n",
            "Epoch 72/100\n",
            "300/300 [==============================] - 4s 13ms/step - loss: 0.0014 - accuracy: 0.9995 - val_loss: 0.0524 - val_accuracy: 0.9925\n",
            "Epoch 73/100\n",
            "300/300 [==============================] - 4s 13ms/step - loss: 1.2414e-04 - accuracy: 1.0000 - val_loss: 0.0522 - val_accuracy: 0.9926\n",
            "Epoch 74/100\n",
            "300/300 [==============================] - 4s 13ms/step - loss: 7.8963e-05 - accuracy: 1.0000 - val_loss: 0.0478 - val_accuracy: 0.9939\n",
            "Epoch 75/100\n",
            "300/300 [==============================] - 4s 14ms/step - loss: 2.7476e-05 - accuracy: 1.0000 - val_loss: 0.0470 - val_accuracy: 0.9941\n",
            "Epoch 76/100\n",
            "300/300 [==============================] - 4s 14ms/step - loss: 5.3032e-06 - accuracy: 1.0000 - val_loss: 0.0474 - val_accuracy: 0.9941\n",
            "Epoch 77/100\n",
            "300/300 [==============================] - 4s 13ms/step - loss: 3.8379e-06 - accuracy: 1.0000 - val_loss: 0.0478 - val_accuracy: 0.9941\n",
            "Epoch 78/100\n",
            "300/300 [==============================] - 4s 13ms/step - loss: 3.0955e-06 - accuracy: 1.0000 - val_loss: 0.0482 - val_accuracy: 0.9941\n",
            "Epoch 79/100\n",
            "300/300 [==============================] - 4s 13ms/step - loss: 2.5760e-06 - accuracy: 1.0000 - val_loss: 0.0486 - val_accuracy: 0.9941\n",
            "Epoch 80/100\n",
            "300/300 [==============================] - 4s 13ms/step - loss: 2.1655e-06 - accuracy: 1.0000 - val_loss: 0.0490 - val_accuracy: 0.9941\n",
            "Epoch 81/100\n",
            "300/300 [==============================] - 4s 13ms/step - loss: 1.8524e-06 - accuracy: 1.0000 - val_loss: 0.0494 - val_accuracy: 0.9944\n",
            "Epoch 82/100\n",
            "300/300 [==============================] - 4s 14ms/step - loss: 1.5895e-06 - accuracy: 1.0000 - val_loss: 0.0498 - val_accuracy: 0.9945\n",
            "Epoch 83/100\n",
            "300/300 [==============================] - 4s 14ms/step - loss: 1.3670e-06 - accuracy: 1.0000 - val_loss: 0.0502 - val_accuracy: 0.9945\n",
            "Epoch 84/100\n",
            "300/300 [==============================] - 4s 13ms/step - loss: 1.1793e-06 - accuracy: 1.0000 - val_loss: 0.0505 - val_accuracy: 0.9945\n",
            "Epoch 85/100\n",
            "300/300 [==============================] - 4s 13ms/step - loss: 1.0190e-06 - accuracy: 1.0000 - val_loss: 0.0510 - val_accuracy: 0.9944\n",
            "Epoch 86/100\n",
            "300/300 [==============================] - 4s 14ms/step - loss: 8.8063e-07 - accuracy: 1.0000 - val_loss: 0.0514 - val_accuracy: 0.9945\n",
            "Epoch 87/100\n",
            "300/300 [==============================] - 4s 14ms/step - loss: 7.6246e-07 - accuracy: 1.0000 - val_loss: 0.0519 - val_accuracy: 0.9944\n",
            "Epoch 88/100\n",
            "300/300 [==============================] - 4s 14ms/step - loss: 6.5774e-07 - accuracy: 1.0000 - val_loss: 0.0523 - val_accuracy: 0.9944\n",
            "Epoch 89/100\n",
            "300/300 [==============================] - 4s 14ms/step - loss: 5.6687e-07 - accuracy: 1.0000 - val_loss: 0.0528 - val_accuracy: 0.9941\n",
            "Epoch 90/100\n",
            "300/300 [==============================] - 4s 14ms/step - loss: 4.8924e-07 - accuracy: 1.0000 - val_loss: 0.0532 - val_accuracy: 0.9941\n",
            "Epoch 91/100\n",
            "300/300 [==============================] - 4s 14ms/step - loss: 4.1960e-07 - accuracy: 1.0000 - val_loss: 0.0537 - val_accuracy: 0.9941\n",
            "Epoch 92/100\n",
            "300/300 [==============================] - 4s 14ms/step - loss: 3.6555e-07 - accuracy: 1.0000 - val_loss: 0.0541 - val_accuracy: 0.9941\n",
            "Epoch 93/100\n",
            "300/300 [==============================] - 4s 14ms/step - loss: 3.1442e-07 - accuracy: 1.0000 - val_loss: 0.0545 - val_accuracy: 0.9941\n",
            "Epoch 94/100\n",
            "300/300 [==============================] - 4s 14ms/step - loss: 2.7036e-07 - accuracy: 1.0000 - val_loss: 0.0550 - val_accuracy: 0.9942\n",
            "Epoch 95/100\n",
            "300/300 [==============================] - 4s 14ms/step - loss: 2.3401e-07 - accuracy: 1.0000 - val_loss: 0.0555 - val_accuracy: 0.9942\n",
            "Epoch 96/100\n",
            "300/300 [==============================] - 4s 14ms/step - loss: 2.0017e-07 - accuracy: 1.0000 - val_loss: 0.0560 - val_accuracy: 0.9942\n",
            "Epoch 97/100\n",
            "300/300 [==============================] - 4s 14ms/step - loss: 1.7233e-07 - accuracy: 1.0000 - val_loss: 0.0565 - val_accuracy: 0.9942\n",
            "Epoch 98/100\n",
            "300/300 [==============================] - 4s 14ms/step - loss: 1.4762e-07 - accuracy: 1.0000 - val_loss: 0.0570 - val_accuracy: 0.9941\n",
            "Epoch 99/100\n",
            "300/300 [==============================] - 4s 14ms/step - loss: 1.2647e-07 - accuracy: 1.0000 - val_loss: 0.0575 - val_accuracy: 0.9944\n",
            "Epoch 100/100\n",
            "300/300 [==============================] - 4s 14ms/step - loss: 1.0698e-07 - accuracy: 1.0000 - val_loss: 0.0580 - val_accuracy: 0.9944\n"
          ]
        }
      ]
    },
    {
      "cell_type": "code",
      "source": [
        "# 그림그려보기\n",
        "import matplotlib.pyplot as plt\n",
        "\n",
        "fig, loss_ax = plt.subplots()\n",
        "acc_ax = loss_ax.twinx() # ax 공유\n",
        "\n",
        "loss_ax.plot(hist.history['loss'], 'y', label='train_loss')\n",
        "loss_ax.plot(hist.history['val_loss'], 'r', label='valid_loss')\n",
        "loss_ax.set_xlabel('epochs')\n",
        "loss_ax.set_ylabel('loss')\n",
        "loss_ax.legend(loc='upper left')\n",
        "\n",
        "acc_ax.plot(hist.history['accuracy'], 'b', label='train_accuracy')\n",
        "acc_ax.plot(hist.history['val_accuracy'], 'g', label='valid_accuracy')\n",
        "acc_ax.set_xlabel('epochs')\n",
        "acc_ax.set_ylabel('accuracy')\n",
        "acc_ax.legend(loc='upper left', bbox_to_anchor=(1,0.5))\n",
        "\n",
        "plt.show()"
      ],
      "metadata": {
        "colab": {
          "base_uri": "https://localhost:8080/",
          "height": 279
        },
        "id": "8oN61d5cXAkZ",
        "outputId": "357acb67-d9d7-4645-d79f-37be7883d6d1"
      },
      "execution_count": 11,
      "outputs": [
        {
          "output_type": "display_data",
          "data": {
            "image/png": "[encoded data removed]",
            "text/plain": [
              "<Figure size 432x288 with 2 Axes>"
            ]
          },
          "metadata": {
            "needs_background": "light"
          }
        }
      ]
    },
    {
      "cell_type": "markdown",
      "source": [
        "# 논문 분석&구현\n",
        "### yoon kim text classification\n",
        "#### < Convolutional Neural Networks for Sentence Classification >"
      ],
      "metadata": {
        "id": "9_Vrl_OWehTO"
      }
    },
    {
      "cell_type": "code",
      "source": [
        ""
      ],
      "metadata": {
        "id": "2kqy5utyaC0-"
      },
      "execution_count": null,
      "outputs": []
    }
  ]
}