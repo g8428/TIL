{
  "nbformat": 4,
  "nbformat_minor": 0,
  "metadata": {
    "colab": {
      "name": "220225_deeplearning",
      "provenance": [],
      "collapsed_sections": [],
      "include_colab_link": true
    },
    "kernelspec": {
      "name": "python3",
      "display_name": "Python 3"
    },
    "language_info": {
      "name": "python"
    }
  },
  "cells": [
    {
      "cell_type": "markdown",
      "metadata": {
        "id": "view-in-github",
        "colab_type": "text"
      },
      "source": [
        "<a href=\"https://colab.research.google.com/github/g8428/TIL/blob/master/220225_deeplearning.ipynb\" target=\"_parent\"><img src=\"https://colab.research.google.com/assets/colab-badge.svg\" alt=\"Open In Colab\"/></a>"
      ]
    },
    {
      "cell_type": "code",
      "execution_count": 56,
      "metadata": {
        "id": "9rfbz3roVuZI"
      },
      "outputs": [],
      "source": [
        "import tensorflow as tf\n",
        "import numpy as np\n",
        "import matplotlib.pyplot as plt\n",
        "import seaborn as sns"
      ]
    },
    {
      "cell_type": "code",
      "source": [
        ""
      ],
      "metadata": {
        "id": "hCQ9nBWeYVQ9"
      },
      "execution_count": null,
      "outputs": []
    },
    {
      "cell_type": "code",
      "source": [
        "tf.__version__"
      ],
      "metadata": {
        "colab": {
          "base_uri": "https://localhost:8080/",
          "height": 35
        },
        "id": "U2ItarlwV_5o",
        "outputId": "e33d3e26-f40d-4bde-ab8d-7ccf09dcb4a6"
      },
      "execution_count": 8,
      "outputs": [
        {
          "output_type": "execute_result",
          "data": {
            "application/vnd.google.colaboratory.intrinsic+json": {
              "type": "string"
            },
            "text/plain": [
              "'2.8.0'"
            ]
          },
          "metadata": {},
          "execution_count": 8
        }
      ]
    },
    {
      "cell_type": "code",
      "source": [
        "!pip install tensorflow==2.3.0"
      ],
      "metadata": {
        "colab": {
          "base_uri": "https://localhost:8080/"
        },
        "id": "c6505VkRWFSx",
        "outputId": "67c0a47b-6d65-482c-965c-d6d3d1855e93"
      },
      "execution_count": 52,
      "outputs": [
        {
          "output_type": "stream",
          "name": "stdout",
          "text": [
            "Requirement already satisfied: tensorflow==2.3.0 in /usr/local/lib/python3.7/dist-packages (2.3.0)\n",
            "Requirement already satisfied: opt-einsum>=2.3.2 in /usr/local/lib/python3.7/dist-packages (from tensorflow==2.3.0) (3.3.0)\n",
            "Requirement already satisfied: protobuf>=3.9.2 in /usr/local/lib/python3.7/dist-packages (from tensorflow==2.3.0) (3.17.3)\n",
            "Requirement already satisfied: wrapt>=1.11.1 in /usr/local/lib/python3.7/dist-packages (from tensorflow==2.3.0) (1.13.3)\n",
            "Requirement already satisfied: google-pasta>=0.1.8 in /usr/local/lib/python3.7/dist-packages (from tensorflow==2.3.0) (0.2.0)\n",
            "Requirement already satisfied: scipy==1.4.1 in /usr/local/lib/python3.7/dist-packages (from tensorflow==2.3.0) (1.4.1)\n",
            "Requirement already satisfied: h5py<2.11.0,>=2.10.0 in /usr/local/lib/python3.7/dist-packages (from tensorflow==2.3.0) (2.10.0)\n",
            "Requirement already satisfied: termcolor>=1.1.0 in /usr/local/lib/python3.7/dist-packages (from tensorflow==2.3.0) (1.1.0)\n",
            "Requirement already satisfied: gast==0.3.3 in /usr/local/lib/python3.7/dist-packages (from tensorflow==2.3.0) (0.3.3)\n",
            "Requirement already satisfied: astunparse==1.6.3 in /usr/local/lib/python3.7/dist-packages (from tensorflow==2.3.0) (1.6.3)\n",
            "Requirement already satisfied: absl-py>=0.7.0 in /usr/local/lib/python3.7/dist-packages (from tensorflow==2.3.0) (1.0.0)\n",
            "Requirement already satisfied: numpy<1.19.0,>=1.16.0 in /usr/local/lib/python3.7/dist-packages (from tensorflow==2.3.0) (1.18.5)\n",
            "Requirement already satisfied: tensorflow-estimator<2.4.0,>=2.3.0 in /usr/local/lib/python3.7/dist-packages (from tensorflow==2.3.0) (2.3.0)\n",
            "Requirement already satisfied: grpcio>=1.8.6 in /usr/local/lib/python3.7/dist-packages (from tensorflow==2.3.0) (1.43.0)\n",
            "Requirement already satisfied: keras-preprocessing<1.2,>=1.1.1 in /usr/local/lib/python3.7/dist-packages (from tensorflow==2.3.0) (1.1.2)\n",
            "Requirement already satisfied: tensorboard<3,>=2.3.0 in /usr/local/lib/python3.7/dist-packages (from tensorflow==2.3.0) (2.8.0)\n",
            "Requirement already satisfied: wheel>=0.26 in /usr/local/lib/python3.7/dist-packages (from tensorflow==2.3.0) (0.37.1)\n",
            "Requirement already satisfied: six>=1.12.0 in /usr/local/lib/python3.7/dist-packages (from tensorflow==2.3.0) (1.15.0)\n",
            "Requirement already satisfied: tensorboard-plugin-wit>=1.6.0 in /usr/local/lib/python3.7/dist-packages (from tensorboard<3,>=2.3.0->tensorflow==2.3.0) (1.8.1)\n",
            "Requirement already satisfied: werkzeug>=0.11.15 in /usr/local/lib/python3.7/dist-packages (from tensorboard<3,>=2.3.0->tensorflow==2.3.0) (1.0.1)\n",
            "Requirement already satisfied: markdown>=2.6.8 in /usr/local/lib/python3.7/dist-packages (from tensorboard<3,>=2.3.0->tensorflow==2.3.0) (3.3.6)\n",
            "Requirement already satisfied: tensorboard-data-server<0.7.0,>=0.6.0 in /usr/local/lib/python3.7/dist-packages (from tensorboard<3,>=2.3.0->tensorflow==2.3.0) (0.6.1)\n",
            "Requirement already satisfied: google-auth<3,>=1.6.3 in /usr/local/lib/python3.7/dist-packages (from tensorboard<3,>=2.3.0->tensorflow==2.3.0) (1.35.0)\n",
            "Requirement already satisfied: setuptools>=41.0.0 in /usr/local/lib/python3.7/dist-packages (from tensorboard<3,>=2.3.0->tensorflow==2.3.0) (57.4.0)\n",
            "Requirement already satisfied: google-auth-oauthlib<0.5,>=0.4.1 in /usr/local/lib/python3.7/dist-packages (from tensorboard<3,>=2.3.0->tensorflow==2.3.0) (0.4.6)\n",
            "Requirement already satisfied: requests<3,>=2.21.0 in /usr/local/lib/python3.7/dist-packages (from tensorboard<3,>=2.3.0->tensorflow==2.3.0) (2.23.0)\n",
            "Requirement already satisfied: cachetools<5.0,>=2.0.0 in /usr/local/lib/python3.7/dist-packages (from google-auth<3,>=1.6.3->tensorboard<3,>=2.3.0->tensorflow==2.3.0) (4.2.4)\n",
            "Requirement already satisfied: rsa<5,>=3.1.4 in /usr/local/lib/python3.7/dist-packages (from google-auth<3,>=1.6.3->tensorboard<3,>=2.3.0->tensorflow==2.3.0) (4.8)\n",
            "Requirement already satisfied: pyasn1-modules>=0.2.1 in /usr/local/lib/python3.7/dist-packages (from google-auth<3,>=1.6.3->tensorboard<3,>=2.3.0->tensorflow==2.3.0) (0.2.8)\n",
            "Requirement already satisfied: requests-oauthlib>=0.7.0 in /usr/local/lib/python3.7/dist-packages (from google-auth-oauthlib<0.5,>=0.4.1->tensorboard<3,>=2.3.0->tensorflow==2.3.0) (1.3.1)\n",
            "Requirement already satisfied: importlib-metadata>=4.4 in /usr/local/lib/python3.7/dist-packages (from markdown>=2.6.8->tensorboard<3,>=2.3.0->tensorflow==2.3.0) (4.11.1)\n",
            "Requirement already satisfied: typing-extensions>=3.6.4 in /usr/local/lib/python3.7/dist-packages (from importlib-metadata>=4.4->markdown>=2.6.8->tensorboard<3,>=2.3.0->tensorflow==2.3.0) (3.10.0.2)\n",
            "Requirement already satisfied: zipp>=0.5 in /usr/local/lib/python3.7/dist-packages (from importlib-metadata>=4.4->markdown>=2.6.8->tensorboard<3,>=2.3.0->tensorflow==2.3.0) (3.7.0)\n",
            "Requirement already satisfied: pyasn1<0.5.0,>=0.4.6 in /usr/local/lib/python3.7/dist-packages (from pyasn1-modules>=0.2.1->google-auth<3,>=1.6.3->tensorboard<3,>=2.3.0->tensorflow==2.3.0) (0.4.8)\n",
            "Requirement already satisfied: idna<3,>=2.5 in /usr/local/lib/python3.7/dist-packages (from requests<3,>=2.21.0->tensorboard<3,>=2.3.0->tensorflow==2.3.0) (2.10)\n",
            "Requirement already satisfied: certifi>=2017.4.17 in /usr/local/lib/python3.7/dist-packages (from requests<3,>=2.21.0->tensorboard<3,>=2.3.0->tensorflow==2.3.0) (2021.10.8)\n",
            "Requirement already satisfied: chardet<4,>=3.0.2 in /usr/local/lib/python3.7/dist-packages (from requests<3,>=2.21.0->tensorboard<3,>=2.3.0->tensorflow==2.3.0) (3.0.4)\n",
            "Requirement already satisfied: urllib3!=1.25.0,!=1.25.1,<1.26,>=1.21.1 in /usr/local/lib/python3.7/dist-packages (from requests<3,>=2.21.0->tensorboard<3,>=2.3.0->tensorflow==2.3.0) (1.24.3)\n",
            "Requirement already satisfied: oauthlib>=3.0.0 in /usr/local/lib/python3.7/dist-packages (from requests-oauthlib>=0.7.0->google-auth-oauthlib<0.5,>=0.4.1->tensorboard<3,>=2.3.0->tensorflow==2.3.0) (3.2.0)\n"
          ]
        }
      ]
    },
    {
      "cell_type": "code",
      "source": [
        "tf.__version__"
      ],
      "metadata": {
        "colab": {
          "base_uri": "https://localhost:8080/",
          "height": 35
        },
        "id": "UfBPMFKHWmPf",
        "outputId": "9fb0d864-3da5-4228-fa97-cf4bd57bb5d5"
      },
      "execution_count": 54,
      "outputs": [
        {
          "output_type": "execute_result",
          "data": {
            "application/vnd.google.colaboratory.intrinsic+json": {
              "type": "string"
            },
            "text/plain": [
              "'2.8.0'"
            ]
          },
          "metadata": {},
          "execution_count": 54
        }
      ]
    },
    {
      "cell_type": "code",
      "source": [
        "a = tf.constant(2.0) # 변하지않는수\n",
        "y = tf.constant(8.0)\n",
        "x = tf.Variable(10.0) # 변수\n",
        "\n",
        "print(a)\n",
        "print(x)"
      ],
      "metadata": {
        "colab": {
          "base_uri": "https://localhost:8080/"
        },
        "id": "1NXkXc-nW8TQ",
        "outputId": "e5d57dbd-b18d-42c6-9053-6903daa21309"
      },
      "execution_count": 5,
      "outputs": [
        {
          "output_type": "stream",
          "name": "stdout",
          "text": [
            "tf.Tensor(2.0, shape=(), dtype=float32)\n",
            "<tf.Variable 'Variable:0' shape=() dtype=float32, numpy=10.0>\n"
          ]
        }
      ]
    },
    {
      "cell_type": "code",
      "source": [
        "loss = tf.math.abs(a*x - y)\n",
        "loss"
      ],
      "metadata": {
        "id": "pNGjq1L_Xd1q",
        "colab": {
          "base_uri": "https://localhost:8080/"
        },
        "outputId": "8daf9c8f-17ba-4f1d-fca1-f270e4fbe1d7"
      },
      "execution_count": 13,
      "outputs": [
        {
          "output_type": "execute_result",
          "data": {
            "text/plain": [
              "<tf.Tensor: shape=(), dtype=float32, numpy=12.0>"
            ]
          },
          "metadata": {},
          "execution_count": 13
        }
      ]
    },
    {
      "cell_type": "code",
      "source": [
        "loss.numpy()"
      ],
      "metadata": {
        "colab": {
          "base_uri": "https://localhost:8080/"
        },
        "id": "OsjewFufYD-M",
        "outputId": "7a4e2f89-3de1-42d4-d811-2eb227ca4289"
      },
      "execution_count": 14,
      "outputs": [
        {
          "output_type": "execute_result",
          "data": {
            "text/plain": [
              "12.0"
            ]
          },
          "metadata": {},
          "execution_count": 14
        }
      ]
    },
    {
      "cell_type": "code",
      "source": [
        "def train_func():\n",
        "    #  미분  사용하기\n",
        "    with tf.GradientTape() as tape:\n",
        "        # loss 함수에서 loss 구하기\n",
        "        loss = tf.math.abs(a*x - y)\n",
        "        print('loss : {}, type : {}'.format(loss,type(loss)))\n",
        "\n",
        "    # loss에 대해 x로 미분\n",
        "    dx = tape.gradient(loss, x) \n",
        "    # x와 기울기 출력\n",
        "    print('x = {}, dx = {}'.format(x.numpy(), dx))\n",
        "\n",
        "    # 가중치 업데이트(재할당)\n",
        "    x.assign(x - dx)\n",
        "\n",
        "for i in range(4):\n",
        "    train_func()"
      ],
      "metadata": {
        "colab": {
          "base_uri": "https://localhost:8080/"
        },
        "id": "dQEicnGsYZ8S",
        "outputId": "f5be573c-c8e3-462f-e6e1-3541d58a2ea2"
      },
      "execution_count": 16,
      "outputs": [
        {
          "output_type": "stream",
          "name": "stdout",
          "text": [
            "loss : 0.0, type : <class 'tensorflow.python.framework.ops.EagerTensor'>\n",
            "x = 4.0, dx = 0.0\n",
            "loss : 0.0, type : <class 'tensorflow.python.framework.ops.EagerTensor'>\n",
            "x = 4.0, dx = 0.0\n",
            "loss : 0.0, type : <class 'tensorflow.python.framework.ops.EagerTensor'>\n",
            "x = 4.0, dx = 0.0\n",
            "loss : 0.0, type : <class 'tensorflow.python.framework.ops.EagerTensor'>\n",
            "x = 4.0, dx = 0.0\n"
          ]
        }
      ]
    },
    {
      "cell_type": "markdown",
      "source": [
        "![image.png](data:image/png;base64,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)"
      ],
      "metadata": {
        "id": "Abf-3RJQg5jM"
      }
    },
    {
      "cell_type": "code",
      "source": [
        "x = np.array(np.arange(-5, 5, 0.1))\n",
        "y = 2*x*x + 3*x + 5\n",
        "lr = 0.001\n",
        "\n",
        "w1 = tf.Variable(1.0)\n",
        "w2 = tf.Variable(1.0)\n",
        "b = tf.Variable(1.0)\n",
        "var_list = [w1,w2,b]\n",
        "\n",
        "#mse 구하기\n",
        "squared = tf.square(w1*x*x + w2*x + b - y)\n",
        "mse = tf.reduce_mean(squared)\n",
        "#rmse\n",
        "rmse = tf.sqrt(mse)\n",
        "loss = rmse\n",
        "#loss\n",
        "histLoss = []\n",
        "for epoch in range(10000):\n",
        "    with tf.GradientTape() as tape:\n",
        "        loss = tf.sqrt(tf.reduce_mean(tf.square(w1*x*x + w2*x + b - y)))\n",
        "    \n",
        "    dw1,dw2,db = tape.gradient(loss, var_list)\n",
        "\n",
        "    # w1.assign(w1 - lr*dw1)\n",
        "    w1.assign_sub(lr*dw1)\n",
        "    w2.assign_sub(lr*dw2)\n",
        "    b.assign_sub(lr*db)\n",
        "\n",
        "    histLoss.append(loss)\n",
        "    if epoch % 50 == 0:\n",
        "        print(f'epoch = {epoch}, loss = {loss}')"
      ],
      "metadata": {
        "id": "6P-lXGCYmBv2"
      },
      "execution_count": null,
      "outputs": []
    },
    {
      "cell_type": "code",
      "source": [
        "plt.plot(histLoss, color='red', linewidth = 1)\n",
        "plt.title('loss func')\n",
        "plt.xlabel('epoch')\n",
        "plt.ylabel('loss')\n",
        "\n",
        "plt.show();"
      ],
      "metadata": {
        "colab": {
          "base_uri": "https://localhost:8080/",
          "height": 295
        },
        "id": "Tpu1jnCTjKVV",
        "outputId": "7e20a82b-1b57-4213-f2b4-512aa15dab7f"
      },
      "execution_count": 22,
      "outputs": [
        {
          "output_type": "display_data",
          "data": {
            "image/png": "[encoded data removed]",
            "text/plain": [
              "<Figure size 432x288 with 1 Axes>"
            ]
          },
          "metadata": {
            "needs_background": "light"
          }
        }
      ]
    },
    {
      "cell_type": "code",
      "source": [
        "from tensorflow.keras import optimizers"
      ],
      "metadata": {
        "id": "HxEsXhTSksxf"
      },
      "execution_count": 23,
      "outputs": []
    },
    {
      "cell_type": "code",
      "source": [
        "x = np.array(np.arange(-5, 5, 0.1))\n",
        "y = 2*x*x + 3*x + 5\n",
        "lr = 0.001\n",
        "\n",
        "w1 = tf.Variable(1.0)\n",
        "w2 = tf.Variable(1.0)\n",
        "b = tf.Variable(1.0)\n",
        "var_list = [w1,w2,b]\n",
        "\n",
        "#최적화설정 - ada 모멘텀, ada 그래디언트 등\n",
        "opt = optimizers.SGD(learning_rate=lr, momentum=0.7) # 스토캐스틱 그래디언트 디센트\n",
        "\n",
        "\n",
        "#mse 구하기\n",
        "squared = tf.square(w1*x*x + w2*x + b - y)\n",
        "mse = tf.reduce_mean(squared)\n",
        "#rmse\n",
        "rmse = tf.sqrt(mse)\n",
        "loss = rmse\n",
        "#loss\n",
        "histLoss = []\n",
        "for epoch in range(10000):\n",
        "    with tf.GradientTape() as tape:\n",
        "        loss = tf.sqrt(tf.reduce_mean(tf.square(w1*x*x + w2*x + b - y)))\n",
        "    \n",
        "    grads = tape.gradient(loss, var_list)\n",
        "    \n",
        "    # 가중치 업데이트\n",
        "    opt.apply_gradients(zip(grads,var_list))\n",
        "\n",
        "    histLoss.append(loss)\n",
        "    if epoch % 500 == 0:\n",
        "        print(f'epoch = {epoch}, loss = {loss}')\n"
      ],
      "metadata": {
        "colab": {
          "base_uri": "https://localhost:8080/"
        },
        "id": "BEQNFUY3eUbA",
        "outputId": "491b5d2c-3ac4-4673-94bc-25c6954f4eef"
      },
      "execution_count": 25,
      "outputs": [
        {
          "output_type": "stream",
          "name": "stdout",
          "text": [
            "epoch = 0, loss = 15.339600563049316\n",
            "epoch = 500, loss = 2.023297071456909\n",
            "epoch = 1000, loss = 1.2853883504867554\n",
            "epoch = 1500, loss = 0.5479283332824707\n",
            "epoch = 2000, loss = 0.0375760979950428\n",
            "epoch = 2500, loss = 0.03759327903389931\n",
            "epoch = 3000, loss = 0.03759327903389931\n",
            "epoch = 3500, loss = 0.03759327903389931\n",
            "epoch = 4000, loss = 0.03759327903389931\n",
            "epoch = 4500, loss = 0.03759327903389931\n",
            "epoch = 5000, loss = 0.03759327903389931\n",
            "epoch = 5500, loss = 0.03759327903389931\n",
            "epoch = 6000, loss = 0.03759327903389931\n",
            "epoch = 6500, loss = 0.03759327903389931\n",
            "epoch = 7000, loss = 0.03759327903389931\n",
            "epoch = 7500, loss = 0.03759327903389931\n",
            "epoch = 8000, loss = 0.03759327903389931\n",
            "epoch = 8500, loss = 0.03759327903389931\n",
            "epoch = 9000, loss = 0.03759327903389931\n",
            "epoch = 9500, loss = 0.03759327903389931\n"
          ]
        }
      ]
    },
    {
      "cell_type": "code",
      "source": [
        "plt.plot(histLoss, color='red', linewidth = 1)\n",
        "plt.title('loss func')\n",
        "plt.xlabel('epoch')\n",
        "plt.ylabel('loss')\n",
        "\n",
        "plt.show();"
      ],
      "metadata": {
        "colab": {
          "base_uri": "https://localhost:8080/",
          "height": 295
        },
        "id": "oQS9bqDFjjli",
        "outputId": "1669e5f5-8c51-4a2a-8bc2-7a5462cbcc65"
      },
      "execution_count": 26,
      "outputs": [
        {
          "output_type": "display_data",
          "data": {
            "image/png": "[encoded data removed]",
            "text/plain": [
              "<Figure size 432x288 with 1 Axes>"
            ]
          },
          "metadata": {
            "needs_background": "light"
          }
        }
      ]
    },
    {
      "cell_type": "code",
      "source": [
        ""
      ],
      "metadata": {
        "id": "HLO0e6CqmmuS"
      },
      "execution_count": null,
      "outputs": []
    },
    {
      "cell_type": "markdown",
      "source": [
        "ADAM으로 해보기"
      ],
      "metadata": {
        "id": "cnxPXROlqbh7"
      }
    },
    {
      "cell_type": "code",
      "source": [
        "x = np.array(np.arange(-5, 5, 0.1))\n",
        "y = 2*x*x + 3*x + 5\n",
        "lr = 0.001\n",
        "\n",
        "w1 = tf.Variable(1.0)\n",
        "w2 = tf.Variable(1.0)\n",
        "b = tf.Variable(1.0)\n",
        "var_list = [w1, w2, b]\n",
        "\n",
        "#Momentum 적용 # ADAM\n",
        "opt = optimizers.Adam(learning_rate=lr)\n",
        "\n",
        "def loss():\n",
        "    return tf.sqrt(tf.reduce_mean(tf.square(w1*x*x + w2*x + b - y)))\n",
        "\n",
        "histLoss = []\n",
        "for epoch in range(10000):\n",
        "    opt.minimize(loss, var_list=var_list)\n",
        "\n",
        "    histLoss.append(loss())\n",
        "    if epoch % 500 == 0:\n",
        "        print(f\"epoch = {epoch}, loss = {histLoss[-1]}\")\n"
      ],
      "metadata": {
        "colab": {
          "base_uri": "https://localhost:8080/"
        },
        "id": "3hDYsOJfqf00",
        "outputId": "aebba2cf-b92e-4fda-b501-2d12129b031b"
      },
      "execution_count": 30,
      "outputs": [
        {
          "output_type": "stream",
          "name": "stdout",
          "text": [
            "epoch = 0, loss = 15.327645301818848\n",
            "epoch = 500, loss = 9.454402923583984\n",
            "epoch = 1000, loss = 4.24637508392334\n",
            "epoch = 1500, loss = 1.924774408340454\n",
            "epoch = 2000, loss = 1.4152452945709229\n",
            "epoch = 2500, loss = 1.0947701930999756\n",
            "epoch = 3000, loss = 0.7711126804351807\n",
            "epoch = 3500, loss = 0.44227054715156555\n",
            "epoch = 4000, loss = 0.11060574650764465\n",
            "epoch = 4500, loss = 0.0014593740925192833\n",
            "epoch = 5000, loss = 0.0010765924816951156\n",
            "epoch = 5500, loss = 0.000934886746108532\n",
            "epoch = 6000, loss = 0.0008642280008643866\n",
            "epoch = 6500, loss = 0.0008157610427588224\n",
            "epoch = 7000, loss = 0.0007883155485615134\n",
            "epoch = 7500, loss = 0.0008120921556837857\n",
            "epoch = 8000, loss = 0.0008039077511057258\n",
            "epoch = 8500, loss = 0.0007456461316905916\n",
            "epoch = 9000, loss = 0.0006982177728787065\n",
            "epoch = 9500, loss = 0.0006752163171768188\n"
          ]
        }
      ]
    },
    {
      "cell_type": "code",
      "source": [
        "plt.plot(histLoss, color='red', linewidth = 1)\n",
        "plt.title('loss func')\n",
        "plt.xlabel('epoch')\n",
        "plt.ylabel('loss')\n",
        "\n",
        "plt.show();"
      ],
      "metadata": {
        "colab": {
          "base_uri": "https://localhost:8080/",
          "height": 295
        },
        "id": "WEP4kSWurEny",
        "outputId": "2ed91c8b-0d34-42fb-dd4f-5dd65cc2b837"
      },
      "execution_count": 31,
      "outputs": [
        {
          "output_type": "display_data",
          "data": {
            "image/png": "[encoded data removed]",
            "text/plain": [
              "<Figure size 432x288 with 1 Axes>"
            ]
          },
          "metadata": {
            "needs_background": "light"
          }
        }
      ]
    },
    {
      "cell_type": "code",
      "source": [
        ""
      ],
      "metadata": {
        "id": "l1i_WxCVrsJL"
      },
      "execution_count": null,
      "outputs": []
    },
    {
      "cell_type": "markdown",
      "source": [
        "## Keras\n",
        "- 반복작업 줄이기\n",
        "- 텐서플로를 쉽게 쓸 수 있는 프레임워크\n",
        "- tensorflow.keras에서 import\n",
        "- keras코드를 쓰면 내부적으로 tensorflow 기능 동작\n",
        "- 케라스는 Sequential 방식, functional API 방식\n",
        "- Tensorflow만 설치하면 내장된 keras 사용가능"
      ],
      "metadata": {
        "id": "xzJ4oPUZsGGR"
      }
    },
    {
      "cell_type": "markdown",
      "source": [
        "![image.png](data:image/png;base64,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)"
      ],
      "metadata": {
        "id": "69t8Xm8Rspbh"
      }
    },
    {
      "cell_type": "markdown",
      "source": [
        "- Sequential"
      ],
      "metadata": {
        "id": "F3DZ7PPUtuHs"
      }
    },
    {
      "cell_type": "code",
      "source": [
        "from tensorflow.keras.layers import Dense\n",
        "from tensorflow.keras.models import Sequential\n",
        "\n",
        "x = np.array(np.arange(-5, 5, 0.1))\n",
        "y = 2*x*x + 3*x + 5\n",
        "\n",
        "dataX = np.stack([x*x, x]).T"
      ],
      "metadata": {
        "id": "GzxCxbPpsjxr"
      },
      "execution_count": 126,
      "outputs": []
    },
    {
      "cell_type": "code",
      "source": [
        "model = Sequential()\n",
        "model.add(Dense(1,input_dim=2)) # 시퀀셜하게 모델을 붙이기\n",
        "model.compile(loss='mse', optimizer=optimizers.RMSprop(lr=0.05))\n",
        "h = model.fit(dataX,y,batch_size=10, epochs=300) #10개씩 300번 돌리기\n"
      ],
      "metadata": {
        "colab": {
          "base_uri": "https://localhost:8080/"
        },
        "id": "PVZJj-hXumd0",
        "outputId": "12ecc068-5e80-4047-9cc1-dc3608c3292b"
      },
      "execution_count": 127,
      "outputs": [
        {
          "output_type": "stream",
          "name": "stderr",
          "text": [
            "/usr/local/lib/python3.7/dist-packages/keras/optimizer_v2/rmsprop.py:130: UserWarning: The `lr` argument is deprecated, use `learning_rate` instead.\n",
            "  super(RMSprop, self).__init__(name, **kwargs)\n"
          ]
        },
        {
          "output_type": "stream",
          "name": "stdout",
          "text": [
            "Train on 100 samples\n",
            "Epoch 1/300\n",
            "100/100 [==============================] - 1s 9ms/sample - loss: 1372.3911\n",
            "Epoch 2/300\n",
            "100/100 [==============================] - 0s 275us/sample - loss: 920.6666\n",
            "Epoch 3/300\n",
            "100/100 [==============================] - 0s 319us/sample - loss: 633.5316\n",
            "Epoch 4/300\n",
            "100/100 [==============================] - 0s 286us/sample - loss: 417.7720\n",
            "Epoch 5/300\n",
            "100/100 [==============================] - 0s 282us/sample - loss: 258.6115\n",
            "Epoch 6/300\n",
            "100/100 [==============================] - 0s 228us/sample - loss: 143.0222\n",
            "Epoch 7/300\n",
            "100/100 [==============================] - 0s 267us/sample - loss: 67.3801\n",
            "Epoch 8/300\n",
            "100/100 [==============================] - 0s 307us/sample - loss: 25.0402\n",
            "Epoch 9/300\n",
            "100/100 [==============================] - 0s 242us/sample - loss: 6.6221\n",
            "Epoch 10/300\n",
            "100/100 [==============================] - 0s 253us/sample - loss: 1.6256\n",
            "Epoch 11/300\n",
            "100/100 [==============================] - 0s 252us/sample - loss: 0.6905\n",
            "Epoch 12/300\n",
            "100/100 [==============================] - 0s 286us/sample - loss: 0.4310\n",
            "Epoch 13/300\n",
            "100/100 [==============================] - 0s 372us/sample - loss: 0.2831\n",
            "Epoch 14/300\n",
            "100/100 [==============================] - 0s 264us/sample - loss: 0.1458\n",
            "Epoch 15/300\n",
            "100/100 [==============================] - 0s 275us/sample - loss: 0.0697\n",
            "Epoch 16/300\n",
            "100/100 [==============================] - 0s 267us/sample - loss: 0.2853\n",
            "Epoch 17/300\n",
            "100/100 [==============================] - 0s 293us/sample - loss: 0.0045\n",
            "Epoch 18/300\n",
            "100/100 [==============================] - 0s 351us/sample - loss: 0.0287\n",
            "Epoch 19/300\n",
            "100/100 [==============================] - 0s 323us/sample - loss: 0.2092\n",
            "Epoch 20/300\n",
            "100/100 [==============================] - 0s 232us/sample - loss: 9.9533e-05\n",
            "Epoch 21/300\n",
            "100/100 [==============================] - 0s 219us/sample - loss: 0.1227\n",
            "Epoch 22/300\n",
            "100/100 [==============================] - 0s 247us/sample - loss: 0.2636\n",
            "Epoch 23/300\n",
            "100/100 [==============================] - 0s 248us/sample - loss: 1.7946e-05\n",
            "Epoch 24/300\n",
            "100/100 [==============================] - 0s 232us/sample - loss: 0.0026\n",
            "Epoch 25/300\n",
            "100/100 [==============================] - 0s 212us/sample - loss: 0.1664\n",
            "Epoch 26/300\n",
            "100/100 [==============================] - 0s 221us/sample - loss: 0.0029\n",
            "Epoch 27/300\n",
            "100/100 [==============================] - 0s 217us/sample - loss: 0.2043\n",
            "Epoch 28/300\n",
            "100/100 [==============================] - 0s 194us/sample - loss: 0.0829\n",
            "Epoch 29/300\n",
            "100/100 [==============================] - 0s 244us/sample - loss: 5.1736e-04\n",
            "Epoch 30/300\n",
            "100/100 [==============================] - 0s 220us/sample - loss: 0.1999\n",
            "Epoch 31/300\n",
            "100/100 [==============================] - 0s 230us/sample - loss: 5.1199e-05\n",
            "Epoch 32/300\n",
            "100/100 [==============================] - 0s 308us/sample - loss: 0.1260\n",
            "Epoch 33/300\n",
            "100/100 [==============================] - 0s 221us/sample - loss: 0.0480\n",
            "Epoch 34/300\n",
            "100/100 [==============================] - 0s 319us/sample - loss: 0.1750\n",
            "Epoch 35/300\n",
            "100/100 [==============================] - 0s 226us/sample - loss: 0.0079\n",
            "Epoch 36/300\n",
            "100/100 [==============================] - 0s 198us/sample - loss: 0.1617\n",
            "Epoch 37/300\n",
            "100/100 [==============================] - 0s 234us/sample - loss: 4.1287e-04\n",
            "Epoch 38/300\n",
            "100/100 [==============================] - 0s 266us/sample - loss: 0.1554\n",
            "Epoch 39/300\n",
            "100/100 [==============================] - 0s 264us/sample - loss: 0.0018\n",
            "Epoch 40/300\n",
            "100/100 [==============================] - 0s 293us/sample - loss: 0.2348\n",
            "Epoch 41/300\n",
            "100/100 [==============================] - 0s 307us/sample - loss: 9.9817e-05\n",
            "Epoch 42/300\n",
            "100/100 [==============================] - 0s 282us/sample - loss: 0.1254\n",
            "Epoch 43/300\n",
            "100/100 [==============================] - 0s 279us/sample - loss: 0.0063\n",
            "Epoch 44/300\n",
            "100/100 [==============================] - 0s 240us/sample - loss: 0.2195\n",
            "Epoch 45/300\n",
            "100/100 [==============================] - 0s 220us/sample - loss: 0.0807\n",
            "Epoch 46/300\n",
            "100/100 [==============================] - 0s 215us/sample - loss: 1.0650e-04\n",
            "Epoch 47/300\n",
            "100/100 [==============================] - 0s 287us/sample - loss: 0.1592\n",
            "Epoch 48/300\n",
            "100/100 [==============================] - 0s 220us/sample - loss: 0.0183\n",
            "Epoch 49/300\n",
            "100/100 [==============================] - 0s 193us/sample - loss: 0.1527\n",
            "Epoch 50/300\n",
            "100/100 [==============================] - 0s 207us/sample - loss: 0.0697\n",
            "Epoch 51/300\n",
            "100/100 [==============================] - 0s 196us/sample - loss: 0.0761\n",
            "Epoch 52/300\n",
            "100/100 [==============================] - 0s 191us/sample - loss: 0.0107\n",
            "Epoch 53/300\n",
            "100/100 [==============================] - 0s 232us/sample - loss: 0.1616\n",
            "Epoch 54/300\n",
            "100/100 [==============================] - 0s 215us/sample - loss: 0.0045\n",
            "Epoch 55/300\n",
            "100/100 [==============================] - 0s 236us/sample - loss: 0.1485\n",
            "Epoch 56/300\n",
            "100/100 [==============================] - 0s 207us/sample - loss: 0.0021\n",
            "Epoch 57/300\n",
            "100/100 [==============================] - 0s 208us/sample - loss: 0.1469\n",
            "Epoch 58/300\n",
            "100/100 [==============================] - 0s 285us/sample - loss: 0.1862\n",
            "Epoch 59/300\n",
            "100/100 [==============================] - 0s 221us/sample - loss: 5.8985e-04\n",
            "Epoch 60/300\n",
            "100/100 [==============================] - 0s 220us/sample - loss: 0.1591\n",
            "Epoch 61/300\n",
            "100/100 [==============================] - 0s 211us/sample - loss: 0.0212\n",
            "Epoch 62/300\n",
            "100/100 [==============================] - 0s 206us/sample - loss: 0.2432\n",
            "Epoch 63/300\n",
            "100/100 [==============================] - 0s 234us/sample - loss: 0.0926\n",
            "Epoch 64/300\n",
            "100/100 [==============================] - 0s 198us/sample - loss: 1.0893e-05\n",
            "Epoch 65/300\n",
            "100/100 [==============================] - 0s 266us/sample - loss: 9.7599e-04\n",
            "Epoch 66/300\n",
            "100/100 [==============================] - 0s 212us/sample - loss: 0.2000\n",
            "Epoch 67/300\n",
            "100/100 [==============================] - 0s 201us/sample - loss: 0.0032\n",
            "Epoch 68/300\n",
            "100/100 [==============================] - 0s 226us/sample - loss: 0.2200\n",
            "Epoch 69/300\n",
            "100/100 [==============================] - 0s 233us/sample - loss: 3.8908e-06\n",
            "Epoch 70/300\n",
            "100/100 [==============================] - 0s 220us/sample - loss: 0.0308\n",
            "Epoch 71/300\n",
            "100/100 [==============================] - 0s 245us/sample - loss: 0.1705\n",
            "Epoch 72/300\n",
            "100/100 [==============================] - 0s 266us/sample - loss: 0.0878\n",
            "Epoch 73/300\n",
            "100/100 [==============================] - 0s 210us/sample - loss: 1.6084e-04\n",
            "Epoch 74/300\n",
            "100/100 [==============================] - 0s 193us/sample - loss: 0.1768\n",
            "Epoch 75/300\n",
            "100/100 [==============================] - 0s 217us/sample - loss: 0.0918\n",
            "Epoch 76/300\n",
            "100/100 [==============================] - 0s 203us/sample - loss: 0.0152\n",
            "Epoch 77/300\n",
            "100/100 [==============================] - 0s 192us/sample - loss: 0.1528\n",
            "Epoch 78/300\n",
            "100/100 [==============================] - 0s 194us/sample - loss: 0.0245\n",
            "Epoch 79/300\n",
            "100/100 [==============================] - 0s 199us/sample - loss: 0.1555\n",
            "Epoch 80/300\n",
            "100/100 [==============================] - 0s 201us/sample - loss: 0.1683\n",
            "Epoch 81/300\n",
            "100/100 [==============================] - 0s 244us/sample - loss: 0.0010\n",
            "Epoch 82/300\n",
            "100/100 [==============================] - 0s 298us/sample - loss: 0.2527\n",
            "Epoch 83/300\n",
            "100/100 [==============================] - 0s 319us/sample - loss: 0.0024\n",
            "Epoch 84/300\n",
            "100/100 [==============================] - 0s 247us/sample - loss: 5.0558e-04\n",
            "Epoch 85/300\n",
            "100/100 [==============================] - 0s 253us/sample - loss: 0.1637\n",
            "Epoch 86/300\n",
            "100/100 [==============================] - 0s 256us/sample - loss: 3.7808e-04\n",
            "Epoch 87/300\n",
            "100/100 [==============================] - 0s 286us/sample - loss: 0.2450\n",
            "Epoch 88/300\n",
            "100/100 [==============================] - 0s 292us/sample - loss: 8.5322e-04\n",
            "Epoch 89/300\n",
            "100/100 [==============================] - 0s 255us/sample - loss: 0.2708\n",
            "Epoch 90/300\n",
            "100/100 [==============================] - 0s 224us/sample - loss: 0.0166\n",
            "Epoch 91/300\n",
            "100/100 [==============================] - 0s 212us/sample - loss: 1.4692e-05\n",
            "Epoch 92/300\n",
            "100/100 [==============================] - 0s 207us/sample - loss: 0.0970\n",
            "Epoch 93/300\n",
            "100/100 [==============================] - 0s 269us/sample - loss: 0.1697\n",
            "Epoch 94/300\n",
            "100/100 [==============================] - 0s 188us/sample - loss: 0.0201\n",
            "Epoch 95/300\n",
            "100/100 [==============================] - 0s 217us/sample - loss: 0.0537\n",
            "Epoch 96/300\n",
            "100/100 [==============================] - 0s 243us/sample - loss: 0.0673\n",
            "Epoch 97/300\n",
            "100/100 [==============================] - 0s 211us/sample - loss: 0.1289\n",
            "Epoch 98/300\n",
            "100/100 [==============================] - 0s 188us/sample - loss: 0.0855\n",
            "Epoch 99/300\n",
            "100/100 [==============================] - 0s 268us/sample - loss: 0.1811\n",
            "Epoch 100/300\n",
            "100/100 [==============================] - 0s 255us/sample - loss: 0.0013\n",
            "Epoch 101/300\n",
            "100/100 [==============================] - 0s 190us/sample - loss: 0.2214\n",
            "Epoch 102/300\n",
            "100/100 [==============================] - 0s 211us/sample - loss: 2.9610e-06\n",
            "Epoch 103/300\n",
            "100/100 [==============================] - 0s 202us/sample - loss: 0.0389\n",
            "Epoch 104/300\n",
            "100/100 [==============================] - 0s 196us/sample - loss: 0.2324\n",
            "Epoch 105/300\n",
            "100/100 [==============================] - 0s 191us/sample - loss: 2.4174e-05\n",
            "Epoch 106/300\n",
            "100/100 [==============================] - 0s 255us/sample - loss: 0.0584\n",
            "Epoch 107/300\n",
            "100/100 [==============================] - 0s 200us/sample - loss: 0.1383\n",
            "Epoch 108/300\n",
            "100/100 [==============================] - 0s 200us/sample - loss: 0.1491\n",
            "Epoch 109/300\n",
            "100/100 [==============================] - 0s 204us/sample - loss: 0.0265\n",
            "Epoch 110/300\n",
            "100/100 [==============================] - 0s 219us/sample - loss: 0.1572\n",
            "Epoch 111/300\n",
            "100/100 [==============================] - 0s 240us/sample - loss: 0.0223\n",
            "Epoch 112/300\n",
            "100/100 [==============================] - 0s 223us/sample - loss: 0.0095\n",
            "Epoch 113/300\n",
            "100/100 [==============================] - 0s 225us/sample - loss: 0.1639\n",
            "Epoch 114/300\n",
            "100/100 [==============================] - 0s 251us/sample - loss: 0.0029\n",
            "Epoch 115/300\n",
            "100/100 [==============================] - 0s 217us/sample - loss: 0.1823\n",
            "Epoch 116/300\n",
            "100/100 [==============================] - 0s 199us/sample - loss: 0.0659\n",
            "Epoch 117/300\n",
            "100/100 [==============================] - 0s 185us/sample - loss: 0.0025\n",
            "Epoch 118/300\n",
            "100/100 [==============================] - 0s 198us/sample - loss: 0.2199\n",
            "Epoch 119/300\n",
            "100/100 [==============================] - 0s 285us/sample - loss: 1.5705e-04\n",
            "Epoch 120/300\n",
            "100/100 [==============================] - 0s 217us/sample - loss: 0.2027\n",
            "Epoch 121/300\n",
            "100/100 [==============================] - 0s 208us/sample - loss: 0.0122\n",
            "Epoch 122/300\n",
            "100/100 [==============================] - 0s 240us/sample - loss: 0.1979\n",
            "Epoch 123/300\n",
            "100/100 [==============================] - 0s 314us/sample - loss: 0.0263\n",
            "Epoch 124/300\n",
            "100/100 [==============================] - 0s 222us/sample - loss: 0.0015\n",
            "Epoch 125/300\n",
            "100/100 [==============================] - 0s 252us/sample - loss: 0.2050\n",
            "Epoch 126/300\n",
            "100/100 [==============================] - 0s 194us/sample - loss: 1.9594e-04\n",
            "Epoch 127/300\n",
            "100/100 [==============================] - 0s 283us/sample - loss: 0.2219\n",
            "Epoch 128/300\n",
            "100/100 [==============================] - 0s 260us/sample - loss: 0.0454\n",
            "Epoch 129/300\n",
            "100/100 [==============================] - 0s 214us/sample - loss: 0.0156\n",
            "Epoch 130/300\n",
            "100/100 [==============================] - 0s 284us/sample - loss: 0.2345\n",
            "Epoch 131/300\n",
            "100/100 [==============================] - 0s 253us/sample - loss: 1.1279e-04\n",
            "Epoch 132/300\n",
            "100/100 [==============================] - 0s 231us/sample - loss: 0.0407\n",
            "Epoch 133/300\n",
            "100/100 [==============================] - 0s 228us/sample - loss: 0.1143\n",
            "Epoch 134/300\n",
            "100/100 [==============================] - 0s 238us/sample - loss: 0.1840\n",
            "Epoch 135/300\n",
            "100/100 [==============================] - 0s 254us/sample - loss: 0.0016\n",
            "Epoch 136/300\n",
            "100/100 [==============================] - 0s 286us/sample - loss: 0.0247\n",
            "Epoch 137/300\n",
            "100/100 [==============================] - 0s 260us/sample - loss: 0.2573\n",
            "Epoch 138/300\n",
            "100/100 [==============================] - 0s 264us/sample - loss: 8.1191e-06\n",
            "Epoch 139/300\n",
            "100/100 [==============================] - 0s 292us/sample - loss: 0.1494\n",
            "Epoch 140/300\n",
            "100/100 [==============================] - 0s 337us/sample - loss: 0.0597\n",
            "Epoch 141/300\n",
            "100/100 [==============================] - 0s 281us/sample - loss: 0.0022\n",
            "Epoch 142/300\n",
            "100/100 [==============================] - 0s 244us/sample - loss: 0.3503\n",
            "Epoch 143/300\n",
            "100/100 [==============================] - 0s 252us/sample - loss: 1.0164e-04\n",
            "Epoch 144/300\n",
            "100/100 [==============================] - 0s 201us/sample - loss: 6.3695e-05\n",
            "Epoch 145/300\n",
            "100/100 [==============================] - 0s 264us/sample - loss: 0.2320\n",
            "Epoch 146/300\n",
            "100/100 [==============================] - 0s 212us/sample - loss: 0.0152\n",
            "Epoch 147/300\n",
            "100/100 [==============================] - 0s 292us/sample - loss: 5.4495e-04\n",
            "Epoch 148/300\n",
            "100/100 [==============================] - 0s 243us/sample - loss: 0.2736\n",
            "Epoch 149/300\n",
            "100/100 [==============================] - 0s 207us/sample - loss: 0.0023\n",
            "Epoch 150/300\n",
            "100/100 [==============================] - 0s 201us/sample - loss: 0.0237\n",
            "Epoch 151/300\n",
            "100/100 [==============================] - 0s 225us/sample - loss: 0.2118\n",
            "Epoch 152/300\n",
            "100/100 [==============================] - 0s 233us/sample - loss: 3.9486e-04\n",
            "Epoch 153/300\n",
            "100/100 [==============================] - 0s 224us/sample - loss: 0.1564\n",
            "Epoch 154/300\n",
            "100/100 [==============================] - 0s 291us/sample - loss: 0.0168\n",
            "Epoch 155/300\n",
            "100/100 [==============================] - 0s 220us/sample - loss: 0.1800\n",
            "Epoch 156/300\n",
            "100/100 [==============================] - 0s 219us/sample - loss: 0.0071\n",
            "Epoch 157/300\n",
            "100/100 [==============================] - 0s 239us/sample - loss: 0.1089\n",
            "Epoch 158/300\n",
            "100/100 [==============================] - 0s 207us/sample - loss: 0.1734\n",
            "Epoch 159/300\n",
            "100/100 [==============================] - 0s 209us/sample - loss: 0.0855\n",
            "Epoch 160/300\n",
            "100/100 [==============================] - 0s 250us/sample - loss: 0.0098\n",
            "Epoch 161/300\n",
            "100/100 [==============================] - 0s 254us/sample - loss: 0.0456\n",
            "Epoch 162/300\n",
            "100/100 [==============================] - 0s 264us/sample - loss: 0.1423\n",
            "Epoch 163/300\n",
            "100/100 [==============================] - 0s 246us/sample - loss: 0.1271\n",
            "Epoch 164/300\n",
            "100/100 [==============================] - 0s 248us/sample - loss: 0.0168\n",
            "Epoch 165/300\n",
            "100/100 [==============================] - 0s 197us/sample - loss: 0.2813\n",
            "Epoch 166/300\n",
            "100/100 [==============================] - 0s 212us/sample - loss: 2.2313e-06\n",
            "Epoch 167/300\n",
            "100/100 [==============================] - 0s 212us/sample - loss: 1.2848e-04\n",
            "Epoch 168/300\n",
            "100/100 [==============================] - 0s 205us/sample - loss: 0.2513\n",
            "Epoch 169/300\n",
            "100/100 [==============================] - 0s 259us/sample - loss: 5.3671e-04\n",
            "Epoch 170/300\n",
            "100/100 [==============================] - 0s 312us/sample - loss: 0.0112\n",
            "Epoch 171/300\n",
            "100/100 [==============================] - 0s 219us/sample - loss: 0.1965\n",
            "Epoch 172/300\n",
            "100/100 [==============================] - 0s 200us/sample - loss: 0.0011\n",
            "Epoch 173/300\n",
            "100/100 [==============================] - 0s 248us/sample - loss: 0.2102\n",
            "Epoch 174/300\n",
            "100/100 [==============================] - 0s 242us/sample - loss: 4.2790e-04\n",
            "Epoch 175/300\n",
            "100/100 [==============================] - 0s 277us/sample - loss: 0.0511\n",
            "Epoch 176/300\n",
            "100/100 [==============================] - 0s 294us/sample - loss: 0.1611\n",
            "Epoch 177/300\n",
            "100/100 [==============================] - 0s 256us/sample - loss: 2.5229e-04\n",
            "Epoch 178/300\n",
            "100/100 [==============================] - 0s 254us/sample - loss: 0.1598\n",
            "Epoch 179/300\n",
            "100/100 [==============================] - 0s 303us/sample - loss: 0.1019\n",
            "Epoch 180/300\n",
            "100/100 [==============================] - 0s 363us/sample - loss: 0.0017\n",
            "Epoch 181/300\n",
            "100/100 [==============================] - 0s 235us/sample - loss: 0.0984\n",
            "Epoch 182/300\n",
            "100/100 [==============================] - 0s 243us/sample - loss: 0.2154\n",
            "Epoch 183/300\n",
            "100/100 [==============================] - 0s 238us/sample - loss: 0.0017\n",
            "Epoch 184/300\n",
            "100/100 [==============================] - 0s 273us/sample - loss: 0.1676\n",
            "Epoch 185/300\n",
            "100/100 [==============================] - 0s 286us/sample - loss: 0.0152\n",
            "Epoch 186/300\n",
            "100/100 [==============================] - 0s 304us/sample - loss: 0.1815\n",
            "Epoch 187/300\n",
            "100/100 [==============================] - 0s 229us/sample - loss: 0.0023\n",
            "Epoch 188/300\n",
            "100/100 [==============================] - 0s 239us/sample - loss: 0.0187\n",
            "Epoch 189/300\n",
            "100/100 [==============================] - 0s 198us/sample - loss: 0.2067\n",
            "Epoch 190/300\n",
            "100/100 [==============================] - 0s 228us/sample - loss: 1.3434e-04\n",
            "Epoch 191/300\n",
            "100/100 [==============================] - 0s 205us/sample - loss: 0.1757\n",
            "Epoch 192/300\n",
            "100/100 [==============================] - 0s 190us/sample - loss: 0.0837\n",
            "Epoch 193/300\n",
            "100/100 [==============================] - 0s 206us/sample - loss: 7.1839e-04\n",
            "Epoch 194/300\n",
            "100/100 [==============================] - 0s 213us/sample - loss: 0.1620\n",
            "Epoch 195/300\n",
            "100/100 [==============================] - 0s 273us/sample - loss: 0.0544\n",
            "Epoch 196/300\n",
            "100/100 [==============================] - 0s 236us/sample - loss: 0.0068\n",
            "Epoch 197/300\n",
            "100/100 [==============================] - 0s 207us/sample - loss: 0.1892\n",
            "Epoch 198/300\n",
            "100/100 [==============================] - 0s 274us/sample - loss: 0.0021\n",
            "Epoch 199/300\n",
            "100/100 [==============================] - 0s 249us/sample - loss: 0.1480\n",
            "Epoch 200/300\n",
            "100/100 [==============================] - 0s 248us/sample - loss: 5.7485e-04\n",
            "Epoch 201/300\n",
            "100/100 [==============================] - 0s 247us/sample - loss: 0.1607\n",
            "Epoch 202/300\n",
            "100/100 [==============================] - 0s 218us/sample - loss: 0.0351\n",
            "Epoch 203/300\n",
            "100/100 [==============================] - 0s 204us/sample - loss: 0.2333\n",
            "Epoch 204/300\n",
            "100/100 [==============================] - 0s 248us/sample - loss: 2.8986e-05\n",
            "Epoch 205/300\n",
            "100/100 [==============================] - 0s 217us/sample - loss: 0.0289\n",
            "Epoch 206/300\n",
            "100/100 [==============================] - 0s 214us/sample - loss: 0.1944\n",
            "Epoch 207/300\n",
            "100/100 [==============================] - 0s 230us/sample - loss: 0.0042\n",
            "Epoch 208/300\n",
            "100/100 [==============================] - 0s 239us/sample - loss: 0.2417\n",
            "Epoch 209/300\n",
            "100/100 [==============================] - 0s 274us/sample - loss: 0.0102\n",
            "Epoch 210/300\n",
            "100/100 [==============================] - 0s 385us/sample - loss: 0.1574\n",
            "Epoch 211/300\n",
            "100/100 [==============================] - 0s 268us/sample - loss: 0.0052\n",
            "Epoch 212/300\n",
            "100/100 [==============================] - 0s 246us/sample - loss: 0.2059\n",
            "Epoch 213/300\n",
            "100/100 [==============================] - 0s 236us/sample - loss: 6.6085e-04\n",
            "Epoch 214/300\n",
            "100/100 [==============================] - 0s 222us/sample - loss: 0.0442\n",
            "Epoch 215/300\n",
            "100/100 [==============================] - 0s 246us/sample - loss: 0.1467\n",
            "Epoch 216/300\n",
            "100/100 [==============================] - 0s 231us/sample - loss: 0.0707\n",
            "Epoch 217/300\n",
            "100/100 [==============================] - 0s 211us/sample - loss: 0.1848\n",
            "Epoch 218/300\n",
            "100/100 [==============================] - 0s 239us/sample - loss: 4.1085e-04\n",
            "Epoch 219/300\n",
            "100/100 [==============================] - 0s 310us/sample - loss: 0.1563\n",
            "Epoch 220/300\n",
            "100/100 [==============================] - 0s 262us/sample - loss: 0.0307\n",
            "Epoch 221/300\n",
            "100/100 [==============================] - 0s 215us/sample - loss: 0.1669\n",
            "Epoch 222/300\n",
            "100/100 [==============================] - 0s 204us/sample - loss: 0.0078\n",
            "Epoch 223/300\n",
            "100/100 [==============================] - 0s 206us/sample - loss: 0.2174\n",
            "Epoch 224/300\n",
            "100/100 [==============================] - 0s 212us/sample - loss: 1.6567e-04\n",
            "Epoch 225/300\n",
            "100/100 [==============================] - 0s 219us/sample - loss: 0.0122\n",
            "Epoch 226/300\n",
            "100/100 [==============================] - 0s 256us/sample - loss: 0.2397\n",
            "Epoch 227/300\n",
            "100/100 [==============================] - 0s 224us/sample - loss: 0.0388\n",
            "Epoch 228/300\n",
            "100/100 [==============================] - 0s 236us/sample - loss: 0.0883\n",
            "Epoch 229/300\n",
            "100/100 [==============================] - 0s 250us/sample - loss: 0.0829\n",
            "Epoch 230/300\n",
            "100/100 [==============================] - 0s 207us/sample - loss: 0.1444\n",
            "Epoch 231/300\n",
            "100/100 [==============================] - 0s 224us/sample - loss: 9.5933e-04\n",
            "Epoch 232/300\n",
            "100/100 [==============================] - 0s 265us/sample - loss: 0.1275\n",
            "Epoch 233/300\n",
            "100/100 [==============================] - 0s 234us/sample - loss: 0.0981\n",
            "Epoch 234/300\n",
            "100/100 [==============================] - 0s 269us/sample - loss: 0.1903\n",
            "Epoch 235/300\n",
            "100/100 [==============================] - 0s 224us/sample - loss: 1.5787e-04\n",
            "Epoch 236/300\n",
            "100/100 [==============================] - 0s 283us/sample - loss: 0.1107\n",
            "Epoch 237/300\n",
            "100/100 [==============================] - 0s 221us/sample - loss: 0.1567\n",
            "Epoch 238/300\n",
            "100/100 [==============================] - 0s 252us/sample - loss: 5.7047e-04\n",
            "Epoch 239/300\n",
            "100/100 [==============================] - 0s 232us/sample - loss: 0.1498\n",
            "Epoch 240/300\n",
            "100/100 [==============================] - 0s 258us/sample - loss: 0.1062\n",
            "Epoch 241/300\n",
            "100/100 [==============================] - 0s 215us/sample - loss: 0.0272\n",
            "Epoch 242/300\n",
            "100/100 [==============================] - 0s 208us/sample - loss: 0.1922\n",
            "Epoch 243/300\n",
            "100/100 [==============================] - 0s 239us/sample - loss: 0.0054\n",
            "Epoch 244/300\n",
            "100/100 [==============================] - 0s 200us/sample - loss: 0.1489\n",
            "Epoch 245/300\n",
            "100/100 [==============================] - 0s 201us/sample - loss: 0.0599\n",
            "Epoch 246/300\n",
            "100/100 [==============================] - 0s 232us/sample - loss: 0.1036\n",
            "Epoch 247/300\n",
            "100/100 [==============================] - 0s 219us/sample - loss: 0.0770\n",
            "Epoch 248/300\n",
            "100/100 [==============================] - 0s 214us/sample - loss: 0.1435\n",
            "Epoch 249/300\n",
            "100/100 [==============================] - 0s 251us/sample - loss: 0.0142\n",
            "Epoch 250/300\n",
            "100/100 [==============================] - 0s 265us/sample - loss: 0.1182\n",
            "Epoch 251/300\n",
            "100/100 [==============================] - 0s 237us/sample - loss: 0.2140\n",
            "Epoch 252/300\n",
            "100/100 [==============================] - 0s 213us/sample - loss: 1.1415e-04\n",
            "Epoch 253/300\n",
            "100/100 [==============================] - 0s 217us/sample - loss: 0.1703\n",
            "Epoch 254/300\n",
            "100/100 [==============================] - 0s 247us/sample - loss: 0.0239\n",
            "Epoch 255/300\n",
            "100/100 [==============================] - 0s 267us/sample - loss: 0.1116\n",
            "Epoch 256/300\n",
            "100/100 [==============================] - 0s 270us/sample - loss: 4.8989e-04\n",
            "Epoch 257/300\n",
            "100/100 [==============================] - 0s 239us/sample - loss: 0.2329\n",
            "Epoch 258/300\n",
            "100/100 [==============================] - 0s 252us/sample - loss: 7.9057e-04\n",
            "Epoch 259/300\n",
            "100/100 [==============================] - 0s 313us/sample - loss: 1.5155e-04\n",
            "Epoch 260/300\n",
            "100/100 [==============================] - 0s 232us/sample - loss: 0.2166\n",
            "Epoch 261/300\n",
            "100/100 [==============================] - 0s 257us/sample - loss: 3.1340e-05\n",
            "Epoch 262/300\n",
            "100/100 [==============================] - 0s 203us/sample - loss: 0.1682\n",
            "Epoch 263/300\n",
            "100/100 [==============================] - 0s 229us/sample - loss: 0.0104\n",
            "Epoch 264/300\n",
            "100/100 [==============================] - 0s 236us/sample - loss: 0.1659\n",
            "Epoch 265/300\n",
            "100/100 [==============================] - 0s 214us/sample - loss: 0.0075\n",
            "Epoch 266/300\n",
            "100/100 [==============================] - 0s 228us/sample - loss: 0.2260\n",
            "Epoch 267/300\n",
            "100/100 [==============================] - 0s 291us/sample - loss: 0.0673\n",
            "Epoch 268/300\n",
            "100/100 [==============================] - 0s 251us/sample - loss: 0.0165\n",
            "Epoch 269/300\n",
            "100/100 [==============================] - 0s 316us/sample - loss: 0.2773\n",
            "Epoch 270/300\n",
            "100/100 [==============================] - 0s 257us/sample - loss: 3.7926e-04\n",
            "Epoch 271/300\n",
            "100/100 [==============================] - 0s 245us/sample - loss: 0.0017\n",
            "Epoch 272/300\n",
            "100/100 [==============================] - 0s 250us/sample - loss: 0.1557\n",
            "Epoch 273/300\n",
            "100/100 [==============================] - 0s 262us/sample - loss: 0.0474\n",
            "Epoch 274/300\n",
            "100/100 [==============================] - 0s 219us/sample - loss: 0.1375\n",
            "Epoch 275/300\n",
            "100/100 [==============================] - 0s 258us/sample - loss: 5.8173e-05\n",
            "Epoch 276/300\n",
            "100/100 [==============================] - 0s 255us/sample - loss: 0.1437\n",
            "Epoch 277/300\n",
            "100/100 [==============================] - 0s 256us/sample - loss: 0.0941\n",
            "Epoch 278/300\n",
            "100/100 [==============================] - 0s 268us/sample - loss: 0.1942\n",
            "Epoch 279/300\n",
            "100/100 [==============================] - 0s 231us/sample - loss: 1.0106e-05\n",
            "Epoch 280/300\n",
            "100/100 [==============================] - 0s 220us/sample - loss: 0.0892\n",
            "Epoch 281/300\n",
            "100/100 [==============================] - 0s 222us/sample - loss: 0.0946\n",
            "Epoch 282/300\n",
            "100/100 [==============================] - 0s 234us/sample - loss: 0.0969\n",
            "Epoch 283/300\n",
            "100/100 [==============================] - 0s 249us/sample - loss: 0.0336\n",
            "Epoch 284/300\n",
            "100/100 [==============================] - 0s 277us/sample - loss: 0.1018\n",
            "Epoch 285/300\n",
            "100/100 [==============================] - 0s 202us/sample - loss: 0.0684\n",
            "Epoch 286/300\n",
            "100/100 [==============================] - 0s 192us/sample - loss: 0.1179\n",
            "Epoch 287/300\n",
            "100/100 [==============================] - 0s 239us/sample - loss: 0.0409\n",
            "Epoch 288/300\n",
            "100/100 [==============================] - 0s 229us/sample - loss: 0.1054\n",
            "Epoch 289/300\n",
            "100/100 [==============================] - 0s 188us/sample - loss: 0.0819\n",
            "Epoch 290/300\n",
            "100/100 [==============================] - 0s 215us/sample - loss: 0.1377\n",
            "Epoch 291/300\n",
            "100/100 [==============================] - 0s 222us/sample - loss: 7.3637e-04\n",
            "Epoch 292/300\n",
            "100/100 [==============================] - 0s 210us/sample - loss: 0.1795\n",
            "Epoch 293/300\n",
            "100/100 [==============================] - 0s 271us/sample - loss: 0.0390\n",
            "Epoch 294/300\n",
            "100/100 [==============================] - 0s 269us/sample - loss: 0.0106\n",
            "Epoch 295/300\n",
            "100/100 [==============================] - 0s 266us/sample - loss: 0.1014\n",
            "Epoch 296/300\n",
            "100/100 [==============================] - 0s 265us/sample - loss: 0.1830\n",
            "Epoch 297/300\n",
            "100/100 [==============================] - 0s 211us/sample - loss: 0.0012\n",
            "Epoch 298/300\n",
            "100/100 [==============================] - 0s 236us/sample - loss: 0.1480\n",
            "Epoch 299/300\n",
            "100/100 [==============================] - 0s 258us/sample - loss: 0.0032\n",
            "Epoch 300/300\n",
            "100/100 [==============================] - 0s 238us/sample - loss: 0.2554\n"
          ]
        }
      ]
    },
    {
      "cell_type": "code",
      "source": [
        "plt.plot(h.history['loss'],color='red',linewidth=1)\n",
        "plt.show()"
      ],
      "metadata": {
        "colab": {
          "base_uri": "https://localhost:8080/",
          "height": 265
        },
        "id": "gabFFDwgwIc9",
        "outputId": "aa7df849-4b30-493f-8683-5058eb1fea64"
      },
      "execution_count": 128,
      "outputs": [
        {
          "output_type": "display_data",
          "data": {
            "image/png": "[encoded data removed]",
            "text/plain": [
              "<Figure size 432x288 with 1 Axes>"
            ]
          },
          "metadata": {
            "needs_background": "light"
          }
        }
      ]
    },
    {
      "cell_type": "code",
      "source": [
        "model.summary()"
      ],
      "metadata": {
        "colab": {
          "base_uri": "https://localhost:8080/"
        },
        "id": "SVZWYK8WwtQ8",
        "outputId": "89019682-25c7-44d7-a3fb-e2d54950a7a6"
      },
      "execution_count": 129,
      "outputs": [
        {
          "output_type": "stream",
          "name": "stdout",
          "text": [
            "Model: \"sequential_4\"\n",
            "_________________________________________________________________\n",
            " Layer (type)                Output Shape              Param #   \n",
            "=================================================================\n",
            " dense_63 (Dense)            (None, 1)                 3         \n",
            "                                                                 \n",
            "=================================================================\n",
            "Total params: 3\n",
            "Trainable params: 3\n",
            "Non-trainable params: 0\n",
            "_________________________________________________________________\n"
          ]
        }
      ]
    },
    {
      "cell_type": "markdown",
      "source": [
        ""
      ],
      "metadata": {
        "id": "gCAiTIeJxO4B"
      }
    },
    {
      "cell_type": "code",
      "source": [
        "params = model.layers[0].get_weights() # w값 보기\n",
        "print('w1 : {:.2f}'.format(params[0][0][0]))\n",
        "print('w2 : {:.2f}'.format(params[0][1][0]))\n",
        "print('b : {:.2f}'.format(params[1][0]))"
      ],
      "metadata": {
        "colab": {
          "base_uri": "https://localhost:8080/"
        },
        "id": "EDKV00t5w-sm",
        "outputId": "e2c4a336-7cdf-46ce-9dc5-66b54fa5bf80"
      },
      "execution_count": 130,
      "outputs": [
        {
          "output_type": "stream",
          "name": "stdout",
          "text": [
            "w1 : 2.00\n",
            "w2 : 3.01\n",
            "b : 5.01\n"
          ]
        }
      ]
    },
    {
      "cell_type": "markdown",
      "source": [
        "원래 식이었던 $y = 2x^2 + 3x + 5$ 를 추정"
      ],
      "metadata": {
        "id": "1eyJU2XpxlBL"
      }
    },
    {
      "cell_type": "markdown",
      "source": [
        "## Functional API"
      ],
      "metadata": {
        "id": "xJpSz-6LxvTo"
      }
    },
    {
      "cell_type": "code",
      "source": [
        "from tensorflow.keras.layers import Input\n",
        "from tensorflow.keras.models import Model"
      ],
      "metadata": {
        "id": "GY0UXFocxGyX"
      },
      "execution_count": 42,
      "outputs": []
    },
    {
      "cell_type": "code",
      "source": [
        "x = np.array(np.arange(-5, 5, 0.1))\n",
        "y = 2*x*x + 3*x + 5\n",
        "\n",
        "dataX = np.stack([x*x, x]).T\n",
        "\n",
        "xInput = Input(batch_shape=(None, dataX.shape[1]))\n",
        "yOutput = Dense(1)(xInput)\n",
        "model = Model(xInput, yOutput)\n",
        "model.compile(loss='mse', optimizer = optimizers.Adam(learning_rate = 0.05))\n",
        "\n",
        "h = model.fit(dataX,y,batch_size = 10, epochs=300)\n"
      ],
      "metadata": {
        "colab": {
          "base_uri": "https://localhost:8080/"
        },
        "id": "vbY9A9iNx_Xa",
        "outputId": "bcc5e447-e73c-445e-f5c9-4c6986ea0bda"
      },
      "execution_count": 45,
      "outputs": [
        {
          "output_type": "stream",
          "name": "stdout",
          "text": [
            "Epoch 1/300\n",
            "10/10 [==============================] - 1s 3ms/step - loss: 271.5559\n",
            "Epoch 2/300\n",
            "10/10 [==============================] - 0s 4ms/step - loss: 139.1386\n",
            "Epoch 3/300\n",
            "10/10 [==============================] - 0s 4ms/step - loss: 76.1278\n",
            "Epoch 4/300\n",
            "10/10 [==============================] - 0s 7ms/step - loss: 49.6208\n",
            "Epoch 5/300\n",
            "10/10 [==============================] - 0s 4ms/step - loss: 36.0500\n",
            "Epoch 6/300\n",
            "10/10 [==============================] - 0s 4ms/step - loss: 25.4374\n",
            "Epoch 7/300\n",
            "10/10 [==============================] - 0s 3ms/step - loss: 17.4319\n",
            "Epoch 8/300\n",
            "10/10 [==============================] - 0s 4ms/step - loss: 11.8942\n",
            "Epoch 9/300\n",
            "10/10 [==============================] - 0s 6ms/step - loss: 8.5835\n",
            "Epoch 10/300\n",
            "10/10 [==============================] - 0s 4ms/step - loss: 6.1773\n",
            "Epoch 11/300\n",
            "10/10 [==============================] - 0s 5ms/step - loss: 4.6027\n",
            "Epoch 12/300\n",
            "10/10 [==============================] - 0s 4ms/step - loss: 3.6871\n",
            "Epoch 13/300\n",
            "10/10 [==============================] - 0s 2ms/step - loss: 3.0405\n",
            "Epoch 14/300\n",
            "10/10 [==============================] - 0s 5ms/step - loss: 2.5769\n",
            "Epoch 15/300\n",
            "10/10 [==============================] - 0s 5ms/step - loss: 2.2598\n",
            "Epoch 16/300\n",
            "10/10 [==============================] - 0s 8ms/step - loss: 1.9746\n",
            "Epoch 17/300\n",
            "10/10 [==============================] - 0s 9ms/step - loss: 1.7472\n",
            "Epoch 18/300\n",
            "10/10 [==============================] - 0s 4ms/step - loss: 1.5446\n",
            "Epoch 19/300\n",
            "10/10 [==============================] - 0s 4ms/step - loss: 1.3579\n",
            "Epoch 20/300\n",
            "10/10 [==============================] - 0s 4ms/step - loss: 1.1931\n",
            "Epoch 21/300\n",
            "10/10 [==============================] - 0s 3ms/step - loss: 1.0500\n",
            "Epoch 22/300\n",
            "10/10 [==============================] - 0s 3ms/step - loss: 0.9196\n",
            "Epoch 23/300\n",
            "10/10 [==============================] - 0s 6ms/step - loss: 0.7987\n",
            "Epoch 24/300\n",
            "10/10 [==============================] - 0s 8ms/step - loss: 0.6881\n",
            "Epoch 25/300\n",
            "10/10 [==============================] - 0s 5ms/step - loss: 0.5936\n",
            "Epoch 26/300\n",
            "10/10 [==============================] - 0s 7ms/step - loss: 0.5098\n",
            "Epoch 27/300\n",
            "10/10 [==============================] - 0s 4ms/step - loss: 0.4402\n",
            "Epoch 28/300\n",
            "10/10 [==============================] - 0s 4ms/step - loss: 0.3737\n",
            "Epoch 29/300\n",
            "10/10 [==============================] - 0s 5ms/step - loss: 0.3210\n",
            "Epoch 30/300\n",
            "10/10 [==============================] - 0s 5ms/step - loss: 0.2672\n",
            "Epoch 31/300\n",
            "10/10 [==============================] - 0s 5ms/step - loss: 0.2274\n",
            "Epoch 32/300\n",
            "10/10 [==============================] - 0s 5ms/step - loss: 0.1915\n",
            "Epoch 33/300\n",
            "10/10 [==============================] - 0s 4ms/step - loss: 0.1600\n",
            "Epoch 34/300\n",
            "10/10 [==============================] - 0s 4ms/step - loss: 0.1350\n",
            "Epoch 35/300\n",
            "10/10 [==============================] - 0s 10ms/step - loss: 0.1120\n",
            "Epoch 36/300\n",
            "10/10 [==============================] - 0s 3ms/step - loss: 0.0929\n",
            "Epoch 37/300\n",
            "10/10 [==============================] - 0s 3ms/step - loss: 0.0763\n",
            "Epoch 38/300\n",
            "10/10 [==============================] - 0s 3ms/step - loss: 0.0636\n",
            "Epoch 39/300\n",
            "10/10 [==============================] - 0s 3ms/step - loss: 0.0520\n",
            "Epoch 40/300\n",
            "10/10 [==============================] - 0s 4ms/step - loss: 0.0428\n",
            "Epoch 41/300\n",
            "10/10 [==============================] - 0s 4ms/step - loss: 0.0344\n",
            "Epoch 42/300\n",
            "10/10 [==============================] - 0s 3ms/step - loss: 0.0283\n",
            "Epoch 43/300\n",
            "10/10 [==============================] - 0s 5ms/step - loss: 0.0228\n",
            "Epoch 44/300\n",
            "10/10 [==============================] - 0s 7ms/step - loss: 0.0183\n",
            "Epoch 45/300\n",
            "10/10 [==============================] - 0s 5ms/step - loss: 0.0147\n",
            "Epoch 46/300\n",
            "10/10 [==============================] - 0s 5ms/step - loss: 0.0118\n",
            "Epoch 47/300\n",
            "10/10 [==============================] - 0s 4ms/step - loss: 0.0095\n",
            "Epoch 48/300\n",
            "10/10 [==============================] - 0s 7ms/step - loss: 0.0076\n",
            "Epoch 49/300\n",
            "10/10 [==============================] - 0s 4ms/step - loss: 0.0060\n",
            "Epoch 50/300\n",
            "10/10 [==============================] - 0s 3ms/step - loss: 0.0048\n",
            "Epoch 51/300\n",
            "10/10 [==============================] - 0s 3ms/step - loss: 0.0037\n",
            "Epoch 52/300\n",
            "10/10 [==============================] - 0s 3ms/step - loss: 0.0029\n",
            "Epoch 53/300\n",
            "10/10 [==============================] - 0s 6ms/step - loss: 0.0023\n",
            "Epoch 54/300\n",
            "10/10 [==============================] - 0s 5ms/step - loss: 0.0018\n",
            "Epoch 55/300\n",
            "10/10 [==============================] - 0s 5ms/step - loss: 0.0014\n",
            "Epoch 56/300\n",
            "10/10 [==============================] - 0s 5ms/step - loss: 0.0011\n",
            "Epoch 57/300\n",
            "10/10 [==============================] - 0s 4ms/step - loss: 8.3061e-04\n",
            "Epoch 58/300\n",
            "10/10 [==============================] - 0s 5ms/step - loss: 6.5462e-04\n",
            "Epoch 59/300\n",
            "10/10 [==============================] - 0s 7ms/step - loss: 4.9287e-04\n",
            "Epoch 60/300\n",
            "10/10 [==============================] - 0s 10ms/step - loss: 3.7402e-04\n",
            "Epoch 61/300\n",
            "10/10 [==============================] - 0s 5ms/step - loss: 2.8532e-04\n",
            "Epoch 62/300\n",
            "10/10 [==============================] - 0s 6ms/step - loss: 2.1643e-04\n",
            "Epoch 63/300\n",
            "10/10 [==============================] - 0s 5ms/step - loss: 1.6462e-04\n",
            "Epoch 64/300\n",
            "10/10 [==============================] - 0s 6ms/step - loss: 1.2244e-04\n",
            "Epoch 65/300\n",
            "10/10 [==============================] - 0s 4ms/step - loss: 9.2263e-05\n",
            "Epoch 66/300\n",
            "10/10 [==============================] - 0s 5ms/step - loss: 6.9770e-05\n",
            "Epoch 67/300\n",
            "10/10 [==============================] - 0s 8ms/step - loss: 5.1204e-05\n",
            "Epoch 68/300\n",
            "10/10 [==============================] - 0s 6ms/step - loss: 3.7919e-05\n",
            "Epoch 69/300\n",
            "10/10 [==============================] - 0s 4ms/step - loss: 2.8067e-05\n",
            "Epoch 70/300\n",
            "10/10 [==============================] - 0s 5ms/step - loss: 2.0854e-05\n",
            "Epoch 71/300\n",
            "10/10 [==============================] - 0s 4ms/step - loss: 1.5208e-05\n",
            "Epoch 72/300\n",
            "10/10 [==============================] - 0s 4ms/step - loss: 1.1135e-05\n",
            "Epoch 73/300\n",
            "10/10 [==============================] - 0s 5ms/step - loss: 7.9939e-06\n",
            "Epoch 74/300\n",
            "10/10 [==============================] - 0s 9ms/step - loss: 5.8671e-06\n",
            "Epoch 75/300\n",
            "10/10 [==============================] - 0s 5ms/step - loss: 4.2696e-06\n",
            "Epoch 76/300\n",
            "10/10 [==============================] - 0s 6ms/step - loss: 3.1167e-06\n",
            "Epoch 77/300\n",
            "10/10 [==============================] - 0s 6ms/step - loss: 2.1778e-06\n",
            "Epoch 78/300\n",
            "10/10 [==============================] - 0s 5ms/step - loss: 1.5749e-06\n",
            "Epoch 79/300\n",
            "10/10 [==============================] - 0s 6ms/step - loss: 1.1126e-06\n",
            "Epoch 80/300\n",
            "10/10 [==============================] - 0s 13ms/step - loss: 7.9966e-07\n",
            "Epoch 81/300\n",
            "10/10 [==============================] - 0s 5ms/step - loss: 5.5225e-07\n",
            "Epoch 82/300\n",
            "10/10 [==============================] - 0s 2ms/step - loss: 3.9603e-07\n",
            "Epoch 83/300\n",
            "10/10 [==============================] - 0s 7ms/step - loss: 2.7475e-07\n",
            "Epoch 84/300\n",
            "10/10 [==============================] - 0s 5ms/step - loss: 1.9355e-07\n",
            "Epoch 85/300\n",
            "10/10 [==============================] - 0s 6ms/step - loss: 1.3357e-07\n",
            "Epoch 86/300\n",
            "10/10 [==============================] - 0s 7ms/step - loss: 9.2130e-08\n",
            "Epoch 87/300\n",
            "10/10 [==============================] - 0s 5ms/step - loss: 6.3581e-08\n",
            "Epoch 88/300\n",
            "10/10 [==============================] - 0s 3ms/step - loss: 4.3986e-08\n",
            "Epoch 89/300\n",
            "10/10 [==============================] - 0s 2ms/step - loss: 2.9887e-08\n",
            "Epoch 90/300\n",
            "10/10 [==============================] - 0s 4ms/step - loss: 2.0191e-08\n",
            "Epoch 91/300\n",
            "10/10 [==============================] - 0s 7ms/step - loss: 1.3749e-08\n",
            "Epoch 92/300\n",
            "10/10 [==============================] - 0s 8ms/step - loss: 9.2586e-09\n",
            "Epoch 93/300\n",
            "10/10 [==============================] - 0s 6ms/step - loss: 6.3194e-09\n",
            "Epoch 94/300\n",
            "10/10 [==============================] - 0s 7ms/step - loss: 4.3288e-09\n",
            "Epoch 95/300\n",
            "10/10 [==============================] - 0s 8ms/step - loss: 2.9340e-09\n",
            "Epoch 96/300\n",
            "10/10 [==============================] - 0s 8ms/step - loss: 1.8727e-09\n",
            "Epoch 97/300\n",
            "10/10 [==============================] - 0s 7ms/step - loss: 1.2509e-09\n",
            "Epoch 98/300\n",
            "10/10 [==============================] - 0s 4ms/step - loss: 8.4364e-10\n",
            "Epoch 99/300\n",
            "10/10 [==============================] - 0s 4ms/step - loss: 5.5097e-10\n",
            "Epoch 100/300\n",
            "10/10 [==============================] - 0s 5ms/step - loss: 3.8145e-10\n",
            "Epoch 101/300\n",
            "10/10 [==============================] - 0s 4ms/step - loss: 2.7348e-10\n",
            "Epoch 102/300\n",
            "10/10 [==============================] - 0s 7ms/step - loss: 1.7625e-10\n",
            "Epoch 103/300\n",
            "10/10 [==============================] - 0s 5ms/step - loss: 1.1321e-10\n",
            "Epoch 104/300\n",
            "10/10 [==============================] - 0s 3ms/step - loss: 8.1426e-11\n",
            "Epoch 105/300\n",
            "10/10 [==============================] - 0s 5ms/step - loss: 7.8841e-11\n",
            "Epoch 106/300\n",
            "10/10 [==============================] - 0s 4ms/step - loss: 7.8841e-11\n",
            "Epoch 107/300\n",
            "10/10 [==============================] - 0s 9ms/step - loss: 7.8841e-11\n",
            "Epoch 108/300\n",
            "10/10 [==============================] - 0s 5ms/step - loss: 7.8841e-11\n",
            "Epoch 109/300\n",
            "10/10 [==============================] - 0s 5ms/step - loss: 7.8841e-11\n",
            "Epoch 110/300\n",
            "10/10 [==============================] - 0s 5ms/step - loss: 7.8841e-11\n",
            "Epoch 111/300\n",
            "10/10 [==============================] - 0s 4ms/step - loss: 7.8841e-11\n",
            "Epoch 112/300\n",
            "10/10 [==============================] - 0s 5ms/step - loss: 7.8841e-11\n",
            "Epoch 113/300\n",
            "10/10 [==============================] - 0s 3ms/step - loss: 7.8841e-11\n",
            "Epoch 114/300\n",
            "10/10 [==============================] - 0s 4ms/step - loss: 7.8841e-11\n",
            "Epoch 115/300\n",
            "10/10 [==============================] - 0s 5ms/step - loss: 7.8841e-11\n",
            "Epoch 116/300\n",
            "10/10 [==============================] - 0s 8ms/step - loss: 7.8841e-11\n",
            "Epoch 117/300\n",
            "10/10 [==============================] - 0s 8ms/step - loss: 7.8841e-11\n",
            "Epoch 118/300\n",
            "10/10 [==============================] - 0s 4ms/step - loss: 7.8841e-11\n",
            "Epoch 119/300\n",
            "10/10 [==============================] - 0s 4ms/step - loss: 7.8841e-11\n",
            "Epoch 120/300\n",
            "10/10 [==============================] - 0s 3ms/step - loss: 7.8841e-11\n",
            "Epoch 121/300\n",
            "10/10 [==============================] - 0s 3ms/step - loss: 7.8841e-11\n",
            "Epoch 122/300\n",
            "10/10 [==============================] - 0s 11ms/step - loss: 7.8841e-11\n",
            "Epoch 123/300\n",
            "10/10 [==============================] - 0s 13ms/step - loss: 7.5723e-11\n",
            "Epoch 124/300\n",
            "10/10 [==============================] - 0s 8ms/step - loss: 7.2931e-11\n",
            "Epoch 125/300\n",
            "10/10 [==============================] - 0s 8ms/step - loss: 7.2931e-11\n",
            "Epoch 126/300\n",
            "10/10 [==============================] - 0s 5ms/step - loss: 7.2931e-11\n",
            "Epoch 127/300\n",
            "10/10 [==============================] - 0s 7ms/step - loss: 7.2931e-11\n",
            "Epoch 128/300\n",
            "10/10 [==============================] - 0s 6ms/step - loss: 7.2931e-11\n",
            "Epoch 129/300\n",
            "10/10 [==============================] - 0s 6ms/step - loss: 7.2931e-11\n",
            "Epoch 130/300\n",
            "10/10 [==============================] - 0s 7ms/step - loss: 7.2931e-11\n",
            "Epoch 131/300\n",
            "10/10 [==============================] - 0s 8ms/step - loss: 7.2931e-11\n",
            "Epoch 132/300\n",
            "10/10 [==============================] - 0s 6ms/step - loss: 7.2931e-11\n",
            "Epoch 133/300\n",
            "10/10 [==============================] - 0s 8ms/step - loss: 7.2931e-11\n",
            "Epoch 134/300\n",
            "10/10 [==============================] - 0s 8ms/step - loss: 7.2931e-11\n",
            "Epoch 135/300\n",
            "10/10 [==============================] - 0s 5ms/step - loss: 7.2931e-11\n",
            "Epoch 136/300\n",
            "10/10 [==============================] - 0s 8ms/step - loss: 6.9807e-11\n",
            "Epoch 137/300\n",
            "10/10 [==============================] - 0s 4ms/step - loss: 4.6747e-11\n",
            "Epoch 138/300\n",
            "10/10 [==============================] - 0s 5ms/step - loss: 4.6833e-11\n",
            "Epoch 139/300\n",
            "10/10 [==============================] - 0s 4ms/step - loss: 4.6833e-11\n",
            "Epoch 140/300\n",
            "10/10 [==============================] - 0s 3ms/step - loss: 4.6833e-11\n",
            "Epoch 141/300\n",
            "10/10 [==============================] - 0s 4ms/step - loss: 4.6833e-11\n",
            "Epoch 142/300\n",
            "10/10 [==============================] - 0s 5ms/step - loss: 4.8181e-11\n",
            "Epoch 143/300\n",
            "10/10 [==============================] - 0s 3ms/step - loss: 4.3256e-11\n",
            "Epoch 144/300\n",
            "10/10 [==============================] - 0s 3ms/step - loss: 4.3256e-11\n",
            "Epoch 145/300\n",
            "10/10 [==============================] - 0s 5ms/step - loss: 4.3256e-11\n",
            "Epoch 146/300\n",
            "10/10 [==============================] - 0s 4ms/step - loss: 4.3256e-11\n",
            "Epoch 147/300\n",
            "10/10 [==============================] - 0s 4ms/step - loss: 4.3256e-11\n",
            "Epoch 148/300\n",
            "10/10 [==============================] - 0s 8ms/step - loss: 4.3256e-11\n",
            "Epoch 149/300\n",
            "10/10 [==============================] - 0s 8ms/step - loss: 4.3256e-11\n",
            "Epoch 150/300\n",
            "10/10 [==============================] - 0s 8ms/step - loss: 4.3256e-11\n",
            "Epoch 151/300\n",
            "10/10 [==============================] - 0s 5ms/step - loss: 4.3256e-11\n",
            "Epoch 152/300\n",
            "10/10 [==============================] - 0s 12ms/step - loss: 4.3256e-11\n",
            "Epoch 153/300\n",
            "10/10 [==============================] - 0s 4ms/step - loss: 4.3256e-11\n",
            "Epoch 154/300\n",
            "10/10 [==============================] - 0s 9ms/step - loss: 4.3256e-11\n",
            "Epoch 155/300\n",
            "10/10 [==============================] - 0s 4ms/step - loss: 4.3256e-11\n",
            "Epoch 156/300\n",
            "10/10 [==============================] - 0s 7ms/step - loss: 4.3256e-11\n",
            "Epoch 157/300\n",
            "10/10 [==============================] - 0s 4ms/step - loss: 4.3256e-11\n",
            "Epoch 158/300\n",
            "10/10 [==============================] - 0s 10ms/step - loss: 4.3256e-11\n",
            "Epoch 159/300\n",
            "10/10 [==============================] - 0s 5ms/step - loss: 4.3256e-11\n",
            "Epoch 160/300\n",
            "10/10 [==============================] - 0s 6ms/step - loss: 4.3256e-11\n",
            "Epoch 161/300\n",
            "10/10 [==============================] - 0s 4ms/step - loss: 4.3256e-11\n",
            "Epoch 162/300\n",
            "10/10 [==============================] - 0s 7ms/step - loss: 4.3256e-11\n",
            "Epoch 163/300\n",
            "10/10 [==============================] - 0s 4ms/step - loss: 4.4359e-11\n",
            "Epoch 164/300\n",
            "10/10 [==============================] - 0s 4ms/step - loss: 2.7809e-11\n",
            "Epoch 165/300\n",
            "10/10 [==============================] - 0s 3ms/step - loss: 1.8550e-11\n",
            "Epoch 166/300\n",
            "10/10 [==============================] - 0s 10ms/step - loss: 1.8550e-11\n",
            "Epoch 167/300\n",
            "10/10 [==============================] - 0s 5ms/step - loss: 1.8550e-11\n",
            "Epoch 168/300\n",
            "10/10 [==============================] - 0s 3ms/step - loss: 1.8550e-11\n",
            "Epoch 169/300\n",
            "10/10 [==============================] - 0s 4ms/step - loss: 1.8550e-11\n",
            "Epoch 170/300\n",
            "10/10 [==============================] - 0s 3ms/step - loss: 1.8550e-11\n",
            "Epoch 171/300\n",
            "10/10 [==============================] - 0s 3ms/step - loss: 1.8550e-11\n",
            "Epoch 172/300\n",
            "10/10 [==============================] - 0s 5ms/step - loss: 1.8550e-11\n",
            "Epoch 173/300\n",
            "10/10 [==============================] - 0s 4ms/step - loss: 1.8550e-11\n",
            "Epoch 174/300\n",
            "10/10 [==============================] - 0s 3ms/step - loss: 1.8550e-11\n",
            "Epoch 175/300\n",
            "10/10 [==============================] - 0s 3ms/step - loss: 1.8550e-11\n",
            "Epoch 176/300\n",
            "10/10 [==============================] - 0s 3ms/step - loss: 1.8550e-11\n",
            "Epoch 177/300\n",
            "10/10 [==============================] - 0s 4ms/step - loss: 1.8550e-11\n",
            "Epoch 178/300\n",
            "10/10 [==============================] - 0s 3ms/step - loss: 1.8550e-11\n",
            "Epoch 179/300\n",
            "10/10 [==============================] - 0s 3ms/step - loss: 1.8550e-11\n",
            "Epoch 180/300\n",
            "10/10 [==============================] - 0s 5ms/step - loss: 1.8550e-11\n",
            "Epoch 181/300\n",
            "10/10 [==============================] - 0s 6ms/step - loss: 1.8550e-11\n",
            "Epoch 182/300\n",
            "10/10 [==============================] - 0s 5ms/step - loss: 1.8550e-11\n",
            "Epoch 183/300\n",
            "10/10 [==============================] - 0s 4ms/step - loss: 1.8550e-11\n",
            "Epoch 184/300\n",
            "10/10 [==============================] - 0s 4ms/step - loss: 1.8550e-11\n",
            "Epoch 185/300\n",
            "10/10 [==============================] - 0s 3ms/step - loss: 1.8550e-11\n",
            "Epoch 186/300\n",
            "10/10 [==============================] - 0s 4ms/step - loss: 1.8550e-11\n",
            "Epoch 187/300\n",
            "10/10 [==============================] - 0s 5ms/step - loss: 1.8550e-11\n",
            "Epoch 188/300\n",
            "10/10 [==============================] - 0s 3ms/step - loss: 1.8550e-11\n",
            "Epoch 189/300\n",
            "10/10 [==============================] - 0s 8ms/step - loss: 1.8550e-11\n",
            "Epoch 190/300\n",
            "10/10 [==============================] - 0s 9ms/step - loss: 1.8550e-11\n",
            "Epoch 191/300\n",
            "10/10 [==============================] - 0s 8ms/step - loss: 1.8550e-11\n",
            "Epoch 192/300\n",
            "10/10 [==============================] - 0s 10ms/step - loss: 1.8550e-11\n",
            "Epoch 193/300\n",
            "10/10 [==============================] - 0s 9ms/step - loss: 1.8550e-11\n",
            "Epoch 194/300\n",
            "10/10 [==============================] - 0s 7ms/step - loss: 1.8550e-11\n",
            "Epoch 195/300\n",
            "10/10 [==============================] - 0s 9ms/step - loss: 1.8550e-11\n",
            "Epoch 196/300\n",
            "10/10 [==============================] - 0s 9ms/step - loss: 1.8550e-11\n",
            "Epoch 197/300\n",
            "10/10 [==============================] - 0s 10ms/step - loss: 1.8550e-11\n",
            "Epoch 198/300\n",
            "10/10 [==============================] - 0s 7ms/step - loss: 1.8550e-11\n",
            "Epoch 199/300\n",
            "10/10 [==============================] - 0s 9ms/step - loss: 1.8550e-11\n",
            "Epoch 200/300\n",
            "10/10 [==============================] - 0s 13ms/step - loss: 1.8550e-11\n",
            "Epoch 201/300\n",
            "10/10 [==============================] - 0s 11ms/step - loss: 1.8550e-11\n",
            "Epoch 202/300\n",
            "10/10 [==============================] - 0s 5ms/step - loss: 1.8550e-11\n",
            "Epoch 203/300\n",
            "10/10 [==============================] - 0s 8ms/step - loss: 1.8550e-11\n",
            "Epoch 204/300\n",
            "10/10 [==============================] - 0s 5ms/step - loss: 1.8550e-11\n",
            "Epoch 205/300\n",
            "10/10 [==============================] - 0s 7ms/step - loss: 1.8550e-11\n",
            "Epoch 206/300\n",
            "10/10 [==============================] - 0s 6ms/step - loss: 1.8550e-11\n",
            "Epoch 207/300\n",
            "10/10 [==============================] - 0s 5ms/step - loss: 1.8550e-11\n",
            "Epoch 208/300\n",
            "10/10 [==============================] - 0s 4ms/step - loss: 1.8550e-11\n",
            "Epoch 209/300\n",
            "10/10 [==============================] - 0s 3ms/step - loss: 1.8550e-11\n",
            "Epoch 210/300\n",
            "10/10 [==============================] - 0s 4ms/step - loss: 1.8550e-11\n",
            "Epoch 211/300\n",
            "10/10 [==============================] - 0s 5ms/step - loss: 1.8550e-11\n",
            "Epoch 212/300\n",
            "10/10 [==============================] - 0s 8ms/step - loss: 1.8550e-11\n",
            "Epoch 213/300\n",
            "10/10 [==============================] - 0s 7ms/step - loss: 1.8550e-11\n",
            "Epoch 214/300\n",
            "10/10 [==============================] - 0s 6ms/step - loss: 1.8550e-11\n",
            "Epoch 215/300\n",
            "10/10 [==============================] - 0s 5ms/step - loss: 1.8550e-11\n",
            "Epoch 216/300\n",
            "10/10 [==============================] - 0s 5ms/step - loss: 1.8550e-11\n",
            "Epoch 217/300\n",
            "10/10 [==============================] - 0s 3ms/step - loss: 1.8550e-11\n",
            "Epoch 218/300\n",
            "10/10 [==============================] - 0s 4ms/step - loss: 1.8550e-11\n",
            "Epoch 219/300\n",
            "10/10 [==============================] - 0s 7ms/step - loss: 1.8550e-11\n",
            "Epoch 220/300\n",
            "10/10 [==============================] - 0s 11ms/step - loss: 1.8550e-11\n",
            "Epoch 221/300\n",
            "10/10 [==============================] - 0s 5ms/step - loss: 1.8550e-11\n",
            "Epoch 222/300\n",
            "10/10 [==============================] - 0s 4ms/step - loss: 1.8550e-11\n",
            "Epoch 223/300\n",
            "10/10 [==============================] - 0s 9ms/step - loss: 1.8550e-11\n",
            "Epoch 224/300\n",
            "10/10 [==============================] - 0s 8ms/step - loss: 1.8550e-11\n",
            "Epoch 225/300\n",
            "10/10 [==============================] - 0s 9ms/step - loss: 1.8550e-11\n",
            "Epoch 226/300\n",
            "10/10 [==============================] - 0s 5ms/step - loss: 1.8550e-11\n",
            "Epoch 227/300\n",
            "10/10 [==============================] - 0s 5ms/step - loss: 1.8550e-11\n",
            "Epoch 228/300\n",
            "10/10 [==============================] - 0s 9ms/step - loss: 1.8550e-11\n",
            "Epoch 229/300\n",
            "10/10 [==============================] - 0s 8ms/step - loss: 1.8550e-11\n",
            "Epoch 230/300\n",
            "10/10 [==============================] - 0s 7ms/step - loss: 1.8550e-11\n",
            "Epoch 231/300\n",
            "10/10 [==============================] - 0s 8ms/step - loss: 1.9667e-11\n",
            "Epoch 232/300\n",
            "10/10 [==============================] - 0s 9ms/step - loss: 1.9212e-11\n",
            "Epoch 233/300\n",
            "10/10 [==============================] - 0s 9ms/step - loss: 2.1155e-11\n",
            "Epoch 234/300\n",
            "10/10 [==============================] - 0s 9ms/step - loss: 8.2974e-12\n",
            "Epoch 235/300\n",
            "10/10 [==============================] - 0s 5ms/step - loss: 5.0187e-12\n",
            "Epoch 236/300\n",
            "10/10 [==============================] - 0s 5ms/step - loss: 5.0187e-12\n",
            "Epoch 237/300\n",
            "10/10 [==============================] - 0s 5ms/step - loss: 5.0187e-12\n",
            "Epoch 238/300\n",
            "10/10 [==============================] - 0s 8ms/step - loss: 5.0187e-12\n",
            "Epoch 239/300\n",
            "10/10 [==============================] - 0s 4ms/step - loss: 5.0187e-12\n",
            "Epoch 240/300\n",
            "10/10 [==============================] - 0s 7ms/step - loss: 5.0187e-12\n",
            "Epoch 241/300\n",
            "10/10 [==============================] - 0s 3ms/step - loss: 5.0187e-12\n",
            "Epoch 242/300\n",
            "10/10 [==============================] - 0s 3ms/step - loss: 5.0187e-12\n",
            "Epoch 243/300\n",
            "10/10 [==============================] - 0s 3ms/step - loss: 5.0187e-12\n",
            "Epoch 244/300\n",
            "10/10 [==============================] - 0s 4ms/step - loss: 5.0187e-12\n",
            "Epoch 245/300\n",
            "10/10 [==============================] - 0s 8ms/step - loss: 5.0187e-12\n",
            "Epoch 246/300\n",
            "10/10 [==============================] - 0s 3ms/step - loss: 5.0187e-12\n",
            "Epoch 247/300\n",
            "10/10 [==============================] - 0s 5ms/step - loss: 5.0187e-12\n",
            "Epoch 248/300\n",
            "10/10 [==============================] - 0s 3ms/step - loss: 5.0187e-12\n",
            "Epoch 249/300\n",
            "10/10 [==============================] - 0s 3ms/step - loss: 5.0187e-12\n",
            "Epoch 250/300\n",
            "10/10 [==============================] - 0s 5ms/step - loss: 5.0187e-12\n",
            "Epoch 251/300\n",
            "10/10 [==============================] - 0s 5ms/step - loss: 5.0187e-12\n",
            "Epoch 252/300\n",
            "10/10 [==============================] - 0s 4ms/step - loss: 5.0187e-12\n",
            "Epoch 253/300\n",
            "10/10 [==============================] - 0s 4ms/step - loss: 5.0187e-12\n",
            "Epoch 254/300\n",
            "10/10 [==============================] - 0s 6ms/step - loss: 5.0187e-12\n",
            "Epoch 255/300\n",
            "10/10 [==============================] - 0s 7ms/step - loss: 5.0187e-12\n",
            "Epoch 256/300\n",
            "10/10 [==============================] - 0s 6ms/step - loss: 5.0187e-12\n",
            "Epoch 257/300\n",
            "10/10 [==============================] - 0s 8ms/step - loss: 5.0187e-12\n",
            "Epoch 258/300\n",
            "10/10 [==============================] - 0s 8ms/step - loss: 5.0187e-12\n",
            "Epoch 259/300\n",
            "10/10 [==============================] - 0s 9ms/step - loss: 5.0187e-12\n",
            "Epoch 260/300\n",
            "10/10 [==============================] - 0s 6ms/step - loss: 5.0187e-12\n",
            "Epoch 261/300\n",
            "10/10 [==============================] - 0s 5ms/step - loss: 5.0187e-12\n",
            "Epoch 262/300\n",
            "10/10 [==============================] - 0s 4ms/step - loss: 5.0187e-12\n",
            "Epoch 263/300\n",
            "10/10 [==============================] - 0s 3ms/step - loss: 5.0187e-12\n",
            "Epoch 264/300\n",
            "10/10 [==============================] - 0s 4ms/step - loss: 5.0187e-12\n",
            "Epoch 265/300\n",
            "10/10 [==============================] - 0s 8ms/step - loss: 5.0187e-12\n",
            "Epoch 266/300\n",
            "10/10 [==============================] - 0s 4ms/step - loss: 5.0187e-12\n",
            "Epoch 267/300\n",
            "10/10 [==============================] - 0s 4ms/step - loss: 5.0187e-12\n",
            "Epoch 268/300\n",
            "10/10 [==============================] - 0s 5ms/step - loss: 5.0187e-12\n",
            "Epoch 269/300\n",
            "10/10 [==============================] - 0s 4ms/step - loss: 5.0187e-12\n",
            "Epoch 270/300\n",
            "10/10 [==============================] - 0s 4ms/step - loss: 5.0187e-12\n",
            "Epoch 271/300\n",
            "10/10 [==============================] - 0s 3ms/step - loss: 5.0187e-12\n",
            "Epoch 272/300\n",
            "10/10 [==============================] - 0s 6ms/step - loss: 5.0187e-12\n",
            "Epoch 273/300\n",
            "10/10 [==============================] - 0s 5ms/step - loss: 5.0187e-12\n",
            "Epoch 274/300\n",
            "10/10 [==============================] - 0s 4ms/step - loss: 5.0187e-12\n",
            "Epoch 275/300\n",
            "10/10 [==============================] - 0s 7ms/step - loss: 5.0187e-12\n",
            "Epoch 276/300\n",
            "10/10 [==============================] - 0s 9ms/step - loss: 5.0187e-12\n",
            "Epoch 277/300\n",
            "10/10 [==============================] - 0s 4ms/step - loss: 5.0187e-12\n",
            "Epoch 278/300\n",
            "10/10 [==============================] - 0s 3ms/step - loss: 5.0187e-12\n",
            "Epoch 279/300\n",
            "10/10 [==============================] - 0s 9ms/step - loss: 5.0187e-12\n",
            "Epoch 280/300\n",
            "10/10 [==============================] - 0s 7ms/step - loss: 5.0187e-12\n",
            "Epoch 281/300\n",
            "10/10 [==============================] - 0s 5ms/step - loss: 5.0187e-12\n",
            "Epoch 282/300\n",
            "10/10 [==============================] - 0s 6ms/step - loss: 5.0187e-12\n",
            "Epoch 283/300\n",
            "10/10 [==============================] - 0s 3ms/step - loss: 5.0187e-12\n",
            "Epoch 284/300\n",
            "10/10 [==============================] - 0s 5ms/step - loss: 5.0187e-12\n",
            "Epoch 285/300\n",
            "10/10 [==============================] - 0s 5ms/step - loss: 5.0187e-12\n",
            "Epoch 286/300\n",
            "10/10 [==============================] - 0s 5ms/step - loss: 5.0187e-12\n",
            "Epoch 287/300\n",
            "10/10 [==============================] - 0s 3ms/step - loss: 5.0187e-12\n",
            "Epoch 288/300\n",
            "10/10 [==============================] - 0s 9ms/step - loss: 5.0187e-12\n",
            "Epoch 289/300\n",
            "10/10 [==============================] - 0s 6ms/step - loss: 5.0187e-12\n",
            "Epoch 290/300\n",
            "10/10 [==============================] - 0s 3ms/step - loss: 5.0187e-12\n",
            "Epoch 291/300\n",
            "10/10 [==============================] - 0s 5ms/step - loss: 5.0187e-12\n",
            "Epoch 292/300\n",
            "10/10 [==============================] - 0s 4ms/step - loss: 5.0187e-12\n",
            "Epoch 293/300\n",
            "10/10 [==============================] - 0s 6ms/step - loss: 5.0187e-12\n",
            "Epoch 294/300\n",
            "10/10 [==============================] - 0s 3ms/step - loss: 5.0187e-12\n",
            "Epoch 295/300\n",
            "10/10 [==============================] - 0s 3ms/step - loss: 5.0187e-12\n",
            "Epoch 296/300\n",
            "10/10 [==============================] - 0s 9ms/step - loss: 5.0187e-12\n",
            "Epoch 297/300\n",
            "10/10 [==============================] - 0s 8ms/step - loss: 5.0187e-12\n",
            "Epoch 298/300\n",
            "10/10 [==============================] - 0s 4ms/step - loss: 5.0187e-12\n",
            "Epoch 299/300\n",
            "10/10 [==============================] - 0s 5ms/step - loss: 5.0187e-12\n",
            "Epoch 300/300\n",
            "10/10 [==============================] - 0s 7ms/step - loss: 5.0187e-12\n"
          ]
        }
      ]
    },
    {
      "cell_type": "code",
      "source": [
        "plt.plot(h.history['loss'],color='red',linewidth=1)\n",
        "plt.show()"
      ],
      "metadata": {
        "colab": {
          "base_uri": "https://localhost:8080/",
          "height": 265
        },
        "id": "bluZVZmZG3m4",
        "outputId": "7092d4fc-0f67-4ba1-de62-8b4670de16cf"
      },
      "execution_count": 47,
      "outputs": [
        {
          "output_type": "display_data",
          "data": {
            "image/png": "[encoded data removed]",
            "text/plain": [
              "<Figure size 432x288 with 1 Axes>"
            ]
          },
          "metadata": {
            "needs_background": "light"
          }
        }
      ]
    },
    {
      "cell_type": "code",
      "source": [
        "model.summary()"
      ],
      "metadata": {
        "colab": {
          "base_uri": "https://localhost:8080/"
        },
        "id": "xlKCfivuG6OD",
        "outputId": "f5c1142d-8b91-4f36-cf67-5d4db4849fe1"
      },
      "execution_count": 48,
      "outputs": [
        {
          "output_type": "stream",
          "name": "stdout",
          "text": [
            "Model: \"model_2\"\n",
            "_________________________________________________________________\n",
            " Layer (type)                Output Shape              Param #   \n",
            "=================================================================\n",
            " input_3 (InputLayer)        [(None, 2)]               0         \n",
            "                                                                 \n",
            " dense_4 (Dense)             (None, 1)                 3         \n",
            "                                                                 \n",
            "=================================================================\n",
            "Total params: 3\n",
            "Trainable params: 3\n",
            "Non-trainable params: 0\n",
            "_________________________________________________________________\n"
          ]
        }
      ]
    },
    {
      "cell_type": "code",
      "source": [
        "params = model.layers[1].get_weights() # w값 보기\n",
        "print('w1 : {:.2f}'.format(params[0][0][0]))\n",
        "print('w2 : {:.2f}'.format(params[0][1][0]))\n",
        "print('b : {:.2f}'.format(params[1][0]))"
      ],
      "metadata": {
        "colab": {
          "base_uri": "https://localhost:8080/"
        },
        "id": "3xqRnvRCGmKE",
        "outputId": "942f7c93-063d-4fdf-fcbb-1861e7b79124"
      },
      "execution_count": 49,
      "outputs": [
        {
          "output_type": "stream",
          "name": "stdout",
          "text": [
            "w1 : 2.00\n",
            "w2 : 3.00\n",
            "b : 5.00\n"
          ]
        }
      ]
    },
    {
      "cell_type": "markdown",
      "source": [
        "텐서플로 사용 실습데이터(붓꽃데이터)"
      ],
      "metadata": {
        "id": "JHFUUXcCNoGI"
      }
    },
    {
      "cell_type": "code",
      "source": [
        "import tensorflow.compat.v1 as tf"
      ],
      "metadata": {
        "id": "fEDfOcvqGxvu"
      },
      "execution_count": 64,
      "outputs": []
    },
    {
      "cell_type": "code",
      "source": [
        "tf.__version__"
      ],
      "metadata": {
        "colab": {
          "base_uri": "https://localhost:8080/",
          "height": 35
        },
        "id": "nzBiUhYeHZsk",
        "outputId": "5d46c6dd-8451-4366-ea82-bdac148dc5c0"
      },
      "execution_count": 51,
      "outputs": [
        {
          "output_type": "execute_result",
          "data": {
            "application/vnd.google.colaboratory.intrinsic+json": {
              "type": "string"
            },
            "text/plain": [
              "'2.8.0'"
            ]
          },
          "metadata": {},
          "execution_count": 51
        }
      ]
    },
    {
      "cell_type": "code",
      "source": [
        "tf.disable_v2_behavior()"
      ],
      "metadata": {
        "colab": {
          "base_uri": "https://localhost:8080/"
        },
        "id": "fobmrsSOL926",
        "outputId": "c906d678-3032-444f-9fb4-63b0ac4c3d0b"
      },
      "execution_count": 66,
      "outputs": [
        {
          "output_type": "stream",
          "name": "stdout",
          "text": [
            "WARNING:tensorflow:From /usr/local/lib/python3.7/dist-packages/tensorflow/python/compat/v2_compat.py:107: disable_resource_variables (from tensorflow.python.ops.variable_scope) is deprecated and will be removed in a future version.\n",
            "Instructions for updating:\n",
            "non-resource variables are not supported in the long term\n"
          ]
        }
      ]
    },
    {
      "cell_type": "code",
      "source": [
        "import numpy as np\n",
        "import pandas as pd\n",
        "from sklearn import datasets"
      ],
      "metadata": {
        "id": "F_HT_7GwHqPv"
      },
      "execution_count": 58,
      "outputs": []
    },
    {
      "cell_type": "code",
      "source": [
        "iris = datasets.load_iris()\n",
        "iris_X = iris.data\n",
        "iris_y = pd.get_dummies(iris.target).to_numpy()"
      ],
      "metadata": {
        "id": "fJ4RwE9_HwIe"
      },
      "execution_count": 59,
      "outputs": []
    },
    {
      "cell_type": "code",
      "source": [
        "iris_y[:10]"
      ],
      "metadata": {
        "colab": {
          "base_uri": "https://localhost:8080/"
        },
        "id": "rOSJ07nqH7-C",
        "outputId": "2ddb4bb1-1804-4b34-fe67-54a5f5e62edb"
      },
      "execution_count": 61,
      "outputs": [
        {
          "output_type": "execute_result",
          "data": {
            "text/plain": [
              "array([[1, 0, 0],\n",
              "       [1, 0, 0],\n",
              "       [1, 0, 0],\n",
              "       [1, 0, 0],\n",
              "       [1, 0, 0],\n",
              "       [1, 0, 0],\n",
              "       [1, 0, 0],\n",
              "       [1, 0, 0],\n",
              "       [1, 0, 0],\n",
              "       [1, 0, 0]], dtype=uint8)"
            ]
          },
          "metadata": {},
          "execution_count": 61
        }
      ]
    },
    {
      "cell_type": "code",
      "source": [
        "from sklearn.model_selection import train_test_split\n",
        "\n",
        "train_X, test_X, train_y, test_y = train_test_split(iris_X,iris_y,\n",
        "                                                    test_size = 0.3,\n",
        "                                                    random_state=42)\n"
      ],
      "metadata": {
        "id": "666x9Le5H9B-"
      },
      "execution_count": 62,
      "outputs": []
    },
    {
      "cell_type": "markdown",
      "source": [
        "compat v1 *방식* 매우 불편함"
      ],
      "metadata": {
        "id": "h9XrB0kZOtAp"
      }
    },
    {
      "cell_type": "code",
      "source": [
        "# x,y의 변수 선언\n",
        "x = tf.placeholder(tf.float32, [None, 4]) # 변수의 수 4개\n",
        "y = tf.placeholder(tf.float32, [None, 3]) # 정답 클래스가 3개"
      ],
      "metadata": {
        "id": "HqZiPeAuIV5q"
      },
      "execution_count": 67,
      "outputs": []
    },
    {
      "cell_type": "code",
      "source": [
        "W = tf.Variable(tf.zeros([4,3])) #W값, weight shape(입력수, 출력수)\n",
        "b = tf.Variable(tf.zeros([3])) #bias shape(출력갯수)"
      ],
      "metadata": {
        "id": "WB-MjuxOLMoy"
      },
      "execution_count": 68,
      "outputs": []
    },
    {
      "cell_type": "code",
      "source": [
        "# 출력\n",
        "h = tf.nn.softmax(tf.matmul(x,W)+b)"
      ],
      "metadata": {
        "id": "ePmd1-qQMFtl"
      },
      "execution_count": 69,
      "outputs": []
    },
    {
      "cell_type": "code",
      "source": [
        "# 손실함수 정의\n",
        "cross_entropy = -tf.reduce_sum(y*tf.log(h),reduction_indices=[1])\n",
        "loss = tf.reduce_mean(cross_entropy)"
      ],
      "metadata": {
        "id": "PUPD12FaMJu9"
      },
      "execution_count": 70,
      "outputs": []
    },
    {
      "cell_type": "code",
      "source": [
        "# 학습 - loss함수, optimizer 정의도 같이\n",
        "train = tf.train.GradientDescentOptimizer(0.001).minimize(loss)"
      ],
      "metadata": {
        "id": "7zsjkfuTMYYO"
      },
      "execution_count": 71,
      "outputs": []
    },
    {
      "cell_type": "code",
      "source": [
        "# 텐서플로 기본 사전코드\n",
        "init = tf.global_variables_initializer()\n",
        "sess = tf.Session()\n",
        "sess.run(init)"
      ],
      "metadata": {
        "id": "RodcNM4eMxmk"
      },
      "execution_count": 72,
      "outputs": []
    },
    {
      "cell_type": "code",
      "source": [
        "for i in range(50000):\n",
        "    # 학습 돌려서 loss 값 받아오기\n",
        "    _, loss_values = sess.run([train, loss], feed_dict={x:train_X, y:train_y})\n",
        "    if i % 10000 ==0:\n",
        "        print(i, loss_values)"
      ],
      "metadata": {
        "colab": {
          "base_uri": "https://localhost:8080/"
        },
        "id": "IJo8qqWkM851",
        "outputId": "88d09f75-fa52-4c01-a900-850a9d841d8e"
      },
      "execution_count": 75,
      "outputs": [
        {
          "output_type": "stream",
          "name": "stdout",
          "text": [
            "0 0.37425944\n",
            "10000 0.28379792\n",
            "20000 0.23611486\n",
            "30000 0.20631169\n",
            "40000 0.18581778\n"
          ]
        }
      ]
    },
    {
      "cell_type": "code",
      "source": [
        "# accuracy 구하기\n",
        "# 아까 쓴 h값과 softmax 돌린 값 사용\n",
        "correct_prediction = tf.equal(tf.argmax(h,1),tf.argmax(y,1))"
      ],
      "metadata": {
        "id": "i7Gn6PT8Nccz"
      },
      "execution_count": 76,
      "outputs": []
    },
    {
      "cell_type": "code",
      "source": [
        "accuracy = tf.reduce_mean(tf.cast(correct_prediction, tf.float32))\n",
        "print(sess.run(accuracy,feed_dict={x:test_X, y:test_y}))"
      ],
      "metadata": {
        "colab": {
          "base_uri": "https://localhost:8080/"
        },
        "id": "bk6bYiUWOUy7",
        "outputId": "37b3d79f-32cd-4314-eec3-9664b400c538"
      },
      "execution_count": 79,
      "outputs": [
        {
          "output_type": "stream",
          "name": "stdout",
          "text": [
            "1.0\n"
          ]
        }
      ]
    },
    {
      "cell_type": "markdown",
      "source": [
        "### compat v2 방식 : tensorflow 2.0 >="
      ],
      "metadata": {
        "id": "ydszno7WO-Cj"
      }
    },
    {
      "cell_type": "code",
      "source": [
        "import tensorflow as tf\n",
        "from tensorflow.keras import Sequential\n",
        "from tensorflow.keras.layers import Dense\n",
        "from tensorflow.keras import optimizers"
      ],
      "metadata": {
        "id": "swZdiXlqPEou"
      },
      "execution_count": 80,
      "outputs": []
    },
    {
      "cell_type": "code",
      "source": [
        "n_features = train_X.shape[1]\n",
        "# 모델 그래프 객체 생성\n",
        "model = Sequential()\n",
        "\n",
        "# 레이어 추가\n",
        "model.add(Dense(10, activation='relu', kernel_initializer='he_normal',\n",
        "                input_shape=(n_features, )))\n",
        "model.add(Dense(8,activation='relu', kernel_initializer='he_normal'))\n",
        "model.add(Dense(3, activation = 'softmax'))"
      ],
      "metadata": {
        "id": "ePAqiH2rOhRi"
      },
      "execution_count": 82,
      "outputs": []
    },
    {
      "cell_type": "code",
      "source": [
        "# 최적화 옵션\n",
        "model.compile(optimizer='adam', loss='sparse_categorical_crossentropy',\n",
        "              metrics=['accuracy']) # 최적화옵션, 로스(목적)함수, 평가지표\n"
      ],
      "metadata": {
        "id": "Dir2h_xuP23n"
      },
      "execution_count": 92,
      "outputs": []
    },
    {
      "cell_type": "code",
      "source": [
        "model.fit(train_X, np.argmax(train_y, axis=1),batch_size=32, epochs=300,verbose = 0)"
      ],
      "metadata": {
        "colab": {
          "base_uri": "https://localhost:8080/"
        },
        "id": "gW9DfrD9QeWc",
        "outputId": "8dfc61bd-14fe-41eb-95d2-8c8757ef9755"
      },
      "execution_count": 93,
      "outputs": [
        {
          "output_type": "execute_result",
          "data": {
            "text/plain": [
              "<keras.callbacks.History at 0x7f9302da2d90>"
            ]
          },
          "metadata": {},
          "execution_count": 93
        }
      ]
    },
    {
      "cell_type": "code",
      "source": [
        "loss, acc = model.evaluate(test_X, np.argmax(test_y, axis=1), verbose=0)\n",
        "print(f'test accuracy : {acc}')"
      ],
      "metadata": {
        "colab": {
          "base_uri": "https://localhost:8080/"
        },
        "id": "WGfR5jVAWC2T",
        "outputId": "d4dcb572-2b7d-4a05-b2df-7ed8291e09cd"
      },
      "execution_count": 94,
      "outputs": [
        {
          "output_type": "stream",
          "name": "stderr",
          "text": [
            "/usr/local/lib/python3.7/dist-packages/keras/engine/training_v1.py:2057: UserWarning: `Model.state_updates` will be removed in a future version. This property should not be used in TensorFlow 2.0, as `updates` are applied automatically.\n",
            "  updates = self.state_updates\n"
          ]
        },
        {
          "output_type": "stream",
          "name": "stdout",
          "text": [
            "test accuracy : 1.0\n"
          ]
        }
      ]
    },
    {
      "cell_type": "code",
      "source": [
        "model.compile(optimizer=optimizers.Adam(learning_rate=0.005, decay=0.0),\n",
        "              loss='sparse_categorical_crossentropy',\n",
        "              metrics=['accuracy'])\n",
        "model.fit(train_X, np.argmax(train_y, axis=1),batch_size=32, epochs=300,verbose = 0)\n",
        "loss, acc = model.evaluate(test_X, np.argmax(test_y, axis=1), verbose=0)\n",
        "print(f'test accuracy : {acc}')"
      ],
      "metadata": {
        "colab": {
          "base_uri": "https://localhost:8080/"
        },
        "id": "rFT5h3LDWUaQ",
        "outputId": "ea83eccf-6c23-4b92-b3e4-25e0754c4e90"
      },
      "execution_count": 96,
      "outputs": [
        {
          "output_type": "stream",
          "name": "stdout",
          "text": [
            "test accuracy : 1.0\n"
          ]
        },
        {
          "output_type": "stream",
          "name": "stderr",
          "text": [
            "/usr/local/lib/python3.7/dist-packages/keras/engine/training_v1.py:2057: UserWarning: `Model.state_updates` will be removed in a future version. This property should not be used in TensorFlow 2.0, as `updates` are applied automatically.\n",
            "  updates = self.state_updates\n"
          ]
        }
      ]
    },
    {
      "cell_type": "code",
      "source": [
        ""
      ],
      "metadata": {
        "id": "eOt3SLauXVHF"
      },
      "execution_count": null,
      "outputs": []
    },
    {
      "cell_type": "markdown",
      "source": [
        "## Functional API"
      ],
      "metadata": {
        "id": "jmg8g2udaM2Q"
      }
    },
    {
      "cell_type": "code",
      "source": [
        "from tensorflow.keras.layers import Input\n",
        "from tensorflow.keras.models import Model\n",
        "\n",
        "n_features = train_X.shape[1]\n",
        "\n",
        "# 시퀀셜은 모델 자체에  순서가 정해져 있는 방식\n",
        "# 펑셔널은 인풋 구멍뚫어놓고 레이어별로 변수할당해서 지정하는 방식\n",
        "xInput = Input(batch_shape=(None, n_features))\n",
        "\n",
        "W1 = Dense(10, activation='relu',kernel_initializer='he_normal')(xInput)\n",
        "W2 = Dense(8, activation='relu',kernel_initializer='he_normal')(W1)\n",
        "yOutput = Dense(3, activation = 'softmax')(W2)\n",
        "model = Model(xInput, yOutput)\n",
        "\n",
        "model.compile(loss='sparse_categorical_crossentropy',\n",
        "              optimizer = optimizers.Adam(learning_rate = 0.005,decay=0.0),\n",
        "              metrics=['accuracy'])\n",
        "\n",
        "model.fit(train_X,np.argmax(train_y,axis=1),batch_size = 10, epochs=300,verbose=0)\n",
        "loss,acc = model.evaluate(test_X,np.argmax(test_y,axis=1))\n",
        "print(f'test acc : {acc}')"
      ],
      "metadata": {
        "colab": {
          "base_uri": "https://localhost:8080/"
        },
        "id": "0nKl-IMsaTf6",
        "outputId": "a1707baa-065f-468b-a16f-c20945ed2a4b"
      },
      "execution_count": 125,
      "outputs": [
        {
          "output_type": "stream",
          "name": "stderr",
          "text": [
            "/usr/local/lib/python3.7/dist-packages/keras/engine/training_v1.py:2057: UserWarning: `Model.state_updates` will be removed in a future version. This property should not be used in TensorFlow 2.0, as `updates` are applied automatically.\n",
            "  updates = self.state_updates\n"
          ]
        },
        {
          "output_type": "stream",
          "name": "stdout",
          "text": [
            "test acc : 0.9777777791023254\n"
          ]
        }
      ]
    },
    {
      "cell_type": "code",
      "source": [
        ""
      ],
      "metadata": {
        "id": "LisRD5YDcNn7"
      },
      "execution_count": 125,
      "outputs": []
    },
    {
      "cell_type": "markdown",
      "source": [
        "# 딥러닝 기반 자연어처리 시작"
      ],
      "metadata": {
        "id": "bxTRFZ5YjTSn"
      }
    },
    {
      "cell_type": "code",
      "source": [
        ""
      ],
      "metadata": {
        "id": "zH7lm1cBjUxj"
      },
      "execution_count": null,
      "outputs": []
    }
  ]
}