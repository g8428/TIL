{
  "nbformat": 4,
  "nbformat_minor": 0,
  "metadata": {
    "colab": {
      "name": "220304_nlp_deeplearning",
      "provenance": [],
      "collapsed_sections": [],
      "include_colab_link": true
    },
    "kernelspec": {
      "name": "python3",
      "display_name": "Python 3"
    },
    "language_info": {
      "name": "python"
    },
    "accelerator": "GPU"
  },
  "cells": [
    {
      "cell_type": "markdown",
      "metadata": {
        "id": "view-in-github",
        "colab_type": "text"
      },
      "source": [
        "<a href=\"https://colab.research.google.com/github/g8428/TIL/blob/master/220304_nlp_deeplearning.ipynb\" target=\"_parent\"><img src=\"https://colab.research.google.com/assets/colab-badge.svg\" alt=\"Open In Colab\"/></a>"
      ]
    },
    {
      "cell_type": "code",
      "execution_count": 1,
      "metadata": {
        "colab": {
          "base_uri": "https://localhost:8080/"
        },
        "id": "5ZSDKYqtS6Tg",
        "outputId": "1c05867e-af5b-4529-f98d-75ee1647fbe2"
      },
      "outputs": [
        {
          "output_type": "stream",
          "name": "stdout",
          "text": [
            "Downloading data from https://storage.googleapis.com/tensorflow/tf-keras-datasets/mnist.npz\n",
            "11493376/11490434 [==============================] - 0s 0us/step\n",
            "11501568/11490434 [==============================] - 0s 0us/step\n"
          ]
        }
      ],
      "source": [
        "from tensorflow.keras.datasets import mnist\n",
        "from sklearn.model_selection import train_test_split\n",
        "\n",
        "(train_images, train_labels), (test_images, test_labels) = mnist.load_data()\n",
        "train_images = train_images.reshape((-1, 28, 28, 1))\n",
        "test_images = test_images.reshape((-1, 28, 28, 1))\n",
        "\n",
        "train_images = train_images/255.\n",
        "test_images = test_images/255.\n",
        "\n",
        "valid_images, test_images, valid_labels, test_labels = train_test_split(test_images, test_labels, test_size=0.15, shuffle=True)"
      ]
    },
    {
      "cell_type": "code",
      "source": [
        "import tensorflow as tf\n",
        "from tensorflow.keras.models import Model\n",
        "from tensorflow.keras.layers import Input, Conv2D, MaxPool2D, Flatten, Dense, Dropout, BatchNormalization\n",
        "\n",
        "class ConvBNRelu(Model):\n",
        "    def __init__(self, filters, kernel_size=3, strides=(1, 1), padding='same'):\n",
        "        super(ConvBNRelu, self).__init__()\n",
        "        self.conv = Conv2D(filters=filters, kernel_size=kernel_size, strides=strides, \n",
        "                           padding=padding, kernel_initializer='glorot_normal')\n",
        "        \n",
        "        self.batchnorm = BatchNormalization()\n",
        "\n",
        "    def call(self, inputs, training=False):\n",
        "        layer = self.conv(inputs)\n",
        "        layer = self.batchnorm(layer)\n",
        "        layer = tf.nn.relu(layer)\n",
        "\n",
        "        return layer\n"
      ],
      "metadata": {
        "id": "QVuhzJHYKeiD"
      },
      "execution_count": 3,
      "outputs": []
    },
    {
      "cell_type": "code",
      "source": [
        "class DenseBNRelu(Model):\n",
        "    def __init__(self, units):\n",
        "        super(DenseBNRelu, self).__init__()\n",
        "        self.dense = Dense(units=units, kernel_initializer='glorot_normal')\n",
        "        self.batchnorm = BatchNormalization()\n",
        "\n",
        "    def call(self, inputs, training=False):\n",
        "        layer = self.dense(inputs)\n",
        "        layer = self.batchnorm(layer)\n",
        "        layer = tf.nn.relu(layer)\n",
        "\n",
        "        return layer"
      ],
      "metadata": {
        "id": "rMHh_d7JL3EX"
      },
      "execution_count": 4,
      "outputs": []
    },
    {
      "cell_type": "code",
      "source": [
        "class MNISTModel(Model):\n",
        "    def __init__(self):\n",
        "        super(MNISTModel, self).__init__()\n",
        "        self.conv1 = ConvBNRelu(filters=32, kernel_size=(3, 3), padding='valid')\n",
        "        self.pool1 = MaxPool2D()\n",
        "        self.conv2 = ConvBNRelu(filters=64, kernel_size=(3, 3), padding='valid')\n",
        "        self.pool2 = MaxPool2D()\n",
        "        self.conv3 = ConvBNRelu(filters=64, kernel_size=(3, 3), padding='valid')\n",
        "        self.flat = Flatten()\n",
        "        self.dense4 = DenseBNRelu(units=64)\n",
        "        self.drop = Dropout(0.2)\n",
        "        self.outputs = Dense(10, activation='softmax')\n",
        "\n",
        "    def call(self, inputs, training=False):\n",
        "        net = self.conv1(inputs)\n",
        "        net = self.pool1(net)\n",
        "        net = self.conv2(net)\n",
        "        net = self.pool2(net)\n",
        "        net = self.conv3(net)\n",
        "        net = self.flat(net)\n",
        "        net = self.dense4(net)\n",
        "        net = self.drop(net)\n",
        "        net = self.outputs(net)\n",
        "\n",
        "        return net\n"
      ],
      "metadata": {
        "id": "gj3vViXaMszH"
      },
      "execution_count": 5,
      "outputs": []
    },
    {
      "cell_type": "code",
      "source": [
        "model = MNISTModel()\n",
        "model(Input(shape=(28, 28, 1)))\n",
        "model.summary()"
      ],
      "metadata": {
        "colab": {
          "base_uri": "https://localhost:8080/"
        },
        "id": "c9n2KHvIOlOH",
        "outputId": "12018816-6765-47c1-f518-9cc73ba79eb1"
      },
      "execution_count": 6,
      "outputs": [
        {
          "output_type": "stream",
          "name": "stdout",
          "text": [
            "Model: \"mnist_model\"\n",
            "_________________________________________________________________\n",
            " Layer (type)                Output Shape              Param #   \n",
            "=================================================================\n",
            " conv_bn_relu (ConvBNRelu)   multiple                  448       \n",
            "                                                                 \n",
            " max_pooling2d (MaxPooling2D  multiple                 0         \n",
            " )                                                               \n",
            "                                                                 \n",
            " conv_bn_relu_1 (ConvBNRelu)  multiple                 18752     \n",
            "                                                                 \n",
            " max_pooling2d_1 (MaxPooling  multiple                 0         \n",
            " 2D)                                                             \n",
            "                                                                 \n",
            " conv_bn_relu_2 (ConvBNRelu)  multiple                 37184     \n",
            "                                                                 \n",
            " flatten (Flatten)           multiple                  0         \n",
            "                                                                 \n",
            " dense_bn_relu (DenseBNRelu)  multiple                 37184     \n",
            "                                                                 \n",
            " dropout (Dropout)           multiple                  0         \n",
            "                                                                 \n",
            " dense_1 (Dense)             multiple                  650       \n",
            "                                                                 \n",
            "=================================================================\n",
            "Total params: 94,218\n",
            "Trainable params: 93,770\n",
            "Non-trainable params: 448\n",
            "_________________________________________________________________\n"
          ]
        }
      ]
    },
    {
      "cell_type": "code",
      "source": [
        "from tensorflow.keras.callbacks import ModelCheckpoint, EarlyStopping\n",
        "\n",
        "MODEL_SAVE_FOLDER = '/content/drive/MyDrive/2022-1/국비지원교육/실습폴더/models/'\n",
        "model_path = f\"{MODEL_SAVE_FOLDER}mnist-{{epoch:d}}-{{val_loss:.5f}}-{{val_accuracy:.5f}}.hdf5\"\n",
        "\n",
        "cb_checkpoint = ModelCheckpoint(filepath=model_path, \n",
        "                                monitor='val_accuracy', \n",
        "                                verbose=1,\n",
        "                                save_weights_only=True,\n",
        "                                save_best_only=True)\n",
        "\n",
        "cb_early_stopping = EarlyStopping(monitor='val_accuracy', patience=6)\n",
        "\n",
        "!rm '/content/drive/MyDrive/2022-1/국비지원교육/실습폴더/models/'*"
      ],
      "metadata": {
        "id": "M9S4w93POwJg"
      },
      "execution_count": 7,
      "outputs": []
    },
    {
      "cell_type": "code",
      "source": [
        ""
      ],
      "metadata": {
        "id": "2OM7VDirPzpY"
      },
      "execution_count": 8,
      "outputs": []
    },
    {
      "cell_type": "code",
      "source": [
        "learning_rate = 0.001\n",
        "batch_size = 200\n",
        "\n",
        "lr_decay = tf.keras.optimizers.schedules.ExponentialDecay(learning_rate, train_images.shape[0]/batch_size*5, 0.5,  staircase=True)\n",
        "optimizer = tf.keras.optimizers.Adam(learning_rate=lr_decay)\n",
        "model.compile(optimizer=optimizer, loss='sparse_categorical_crossentropy', metrics=['accuracy'])"
      ],
      "metadata": {
        "id": "Zy9N87wAQHz4"
      },
      "execution_count": 9,
      "outputs": []
    },
    {
      "cell_type": "code",
      "source": [
        "hist = model.fit(train_images, train_labels, validation_data=(valid_images, valid_labels),\n",
        "                 epochs=100, batch_size=batch_size, \n",
        "                 callbacks=[cb_checkpoint, cb_early_stopping])"
      ],
      "metadata": {
        "id": "5KstR3GnRuj4",
        "colab": {
          "base_uri": "https://localhost:8080/"
        },
        "outputId": "99ed1c37-103a-452c-d99e-18a8b3c0259a"
      },
      "execution_count": 10,
      "outputs": [
        {
          "output_type": "stream",
          "name": "stdout",
          "text": [
            "Epoch 1/100\n",
            "300/300 [==============================] - ETA: 0s - loss: 0.2082 - accuracy: 0.9492\n",
            "Epoch 1: val_accuracy improved from -inf to 0.11282, saving model to /content/drive/MyDrive/2022-1/국비지원교육/실습폴더/models/mnist-1-4.07607-0.11282.hdf5\n",
            "300/300 [==============================] - 18s 23ms/step - loss: 0.2082 - accuracy: 0.9492 - val_loss: 4.0761 - val_accuracy: 0.1128\n",
            "Epoch 2/100\n",
            "298/300 [============================>.] - ETA: 0s - loss: 0.0512 - accuracy: 0.9869\n",
            "Epoch 2: val_accuracy improved from 0.11282 to 0.95012, saving model to /content/drive/MyDrive/2022-1/국비지원교육/실습폴더/models/mnist-2-0.16200-0.95012.hdf5\n",
            "300/300 [==============================] - 6s 20ms/step - loss: 0.0510 - accuracy: 0.9869 - val_loss: 0.1620 - val_accuracy: 0.9501\n",
            "Epoch 3/100\n",
            "298/300 [============================>.] - ETA: 0s - loss: 0.0351 - accuracy: 0.9904\n",
            "Epoch 3: val_accuracy improved from 0.95012 to 0.99047, saving model to /content/drive/MyDrive/2022-1/국비지원교육/실습폴더/models/mnist-3-0.03093-0.99047.hdf5\n",
            "300/300 [==============================] - 6s 20ms/step - loss: 0.0350 - accuracy: 0.9904 - val_loss: 0.0309 - val_accuracy: 0.9905\n",
            "Epoch 4/100\n",
            "298/300 [============================>.] - ETA: 0s - loss: 0.0258 - accuracy: 0.9928\n",
            "Epoch 4: val_accuracy did not improve from 0.99047\n",
            "300/300 [==============================] - 6s 20ms/step - loss: 0.0258 - accuracy: 0.9927 - val_loss: 0.0316 - val_accuracy: 0.9902\n",
            "Epoch 5/100\n",
            "298/300 [============================>.] - ETA: 0s - loss: 0.0208 - accuracy: 0.9943\n",
            "Epoch 5: val_accuracy did not improve from 0.99047\n",
            "300/300 [==============================] - 6s 20ms/step - loss: 0.0207 - accuracy: 0.9943 - val_loss: 0.0402 - val_accuracy: 0.9871\n",
            "Epoch 6/100\n",
            "298/300 [============================>.] - ETA: 0s - loss: 0.0123 - accuracy: 0.9968\n",
            "Epoch 6: val_accuracy improved from 0.99047 to 0.99376, saving model to /content/drive/MyDrive/2022-1/국비지원교육/실습폴더/models/mnist-6-0.02082-0.99376.hdf5\n",
            "300/300 [==============================] - 6s 20ms/step - loss: 0.0123 - accuracy: 0.9968 - val_loss: 0.0208 - val_accuracy: 0.9938\n",
            "Epoch 7/100\n",
            "298/300 [============================>.] - ETA: 0s - loss: 0.0093 - accuracy: 0.9976\n",
            "Epoch 7: val_accuracy did not improve from 0.99376\n",
            "300/300 [==============================] - 6s 20ms/step - loss: 0.0093 - accuracy: 0.9976 - val_loss: 0.0267 - val_accuracy: 0.9916\n",
            "Epoch 8/100\n",
            "298/300 [============================>.] - ETA: 0s - loss: 0.0079 - accuracy: 0.9982\n",
            "Epoch 8: val_accuracy did not improve from 0.99376\n",
            "300/300 [==============================] - 6s 20ms/step - loss: 0.0079 - accuracy: 0.9982 - val_loss: 0.0286 - val_accuracy: 0.9911\n",
            "Epoch 9/100\n",
            "298/300 [============================>.] - ETA: 0s - loss: 0.0062 - accuracy: 0.9987\n",
            "Epoch 9: val_accuracy did not improve from 0.99376\n",
            "300/300 [==============================] - 6s 20ms/step - loss: 0.0062 - accuracy: 0.9987 - val_loss: 0.0236 - val_accuracy: 0.9934\n",
            "Epoch 10/100\n",
            "298/300 [============================>.] - ETA: 0s - loss: 0.0059 - accuracy: 0.9985\n",
            "Epoch 10: val_accuracy did not improve from 0.99376\n",
            "300/300 [==============================] - 6s 20ms/step - loss: 0.0060 - accuracy: 0.9985 - val_loss: 0.0376 - val_accuracy: 0.9902\n",
            "Epoch 11/100\n",
            "298/300 [============================>.] - ETA: 0s - loss: 0.0037 - accuracy: 0.9994\n",
            "Epoch 11: val_accuracy did not improve from 0.99376\n",
            "300/300 [==============================] - 6s 20ms/step - loss: 0.0037 - accuracy: 0.9994 - val_loss: 0.0221 - val_accuracy: 0.9931\n",
            "Epoch 12/100\n",
            "298/300 [============================>.] - ETA: 0s - loss: 0.0029 - accuracy: 0.9995\n",
            "Epoch 12: val_accuracy improved from 0.99376 to 0.99400, saving model to /content/drive/MyDrive/2022-1/국비지원교육/실습폴더/models/mnist-12-0.02211-0.99400.hdf5\n",
            "300/300 [==============================] - 6s 20ms/step - loss: 0.0030 - accuracy: 0.9995 - val_loss: 0.0221 - val_accuracy: 0.9940\n",
            "Epoch 13/100\n",
            "298/300 [============================>.] - ETA: 0s - loss: 0.0026 - accuracy: 0.9995\n",
            "Epoch 13: val_accuracy did not improve from 0.99400\n",
            "300/300 [==============================] - 6s 20ms/step - loss: 0.0026 - accuracy: 0.9995 - val_loss: 0.0231 - val_accuracy: 0.9935\n",
            "Epoch 14/100\n",
            "298/300 [============================>.] - ETA: 0s - loss: 0.0021 - accuracy: 0.9998\n",
            "Epoch 14: val_accuracy did not improve from 0.99400\n",
            "300/300 [==============================] - 6s 20ms/step - loss: 0.0021 - accuracy: 0.9998 - val_loss: 0.0235 - val_accuracy: 0.9935\n",
            "Epoch 15/100\n",
            "298/300 [============================>.] - ETA: 0s - loss: 0.0023 - accuracy: 0.9996\n",
            "Epoch 15: val_accuracy did not improve from 0.99400\n",
            "300/300 [==============================] - 6s 20ms/step - loss: 0.0023 - accuracy: 0.9996 - val_loss: 0.0239 - val_accuracy: 0.9934\n",
            "Epoch 16/100\n",
            "298/300 [============================>.] - ETA: 0s - loss: 0.0017 - accuracy: 0.9998\n",
            "Epoch 16: val_accuracy did not improve from 0.99400\n",
            "300/300 [==============================] - 6s 20ms/step - loss: 0.0017 - accuracy: 0.9998 - val_loss: 0.0217 - val_accuracy: 0.9935\n",
            "Epoch 17/100\n",
            "298/300 [============================>.] - ETA: 0s - loss: 0.0013 - accuracy: 0.9999\n",
            "Epoch 17: val_accuracy did not improve from 0.99400\n",
            "300/300 [==============================] - 6s 20ms/step - loss: 0.0013 - accuracy: 0.9999 - val_loss: 0.0215 - val_accuracy: 0.9933\n",
            "Epoch 18/100\n",
            "298/300 [============================>.] - ETA: 0s - loss: 0.0013 - accuracy: 0.9999\n",
            "Epoch 18: val_accuracy did not improve from 0.99400\n",
            "300/300 [==============================] - 6s 20ms/step - loss: 0.0013 - accuracy: 0.9999 - val_loss: 0.0231 - val_accuracy: 0.9931\n"
          ]
        }
      ]
    },
    {
      "cell_type": "code",
      "source": [
        "import matplotlib.pyplot as plt\n",
        "\n",
        "fig, loss_ax = plt.subplots()\n",
        "acc_ax = loss_ax.twinx()\n",
        "\n",
        "loss_ax.plot(hist.history['loss'], 'y', label='train_loss')\n",
        "loss_ax.plot(hist.history['val_loss'], 'r', label='valid_loss')\n",
        "loss_ax.set_xlabel('epochs')\n",
        "loss_ax.set_ylabel('loss')\n",
        "loss_ax.legend(loc='upper left')\n",
        "\n",
        "acc_ax.plot(hist.history['accuracy'], 'b', label='train_accuracy')\n",
        "acc_ax.plot(hist.history['val_accuracy'], 'g', label='valid_accuracy')\n",
        "acc_ax.set_xlabel('epochs')\n",
        "acc_ax.set_ylabel('accuracy')\n",
        "acc_ax.legend(loc='upper right', bbox_to_anchor=(1, 0.5))\n",
        "\n",
        "plt.show()\n"
      ],
      "metadata": {
        "colab": {
          "base_uri": "https://localhost:8080/",
          "height": 279
        },
        "id": "3CRXQJJwTFix",
        "outputId": "027b258d-14e1-4445-b554-f6303468e2e8"
      },
      "execution_count": 11,
      "outputs": [
        {
          "output_type": "display_data",
          "data": {
            "image/png": "[encoded data removed]",
            "text/plain": [
              "<Figure size 432x288 with 2 Axes>"
            ]
          },
          "metadata": {
            "needs_background": "light"
          }
        }
      ]
    },
    {
      "cell_type": "markdown",
      "source": [
        "# Pretrained Model 사용"
      ],
      "metadata": {
        "id": "LSslAQjeZwXm"
      }
    },
    {
      "cell_type": "code",
      "source": [
        "from tensorflow.keras.applications import VGG16\n",
        "import numpy as np"
      ],
      "metadata": {
        "id": "i3HRiWAjXZGj"
      },
      "execution_count": 20,
      "outputs": []
    },
    {
      "cell_type": "code",
      "source": [
        "train_images = train_images.reshape(-1,784)\n",
        "valid_images = valid_images.reshape(-1,784)\n",
        "\n",
        "print(train_images.shape,valid_images.shape)"
      ],
      "metadata": {
        "colab": {
          "base_uri": "https://localhost:8080/"
        },
        "id": "03-W9qija1eW",
        "outputId": "ad9dbee8-0157-46ce-d4fc-83153e8fde07"
      },
      "execution_count": 21,
      "outputs": [
        {
          "output_type": "stream",
          "name": "stdout",
          "text": [
            "(60000, 784) (8500, 784)\n"
          ]
        }
      ]
    },
    {
      "cell_type": "code",
      "source": [
        "test_images = test_images.reshape(-1,784)"
      ],
      "metadata": {
        "id": "wYFxhheHbBYU"
      },
      "execution_count": 22,
      "outputs": []
    },
    {
      "cell_type": "markdown",
      "source": [
        "np.dstack\n",
        "- 스택을 쌓는 기능\n",
        "- 채널이 추가됨"
      ],
      "metadata": {
        "id": "ESD_h3VKbeeu"
      }
    },
    {
      "cell_type": "code",
      "source": [
        "train_images = np.dstack([train_images]*3)\n",
        "valid_images = np.dstack([valid_images]*3)\n",
        "test_images = np.dstack([test_images]*3)"
      ],
      "metadata": {
        "id": "HD8uqOxbbH_o"
      },
      "execution_count": 23,
      "outputs": []
    },
    {
      "cell_type": "code",
      "source": [
        "print(train_images.shape,valid_images.shape,test_images.shape)"
      ],
      "metadata": {
        "colab": {
          "base_uri": "https://localhost:8080/"
        },
        "id": "5xh46YX2bazj",
        "outputId": "337e453a-bff0-4865-a8fb-2540335194c8"
      },
      "execution_count": 24,
      "outputs": [
        {
          "output_type": "stream",
          "name": "stdout",
          "text": [
            "(60000, 784, 3) (8500, 784, 3) (1500, 784, 3)\n"
          ]
        }
      ]
    },
    {
      "cell_type": "code",
      "source": [
        "# 채널 뻥튀기 후 이미지 사이즈로 reshape\n",
        "train_images = train_images.reshape(-1,28,28,3)\n",
        "valid_images = valid_images.reshape(-1,28,28,3)\n",
        "test_images = test_images.reshape(-1,28,28,3)"
      ],
      "metadata": {
        "id": "Fffy4EEDb27N"
      },
      "execution_count": 25,
      "outputs": []
    },
    {
      "cell_type": "code",
      "source": [
        "print(train_images.shape,valid_images.shape,test_images.shape)"
      ],
      "metadata": {
        "colab": {
          "base_uri": "https://localhost:8080/"
        },
        "id": "ClNPVerKcQSm",
        "outputId": "48cbeea8-cc1a-4c74-ff87-9d9a764c37c8"
      },
      "execution_count": 26,
      "outputs": [
        {
          "output_type": "stream",
          "name": "stdout",
          "text": [
            "(60000, 28, 28, 3) (8500, 28, 28, 3) (1500, 28, 28, 3)\n"
          ]
        }
      ]
    },
    {
      "cell_type": "code",
      "source": [
        "from tensorflow.keras.preprocessing.image import img_to_array, array_to_img\n",
        "\n",
        "# 이미지로 바꾼후 크기 확대(resize), 후 다시 어레이로 바꿔 리스트\n",
        "train_images = np.asarray([img_to_array(array_to_img(im, scale=False).resize((48,48))) for im in train_images])\n",
        "valid_images = np.asarray([img_to_array(array_to_img(im, scale=False).resize((48,48))) for im in valid_images])\n",
        "test_images = np.asarray([img_to_array(array_to_img(im, scale=False).resize((48,48))) for im in test_images])"
      ],
      "metadata": {
        "id": "oo_1lb3ccRsI"
      },
      "execution_count": 28,
      "outputs": []
    },
    {
      "cell_type": "code",
      "source": [
        "print(train_images.shape,valid_images.shape,test_images.shape)"
      ],
      "metadata": {
        "colab": {
          "base_uri": "https://localhost:8080/"
        },
        "id": "qx7aREvVdljM",
        "outputId": "165228d1-7cf5-449a-84b4-713e465e1682"
      },
      "execution_count": 29,
      "outputs": [
        {
          "output_type": "stream",
          "name": "stdout",
          "text": [
            "(60000, 48, 48, 3) (8500, 48, 48, 3) (1500, 48, 48, 3)\n"
          ]
        }
      ]
    },
    {
      "cell_type": "code",
      "source": [
        "# VGG\n",
        "vgg_model = VGG16(weights='imagenet',include_top=False, input_shape=(48,48,3))\n",
        "vgg_model.summary()"
      ],
      "metadata": {
        "colab": {
          "base_uri": "https://localhost:8080/"
        },
        "id": "z1byxfLVezsR",
        "outputId": "85ac1402-ac00-43c0-e2af-b00aca214463"
      },
      "execution_count": 32,
      "outputs": [
        {
          "output_type": "stream",
          "name": "stdout",
          "text": [
            "Downloading data from https://storage.googleapis.com/tensorflow/keras-applications/vgg16/vgg16_weights_tf_dim_ordering_tf_kernels_notop.h5\n",
            "58892288/58889256 [==============================] - 1s 0us/step\n",
            "58900480/58889256 [==============================] - 1s 0us/step\n",
            "Model: \"vgg16\"\n",
            "_________________________________________________________________\n",
            " Layer (type)                Output Shape              Param #   \n",
            "=================================================================\n",
            " input_2 (InputLayer)        [(None, 48, 48, 3)]       0         \n",
            "                                                                 \n",
            " block1_conv1 (Conv2D)       (None, 48, 48, 64)        1792      \n",
            "                                                                 \n",
            " block1_conv2 (Conv2D)       (None, 48, 48, 64)        36928     \n",
            "                                                                 \n",
            " block1_pool (MaxPooling2D)  (None, 24, 24, 64)        0         \n",
            "                                                                 \n",
            " block2_conv1 (Conv2D)       (None, 24, 24, 128)       73856     \n",
            "                                                                 \n",
            " block2_conv2 (Conv2D)       (None, 24, 24, 128)       147584    \n",
            "                                                                 \n",
            " block2_pool (MaxPooling2D)  (None, 12, 12, 128)       0         \n",
            "                                                                 \n",
            " block3_conv1 (Conv2D)       (None, 12, 12, 256)       295168    \n",
            "                                                                 \n",
            " block3_conv2 (Conv2D)       (None, 12, 12, 256)       590080    \n",
            "                                                                 \n",
            " block3_conv3 (Conv2D)       (None, 12, 12, 256)       590080    \n",
            "                                                                 \n",
            " block3_pool (MaxPooling2D)  (None, 6, 6, 256)         0         \n",
            "                                                                 \n",
            " block4_conv1 (Conv2D)       (None, 6, 6, 512)         1180160   \n",
            "                                                                 \n",
            " block4_conv2 (Conv2D)       (None, 6, 6, 512)         2359808   \n",
            "                                                                 \n",
            " block4_conv3 (Conv2D)       (None, 6, 6, 512)         2359808   \n",
            "                                                                 \n",
            " block4_pool (MaxPooling2D)  (None, 3, 3, 512)         0         \n",
            "                                                                 \n",
            " block5_conv1 (Conv2D)       (None, 3, 3, 512)         2359808   \n",
            "                                                                 \n",
            " block5_conv2 (Conv2D)       (None, 3, 3, 512)         2359808   \n",
            "                                                                 \n",
            " block5_conv3 (Conv2D)       (None, 3, 3, 512)         2359808   \n",
            "                                                                 \n",
            " block5_pool (MaxPooling2D)  (None, 1, 1, 512)         0         \n",
            "                                                                 \n",
            "=================================================================\n",
            "Total params: 14,714,688\n",
            "Trainable params: 14,714,688\n",
            "Non-trainable params: 0\n",
            "_________________________________________________________________\n"
          ]
        }
      ]
    },
    {
      "cell_type": "code",
      "source": [
        "layer_dict = {layer.name : layer for layer in vgg_model.layers}\n",
        "layer_dict\n",
        "# 이 레이어를 다 썼다간 컴퓨터 터진다"
      ],
      "metadata": {
        "colab": {
          "base_uri": "https://localhost:8080/"
        },
        "id": "V-xo5upRfVZL",
        "outputId": "f5afaf34-d7f5-4a37-bd38-987047f32011"
      },
      "execution_count": 34,
      "outputs": [
        {
          "output_type": "execute_result",
          "data": {
            "text/plain": [
              "{'block1_conv1': <keras.layers.convolutional.Conv2D at 0x7f7cec908e50>,\n",
              " 'block1_conv2': <keras.layers.convolutional.Conv2D at 0x7f7dd0074b50>,\n",
              " 'block1_pool': <keras.layers.pooling.MaxPooling2D at 0x7f7cec90fa10>,\n",
              " 'block2_conv1': <keras.layers.convolutional.Conv2D at 0x7f7cec90f6d0>,\n",
              " 'block2_conv2': <keras.layers.convolutional.Conv2D at 0x7f7cec9e2210>,\n",
              " 'block2_pool': <keras.layers.pooling.MaxPooling2D at 0x7f7cec8cd610>,\n",
              " 'block3_conv1': <keras.layers.convolutional.Conv2D at 0x7f7cec8cc550>,\n",
              " 'block3_conv2': <keras.layers.convolutional.Conv2D at 0x7f7cec8de750>,\n",
              " 'block3_conv3': <keras.layers.convolutional.Conv2D at 0x7f7cec8d1290>,\n",
              " 'block3_pool': <keras.layers.pooling.MaxPooling2D at 0x7f7cec8ea190>,\n",
              " 'block4_conv1': <keras.layers.convolutional.Conv2D at 0x7f7cec8eeb90>,\n",
              " 'block4_conv2': <keras.layers.convolutional.Conv2D at 0x7f7cec8ea590>,\n",
              " 'block4_conv3': <keras.layers.convolutional.Conv2D at 0x7f7cec7b03d0>,\n",
              " 'block4_pool': <keras.layers.pooling.MaxPooling2D at 0x7f7cec7bb4d0>,\n",
              " 'block5_conv1': <keras.layers.convolutional.Conv2D at 0x7f7cec7b5d90>,\n",
              " 'block5_conv2': <keras.layers.convolutional.Conv2D at 0x7f7cec8faed0>,\n",
              " 'block5_conv3': <keras.layers.convolutional.Conv2D at 0x7f7cec90f610>,\n",
              " 'block5_pool': <keras.layers.pooling.MaxPooling2D at 0x7f7cec7c3790>,\n",
              " 'input_2': <keras.engine.input_layer.InputLayer at 0x7f7cecada6d0>}"
            ]
          },
          "metadata": {},
          "execution_count": 34
        }
      ]
    },
    {
      "cell_type": "code",
      "source": [
        "x = layer_dict['block2_conv2'].output\n",
        "\n",
        "# VGG에서 나온 아웃풋값을 새 모델의 인풋으로, pretrained 값 사용\n",
        "x = Conv2D(filters=64, kernel_size=(3,3), activation='relu')(x)\n",
        "x = MaxPool2D()(x)\n",
        "x = Flatten()(x)\n",
        "x = Dense(256, activation = 'relu')(x) # output 값 256개\n",
        "x = Dropout(0.3)(x)\n",
        "x = Dense(10, activation='softmax')(x) # 최종 output 10개"
      ],
      "metadata": {
        "id": "TdKuFIA9frCh"
      },
      "execution_count": 35,
      "outputs": []
    },
    {
      "cell_type": "code",
      "source": [
        "custom_model = Model(inputs=vgg_model.input, outputs = x) # 모델생성\n",
        "custom_model.summary()"
      ],
      "metadata": {
        "colab": {
          "base_uri": "https://localhost:8080/"
        },
        "id": "R8R3O_-Vgbse",
        "outputId": "1d0d3f9a-5287-4268-a15c-061f452a3970"
      },
      "execution_count": 37,
      "outputs": [
        {
          "output_type": "stream",
          "name": "stdout",
          "text": [
            "Model: \"model\"\n",
            "_________________________________________________________________\n",
            " Layer (type)                Output Shape              Param #   \n",
            "=================================================================\n",
            " input_2 (InputLayer)        [(None, 48, 48, 3)]       0         \n",
            "                                                                 \n",
            " block1_conv1 (Conv2D)       (None, 48, 48, 64)        1792      \n",
            "                                                                 \n",
            " block1_conv2 (Conv2D)       (None, 48, 48, 64)        36928     \n",
            "                                                                 \n",
            " block1_pool (MaxPooling2D)  (None, 24, 24, 64)        0         \n",
            "                                                                 \n",
            " block2_conv1 (Conv2D)       (None, 24, 24, 128)       73856     \n",
            "                                                                 \n",
            " block2_conv2 (Conv2D)       (None, 24, 24, 128)       147584    \n",
            "                                                                 \n",
            " conv2d_3 (Conv2D)           (None, 22, 22, 64)        73792     \n",
            "                                                                 \n",
            " max_pooling2d_2 (MaxPooling  (None, 11, 11, 64)       0         \n",
            " 2D)                                                             \n",
            "                                                                 \n",
            " flatten_1 (Flatten)         (None, 7744)              0         \n",
            "                                                                 \n",
            " dense_2 (Dense)             (None, 256)               1982720   \n",
            "                                                                 \n",
            " dropout_1 (Dropout)         (None, 256)               0         \n",
            "                                                                 \n",
            " dense_3 (Dense)             (None, 10)                2570      \n",
            "                                                                 \n",
            "=================================================================\n",
            "Total params: 2,319,242\n",
            "Trainable params: 2,319,242\n",
            "Non-trainable params: 0\n",
            "_________________________________________________________________\n"
          ]
        }
      ]
    },
    {
      "cell_type": "code",
      "source": [
        "# 기존에 가져온 weight값 변화 안시키기 = static 방식\n",
        "\n",
        "for layer in custom_model.layers[:7]:\n",
        "    layer.trainable = False"
      ],
      "metadata": {
        "id": "sDXO6QINht4-"
      },
      "execution_count": 38,
      "outputs": []
    },
    {
      "cell_type": "code",
      "source": [
        "custom_model.compile(optimizer='adam', loss='sparse_categorical_crossentropy', metrics=['accuracy'])"
      ],
      "metadata": {
        "id": "e2Oq5FKIjSCJ"
      },
      "execution_count": 39,
      "outputs": []
    },
    {
      "cell_type": "code",
      "source": [
        "from tensorflow.keras.callbacks import ModelCheckpoint, EarlyStopping\n",
        "\n",
        "MODEL_SAVE_FOLDER = '/content/drive/MyDrive/2022-1/국비지원교육/실습폴더/models/'\n",
        "model_path = f\"{MODEL_SAVE_FOLDER}mnist-{{epoch:d}}-{{val_loss:.5f}}-{{val_accuracy:.5f}}.hdf5\"\n",
        "\n",
        "cb_checkpoint = ModelCheckpoint(filepath=model_path, \n",
        "                                monitor='val_accuracy', \n",
        "                                verbose=1,\n",
        "                                save_weights_only=True,\n",
        "                                save_best_only=True)\n",
        "\n",
        "cb_early_stopping = EarlyStopping(monitor='val_accuracy', patience=6)\n",
        "\n",
        "!rm '/content/drive/MyDrive/2022-1/국비지원교육/실습폴더/models/'*"
      ],
      "metadata": {
        "id": "mEFDaIVIoiAj"
      },
      "execution_count": 40,
      "outputs": []
    },
    {
      "cell_type": "code",
      "source": [
        "hist = custom_model.fit(train_images,train_labels, validation_data=(valid_images,valid_labels),\n",
        "                        epochs=100, batch_size = 200,\n",
        "                        callbacks=[cb_checkpoint,cb_early_stopping])"
      ],
      "metadata": {
        "colab": {
          "base_uri": "https://localhost:8080/"
        },
        "id": "nd1K2q8QouSI",
        "outputId": "6e0f5218-bb56-49cc-d2a4-22b0deef774a"
      },
      "execution_count": 41,
      "outputs": [
        {
          "output_type": "stream",
          "name": "stdout",
          "text": [
            "Epoch 1/100\n",
            "300/300 [==============================] - ETA: 0s - loss: 3.9605 - accuracy: 0.7727\n",
            "Epoch 1: val_accuracy improved from -inf to 0.95506, saving model to /content/drive/MyDrive/2022-1/국비지원교육/실습폴더/models/mnist-1-0.16235-0.95506.hdf5\n",
            "300/300 [==============================] - 22s 69ms/step - loss: 3.9605 - accuracy: 0.7727 - val_loss: 0.1624 - val_accuracy: 0.9551\n",
            "Epoch 2/100\n",
            "300/300 [==============================] - ETA: 0s - loss: 0.3013 - accuracy: 0.9086\n",
            "Epoch 2: val_accuracy improved from 0.95506 to 0.96894, saving model to /content/drive/MyDrive/2022-1/국비지원교육/실습폴더/models/mnist-2-0.11228-0.96894.hdf5\n",
            "300/300 [==============================] - 20s 66ms/step - loss: 0.3013 - accuracy: 0.9086 - val_loss: 0.1123 - val_accuracy: 0.9689\n",
            "Epoch 3/100\n",
            "300/300 [==============================] - ETA: 0s - loss: 0.2349 - accuracy: 0.9293\n",
            "Epoch 3: val_accuracy improved from 0.96894 to 0.97212, saving model to /content/drive/MyDrive/2022-1/국비지원교육/실습폴더/models/mnist-3-0.09112-0.97212.hdf5\n",
            "300/300 [==============================] - 20s 66ms/step - loss: 0.2349 - accuracy: 0.9293 - val_loss: 0.0911 - val_accuracy: 0.9721\n",
            "Epoch 4/100\n",
            "300/300 [==============================] - ETA: 0s - loss: 0.2133 - accuracy: 0.9385\n",
            "Epoch 4: val_accuracy improved from 0.97212 to 0.97365, saving model to /content/drive/MyDrive/2022-1/국비지원교육/실습폴더/models/mnist-4-0.08970-0.97365.hdf5\n",
            "300/300 [==============================] - 20s 67ms/step - loss: 0.2133 - accuracy: 0.9385 - val_loss: 0.0897 - val_accuracy: 0.9736\n",
            "Epoch 5/100\n",
            "300/300 [==============================] - ETA: 0s - loss: 0.2094 - accuracy: 0.9375\n",
            "Epoch 5: val_accuracy improved from 0.97365 to 0.97753, saving model to /content/drive/MyDrive/2022-1/국비지원교육/실습폴더/models/mnist-5-0.07521-0.97753.hdf5\n",
            "300/300 [==============================] - 20s 67ms/step - loss: 0.2094 - accuracy: 0.9375 - val_loss: 0.0752 - val_accuracy: 0.9775\n",
            "Epoch 6/100\n",
            "300/300 [==============================] - ETA: 0s - loss: 0.2053 - accuracy: 0.9396\n",
            "Epoch 6: val_accuracy improved from 0.97753 to 0.97906, saving model to /content/drive/MyDrive/2022-1/국비지원교육/실습폴더/models/mnist-6-0.07713-0.97906.hdf5\n",
            "300/300 [==============================] - 20s 67ms/step - loss: 0.2053 - accuracy: 0.9396 - val_loss: 0.0771 - val_accuracy: 0.9791\n",
            "Epoch 7/100\n",
            "300/300 [==============================] - ETA: 0s - loss: 0.1948 - accuracy: 0.9405\n",
            "Epoch 7: val_accuracy improved from 0.97906 to 0.97941, saving model to /content/drive/MyDrive/2022-1/국비지원교육/실습폴더/models/mnist-7-0.07255-0.97941.hdf5\n",
            "300/300 [==============================] - 20s 66ms/step - loss: 0.1948 - accuracy: 0.9405 - val_loss: 0.0725 - val_accuracy: 0.9794\n",
            "Epoch 8/100\n",
            "300/300 [==============================] - ETA: 0s - loss: 0.1922 - accuracy: 0.9419\n",
            "Epoch 8: val_accuracy did not improve from 0.97941\n",
            "300/300 [==============================] - 20s 67ms/step - loss: 0.1922 - accuracy: 0.9419 - val_loss: 0.0760 - val_accuracy: 0.9768\n",
            "Epoch 9/100\n",
            "300/300 [==============================] - ETA: 0s - loss: 0.1801 - accuracy: 0.9432\n",
            "Epoch 9: val_accuracy improved from 0.97941 to 0.98024, saving model to /content/drive/MyDrive/2022-1/국비지원교육/실습폴더/models/mnist-9-0.06810-0.98024.hdf5\n",
            "300/300 [==============================] - 20s 67ms/step - loss: 0.1801 - accuracy: 0.9432 - val_loss: 0.0681 - val_accuracy: 0.9802\n",
            "Epoch 10/100\n",
            "300/300 [==============================] - ETA: 0s - loss: 0.1862 - accuracy: 0.9420\n",
            "Epoch 10: val_accuracy improved from 0.98024 to 0.98106, saving model to /content/drive/MyDrive/2022-1/국비지원교육/실습폴더/models/mnist-10-0.06932-0.98106.hdf5\n",
            "300/300 [==============================] - 20s 67ms/step - loss: 0.1862 - accuracy: 0.9420 - val_loss: 0.0693 - val_accuracy: 0.9811\n",
            "Epoch 11/100\n",
            "300/300 [==============================] - ETA: 0s - loss: 0.1678 - accuracy: 0.9475\n",
            "Epoch 11: val_accuracy did not improve from 0.98106\n",
            "300/300 [==============================] - 20s 66ms/step - loss: 0.1678 - accuracy: 0.9475 - val_loss: 0.0743 - val_accuracy: 0.9780\n",
            "Epoch 12/100\n",
            "300/300 [==============================] - ETA: 0s - loss: 0.1508 - accuracy: 0.9546\n",
            "Epoch 12: val_accuracy improved from 0.98106 to 0.98247, saving model to /content/drive/MyDrive/2022-1/국비지원교육/실습폴더/models/mnist-12-0.05812-0.98247.hdf5\n",
            "300/300 [==============================] - 20s 67ms/step - loss: 0.1508 - accuracy: 0.9546 - val_loss: 0.0581 - val_accuracy: 0.9825\n",
            "Epoch 13/100\n",
            "300/300 [==============================] - ETA: 0s - loss: 0.1482 - accuracy: 0.9549\n",
            "Epoch 13: val_accuracy improved from 0.98247 to 0.98271, saving model to /content/drive/MyDrive/2022-1/국비지원교육/실습폴더/models/mnist-13-0.05865-0.98271.hdf5\n",
            "300/300 [==============================] - 20s 66ms/step - loss: 0.1482 - accuracy: 0.9549 - val_loss: 0.0587 - val_accuracy: 0.9827\n",
            "Epoch 14/100\n",
            "300/300 [==============================] - ETA: 0s - loss: 0.1462 - accuracy: 0.9539\n",
            "Epoch 14: val_accuracy did not improve from 0.98271\n",
            "300/300 [==============================] - 20s 67ms/step - loss: 0.1462 - accuracy: 0.9539 - val_loss: 0.0637 - val_accuracy: 0.9815\n",
            "Epoch 15/100\n",
            "300/300 [==============================] - ETA: 0s - loss: 0.1553 - accuracy: 0.9505\n",
            "Epoch 15: val_accuracy did not improve from 0.98271\n",
            "300/300 [==============================] - 20s 66ms/step - loss: 0.1553 - accuracy: 0.9505 - val_loss: 0.0794 - val_accuracy: 0.9793\n",
            "Epoch 16/100\n",
            "300/300 [==============================] - ETA: 0s - loss: 0.1635 - accuracy: 0.9463\n",
            "Epoch 16: val_accuracy did not improve from 0.98271\n",
            "300/300 [==============================] - 20s 66ms/step - loss: 0.1635 - accuracy: 0.9463 - val_loss: 0.0637 - val_accuracy: 0.9826\n",
            "Epoch 17/100\n",
            "300/300 [==============================] - ETA: 0s - loss: 0.1453 - accuracy: 0.9538\n",
            "Epoch 17: val_accuracy did not improve from 0.98271\n",
            "300/300 [==============================] - 20s 66ms/step - loss: 0.1453 - accuracy: 0.9538 - val_loss: 0.0796 - val_accuracy: 0.9794\n",
            "Epoch 18/100\n",
            "300/300 [==============================] - ETA: 0s - loss: 0.1328 - accuracy: 0.9575\n",
            "Epoch 18: val_accuracy improved from 0.98271 to 0.98482, saving model to /content/drive/MyDrive/2022-1/국비지원교육/실습폴더/models/mnist-18-0.05878-0.98482.hdf5\n",
            "300/300 [==============================] - 20s 66ms/step - loss: 0.1328 - accuracy: 0.9575 - val_loss: 0.0588 - val_accuracy: 0.9848\n",
            "Epoch 19/100\n",
            "300/300 [==============================] - ETA: 0s - loss: 0.1417 - accuracy: 0.9550\n",
            "Epoch 19: val_accuracy did not improve from 0.98482\n",
            "300/300 [==============================] - 20s 66ms/step - loss: 0.1417 - accuracy: 0.9550 - val_loss: 0.0711 - val_accuracy: 0.9818\n",
            "Epoch 20/100\n",
            "300/300 [==============================] - ETA: 0s - loss: 0.1664 - accuracy: 0.9434\n",
            "Epoch 20: val_accuracy did not improve from 0.98482\n",
            "300/300 [==============================] - 20s 67ms/step - loss: 0.1664 - accuracy: 0.9434 - val_loss: 0.0629 - val_accuracy: 0.9827\n",
            "Epoch 21/100\n",
            "300/300 [==============================] - ETA: 0s - loss: 0.1622 - accuracy: 0.9457\n",
            "Epoch 21: val_accuracy did not improve from 0.98482\n",
            "300/300 [==============================] - 20s 67ms/step - loss: 0.1622 - accuracy: 0.9457 - val_loss: 0.0619 - val_accuracy: 0.9841\n",
            "Epoch 22/100\n",
            "300/300 [==============================] - ETA: 0s - loss: 0.1426 - accuracy: 0.9525\n",
            "Epoch 22: val_accuracy did not improve from 0.98482\n",
            "300/300 [==============================] - 20s 66ms/step - loss: 0.1426 - accuracy: 0.9525 - val_loss: 0.0719 - val_accuracy: 0.9825\n",
            "Epoch 23/100\n",
            "300/300 [==============================] - ETA: 0s - loss: 0.1361 - accuracy: 0.9566\n",
            "Epoch 23: val_accuracy did not improve from 0.98482\n",
            "300/300 [==============================] - 20s 66ms/step - loss: 0.1361 - accuracy: 0.9566 - val_loss: 0.0603 - val_accuracy: 0.9833\n",
            "Epoch 24/100\n",
            "300/300 [==============================] - ETA: 0s - loss: 0.1408 - accuracy: 0.9542\n",
            "Epoch 24: val_accuracy did not improve from 0.98482\n",
            "300/300 [==============================] - 20s 67ms/step - loss: 0.1408 - accuracy: 0.9542 - val_loss: 0.0658 - val_accuracy: 0.9826\n"
          ]
        }
      ]
    },
    {
      "cell_type": "code",
      "source": [
        "fig, loss_ax = plt.subplots()\n",
        "acc_ax = loss_ax.twinx()\n",
        "\n",
        "loss_ax.plot(hist.history['loss'], 'y', label='train_loss')\n",
        "loss_ax.plot(hist.history['val_loss'], 'r', label='valid_loss')\n",
        "loss_ax.set_xlabel('epochs')\n",
        "loss_ax.set_ylabel('loss')\n",
        "loss_ax.legend(loc='upper left')\n",
        "\n",
        "acc_ax.plot(hist.history['accuracy'], 'b', label='train_accuracy')\n",
        "acc_ax.plot(hist.history['val_accuracy'], 'g', label='valid_accuracy')\n",
        "acc_ax.set_xlabel('epochs')\n",
        "acc_ax.set_ylabel('accuracy')\n",
        "acc_ax.legend(loc='upper right', bbox_to_anchor=(1, 0.5))\n",
        "\n",
        "plt.show()\n"
      ],
      "metadata": {
        "colab": {
          "base_uri": "https://localhost:8080/",
          "height": 279
        },
        "id": "6NT_ige-o9mI",
        "outputId": "857f3aa8-20dc-4603-ca42-2bf685f7f46b"
      },
      "execution_count": 42,
      "outputs": [
        {
          "output_type": "display_data",
          "data": {
            "image/png": "[encoded data removed]",
            "text/plain": [
              "<Figure size 432x288 with 2 Axes>"
            ]
          },
          "metadata": {
            "needs_background": "light"
          }
        }
      ]
    },
    {
      "cell_type": "code",
      "source": [
        "!ls -la '/content/drive/MyDrive/2022-1/국비지원교육/실습폴더/models/'"
      ],
      "metadata": {
        "colab": {
          "base_uri": "https://localhost:8080/"
        },
        "id": "QraaVB_VsUKW",
        "outputId": "fba38692-4c13-46c9-c90d-d577f12e3945"
      },
      "execution_count": 43,
      "outputs": [
        {
          "output_type": "stream",
          "name": "stdout",
          "text": [
            "total 109102\n",
            "drwx------ 2 root root    4096 Mar  3 04:15 .ipynb_checkpoints\n",
            "-rw------- 1 root root 9309328 Mar  4 06:38 mnist-10-0.06932-0.98106.hdf5\n",
            "-rw------- 1 root root 9309328 Mar  4 06:35 mnist-1-0.16235-0.95506.hdf5\n",
            "-rw------- 1 root root 9309328 Mar  4 06:39 mnist-12-0.05812-0.98247.hdf5\n",
            "-rw------- 1 root root 9309328 Mar  4 06:39 mnist-13-0.05865-0.98271.hdf5\n",
            "-rw------- 1 root root 9309328 Mar  4 06:41 mnist-18-0.05878-0.98482.hdf5\n",
            "-rw------- 1 root root 9309328 Mar  4 06:36 mnist-2-0.11228-0.96894.hdf5\n",
            "-rw------- 1 root root 9309328 Mar  4 06:36 mnist-3-0.09112-0.97212.hdf5\n",
            "-rw------- 1 root root 9309328 Mar  4 06:36 mnist-4-0.08970-0.97365.hdf5\n",
            "-rw------- 1 root root 9309328 Mar  4 06:37 mnist-5-0.07521-0.97753.hdf5\n",
            "-rw------- 1 root root 9309328 Mar  4 06:37 mnist-6-0.07713-0.97906.hdf5\n",
            "-rw------- 1 root root 9309328 Mar  4 06:37 mnist-7-0.07255-0.97941.hdf5\n",
            "-rw------- 1 root root 9309328 Mar  4 06:38 mnist-9-0.06810-0.98024.hdf5\n"
          ]
        }
      ]
    },
    {
      "cell_type": "code",
      "source": [
        "saved_path = \"/content/drive/MyDrive/2022-1/국비지원교육/실습폴더/models/mnist-18-0.05878-0.98482.hdf5\"\n",
        "custom_model.load_weights(saved_path)\n",
        "\n",
        "custom_model.evaluate(test_images, test_labels) #predict"
      ],
      "metadata": {
        "colab": {
          "base_uri": "https://localhost:8080/"
        },
        "id": "0_878hm5u_IB",
        "outputId": "5cee49f6-9a80-4c55-c436-54e06e9a2434"
      },
      "execution_count": 45,
      "outputs": [
        {
          "output_type": "stream",
          "name": "stdout",
          "text": [
            "47/47 [==============================] - 1s 15ms/step - loss: 0.0512 - accuracy: 0.9860\n"
          ]
        },
        {
          "output_type": "execute_result",
          "data": {
            "text/plain": [
              "[0.05119439214468002, 0.9860000014305115]"
            ]
          },
          "metadata": {},
          "execution_count": 45
        }
      ]
    },
    {
      "cell_type": "code",
      "source": [
        ""
      ],
      "metadata": {
        "id": "v4-emtiTvbfi"
      },
      "execution_count": null,
      "outputs": []
    }
  ]
}