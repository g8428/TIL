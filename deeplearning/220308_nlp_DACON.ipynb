{
  "nbformat": 4,
  "nbformat_minor": 0,
  "metadata": {
    "colab": {
      "name": "220308_nlp_데이콘.ipynb",
      "provenance": [],
      "collapsed_sections": [
        "7zcLZzN2bT8p"
      ]
    },
    "kernelspec": {
      "name": "python3",
      "display_name": "Python 3"
    },
    "language_info": {
      "name": "python"
    },
    "accelerator": "GPU"
  },
  "cells": [
    {
      "cell_type": "code",
      "execution_count": null,
      "metadata": {
        "id": "k3s6kQKf2NcQ"
      },
      "outputs": [],
      "source": [
        "import numpy as np\n",
        "import pandas as pd"
      ]
    },
    {
      "cell_type": "markdown",
      "source": [
        "# 데이터 로드 - 판다스"
      ],
      "metadata": {
        "id": "Qx8fDaWUbHED"
      }
    },
    {
      "cell_type": "code",
      "source": [
        "train_path = '/content/drive/MyDrive/2022-1/국비지원교육/실습폴더/ratings_train.txt'\n",
        "with open(train_path, 'r') as f:\n",
        "    train = f.readlines()\n",
        "\n",
        "train_li = []\n",
        "for a in train:\n",
        "    a = a.split('\\t')\n",
        "    a[-1] = a[-1][0]\n",
        "    train_li.append(a)\n",
        "\n",
        "train = pd.DataFrame(data=train_li[1:], columns = train_li[0])\n",
        "x_train = train[['id','document']]\n",
        "y_train = train[['l']]\n",
        "\n",
        "test_path = '/content/drive/MyDrive/2022-1/국비지원교육/실습폴더/ratings_test.txt'\n",
        "with open(test_path, 'r') as f:\n",
        "    test = f.readlines()\n",
        "\n",
        "test_li = []\n",
        "for a in test:\n",
        "    a = a.split('\\t')\n",
        "    a[-1] = a[-1][0]\n",
        "    test_li.append(a)\n",
        "\n",
        "test = pd.DataFrame(data=test_li[1:], columns = test_li[0])\n",
        "x_test = test[['id','document']]\n",
        "y_test = test[['l']]\n",
        "\n",
        "y_train['l'] = list(map(int,y_train['l']))\n",
        "y_test['l'] = list(map(int,y_test['l']))"
      ],
      "metadata": {
        "colab": {
          "base_uri": "https://localhost:8080/"
        },
        "id": "sJhXLGLm2h3W",
        "outputId": "583a951f-8d0d-468b-c85e-3df8ebf433a6"
      },
      "execution_count": null,
      "outputs": [
        {
          "output_type": "stream",
          "name": "stderr",
          "text": [
            "/usr/local/lib/python3.7/dist-packages/ipykernel_launcher.py:29: SettingWithCopyWarning: \n",
            "A value is trying to be set on a copy of a slice from a DataFrame.\n",
            "Try using .loc[row_indexer,col_indexer] = value instead\n",
            "\n",
            "See the caveats in the documentation: https://pandas.pydata.org/pandas-docs/stable/user_guide/indexing.html#returning-a-view-versus-a-copy\n",
            "/usr/local/lib/python3.7/dist-packages/ipykernel_launcher.py:30: SettingWithCopyWarning: \n",
            "A value is trying to be set on a copy of a slice from a DataFrame.\n",
            "Try using .loc[row_indexer,col_indexer] = value instead\n",
            "\n",
            "See the caveats in the documentation: https://pandas.pydata.org/pandas-docs/stable/user_guide/indexing.html#returning-a-view-versus-a-copy\n"
          ]
        }
      ]
    },
    {
      "cell_type": "code",
      "source": [
        "train"
      ],
      "metadata": {
        "colab": {
          "base_uri": "https://localhost:8080/",
          "height": 485
        },
        "id": "AvVi-Q0XNooC",
        "outputId": "d80baca0-97a1-4b5d-b1f0-b437838274e3"
      },
      "execution_count": null,
      "outputs": [
        {
          "output_type": "execute_result",
          "data": {
            "text/html": [
              "\n",
              "  <div id=\"df-8e70b911-0887-4e16-a790-f54e1a7b32ee\">\n",
              "    <div class=\"colab-df-container\">\n",
              "      <div>\n",
              "<style scoped>\n",
              "    .dataframe tbody tr th:only-of-type {\n",
              "        vertical-align: middle;\n",
              "    }\n",
              "\n",
              "    .dataframe tbody tr th {\n",
              "        vertical-align: top;\n",
              "    }\n",
              "\n",
              "    .dataframe thead th {\n",
              "        text-align: right;\n",
              "    }\n",
              "</style>\n",
              "<table border=\"1\" class=\"dataframe\">\n",
              "  <thead>\n",
              "    <tr style=\"text-align: right;\">\n",
              "      <th></th>\n",
              "      <th>id</th>\n",
              "      <th>document</th>\n",
              "      <th>l</th>\n",
              "    </tr>\n",
              "  </thead>\n",
              "  <tbody>\n",
              "    <tr>\n",
              "      <th>0</th>\n",
              "      <td>9976970</td>\n",
              "      <td>아 더빙.. 진짜 짜증나네요 목소리</td>\n",
              "      <td>0</td>\n",
              "    </tr>\n",
              "    <tr>\n",
              "      <th>1</th>\n",
              "      <td>3819312</td>\n",
              "      <td>흠...포스터보고 초딩영화줄....오버연기조차 가볍지 않구나</td>\n",
              "      <td>1</td>\n",
              "    </tr>\n",
              "    <tr>\n",
              "      <th>2</th>\n",
              "      <td>10265843</td>\n",
              "      <td>너무재밓었다그래서보는것을추천한다</td>\n",
              "      <td>0</td>\n",
              "    </tr>\n",
              "    <tr>\n",
              "      <th>3</th>\n",
              "      <td>9045019</td>\n",
              "      <td>교도소 이야기구먼 ..솔직히 재미는 없다..평점 조정</td>\n",
              "      <td>0</td>\n",
              "    </tr>\n",
              "    <tr>\n",
              "      <th>4</th>\n",
              "      <td>6483659</td>\n",
              "      <td>사이몬페그의 익살스런 연기가 돋보였던 영화!스파이더맨에서 늙어보이기만 했던 커스틴 ...</td>\n",
              "      <td>1</td>\n",
              "    </tr>\n",
              "    <tr>\n",
              "      <th>...</th>\n",
              "      <td>...</td>\n",
              "      <td>...</td>\n",
              "      <td>...</td>\n",
              "    </tr>\n",
              "    <tr>\n",
              "      <th>149995</th>\n",
              "      <td>6222902</td>\n",
              "      <td>인간이 문제지.. 소는 뭔죄인가..</td>\n",
              "      <td>0</td>\n",
              "    </tr>\n",
              "    <tr>\n",
              "      <th>149996</th>\n",
              "      <td>8549745</td>\n",
              "      <td>평점이 너무 낮아서...</td>\n",
              "      <td>1</td>\n",
              "    </tr>\n",
              "    <tr>\n",
              "      <th>149997</th>\n",
              "      <td>9311800</td>\n",
              "      <td>이게 뭐요? 한국인은 거들먹거리고 필리핀 혼혈은 착하다?</td>\n",
              "      <td>0</td>\n",
              "    </tr>\n",
              "    <tr>\n",
              "      <th>149998</th>\n",
              "      <td>2376369</td>\n",
              "      <td>청춘 영화의 최고봉.방황과 우울했던 날들의 자화상</td>\n",
              "      <td>1</td>\n",
              "    </tr>\n",
              "    <tr>\n",
              "      <th>149999</th>\n",
              "      <td>9619869</td>\n",
              "      <td>한국 영화 최초로 수간하는 내용이 담긴 영화</td>\n",
              "      <td>0</td>\n",
              "    </tr>\n",
              "  </tbody>\n",
              "</table>\n",
              "<p>150000 rows × 3 columns</p>\n",
              "</div>\n",
              "      <button class=\"colab-df-convert\" onclick=\"convertToInteractive('df-8e70b911-0887-4e16-a790-f54e1a7b32ee')\"\n",
              "              title=\"Convert this dataframe to an interactive table.\"\n",
              "              style=\"display:none;\">\n",
              "        \n",
              "  <svg xmlns=\"http://www.w3.org/2000/svg\" height=\"24px\"viewBox=\"0 0 24 24\"\n",
              "       width=\"24px\">\n",
              "    <path d=\"M0 0h24v24H0V0z\" fill=\"none\"/>\n",
              "    <path d=\"M18.56 5.44l.94 2.06.94-2.06 2.06-.94-2.06-.94-.94-2.06-.94 2.06-2.06.94zm-11 1L8.5 8.5l.94-2.06 2.06-.94-2.06-.94L8.5 2.5l-.94 2.06-2.06.94zm10 10l.94 2.06.94-2.06 2.06-.94-2.06-.94-.94-2.06-.94 2.06-2.06.94z\"/><path d=\"M17.41 7.96l-1.37-1.37c-.4-.4-.92-.59-1.43-.59-.52 0-1.04.2-1.43.59L10.3 9.45l-7.72 7.72c-.78.78-.78 2.05 0 2.83L4 21.41c.39.39.9.59 1.41.59.51 0 1.02-.2 1.41-.59l7.78-7.78 2.81-2.81c.8-.78.8-2.07 0-2.86zM5.41 20L4 18.59l7.72-7.72 1.47 1.35L5.41 20z\"/>\n",
              "  </svg>\n",
              "      </button>\n",
              "      \n",
              "  <style>\n",
              "    .colab-df-container {\n",
              "      display:flex;\n",
              "      flex-wrap:wrap;\n",
              "      gap: 12px;\n",
              "    }\n",
              "\n",
              "    .colab-df-convert {\n",
              "      background-color: #E8F0FE;\n",
              "      border: none;\n",
              "      border-radius: 50%;\n",
              "      cursor: pointer;\n",
              "      display: none;\n",
              "      fill: #1967D2;\n",
              "      height: 32px;\n",
              "      padding: 0 0 0 0;\n",
              "      width: 32px;\n",
              "    }\n",
              "\n",
              "    .colab-df-convert:hover {\n",
              "      background-color: #E2EBFA;\n",
              "      box-shadow: 0px 1px 2px rgba(60, 64, 67, 0.3), 0px 1px 3px 1px rgba(60, 64, 67, 0.15);\n",
              "      fill: #174EA6;\n",
              "    }\n",
              "\n",
              "    [theme=dark] .colab-df-convert {\n",
              "      background-color: #3B4455;\n",
              "      fill: #D2E3FC;\n",
              "    }\n",
              "\n",
              "    [theme=dark] .colab-df-convert:hover {\n",
              "      background-color: #434B5C;\n",
              "      box-shadow: 0px 1px 3px 1px rgba(0, 0, 0, 0.15);\n",
              "      filter: drop-shadow(0px 1px 2px rgba(0, 0, 0, 0.3));\n",
              "      fill: #FFFFFF;\n",
              "    }\n",
              "  </style>\n",
              "\n",
              "      <script>\n",
              "        const buttonEl =\n",
              "          document.querySelector('#df-8e70b911-0887-4e16-a790-f54e1a7b32ee button.colab-df-convert');\n",
              "        buttonEl.style.display =\n",
              "          google.colab.kernel.accessAllowed ? 'block' : 'none';\n",
              "\n",
              "        async function convertToInteractive(key) {\n",
              "          const element = document.querySelector('#df-8e70b911-0887-4e16-a790-f54e1a7b32ee');\n",
              "          const dataTable =\n",
              "            await google.colab.kernel.invokeFunction('convertToInteractive',\n",
              "                                                     [key], {});\n",
              "          if (!dataTable) return;\n",
              "\n",
              "          const docLinkHtml = 'Like what you see? Visit the ' +\n",
              "            '<a target=\"_blank\" href=https://colab.research.google.com/notebooks/data_table.ipynb>data table notebook</a>'\n",
              "            + ' to learn more about interactive tables.';\n",
              "          element.innerHTML = '';\n",
              "          dataTable['output_type'] = 'display_data';\n",
              "          await google.colab.output.renderOutput(dataTable, element);\n",
              "          const docLink = document.createElement('div');\n",
              "          docLink.innerHTML = docLinkHtml;\n",
              "          element.appendChild(docLink);\n",
              "        }\n",
              "      </script>\n",
              "    </div>\n",
              "  </div>\n",
              "  "
            ],
            "text/plain": [
              "              id                                           document  l\n",
              "0        9976970                                아 더빙.. 진짜 짜증나네요 목소리  0\n",
              "1        3819312                  흠...포스터보고 초딩영화줄....오버연기조차 가볍지 않구나  1\n",
              "2       10265843                                  너무재밓었다그래서보는것을추천한다  0\n",
              "3        9045019                      교도소 이야기구먼 ..솔직히 재미는 없다..평점 조정  0\n",
              "4        6483659  사이몬페그의 익살스런 연기가 돋보였던 영화!스파이더맨에서 늙어보이기만 했던 커스틴 ...  1\n",
              "...          ...                                                ... ..\n",
              "149995   6222902                                인간이 문제지.. 소는 뭔죄인가..  0\n",
              "149996   8549745                                      평점이 너무 낮아서...  1\n",
              "149997   9311800                    이게 뭐요? 한국인은 거들먹거리고 필리핀 혼혈은 착하다?  0\n",
              "149998   2376369                        청춘 영화의 최고봉.방황과 우울했던 날들의 자화상  1\n",
              "149999   9619869                           한국 영화 최초로 수간하는 내용이 담긴 영화  0\n",
              "\n",
              "[150000 rows x 3 columns]"
            ]
          },
          "metadata": {},
          "execution_count": 48
        }
      ]
    },
    {
      "cell_type": "markdown",
      "source": [
        "# Kiwipiepy 형태소 분석기"
      ],
      "metadata": {
        "id": "J5GyLacKbKTZ"
      }
    },
    {
      "cell_type": "code",
      "source": [
        "# !pip install --upgrade pip\n",
        "# !pip install kiwipiepy"
      ],
      "metadata": {
        "id": "kzNYAcot8r3V",
        "colab": {
          "base_uri": "https://localhost:8080/"
        },
        "outputId": "97b004ce-628f-47dd-e761-4eec3b7a090f"
      },
      "execution_count": null,
      "outputs": [
        {
          "output_type": "stream",
          "name": "stdout",
          "text": [
            "Requirement already satisfied: pip in /usr/local/lib/python3.7/dist-packages (21.1.3)\n",
            "Collecting pip\n",
            "  Downloading pip-22.0.4-py3-none-any.whl (2.1 MB)\n",
            "\u001b[K     |████████████████████████████████| 2.1 MB 5.1 MB/s \n",
            "\u001b[?25hInstalling collected packages: pip\n",
            "  Attempting uninstall: pip\n",
            "    Found existing installation: pip 21.1.3\n",
            "    Uninstalling pip-21.1.3:\n",
            "      Successfully uninstalled pip-21.1.3\n",
            "Successfully installed pip-22.0.4\n",
            "Collecting kiwipiepy\n",
            "  Downloading kiwipiepy-0.10.3-cp37-cp37m-manylinux_2_12_x86_64.manylinux2010_x86_64.whl (584 kB)\n",
            "\u001b[2K     \u001b[90m━━━━━━━━━━━━━━━━━━━━━━━━━━━━━━━━━━━━━━━\u001b[0m \u001b[32m584.6/584.6 KB\u001b[0m \u001b[31m9.7 MB/s\u001b[0m eta \u001b[36m0:00:00\u001b[0m\n",
            "\u001b[?25hCollecting kiwipiepy-model~=0.10\n",
            "  Downloading kiwipiepy_model-0.10.0.tar.gz (25.7 MB)\n",
            "\u001b[2K     \u001b[90m━━━━━━━━━━━━━━━━━━━━━━━━━━━━━━━━━━━━━━━━\u001b[0m \u001b[32m25.7/25.7 MB\u001b[0m \u001b[31m29.4 MB/s\u001b[0m eta \u001b[36m0:00:00\u001b[0m\n",
            "\u001b[?25h  Preparing metadata (setup.py) ... \u001b[?25l\u001b[?25hdone\n",
            "Building wheels for collected packages: kiwipiepy-model\n",
            "  Building wheel for kiwipiepy-model (setup.py) ... \u001b[?25l\u001b[?25hdone\n",
            "  Created wheel for kiwipiepy-model: filename=kiwipiepy_model-0.10.0-py3-none-any.whl size=25882655 sha256=e9c84a039cf9fe4ca2050e00f3d0ba5debcfa748df7e1ef03ab4a2a3c2374f29\n",
            "  Stored in directory: /root/.cache/pip/wheels/42/2f/c9/c82156eb15ed5ebb5475002723d1ab319947aca25bd663cd1d\n",
            "Successfully built kiwipiepy-model\n",
            "Installing collected packages: kiwipiepy-model, kiwipiepy\n",
            "Successfully installed kiwipiepy-0.10.3 kiwipiepy-model-0.10.0\n",
            "\u001b[33mWARNING: Running pip as the 'root' user can result in broken permissions and conflicting behaviour with the system package manager. It is recommended to use a virtual environment instead: https://pip.pypa.io/warnings/venv\u001b[0m\u001b[33m\n",
            "\u001b[0m"
          ]
        }
      ]
    },
    {
      "cell_type": "code",
      "source": [
        "# !python3 -m kiwipiepy"
      ],
      "metadata": {
        "id": "UAaNYLsj9BRy"
      },
      "execution_count": null,
      "outputs": []
    },
    {
      "cell_type": "code",
      "source": [
        "from kiwipiepy import Kiwi, Option\n",
        "from kiwipiepy.utils import Stopwords"
      ],
      "metadata": {
        "id": "jpXv_l-nbSkn"
      },
      "execution_count": null,
      "outputs": []
    },
    {
      "cell_type": "markdown",
      "source": [
        "# 키위파이 설명"
      ],
      "metadata": {
        "id": "7zcLZzN2bT8p"
      }
    },
    {
      "cell_type": "code",
      "source": [
        "# 키위파이 링크 https://github.com/bab2min/kiwipiepy\n",
        "\n",
        "\n",
        "# Kiwi(num_workers=0, model_path=None, options=Option.LOAD_DEFAULT_DICTIONARY | Option.INTEGRATE_ALLOMORPH, load_default_dict=True, integrate_allomorph=True)\n",
        "\n",
        "\n",
        "kiwi = Kiwi(options = Option.INTEGRATE_ALLOMORPH) # 아/어/었 등 음운 통합\n",
        "stopwords = Stopwords()\n",
        "# stopwords.add(('10','SN'))"
      ],
      "metadata": {
        "id": "-HuZP0wT-onF"
      },
      "execution_count": null,
      "outputs": []
    },
    {
      "cell_type": "code",
      "source": [
        "tokens=kiwi.tokenize(x_train.document[10], stopwords = stopwords,\n",
        "                     normalize_coda=True) # 이상한 받침 제거\n",
        "\n",
        "tokens_list=[t.form for t in tokens if t.tag in {'MM','NNG','NP','NNP','VV','VA','VX','IC','MAG','MAJ','MM'}]"
      ],
      "metadata": {
        "id": "lS_kyURiATmW"
      },
      "execution_count": null,
      "outputs": []
    },
    {
      "cell_type": "code",
      "source": [
        "tokens_list"
      ],
      "metadata": {
        "colab": {
          "base_uri": "https://localhost:8080/"
        },
        "id": "_tkPDvmNERS2",
        "outputId": "1a174607-5cfd-47c9-e9af-7553aa0927d0"
      },
      "execution_count": null,
      "outputs": [
        {
          "output_type": "execute_result",
          "data": {
            "text/plain": [
              "['걍인피니트가짱', '진짜', '짱']"
            ]
          },
          "metadata": {},
          "execution_count": 176
        }
      ]
    },
    {
      "cell_type": "code",
      "source": [
        "sent_tokens = kiwi.split_into_sents(x_train.document[10],return_tokens=False) # 문장분리\n",
        "tokens_list=[]\n",
        "for t in sent_tokens:\n",
        "    tokens_list.append(t.text)\n",
        "\n",
        "tokens_list"
      ],
      "metadata": {
        "colab": {
          "base_uri": "https://localhost:8080/"
        },
        "id": "HA-J9g9XA_WU",
        "outputId": "6443553d-fe2b-4038-eb62-9bc8d98b2404"
      },
      "execution_count": null,
      "outputs": [
        {
          "output_type": "execute_result",
          "data": {
            "text/plain": [
              "['걍인피니트가짱이다.', '진짜짱이다♥']"
            ]
          },
          "metadata": {},
          "execution_count": 156
        }
      ]
    },
    {
      "cell_type": "markdown",
      "source": [
        "# 트레인 데이터 토큰화"
      ],
      "metadata": {
        "id": "yO5FMIABFku6"
      }
    },
    {
      "cell_type": "code",
      "source": [
        "kiwi = Kiwi()\n",
        "stopwords = Stopwords()\n",
        "train_tokens = []\n",
        "for sentence in x_train.document:\n",
        "    tokens = kiwi.tokenize(sentence,stopwords=stopwords,normalize_coda=True)\n",
        "    temp = [t.form for t in tokens if t.tag[0] in {'M','N','V','I'}]\n",
        "    train_tokens.append(temp)\n",
        "x_train['tokens'] = np.array(train_tokens)\n",
        "train_labels = np.array(y_train)"
      ],
      "metadata": {
        "id": "gGF3BQLkCMkg",
        "colab": {
          "base_uri": "https://localhost:8080/"
        },
        "outputId": "532192b5-fa26-4a11-c0ea-a56e548c77e8"
      },
      "execution_count": null,
      "outputs": [
        {
          "output_type": "stream",
          "name": "stderr",
          "text": [
            "/usr/local/lib/python3.7/dist-packages/ipykernel_launcher.py:8: VisibleDeprecationWarning: Creating an ndarray from ragged nested sequences (which is a list-or-tuple of lists-or-tuples-or ndarrays with different lengths or shapes) is deprecated. If you meant to do this, you must specify 'dtype=object' when creating the ndarray.\n",
            "  \n"
          ]
        }
      ]
    },
    {
      "cell_type": "markdown",
      "source": [
        "# 테스트데이터 토큰화"
      ],
      "metadata": {
        "id": "Ctx1ZPUTPUby"
      }
    },
    {
      "cell_type": "code",
      "source": [
        "kiwi = Kiwi()\n",
        "stopwords = Stopwords()\n",
        "test_tokens = []\n",
        "for sentence in x_test.document:\n",
        "    tokens = kiwi.tokenize(sentence,stopwords=stopwords,normalize_coda=True)\n",
        "    temp = [t.form for t in tokens if t.tag[0] in {'M','N','V','I'}]\n",
        "    test_tokens.append(temp)\n",
        "\n",
        "x_test['tokens'] = np.array(test_tokens)\n",
        "test_labels = np.array(y_test)"
      ],
      "metadata": {
        "colab": {
          "base_uri": "https://localhost:8080/"
        },
        "id": "7LfPsLrfPUQu",
        "outputId": "ff486c7f-7e96-422d-bdc6-9dd6bd455264"
      },
      "execution_count": null,
      "outputs": [
        {
          "output_type": "stream",
          "name": "stderr",
          "text": [
            "/usr/local/lib/python3.7/dist-packages/ipykernel_launcher.py:9: VisibleDeprecationWarning: Creating an ndarray from ragged nested sequences (which is a list-or-tuple of lists-or-tuples-or ndarrays with different lengths or shapes) is deprecated. If you meant to do this, you must specify 'dtype=object' when creating the ndarray.\n",
            "  if __name__ == '__main__':\n"
          ]
        }
      ]
    },
    {
      "cell_type": "code",
      "source": [
        "# train_tok = pd.concat((x_train,y_train), axis=1)\n",
        "# test_tok = pd.concat((x_test,y_test),axis=1)\n",
        "\n",
        "# train_tok.to_excel('C:\\\\Users\\\\g8428\\\\train_data.xlsx',index=False)\n",
        "# test_tok.to_excel('C:\\\\Users\\\\g8428\\\\test_data.xlsx',index=False)"
      ],
      "metadata": {
        "id": "RA4hSTAOYBF9"
      },
      "execution_count": null,
      "outputs": []
    },
    {
      "cell_type": "markdown",
      "source": [
        "# 텐서플로, 시퀀스화, 패딩"
      ],
      "metadata": {
        "id": "FZ0mtqsRbv53"
      }
    },
    {
      "cell_type": "code",
      "source": [
        "from tensorflow.keras.preprocessing.text import Tokenizer\n",
        "from tensorflow.keras.preprocessing.sequence import pad_sequences\n",
        "import tensorflow as tf\n",
        "from tensorflow.keras.models import Sequential, Model\n",
        "from tensorflow.keras.preprocessing.sequence import pad_sequences\n",
        "from tensorflow.keras.callbacks import EarlyStopping, ModelCheckpoint\n",
        "from tensorflow.keras.layers import Conv1D, Conv2D, MaxPool1D, Dense, Dropout, Embedding, Flatten ,Input,GlobalAveragePooling1D"
      ],
      "metadata": {
        "id": "7r8WFtZMCMa7"
      },
      "execution_count": null,
      "outputs": []
    },
    {
      "cell_type": "markdown",
      "source": [
        "# 모델 생성"
      ],
      "metadata": {
        "id": "T7egBCa8b1xk"
      }
    },
    {
      "cell_type": "code",
      "source": [
        "# 훈련시작\n",
        "\n",
        "vocab_size = 25000\n",
        "embedding_dim = 32 # 각 단어 하나당 임베딩 차원\n",
        "max_length = 100 # 단어 개수 = 인풋 디멘션\n",
        "trunc_type = 'post' # 뒤에서 자르기\n",
        "oov_tok = '<oov>' # oov 처리\n",
        "num_filters = 100\n"
      ],
      "metadata": {
        "id": "riSaVOUYmDMZ"
      },
      "execution_count": null,
      "outputs": []
    },
    {
      "cell_type": "code",
      "source": [
        "model = Sequential()\n",
        "# 원핫인코딩 사이즈, 원핫벡터를 덴스벡터로 만들때의 차원수\n",
        "# 단어 수가 10000개 원핫 -> 16차원에 임베딩 시키는 것\n",
        "# model.add(Embedding(vocab_size, embedding_dim))\n",
        "model.add(Embedding(input_dim = vocab_size,output_dim = embedding_dim))\n",
        "\n",
        "\n",
        "# 히든계층 - 풀링, 활성함수\n",
        "model.add(GlobalAveragePooling1D())\n",
        "model.add(Dense(6, activation='relu'))\n",
        "\n",
        "# 아웃풋 계층 - 시그모이드, 크로스엔트로피\n",
        "model.add(Dense(1, activation='sigmoid')) # 감성분석 이진분류를 위해 시그모이드\n",
        "\n",
        "model.compile(loss = 'binary_crossentropy', optimizer = 'adam',\n",
        "              metrics=['accuracy'])\n",
        "\n",
        "model.summary()"
      ],
      "metadata": {
        "colab": {
          "base_uri": "https://localhost:8080/",
          "height": 248
        },
        "id": "dr-xAbU7Q726",
        "outputId": "6459ec44-e88d-443a-99af-5c8f0c3c738c"
      },
      "execution_count": null,
      "outputs": [
        {
          "output_type": "error",
          "ename": "NameError",
          "evalue": "ignored",
          "traceback": [
            "\u001b[0;31m---------------------------------------------------------------------------\u001b[0m",
            "\u001b[0;31mNameError\u001b[0m                                 Traceback (most recent call last)",
            "\u001b[0;32m<ipython-input-1-3ae8623f3177>\u001b[0m in \u001b[0;36m<module>\u001b[0;34m()\u001b[0m\n\u001b[0;32m----> 1\u001b[0;31m \u001b[0mmodel\u001b[0m \u001b[0;34m=\u001b[0m \u001b[0mSequential\u001b[0m\u001b[0;34m(\u001b[0m\u001b[0;34m)\u001b[0m\u001b[0;34m\u001b[0m\u001b[0;34m\u001b[0m\u001b[0m\n\u001b[0m\u001b[1;32m      2\u001b[0m \u001b[0;31m# 원핫인코딩 사이즈, 원핫벡터를 덴스벡터로 만들때의 차원수\u001b[0m\u001b[0;34m\u001b[0m\u001b[0;34m\u001b[0m\u001b[0;34m\u001b[0m\u001b[0m\n\u001b[1;32m      3\u001b[0m \u001b[0;31m# 단어 수가 10000개 원핫 -> 16차원에 임베딩 시키는 것\u001b[0m\u001b[0;34m\u001b[0m\u001b[0;34m\u001b[0m\u001b[0;34m\u001b[0m\u001b[0m\n\u001b[1;32m      4\u001b[0m \u001b[0;31m# model.add(Embedding(vocab_size, embedding_dim))\u001b[0m\u001b[0;34m\u001b[0m\u001b[0;34m\u001b[0m\u001b[0;34m\u001b[0m\u001b[0m\n\u001b[1;32m      5\u001b[0m \u001b[0mmodel\u001b[0m\u001b[0;34m.\u001b[0m\u001b[0madd\u001b[0m\u001b[0;34m(\u001b[0m\u001b[0mEmbedding\u001b[0m\u001b[0;34m(\u001b[0m\u001b[0minput_dim\u001b[0m \u001b[0;34m=\u001b[0m \u001b[0mvocab_size\u001b[0m\u001b[0;34m,\u001b[0m\u001b[0moutput_dim\u001b[0m \u001b[0;34m=\u001b[0m \u001b[0membedding_dim\u001b[0m\u001b[0;34m)\u001b[0m\u001b[0;34m)\u001b[0m\u001b[0;34m\u001b[0m\u001b[0;34m\u001b[0m\u001b[0m\n",
            "\u001b[0;31mNameError\u001b[0m: name 'Sequential' is not defined"
          ]
        }
      ]
    },
    {
      "cell_type": "code",
      "source": [
        "# 토크나이저\n",
        "tokenizer = Tokenizer(num_words=vocab_size, oov_token=oov_tok)\n",
        "tokenizer.fit_on_texts(x_train.tokens)\n",
        "# vocab 확인, 시퀀스화, 패딩\n",
        "word_index = tokenizer.word_index\n",
        "sequences = tokenizer.texts_to_sequences(x_train.tokens)\n",
        "padded = pad_sequences(sequences, maxlen=max_length, truncating=trunc_type)"
      ],
      "metadata": {
        "id": "DF7axjViQ70l"
      },
      "execution_count": null,
      "outputs": []
    },
    {
      "cell_type": "code",
      "source": [
        "padded.shape"
      ],
      "metadata": {
        "colab": {
          "base_uri": "https://localhost:8080/"
        },
        "id": "dOWyIKMKalkW",
        "outputId": "2fa80046-ae53-4b41-de42-e47a02515360"
      },
      "execution_count": null,
      "outputs": [
        {
          "output_type": "execute_result",
          "data": {
            "text/plain": [
              "(150000, 100)"
            ]
          },
          "metadata": {},
          "execution_count": 74
        }
      ]
    },
    {
      "cell_type": "code",
      "source": [
        "# 테스트 데이터도 시퀀스로\n",
        "test_sequences = tokenizer.texts_to_sequences(x_test.tokens)\n",
        "test_padd = pad_sequences(test_sequences, maxlen=max_length, truncating=trunc_type)"
      ],
      "metadata": {
        "id": "QLk6LeGKQ7yg"
      },
      "execution_count": null,
      "outputs": []
    },
    {
      "cell_type": "code",
      "source": [
        "inputs = Input(shape=(max_length))\n",
        "\n",
        "# 100열의 행이 들어감 -> input_dim은 그 벡터의 값의 차원(총 단어수) = vocab_size\n",
        "# output dim 은 그 vocab_size 차원의 벡터를 output dim 차원으로 축소하는 것\n",
        "embedd = Embedding(input_dim = vocab_size,output_dim = embedding_dim)(inputs)\n",
        "\n",
        "conv1 = Conv1D(filters=1, kernel_size=3, padding='same', activation='relu')(embedd)\n",
        "# pool1 = MaxPool1D()(conv1)\n",
        "\n",
        "conv2 = Conv1D(filters=1, kernel_size=4, padding='same', activation='relu')(embedd)\n",
        "# pool2 = MaxPool1D()(conv2)\n",
        "\n",
        "conv3 = Conv1D(filters=1, kernel_size=5, padding='same', activation='relu')(embedd)\n",
        "# pool3 = MaxPool1D()(conv3)\n",
        "\n",
        "concat = tf.concat((conv1, conv2, conv3), 1)\n",
        "pool = MaxPool1D()(concat)\n",
        "\n",
        "flatten = Flatten()(pool)\n",
        "\n",
        "dense4 = Dense(6, activation='relu')(flatten)\n",
        "dropout4 = Dropout(rate=0.2)(dense4)\n",
        "outputs= Dense(1, activation='sigmoid')(dropout4)\n",
        "\n",
        "model = Model(inputs=inputs, outputs=outputs)\n",
        "\n",
        "model.compile(loss = 'binary_crossentropy', optimizer = 'adam',\n",
        "              metrics=['accuracy'])\n",
        "model.summary()"
      ],
      "metadata": {
        "colab": {
          "base_uri": "https://localhost:8080/",
          "height": 248
        },
        "id": "l60jT2HNl5iv",
        "outputId": "66924928-bbe6-425a-e87a-d67ebd714875"
      },
      "execution_count": null,
      "outputs": [
        {
          "output_type": "error",
          "ename": "NameError",
          "evalue": "ignored",
          "traceback": [
            "\u001b[0;31m---------------------------------------------------------------------------\u001b[0m",
            "\u001b[0;31mNameError\u001b[0m                                 Traceback (most recent call last)",
            "\u001b[0;32m<ipython-input-3-e2af760cebc8>\u001b[0m in \u001b[0;36m<module>\u001b[0;34m()\u001b[0m\n\u001b[0;32m----> 1\u001b[0;31m \u001b[0minputs\u001b[0m \u001b[0;34m=\u001b[0m \u001b[0mInput\u001b[0m\u001b[0;34m(\u001b[0m\u001b[0mshape\u001b[0m\u001b[0;34m=\u001b[0m\u001b[0;34m(\u001b[0m\u001b[0mmax_length\u001b[0m\u001b[0;34m)\u001b[0m\u001b[0;34m)\u001b[0m\u001b[0;34m\u001b[0m\u001b[0;34m\u001b[0m\u001b[0m\n\u001b[0m\u001b[1;32m      2\u001b[0m \u001b[0;34m\u001b[0m\u001b[0m\n\u001b[1;32m      3\u001b[0m \u001b[0;31m# 100열의 행이 들어감 -> input_dim은 그 벡터의 값의 차원(총 단어수) = vocab_size\u001b[0m\u001b[0;34m\u001b[0m\u001b[0;34m\u001b[0m\u001b[0;34m\u001b[0m\u001b[0m\n\u001b[1;32m      4\u001b[0m \u001b[0;31m# output dim 은 그 vocab_size 차원의 벡터를 output dim 차원으로 축소하는 것\u001b[0m\u001b[0;34m\u001b[0m\u001b[0;34m\u001b[0m\u001b[0;34m\u001b[0m\u001b[0m\n\u001b[1;32m      5\u001b[0m \u001b[0membedd\u001b[0m \u001b[0;34m=\u001b[0m \u001b[0mEmbedding\u001b[0m\u001b[0;34m(\u001b[0m\u001b[0minput_dim\u001b[0m \u001b[0;34m=\u001b[0m \u001b[0mvocab_size\u001b[0m\u001b[0;34m,\u001b[0m\u001b[0moutput_dim\u001b[0m \u001b[0;34m=\u001b[0m \u001b[0membedding_dim\u001b[0m\u001b[0;34m)\u001b[0m\u001b[0;34m(\u001b[0m\u001b[0minputs\u001b[0m\u001b[0;34m)\u001b[0m\u001b[0;34m\u001b[0m\u001b[0;34m\u001b[0m\u001b[0m\n",
            "\u001b[0;31mNameError\u001b[0m: name 'max_length' is not defined"
          ]
        }
      ]
    },
    {
      "cell_type": "code",
      "source": [
        "num_epochs = 10\n",
        "batch_size = 200\n",
        "\n",
        "model.fit(padded[:2000],train_labels[:2000],\n",
        "          epochs = num_epochs, batch_size=batch_size)"
      ],
      "metadata": {
        "colab": {
          "base_uri": "https://localhost:8080/"
        },
        "id": "_7R2KImMQhun",
        "outputId": "c9c3eb06-4f3f-49a2-993f-bd99ab363ce9"
      },
      "execution_count": null,
      "outputs": [
        {
          "output_type": "stream",
          "name": "stdout",
          "text": [
            "Epoch 1/10\n",
            "10/10 [==============================] - 1s 10ms/step - loss: 0.6930 - accuracy: 0.5095\n",
            "Epoch 2/10\n",
            "10/10 [==============================] - 0s 10ms/step - loss: 0.6886 - accuracy: 0.5785\n",
            "Epoch 3/10\n",
            "10/10 [==============================] - 0s 10ms/step - loss: 0.6818 - accuracy: 0.6130\n",
            "Epoch 4/10\n",
            "10/10 [==============================] - 0s 10ms/step - loss: 0.6713 - accuracy: 0.7230\n",
            "Epoch 5/10\n",
            "10/10 [==============================] - 0s 10ms/step - loss: 0.6571 - accuracy: 0.7315\n",
            "Epoch 6/10\n",
            "10/10 [==============================] - 0s 10ms/step - loss: 0.6354 - accuracy: 0.7945\n",
            "Epoch 7/10\n",
            "10/10 [==============================] - 0s 10ms/step - loss: 0.6067 - accuracy: 0.7920\n",
            "Epoch 8/10\n",
            "10/10 [==============================] - 0s 10ms/step - loss: 0.5706 - accuracy: 0.8470\n",
            "Epoch 9/10\n",
            "10/10 [==============================] - 0s 10ms/step - loss: 0.5269 - accuracy: 0.8540\n",
            "Epoch 10/10\n",
            "10/10 [==============================] - 0s 10ms/step - loss: 0.4691 - accuracy: 0.8900\n"
          ]
        },
        {
          "output_type": "execute_result",
          "data": {
            "text/plain": [
              "<keras.callbacks.History at 0x7f3a7ec23790>"
            ]
          },
          "metadata": {},
          "execution_count": 185
        }
      ]
    },
    {
      "cell_type": "code",
      "source": [
        "model.predict_generator(test_padd[:10])"
      ],
      "metadata": {
        "colab": {
          "base_uri": "https://localhost:8080/"
        },
        "id": "ngAS4OrCf4Dt",
        "outputId": "66acb39f-4d54-49fa-ebbb-c75d43573fdf"
      },
      "execution_count": null,
      "outputs": [
        {
          "output_type": "stream",
          "name": "stderr",
          "text": [
            "/usr/local/lib/python3.7/dist-packages/ipykernel_launcher.py:1: UserWarning: `Model.predict_generator` is deprecated and will be removed in a future version. Please use `Model.predict`, which supports generators.\n",
            "  \"\"\"Entry point for launching an IPython kernel.\n"
          ]
        },
        {
          "output_type": "execute_result",
          "data": {
            "text/plain": [
              "array([[0.95583904],\n",
              "       [0.47117043],\n",
              "       [0.38781404],\n",
              "       [0.06568865],\n",
              "       [0.14755413],\n",
              "       [0.9840396 ],\n",
              "       [0.01431561],\n",
              "       [0.214569  ],\n",
              "       [0.12705949],\n",
              "       [0.98227435]], dtype=float32)"
            ]
          },
          "metadata": {},
          "execution_count": 196
        }
      ]
    },
    {
      "cell_type": "markdown",
      "source": [
        "# 모델 학습"
      ],
      "metadata": {
        "id": "_ISebOXFcDFX"
      }
    },
    {
      "cell_type": "code",
      "source": [
        "!rm '/content/drive/MyDrive/2022-1/국비지원교육/실습폴더/models/'*"
      ],
      "metadata": {
        "id": "e10u7Rk-njLu"
      },
      "execution_count": null,
      "outputs": []
    },
    {
      "cell_type": "code",
      "source": [
        "MODEL_SAVE_FOLDER = '/content/drive/MyDrive/2022-1/국비지원교육/실습폴더/models/'\n",
        "model_path = f\"{MODEL_SAVE_FOLDER}mnist-{{epoch:d}}-{{val_loss:.5f}}-{{val_accuracy:.5f}}.hdf5\"\n",
        "\n",
        "cb_checkpoint = ModelCheckpoint(filepath=model_path,\n",
        "                                monitor='val_accuracy',\n",
        "                                verbose=1,\n",
        "                                save_weights_only=True,\n",
        "                                save_best_only=True)\n",
        "cb_early_stopping = EarlyStopping(monitor='val_accuracy', patience=5)"
      ],
      "metadata": {
        "id": "oIi-A6V6nc-5"
      },
      "execution_count": null,
      "outputs": []
    },
    {
      "cell_type": "code",
      "source": [
        "num_epochs = 100\n",
        "batch_size = 1500\n",
        "valid_split = 0.1\n",
        "hist = model.fit(padded, train_labels, validation_data=(test_padd,test_labels),\n",
        "                 validation_split=valid_split,\n",
        "                 epochs = num_epochs, batch_size = batch_size,\n",
        "                 callbacks=[cb_early_stopping, cb_checkpoint])"
      ],
      "metadata": {
        "colab": {
          "base_uri": "https://localhost:8080/"
        },
        "id": "8yZsm05zQ7ru",
        "outputId": "7b0c1085-59ab-4e84-ab9e-78bafc271919"
      },
      "execution_count": null,
      "outputs": [
        {
          "output_type": "stream",
          "name": "stdout",
          "text": [
            "Epoch 1/100\n",
            "89/90 [============================>.] - ETA: 0s - loss: 0.5246 - accuracy: 0.7491\n",
            "Epoch 1: val_accuracy improved from -inf to 0.80487, saving model to /content/drive/MyDrive/2022-1/국비지원교육/실습폴더/models/mnist-1-0.43042-0.80487.hdf5\n",
            "90/90 [==============================] - 4s 32ms/step - loss: 0.5238 - accuracy: 0.7497 - val_loss: 0.4304 - val_accuracy: 0.8049\n",
            "Epoch 2/100\n",
            "89/90 [============================>.] - ETA: 0s - loss: 0.4043 - accuracy: 0.8250\n",
            "Epoch 2: val_accuracy improved from 0.80487 to 0.81920, saving model to /content/drive/MyDrive/2022-1/국비지원교육/실습폴더/models/mnist-2-0.40221-0.81920.hdf5\n",
            "90/90 [==============================] - 3s 29ms/step - loss: 0.4038 - accuracy: 0.8253 - val_loss: 0.4022 - val_accuracy: 0.8192\n",
            "Epoch 3/100\n",
            "89/90 [============================>.] - ETA: 0s - loss: 0.3639 - accuracy: 0.8494\n",
            "Epoch 3: val_accuracy improved from 0.81920 to 0.82087, saving model to /content/drive/MyDrive/2022-1/국비지원교육/실습폴더/models/mnist-3-0.39802-0.82087.hdf5\n",
            "90/90 [==============================] - 3s 29ms/step - loss: 0.3638 - accuracy: 0.8495 - val_loss: 0.3980 - val_accuracy: 0.8209\n",
            "Epoch 4/100\n",
            "89/90 [============================>.] - ETA: 0s - loss: 0.3371 - accuracy: 0.8650\n",
            "Epoch 4: val_accuracy did not improve from 0.82087\n",
            "90/90 [==============================] - 3s 29ms/step - loss: 0.3371 - accuracy: 0.8649 - val_loss: 0.4011 - val_accuracy: 0.8197\n",
            "Epoch 5/100\n",
            "89/90 [============================>.] - ETA: 0s - loss: 0.3149 - accuracy: 0.8760\n",
            "Epoch 5: val_accuracy did not improve from 0.82087\n",
            "90/90 [==============================] - 3s 28ms/step - loss: 0.3151 - accuracy: 0.8760 - val_loss: 0.4072 - val_accuracy: 0.8175\n",
            "Epoch 6/100\n",
            "89/90 [============================>.] - ETA: 0s - loss: 0.2955 - accuracy: 0.8865\n",
            "Epoch 6: val_accuracy did not improve from 0.82087\n",
            "90/90 [==============================] - 3s 29ms/step - loss: 0.2957 - accuracy: 0.8864 - val_loss: 0.4190 - val_accuracy: 0.8160\n",
            "Epoch 7/100\n",
            "89/90 [============================>.] - ETA: 0s - loss: 0.2786 - accuracy: 0.8947\n",
            "Epoch 7: val_accuracy did not improve from 0.82087\n",
            "90/90 [==============================] - 3s 29ms/step - loss: 0.2786 - accuracy: 0.8948 - val_loss: 0.4312 - val_accuracy: 0.8139\n",
            "Epoch 8/100\n",
            "89/90 [============================>.] - ETA: 0s - loss: 0.2634 - accuracy: 0.9021\n",
            "Epoch 8: val_accuracy did not improve from 0.82087\n",
            "90/90 [==============================] - 3s 28ms/step - loss: 0.2636 - accuracy: 0.9021 - val_loss: 0.4401 - val_accuracy: 0.8104\n"
          ]
        }
      ]
    },
    {
      "cell_type": "code",
      "source": [
        "model."
      ],
      "metadata": {
        "colab": {
          "base_uri": "https://localhost:8080/"
        },
        "id": "p38zrYeTQ7pO",
        "outputId": "5677521f-0e0e-4c41-f3bc-c0078bdef7a6"
      },
      "execution_count": null,
      "outputs": [
        {
          "output_type": "execute_result",
          "data": {
            "text/plain": [
              "array([[0.95583904],\n",
              "       [0.47117043],\n",
              "       [0.38781404],\n",
              "       [0.06568865],\n",
              "       [0.14755413],\n",
              "       [0.9840396 ],\n",
              "       [0.01431561],\n",
              "       [0.214569  ],\n",
              "       [0.12705949],\n",
              "       [0.98227435]], dtype=float32)"
            ]
          },
          "metadata": {},
          "execution_count": 191
        }
      ]
    },
    {
      "cell_type": "code",
      "source": [
        "from sklearn.model_selection import train_test_split"
      ],
      "metadata": {
        "id": "5x2-EzLr7BLC"
      },
      "execution_count": null,
      "outputs": []
    },
    {
      "cell_type": "code",
      "source": [
        "x_train, x_val, y_train, y_val = train_test_split(train[['document']],train[['l']], test_size=0.2, random_state=42)"
      ],
      "metadata": {
        "id": "4Jq5cuyj47EJ"
      },
      "execution_count": null,
      "outputs": []
    }
  ]
}