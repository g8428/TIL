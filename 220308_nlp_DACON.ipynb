{
  "nbformat": 4,
  "nbformat_minor": 0,
  "metadata": {
    "colab": {
      "name": "220308_nlp_데이콘.ipynb",
      "provenance": [],
      "collapsed_sections": [
        "Qx8fDaWUbHED",
        "J5GyLacKbKTZ",
        "7zcLZzN2bT8p",
        "yO5FMIABFku6",
        "Ctx1ZPUTPUby",
        "FZ0mtqsRbv53"
      ],
      "mount_file_id": "1XaErfyDEJ5WazbyP9rQ5Tf69WZXwArAl",
      "authorship_tag": "ABX9TyMq69FpHlQCx0pmDQojlXnk",
      "include_colab_link": true
    },
    "kernelspec": {
      "name": "python3",
      "display_name": "Python 3"
    },
    "language_info": {
      "name": "python"
    },
    "accelerator": "GPU"
  },
  "cells": [
    {
      "cell_type": "markdown",
      "metadata": {
        "id": "view-in-github",
        "colab_type": "text"
      },
      "source": [
        "<a href=\"https://colab.research.google.com/github/g8428/TIL/blob/master/220308_nlp_DACON.ipynb\" target=\"_parent\"><img src=\"https://colab.research.google.com/assets/colab-badge.svg\" alt=\"Open In Colab\"/></a>"
      ]
    },
    {
      "cell_type": "code",
      "execution_count": null,
      "metadata": {
        "id": "k3s6kQKf2NcQ"
      },
      "outputs": [],
      "source": [
        "import numpy as np\n",
        "import pandas as pd"
      ]
    },
    {
      "cell_type": "markdown",
      "source": [
        "# 데이터 로드 - 판다스"
      ],
      "metadata": {
        "id": "Qx8fDaWUbHED"
      }
    },
    {
      "cell_type": "code",
      "source": [
        "train_path = '/content/drive/MyDrive/2022-1/국비지원교육/실습폴더/ratings_train.txt'\n",
        "with open(train_path, 'r') as f:\n",
        "    train = f.readlines()\n",
        "\n",
        "train_li = []\n",
        "for a in train:\n",
        "    a = a.split('\\t')\n",
        "    a[-1] = a[-1][0]\n",
        "    train_li.append(a)\n",
        "\n",
        "train = pd.DataFrame(data=train_li[1:], columns = train_li[0])\n",
        "x_train = train[['id','document']]\n",
        "y_train = train[['l']]\n",
        "\n",
        "test_path = '/content/drive/MyDrive/2022-1/국비지원교육/실습폴더/ratings_test.txt'\n",
        "with open(test_path, 'r') as f:\n",
        "    test = f.readlines()\n",
        "\n",
        "test_li = []\n",
        "for a in test:\n",
        "    a = a.split('\\t')\n",
        "    a[-1] = a[-1][0]\n",
        "    test_li.append(a)\n",
        "\n",
        "test = pd.DataFrame(data=test_li[1:], columns = test_li[0])\n",
        "x_test = test[['id','document']]\n",
        "y_test = test[['l']]\n",
        "\n",
        "y_train['l'] = list(map(int,y_train['l']))\n",
        "y_test['l'] = list(map(int,y_test['l']))"
      ],
      "metadata": {
        "colab": {
          "base_uri": "https://localhost:8080/"
        },
        "id": "sJhXLGLm2h3W",
        "outputId": "72d0fd5d-1ef7-4334-a786-72ea012c89c3"
      },
      "execution_count": null,
      "outputs": [
        {
          "output_type": "stream",
          "name": "stderr",
          "text": [
            "/usr/local/lib/python3.7/dist-packages/ipykernel_launcher.py:29: SettingWithCopyWarning: \n",
            "A value is trying to be set on a copy of a slice from a DataFrame.\n",
            "Try using .loc[row_indexer,col_indexer] = value instead\n",
            "\n",
            "See the caveats in the documentation: https://pandas.pydata.org/pandas-docs/stable/user_guide/indexing.html#returning-a-view-versus-a-copy\n",
            "/usr/local/lib/python3.7/dist-packages/ipykernel_launcher.py:30: SettingWithCopyWarning: \n",
            "A value is trying to be set on a copy of a slice from a DataFrame.\n",
            "Try using .loc[row_indexer,col_indexer] = value instead\n",
            "\n",
            "See the caveats in the documentation: https://pandas.pydata.org/pandas-docs/stable/user_guide/indexing.html#returning-a-view-versus-a-copy\n"
          ]
        }
      ]
    },
    {
      "cell_type": "markdown",
      "source": [
        "# Kiwipiepy 형태소 분석기"
      ],
      "metadata": {
        "id": "J5GyLacKbKTZ"
      }
    },
    {
      "cell_type": "code",
      "source": [
        "# !pip install --upgrade pip\n",
        "# !pip install kiwipiepy"
      ],
      "metadata": {
        "id": "kzNYAcot8r3V"
      },
      "execution_count": null,
      "outputs": []
    },
    {
      "cell_type": "code",
      "source": [
        "# !python3 -m kiwipiepy"
      ],
      "metadata": {
        "id": "UAaNYLsj9BRy"
      },
      "execution_count": null,
      "outputs": []
    },
    {
      "cell_type": "code",
      "source": [
        "from kiwipiepy import Kiwi, Option\n",
        "from kiwipiepy.utils import Stopwords"
      ],
      "metadata": {
        "id": "jpXv_l-nbSkn"
      },
      "execution_count": null,
      "outputs": []
    },
    {
      "cell_type": "markdown",
      "source": [
        "# 키위파이 설명"
      ],
      "metadata": {
        "id": "7zcLZzN2bT8p"
      }
    },
    {
      "cell_type": "code",
      "source": [
        "# 키위파이 링크 https://github.com/bab2min/kiwipiepy\n",
        "\n",
        "\n",
        "# Kiwi(num_workers=0, model_path=None, options=Option.LOAD_DEFAULT_DICTIONARY | Option.INTEGRATE_ALLOMORPH, load_default_dict=True, integrate_allomorph=True)\n",
        "\n",
        "\n",
        "kiwi = Kiwi(options = Option.INTEGRATE_ALLOMORPH) # 아/어/었 등 음운 통합\n",
        "stopwords = Stopwords()\n",
        "# stopwords.add(('10','SN'))"
      ],
      "metadata": {
        "id": "-HuZP0wT-onF"
      },
      "execution_count": null,
      "outputs": []
    },
    {
      "cell_type": "code",
      "source": [
        "tokens=kiwi.tokenize(x_train.document[10], stopwords = stopwords,\n",
        "                     normalize_coda=True) # 이상한 받침 제거\n",
        "\n",
        "tokens_list=[t.form for t in tokens if t.tag in {'MM','NNG','NP','NNP','VV','VA','VX','IC','MAG','MAJ','MM'}]"
      ],
      "metadata": {
        "id": "lS_kyURiATmW"
      },
      "execution_count": null,
      "outputs": []
    },
    {
      "cell_type": "code",
      "source": [
        "tokens_list"
      ],
      "metadata": {
        "colab": {
          "base_uri": "https://localhost:8080/"
        },
        "id": "_tkPDvmNERS2",
        "outputId": "1a174607-5cfd-47c9-e9af-7553aa0927d0"
      },
      "execution_count": null,
      "outputs": [
        {
          "output_type": "execute_result",
          "data": {
            "text/plain": [
              "['걍인피니트가짱', '진짜', '짱']"
            ]
          },
          "metadata": {},
          "execution_count": 176
        }
      ]
    },
    {
      "cell_type": "code",
      "source": [
        "sent_tokens = kiwi.split_into_sents(x_train.document[10],return_tokens=False) # 문장분리\n",
        "tokens_list=[]\n",
        "for t in sent_tokens:\n",
        "    tokens_list.append(t.text)\n",
        "\n",
        "tokens_list"
      ],
      "metadata": {
        "colab": {
          "base_uri": "https://localhost:8080/"
        },
        "id": "HA-J9g9XA_WU",
        "outputId": "6443553d-fe2b-4038-eb62-9bc8d98b2404"
      },
      "execution_count": null,
      "outputs": [
        {
          "output_type": "execute_result",
          "data": {
            "text/plain": [
              "['걍인피니트가짱이다.', '진짜짱이다♥']"
            ]
          },
          "metadata": {},
          "execution_count": 156
        }
      ]
    },
    {
      "cell_type": "markdown",
      "source": [
        "# 트레인 데이터 토큰화"
      ],
      "metadata": {
        "id": "yO5FMIABFku6"
      }
    },
    {
      "cell_type": "code",
      "source": [
        "kiwi = Kiwi()\n",
        "stopwords = Stopwords()\n",
        "train_tokens = []\n",
        "for sentence in x_train.document:\n",
        "    tokens = kiwi.tokenize(sentence,stopwords=stopwords,normalize_coda=True)\n",
        "    temp = [t.form for t in tokens if t.tag[0] in {'M','N','V','I'}]\n",
        "    train_tokens.append(temp)\n",
        "x_train['tokens'] = np.array(train_tokens)\n",
        "train_labels = np.array(y_train)"
      ],
      "metadata": {
        "id": "gGF3BQLkCMkg"
      },
      "execution_count": null,
      "outputs": []
    },
    {
      "cell_type": "markdown",
      "source": [
        "# 테스트데이터 토큰화"
      ],
      "metadata": {
        "id": "Ctx1ZPUTPUby"
      }
    },
    {
      "cell_type": "code",
      "source": [
        "kiwi = Kiwi()\n",
        "stopwords = Stopwords()\n",
        "test_tokens = []\n",
        "for sentence in x_test.document:\n",
        "    tokens = kiwi.tokenize(sentence,stopwords=stopwords,normalize_coda=True)\n",
        "    temp = [t.form for t in tokens if t.tag[0] in {'M','N','V','I'}]\n",
        "    test_tokens.append(temp)\n",
        "\n",
        "x_test['tokens'] = np.array(test_tokens)\n",
        "test_labels = np.array(y_test)"
      ],
      "metadata": {
        "colab": {
          "base_uri": "https://localhost:8080/"
        },
        "id": "7LfPsLrfPUQu",
        "outputId": "d22cdf98-3cee-4bff-8758-b4c3a9223cb8"
      },
      "execution_count": null,
      "outputs": [
        {
          "output_type": "stream",
          "name": "stderr",
          "text": [
            "/usr/local/lib/python3.7/dist-packages/ipykernel_launcher.py:9: VisibleDeprecationWarning: Creating an ndarray from ragged nested sequences (which is a list-or-tuple of lists-or-tuples-or ndarrays with different lengths or shapes) is deprecated. If you meant to do this, you must specify 'dtype=object' when creating the ndarray.\n",
            "  if __name__ == '__main__':\n"
          ]
        }
      ]
    },
    {
      "cell_type": "markdown",
      "source": [
        "# 텐서플로, 시퀀스화, 패딩"
      ],
      "metadata": {
        "id": "FZ0mtqsRbv53"
      }
    },
    {
      "cell_type": "code",
      "source": [
        "from tensorflow.keras.preprocessing.text import Tokenizer\n",
        "from tensorflow.keras.preprocessing.sequence import pad_sequences\n",
        "import tensorflow as tf"
      ],
      "metadata": {
        "id": "7r8WFtZMCMa7"
      },
      "execution_count": null,
      "outputs": []
    },
    {
      "cell_type": "markdown",
      "source": [
        "# 모델 생성"
      ],
      "metadata": {
        "id": "T7egBCa8b1xk"
      }
    },
    {
      "cell_type": "code",
      "source": [
        "# 훈련시작\n",
        "from tensorflow.keras.models import Model, Sequential\n",
        "from tensorflow.keras.layers import Embedding, GlobalAveragePooling1D, Dense\n",
        "\n",
        "vocab_size = 25000\n",
        "embedding_dim = 32 # 각 단어 하나당 임베딩 차원\n",
        "max_length = 100 # 단어 개수 = 인풋 디멘션\n",
        "trunc_type = 'post' # 뒤에서 자르기\n",
        "oov_tok = '<oov>' # oov 처리\n",
        "\n",
        "model = Sequential()\n",
        "# 원핫인코딩 사이즈, 원핫벡터를 덴스벡터로 만들때의 차원수\n",
        "# 단어 수가 10000개 원핫 -> 16차원에 임베딩 시키는 것\n",
        "model.add(Embedding(vocab_size, embedding_dim ))\n",
        "\n",
        "# 히든계층 - 풀링, 활성함수\n",
        "model.add(GlobalAveragePooling1D())\n",
        "model.add(Dense(6, activation='relu'))\n",
        "\n",
        "# 아웃풋 계층 - 시그모이드, 크로스엔트로피\n",
        "model.add(Dense(1, activation='sigmoid')) # 감성분석 이진분류를 위해 시그모이드\n",
        "\n",
        "model.compile(loss = 'binary_crossentropy', optimizer = 'adam',\n",
        "              metrics=['accuracy'])\n",
        "\n",
        "model.summary()"
      ],
      "metadata": {
        "colab": {
          "base_uri": "https://localhost:8080/"
        },
        "id": "dr-xAbU7Q726",
        "outputId": "e02b7bf9-4023-4e83-dec7-e752ce6d40c6"
      },
      "execution_count": null,
      "outputs": [
        {
          "output_type": "stream",
          "name": "stdout",
          "text": [
            "Model: \"sequential_4\"\n",
            "_________________________________________________________________\n",
            " Layer (type)                Output Shape              Param #   \n",
            "=================================================================\n",
            " embedding_4 (Embedding)     (None, None, 32)          800000    \n",
            "                                                                 \n",
            " global_average_pooling1d_4   (None, 32)               0         \n",
            " (GlobalAveragePooling1D)                                        \n",
            "                                                                 \n",
            " dense_8 (Dense)             (None, 6)                 198       \n",
            "                                                                 \n",
            " dense_9 (Dense)             (None, 1)                 7         \n",
            "                                                                 \n",
            "=================================================================\n",
            "Total params: 800,205\n",
            "Trainable params: 800,205\n",
            "Non-trainable params: 0\n",
            "_________________________________________________________________\n"
          ]
        }
      ]
    },
    {
      "cell_type": "code",
      "source": [
        "# 토크나이저\n",
        "tokenizer = Tokenizer(num_words=vocab_size, oov_token=oov_tok)\n",
        "tokenizer.fit_on_texts(x_train.tokens)\n",
        "# vocab 확인, 시퀀스화, 패딩\n",
        "word_index = tokenizer.word_index\n",
        "sequences = tokenizer.texts_to_sequences(x_train.tokens)\n",
        "padded = pad_sequences(sequences, maxlen=max_length, truncating=trunc_type)"
      ],
      "metadata": {
        "id": "DF7axjViQ70l"
      },
      "execution_count": null,
      "outputs": []
    },
    {
      "cell_type": "code",
      "source": [
        "# 테스트 데이터도 시퀀스로\n",
        "test_sequences = tokenizer.texts_to_sequences(x_test.tokens)\n",
        "test_padd = pad_sequences(test_sequences, maxlen=max_length, truncating=trunc_type)"
      ],
      "metadata": {
        "id": "QLk6LeGKQ7yg"
      },
      "execution_count": null,
      "outputs": []
    },
    {
      "cell_type": "markdown",
      "source": [
        "# 모델 학습"
      ],
      "metadata": {
        "id": "_ISebOXFcDFX"
      }
    },
    {
      "cell_type": "code",
      "source": [
        "num_epochs = 100\n",
        "batch_size = 1500\n",
        "hist = model.fit(padded, train_labels, validation_data=(test_padd,test_labels),\n",
        "                 epochs = num_epochs, batch_size = batch_size)"
      ],
      "metadata": {
        "colab": {
          "base_uri": "https://localhost:8080/"
        },
        "id": "8yZsm05zQ7ru",
        "outputId": "307c417c-b8d6-4b29-8358-ce7a3b73faa5"
      },
      "execution_count": null,
      "outputs": [
        {
          "output_type": "stream",
          "name": "stdout",
          "text": [
            "Epoch 1/100\n",
            "100/100 [==============================] - 2s 22ms/step - loss: 0.6698 - accuracy: 0.6774 - val_loss: 0.6498 - val_accuracy: 0.7200\n",
            "Epoch 2/100\n",
            "100/100 [==============================] - 1s 13ms/step - loss: 0.6202 - accuracy: 0.7505 - val_loss: 0.5952 - val_accuracy: 0.7541\n",
            "Epoch 3/100\n",
            "100/100 [==============================] - 1s 13ms/step - loss: 0.5649 - accuracy: 0.7853 - val_loss: 0.5473 - val_accuracy: 0.7866\n",
            "Epoch 4/100\n",
            "100/100 [==============================] - 1s 13ms/step - loss: 0.5203 - accuracy: 0.8064 - val_loss: 0.5134 - val_accuracy: 0.7936\n",
            "Epoch 5/100\n",
            "100/100 [==============================] - 1s 14ms/step - loss: 0.4871 - accuracy: 0.8175 - val_loss: 0.4878 - val_accuracy: 0.8060\n",
            "Epoch 6/100\n",
            "100/100 [==============================] - 1s 13ms/step - loss: 0.4619 - accuracy: 0.8244 - val_loss: 0.4691 - val_accuracy: 0.8147\n",
            "Epoch 7/100\n",
            "100/100 [==============================] - 1s 13ms/step - loss: 0.4427 - accuracy: 0.8302 - val_loss: 0.4566 - val_accuracy: 0.8147\n",
            "Epoch 8/100\n",
            "100/100 [==============================] - 1s 13ms/step - loss: 0.4278 - accuracy: 0.8340 - val_loss: 0.4467 - val_accuracy: 0.8170\n",
            "Epoch 9/100\n",
            "100/100 [==============================] - 1s 13ms/step - loss: 0.4147 - accuracy: 0.8386 - val_loss: 0.4390 - val_accuracy: 0.8190\n",
            "Epoch 10/100\n",
            "100/100 [==============================] - 1s 13ms/step - loss: 0.4043 - accuracy: 0.8415 - val_loss: 0.4342 - val_accuracy: 0.8186\n",
            "Epoch 11/100\n",
            "100/100 [==============================] - 1s 13ms/step - loss: 0.3957 - accuracy: 0.8437 - val_loss: 0.4289 - val_accuracy: 0.8207\n",
            "Epoch 12/100\n",
            "100/100 [==============================] - 1s 13ms/step - loss: 0.3875 - accuracy: 0.8466 - val_loss: 0.4268 - val_accuracy: 0.8196\n",
            "Epoch 13/100\n",
            "100/100 [==============================] - 1s 13ms/step - loss: 0.3805 - accuracy: 0.8488 - val_loss: 0.4232 - val_accuracy: 0.8207\n",
            "Epoch 14/100\n",
            "100/100 [==============================] - 1s 13ms/step - loss: 0.3744 - accuracy: 0.8506 - val_loss: 0.4213 - val_accuracy: 0.8208\n",
            "Epoch 15/100\n",
            "100/100 [==============================] - 1s 13ms/step - loss: 0.3689 - accuracy: 0.8516 - val_loss: 0.4201 - val_accuracy: 0.8206\n",
            "Epoch 16/100\n",
            "100/100 [==============================] - 1s 13ms/step - loss: 0.3644 - accuracy: 0.8533 - val_loss: 0.4203 - val_accuracy: 0.8202\n",
            "Epoch 17/100\n",
            "100/100 [==============================] - 1s 13ms/step - loss: 0.3592 - accuracy: 0.8550 - val_loss: 0.4188 - val_accuracy: 0.8204\n",
            "Epoch 18/100\n",
            "100/100 [==============================] - 1s 13ms/step - loss: 0.3555 - accuracy: 0.8561 - val_loss: 0.4189 - val_accuracy: 0.8199\n",
            "Epoch 19/100\n",
            "100/100 [==============================] - 1s 13ms/step - loss: 0.3512 - accuracy: 0.8572 - val_loss: 0.4196 - val_accuracy: 0.8188\n",
            "Epoch 20/100\n",
            "100/100 [==============================] - 1s 13ms/step - loss: 0.3477 - accuracy: 0.8586 - val_loss: 0.4209 - val_accuracy: 0.8188\n",
            "Epoch 21/100\n",
            "100/100 [==============================] - 1s 13ms/step - loss: 0.3444 - accuracy: 0.8596 - val_loss: 0.4240 - val_accuracy: 0.8180\n",
            "Epoch 22/100\n",
            "100/100 [==============================] - 1s 13ms/step - loss: 0.3417 - accuracy: 0.8605 - val_loss: 0.4208 - val_accuracy: 0.8186\n",
            "Epoch 23/100\n",
            "100/100 [==============================] - 1s 13ms/step - loss: 0.3387 - accuracy: 0.8616 - val_loss: 0.4226 - val_accuracy: 0.8179\n",
            "Epoch 24/100\n",
            "100/100 [==============================] - 1s 13ms/step - loss: 0.3368 - accuracy: 0.8622 - val_loss: 0.4229 - val_accuracy: 0.8183\n",
            "Epoch 25/100\n",
            "100/100 [==============================] - 1s 13ms/step - loss: 0.3336 - accuracy: 0.8637 - val_loss: 0.4254 - val_accuracy: 0.8180\n",
            "Epoch 26/100\n",
            "100/100 [==============================] - 1s 13ms/step - loss: 0.3311 - accuracy: 0.8645 - val_loss: 0.4259 - val_accuracy: 0.8173\n",
            "Epoch 27/100\n",
            "100/100 [==============================] - 1s 13ms/step - loss: 0.3293 - accuracy: 0.8650 - val_loss: 0.4269 - val_accuracy: 0.8173\n",
            "Epoch 28/100\n",
            "100/100 [==============================] - 1s 13ms/step - loss: 0.3274 - accuracy: 0.8655 - val_loss: 0.4286 - val_accuracy: 0.8169\n",
            "Epoch 29/100\n",
            "100/100 [==============================] - 1s 13ms/step - loss: 0.3257 - accuracy: 0.8661 - val_loss: 0.4301 - val_accuracy: 0.8169\n",
            "Epoch 30/100\n",
            "100/100 [==============================] - 1s 13ms/step - loss: 0.3235 - accuracy: 0.8671 - val_loss: 0.4318 - val_accuracy: 0.8159\n",
            "Epoch 31/100\n",
            "100/100 [==============================] - 1s 13ms/step - loss: 0.3221 - accuracy: 0.8674 - val_loss: 0.4349 - val_accuracy: 0.8152\n",
            "Epoch 32/100\n",
            "100/100 [==============================] - 1s 13ms/step - loss: 0.3205 - accuracy: 0.8685 - val_loss: 0.4363 - val_accuracy: 0.8148\n",
            "Epoch 33/100\n",
            "100/100 [==============================] - 1s 13ms/step - loss: 0.3190 - accuracy: 0.8688 - val_loss: 0.4403 - val_accuracy: 0.8142\n",
            "Epoch 34/100\n",
            "100/100 [==============================] - 1s 13ms/step - loss: 0.3185 - accuracy: 0.8687 - val_loss: 0.4389 - val_accuracy: 0.8137\n",
            "Epoch 35/100\n",
            "100/100 [==============================] - 1s 13ms/step - loss: 0.3168 - accuracy: 0.8694 - val_loss: 0.4414 - val_accuracy: 0.8138\n",
            "Epoch 36/100\n",
            "100/100 [==============================] - 1s 13ms/step - loss: 0.3155 - accuracy: 0.8702 - val_loss: 0.4435 - val_accuracy: 0.8139\n",
            "Epoch 37/100\n",
            "100/100 [==============================] - 1s 13ms/step - loss: 0.3142 - accuracy: 0.8708 - val_loss: 0.4442 - val_accuracy: 0.8126\n",
            "Epoch 38/100\n",
            "100/100 [==============================] - 1s 13ms/step - loss: 0.3132 - accuracy: 0.8714 - val_loss: 0.4462 - val_accuracy: 0.8129\n",
            "Epoch 39/100\n",
            "100/100 [==============================] - 1s 13ms/step - loss: 0.3121 - accuracy: 0.8712 - val_loss: 0.4479 - val_accuracy: 0.8124\n",
            "Epoch 40/100\n",
            "100/100 [==============================] - 1s 13ms/step - loss: 0.3115 - accuracy: 0.8715 - val_loss: 0.4497 - val_accuracy: 0.8114\n",
            "Epoch 41/100\n",
            "100/100 [==============================] - 1s 13ms/step - loss: 0.3107 - accuracy: 0.8716 - val_loss: 0.4527 - val_accuracy: 0.8118\n",
            "Epoch 42/100\n",
            "100/100 [==============================] - 1s 13ms/step - loss: 0.3093 - accuracy: 0.8724 - val_loss: 0.4530 - val_accuracy: 0.8101\n",
            "Epoch 43/100\n",
            "100/100 [==============================] - 1s 13ms/step - loss: 0.3087 - accuracy: 0.8728 - val_loss: 0.4560 - val_accuracy: 0.8111\n",
            "Epoch 44/100\n",
            "100/100 [==============================] - 1s 13ms/step - loss: 0.3083 - accuracy: 0.8726 - val_loss: 0.4565 - val_accuracy: 0.8107\n",
            "Epoch 45/100\n",
            "100/100 [==============================] - 1s 13ms/step - loss: 0.3076 - accuracy: 0.8725 - val_loss: 0.4579 - val_accuracy: 0.8096\n",
            "Epoch 46/100\n",
            "100/100 [==============================] - 1s 12ms/step - loss: 0.3072 - accuracy: 0.8726 - val_loss: 0.4621 - val_accuracy: 0.8099\n",
            "Epoch 47/100\n",
            "100/100 [==============================] - 1s 13ms/step - loss: 0.3059 - accuracy: 0.8736 - val_loss: 0.4617 - val_accuracy: 0.8098\n",
            "Epoch 48/100\n",
            "100/100 [==============================] - 1s 13ms/step - loss: 0.3050 - accuracy: 0.8737 - val_loss: 0.4638 - val_accuracy: 0.8095\n",
            "Epoch 49/100\n",
            "100/100 [==============================] - 1s 13ms/step - loss: 0.3047 - accuracy: 0.8738 - val_loss: 0.4646 - val_accuracy: 0.8082\n",
            "Epoch 50/100\n",
            "100/100 [==============================] - 1s 13ms/step - loss: 0.3043 - accuracy: 0.8739 - val_loss: 0.4684 - val_accuracy: 0.8088\n",
            "Epoch 51/100\n",
            "100/100 [==============================] - 1s 13ms/step - loss: 0.3034 - accuracy: 0.8744 - val_loss: 0.4735 - val_accuracy: 0.8081\n",
            "Epoch 52/100\n",
            "100/100 [==============================] - 1s 13ms/step - loss: 0.3033 - accuracy: 0.8746 - val_loss: 0.4694 - val_accuracy: 0.8068\n",
            "Epoch 53/100\n",
            "100/100 [==============================] - 1s 13ms/step - loss: 0.3025 - accuracy: 0.8745 - val_loss: 0.4728 - val_accuracy: 0.8082\n",
            "Epoch 54/100\n",
            "100/100 [==============================] - 1s 13ms/step - loss: 0.3026 - accuracy: 0.8743 - val_loss: 0.4742 - val_accuracy: 0.8076\n",
            "Epoch 55/100\n",
            "100/100 [==============================] - 1s 13ms/step - loss: 0.3016 - accuracy: 0.8752 - val_loss: 0.4737 - val_accuracy: 0.8059\n",
            "Epoch 56/100\n",
            "100/100 [==============================] - 1s 13ms/step - loss: 0.3016 - accuracy: 0.8746 - val_loss: 0.4752 - val_accuracy: 0.8068\n",
            "Epoch 57/100\n",
            "100/100 [==============================] - 1s 13ms/step - loss: 0.3014 - accuracy: 0.8748 - val_loss: 0.4765 - val_accuracy: 0.8065\n",
            "Epoch 58/100\n",
            "100/100 [==============================] - 1s 13ms/step - loss: 0.3008 - accuracy: 0.8753 - val_loss: 0.4797 - val_accuracy: 0.8068\n",
            "Epoch 59/100\n",
            "100/100 [==============================] - 1s 13ms/step - loss: 0.3002 - accuracy: 0.8755 - val_loss: 0.4790 - val_accuracy: 0.8056\n",
            "Epoch 60/100\n",
            "100/100 [==============================] - 1s 13ms/step - loss: 0.3004 - accuracy: 0.8751 - val_loss: 0.4815 - val_accuracy: 0.8059\n",
            "Epoch 61/100\n",
            "100/100 [==============================] - 1s 13ms/step - loss: 0.3001 - accuracy: 0.8757 - val_loss: 0.4824 - val_accuracy: 0.8042\n",
            "Epoch 62/100\n",
            "100/100 [==============================] - 1s 13ms/step - loss: 0.2992 - accuracy: 0.8757 - val_loss: 0.4852 - val_accuracy: 0.8057\n",
            "Epoch 63/100\n",
            "100/100 [==============================] - 1s 13ms/step - loss: 0.2992 - accuracy: 0.8756 - val_loss: 0.4841 - val_accuracy: 0.8049\n",
            "Epoch 64/100\n",
            "100/100 [==============================] - 1s 13ms/step - loss: 0.2985 - accuracy: 0.8763 - val_loss: 0.4870 - val_accuracy: 0.8059\n",
            "Epoch 65/100\n",
            "100/100 [==============================] - 1s 13ms/step - loss: 0.2980 - accuracy: 0.8765 - val_loss: 0.4869 - val_accuracy: 0.8048\n",
            "Epoch 66/100\n",
            "100/100 [==============================] - 1s 13ms/step - loss: 0.2975 - accuracy: 0.8763 - val_loss: 0.4914 - val_accuracy: 0.8056\n",
            "Epoch 67/100\n",
            "100/100 [==============================] - 1s 13ms/step - loss: 0.2976 - accuracy: 0.8768 - val_loss: 0.5008 - val_accuracy: 0.8037\n",
            "Epoch 68/100\n",
            "100/100 [==============================] - 1s 14ms/step - loss: 0.2975 - accuracy: 0.8765 - val_loss: 0.4910 - val_accuracy: 0.8046\n",
            "Epoch 69/100\n",
            "100/100 [==============================] - 1s 13ms/step - loss: 0.2971 - accuracy: 0.8768 - val_loss: 0.4916 - val_accuracy: 0.8036\n",
            "Epoch 70/100\n",
            "100/100 [==============================] - 1s 12ms/step - loss: 0.2969 - accuracy: 0.8765 - val_loss: 0.4945 - val_accuracy: 0.8047\n",
            "Epoch 71/100\n",
            "100/100 [==============================] - 1s 13ms/step - loss: 0.2968 - accuracy: 0.8769 - val_loss: 0.4947 - val_accuracy: 0.8044\n",
            "Epoch 72/100\n",
            "100/100 [==============================] - 1s 13ms/step - loss: 0.2967 - accuracy: 0.8768 - val_loss: 0.5030 - val_accuracy: 0.8041\n",
            "Epoch 73/100\n",
            "100/100 [==============================] - 1s 14ms/step - loss: 0.2970 - accuracy: 0.8764 - val_loss: 0.4999 - val_accuracy: 0.8041\n",
            "Epoch 74/100\n",
            "100/100 [==============================] - 1s 13ms/step - loss: 0.2957 - accuracy: 0.8771 - val_loss: 0.4972 - val_accuracy: 0.8024\n",
            "Epoch 75/100\n",
            "100/100 [==============================] - 1s 13ms/step - loss: 0.2956 - accuracy: 0.8769 - val_loss: 0.4986 - val_accuracy: 0.8035\n",
            "Epoch 76/100\n",
            "100/100 [==============================] - 1s 13ms/step - loss: 0.2961 - accuracy: 0.8765 - val_loss: 0.5072 - val_accuracy: 0.8036\n",
            "Epoch 77/100\n",
            "100/100 [==============================] - 1s 13ms/step - loss: 0.2955 - accuracy: 0.8772 - val_loss: 0.5008 - val_accuracy: 0.8009\n",
            "Epoch 78/100\n",
            "100/100 [==============================] - 1s 13ms/step - loss: 0.2958 - accuracy: 0.8774 - val_loss: 0.5043 - val_accuracy: 0.8036\n",
            "Epoch 79/100\n",
            "100/100 [==============================] - 1s 13ms/step - loss: 0.2948 - accuracy: 0.8775 - val_loss: 0.5042 - val_accuracy: 0.8034\n",
            "Epoch 80/100\n",
            "100/100 [==============================] - 1s 13ms/step - loss: 0.2947 - accuracy: 0.8775 - val_loss: 0.5033 - val_accuracy: 0.8027\n",
            "Epoch 81/100\n",
            "100/100 [==============================] - 1s 13ms/step - loss: 0.2951 - accuracy: 0.8772 - val_loss: 0.5044 - val_accuracy: 0.8026\n",
            "Epoch 82/100\n",
            "100/100 [==============================] - 1s 13ms/step - loss: 0.2950 - accuracy: 0.8772 - val_loss: 0.5056 - val_accuracy: 0.8012\n",
            "Epoch 83/100\n",
            "100/100 [==============================] - 1s 13ms/step - loss: 0.2949 - accuracy: 0.8769 - val_loss: 0.5064 - val_accuracy: 0.8021\n",
            "Epoch 84/100\n",
            "100/100 [==============================] - 1s 13ms/step - loss: 0.2948 - accuracy: 0.8768 - val_loss: 0.5184 - val_accuracy: 0.8017\n",
            "Epoch 85/100\n",
            "100/100 [==============================] - 1s 13ms/step - loss: 0.2946 - accuracy: 0.8772 - val_loss: 0.5078 - val_accuracy: 0.8020\n",
            "Epoch 86/100\n",
            "100/100 [==============================] - 1s 13ms/step - loss: 0.2940 - accuracy: 0.8774 - val_loss: 0.5136 - val_accuracy: 0.8028\n",
            "Epoch 87/100\n",
            "100/100 [==============================] - 1s 13ms/step - loss: 0.2941 - accuracy: 0.8776 - val_loss: 0.5098 - val_accuracy: 0.8018\n",
            "Epoch 88/100\n",
            "100/100 [==============================] - 1s 13ms/step - loss: 0.2939 - accuracy: 0.8777 - val_loss: 0.5132 - val_accuracy: 0.8021\n",
            "Epoch 89/100\n",
            "100/100 [==============================] - 1s 13ms/step - loss: 0.2934 - accuracy: 0.8780 - val_loss: 0.5123 - val_accuracy: 0.8020\n",
            "Epoch 90/100\n",
            "100/100 [==============================] - 1s 13ms/step - loss: 0.2932 - accuracy: 0.8778 - val_loss: 0.5228 - val_accuracy: 0.8012\n",
            "Epoch 91/100\n",
            "100/100 [==============================] - 1s 13ms/step - loss: 0.2935 - accuracy: 0.8778 - val_loss: 0.5167 - val_accuracy: 0.8020\n",
            "Epoch 92/100\n",
            "100/100 [==============================] - 1s 13ms/step - loss: 0.2931 - accuracy: 0.8777 - val_loss: 0.5145 - val_accuracy: 0.8012\n",
            "Epoch 93/100\n",
            "100/100 [==============================] - 1s 14ms/step - loss: 0.2933 - accuracy: 0.8787 - val_loss: 0.5177 - val_accuracy: 0.8019\n",
            "Epoch 94/100\n",
            "100/100 [==============================] - 1s 13ms/step - loss: 0.2935 - accuracy: 0.8776 - val_loss: 0.5246 - val_accuracy: 0.8009\n",
            "Epoch 95/100\n",
            "100/100 [==============================] - 1s 13ms/step - loss: 0.2935 - accuracy: 0.8776 - val_loss: 0.5208 - val_accuracy: 0.8016\n",
            "Epoch 96/100\n",
            "100/100 [==============================] - 1s 13ms/step - loss: 0.2930 - accuracy: 0.8776 - val_loss: 0.5262 - val_accuracy: 0.8007\n",
            "Epoch 97/100\n",
            "100/100 [==============================] - 1s 13ms/step - loss: 0.2928 - accuracy: 0.8778 - val_loss: 0.5187 - val_accuracy: 0.7982\n",
            "Epoch 98/100\n",
            "100/100 [==============================] - 1s 13ms/step - loss: 0.2930 - accuracy: 0.8775 - val_loss: 0.5196 - val_accuracy: 0.8009\n",
            "Epoch 99/100\n",
            "100/100 [==============================] - 1s 13ms/step - loss: 0.2923 - accuracy: 0.8778 - val_loss: 0.5227 - val_accuracy: 0.8015\n",
            "Epoch 100/100\n",
            "100/100 [==============================] - 1s 13ms/step - loss: 0.2923 - accuracy: 0.8778 - val_loss: 0.5210 - val_accuracy: 0.8003\n"
          ]
        }
      ]
    },
    {
      "cell_type": "code",
      "source": [
        "model.evaluate(test_padd, test_labels)"
      ],
      "metadata": {
        "colab": {
          "base_uri": "https://localhost:8080/"
        },
        "id": "p38zrYeTQ7pO",
        "outputId": "44935c0c-c2cd-48c6-e37e-bff21762717f"
      },
      "execution_count": null,
      "outputs": [
        {
          "output_type": "stream",
          "name": "stdout",
          "text": [
            "1563/1563 [==============================] - 4s 3ms/step - loss: 0.5210 - accuracy: 0.8003\n"
          ]
        },
        {
          "output_type": "execute_result",
          "data": {
            "text/plain": [
              "[0.5209634900093079, 0.800320029258728]"
            ]
          },
          "metadata": {},
          "execution_count": 97
        }
      ]
    },
    {
      "cell_type": "code",
      "source": [
        "from sklearn.model_selection import train_test_split"
      ],
      "metadata": {
        "id": "5x2-EzLr7BLC"
      },
      "execution_count": null,
      "outputs": []
    },
    {
      "cell_type": "code",
      "source": [
        "x_train, x_val, y_train, y_val = train_test_split(train[['document']],train[['l']], test_size=0.2, random_state=42)"
      ],
      "metadata": {
        "id": "4Jq5cuyj47EJ"
      },
      "execution_count": null,
      "outputs": []
    }
  ]
}